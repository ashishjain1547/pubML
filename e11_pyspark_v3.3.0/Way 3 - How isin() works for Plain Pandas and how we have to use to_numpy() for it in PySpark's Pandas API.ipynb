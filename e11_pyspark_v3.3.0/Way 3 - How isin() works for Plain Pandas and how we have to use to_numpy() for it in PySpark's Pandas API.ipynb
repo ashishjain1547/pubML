{
 "cells": [
  {
   "cell_type": "code",
   "execution_count": 15,
   "id": "fcf4da74-2fab-4c8b-bdaa-31a9d981ae45",
   "metadata": {},
   "outputs": [],
   "source": [
    "import pandas as pd\n",
    "import numpy as np\n",
    "from sklearn.model_selection import train_test_split"
   ]
  },
  {
   "cell_type": "code",
   "execution_count": 59,
   "id": "4c5e26f0-1121-4d51-8166-a2d082f984d4",
   "metadata": {},
   "outputs": [],
   "source": [
    "df = pd.DataFrame({\n",
    "    'alphabets': [\n",
    "        'alpha', 'beta', 'gamma', 'delta', 'epsilon', 'zeta', 'eta', 'theta', 'iota', 'kappa', 'lambda', 'mu', 'nu', 'xi', 'omicron', 'pi', 'rho', 'sigma', 'tau',\n",
    "        'upsilon', 'phi', 'chi', 'psi', 'omega', # Greek Alphabets\n",
    "        'ka', 'kh', 'ga', 'gh', 'ng', 'ch', 'chh', 'ja', 'jh', 'ny', 'ta', 'th', 'da', 'dh', 'na', 'ta', 'th', 'da', 'dh', 'na', 'pa', 'ph', 'ba', 'bh', 'ma', \n",
    "        'ya', 'ra', 'la', 'va', 'sh', 'sh', 'sa', 'ha', 'ksh', 'tr', 'gy', 'shr' # Hindi Consonants\n",
    "    ]\n",
    "})"
   ]
  },
  {
   "cell_type": "code",
   "execution_count": 35,
   "id": "d8cfa812-c74b-4a53-b329-4e62c142692b",
   "metadata": {},
   "outputs": [],
   "source": [
    "df['first_letter'] = df['alphabets'].str[0]"
   ]
  },
  {
   "cell_type": "code",
   "execution_count": 36,
   "id": "e6a457ac-4713-454c-9fd9-f3e6b0e7581c",
   "metadata": {},
   "outputs": [],
   "source": [
    "ixs = np.random.permutation(df.shape[0])\n",
    "split_pct = 0.5"
   ]
  },
  {
   "cell_type": "code",
   "execution_count": 37,
   "id": "7d6f4158-77de-4b7d-9f38-87c3549797a8",
   "metadata": {},
   "outputs": [],
   "source": [
    "train_ixs = ixs[:round(len(ixs) * split_pct)]\n",
    "test_ixs = ixs[round(len(ixs) * split_pct):]"
   ]
  },
  {
   "cell_type": "code",
   "execution_count": 38,
   "id": "59bf9719-309d-4ebc-8856-41ddeb05d906",
   "metadata": {},
   "outputs": [],
   "source": [
    "df_train = df.iloc[train_ixs]\n",
    "df_test = df.iloc[test_ixs]"
   ]
  },
  {
   "cell_type": "code",
   "execution_count": 46,
   "id": "6de1b1c4-20c4-43c6-98c6-f53b36e5a113",
   "metadata": {},
   "outputs": [
    {
     "data": {
      "text/html": [
       "<div>\n",
       "<style scoped>\n",
       "    .dataframe tbody tr th:only-of-type {\n",
       "        vertical-align: middle;\n",
       "    }\n",
       "\n",
       "    .dataframe tbody tr th {\n",
       "        vertical-align: top;\n",
       "    }\n",
       "\n",
       "    .dataframe thead th {\n",
       "        text-align: right;\n",
       "    }\n",
       "</style>\n",
       "<table border=\"1\" class=\"dataframe\">\n",
       "  <thead>\n",
       "    <tr style=\"text-align: right;\">\n",
       "      <th></th>\n",
       "      <th>alphabets</th>\n",
       "      <th>first_letter</th>\n",
       "    </tr>\n",
       "  </thead>\n",
       "  <tbody>\n",
       "    <tr>\n",
       "      <th>52</th>\n",
       "      <td>va</td>\n",
       "      <td>v</td>\n",
       "    </tr>\n",
       "    <tr>\n",
       "      <th>18</th>\n",
       "      <td>tau</td>\n",
       "      <td>t</td>\n",
       "    </tr>\n",
       "    <tr>\n",
       "      <th>51</th>\n",
       "      <td>la</td>\n",
       "      <td>l</td>\n",
       "    </tr>\n",
       "    <tr>\n",
       "      <th>15</th>\n",
       "      <td>pi</td>\n",
       "      <td>p</td>\n",
       "    </tr>\n",
       "    <tr>\n",
       "      <th>16</th>\n",
       "      <td>rho</td>\n",
       "      <td>r</td>\n",
       "    </tr>\n",
       "  </tbody>\n",
       "</table>\n",
       "</div>"
      ],
      "text/plain": [
       "   alphabets first_letter\n",
       "52        va            v\n",
       "18       tau            t\n",
       "51        la            l\n",
       "15        pi            p\n",
       "16       rho            r"
      ]
     },
     "execution_count": 46,
     "metadata": {},
     "output_type": "execute_result"
    }
   ],
   "source": [
    "df_train.head()"
   ]
  },
  {
   "cell_type": "code",
   "execution_count": 47,
   "id": "2654cb42-3b62-470d-8529-593fd4a6cbd9",
   "metadata": {},
   "outputs": [
    {
     "data": {
      "text/html": [
       "<div>\n",
       "<style scoped>\n",
       "    .dataframe tbody tr th:only-of-type {\n",
       "        vertical-align: middle;\n",
       "    }\n",
       "\n",
       "    .dataframe tbody tr th {\n",
       "        vertical-align: top;\n",
       "    }\n",
       "\n",
       "    .dataframe thead th {\n",
       "        text-align: right;\n",
       "    }\n",
       "</style>\n",
       "<table border=\"1\" class=\"dataframe\">\n",
       "  <thead>\n",
       "    <tr style=\"text-align: right;\">\n",
       "      <th></th>\n",
       "      <th>alphabets</th>\n",
       "      <th>first_letter</th>\n",
       "    </tr>\n",
       "  </thead>\n",
       "  <tbody>\n",
       "    <tr>\n",
       "      <th>24</th>\n",
       "      <td>ka</td>\n",
       "      <td>k</td>\n",
       "    </tr>\n",
       "    <tr>\n",
       "      <th>23</th>\n",
       "      <td>omega</td>\n",
       "      <td>o</td>\n",
       "    </tr>\n",
       "    <tr>\n",
       "      <th>49</th>\n",
       "      <td>ya</td>\n",
       "      <td>y</td>\n",
       "    </tr>\n",
       "    <tr>\n",
       "      <th>33</th>\n",
       "      <td>ny</td>\n",
       "      <td>n</td>\n",
       "    </tr>\n",
       "    <tr>\n",
       "      <th>39</th>\n",
       "      <td>ta</td>\n",
       "      <td>t</td>\n",
       "    </tr>\n",
       "  </tbody>\n",
       "</table>\n",
       "</div>"
      ],
      "text/plain": [
       "   alphabets first_letter\n",
       "24        ka            k\n",
       "23     omega            o\n",
       "49        ya            y\n",
       "33        ny            n\n",
       "39        ta            t"
      ]
     },
     "execution_count": 47,
     "metadata": {},
     "output_type": "execute_result"
    }
   ],
   "source": [
    "df_test.head()"
   ]
  },
  {
   "cell_type": "code",
   "execution_count": 48,
   "id": "341c7ea3-3b84-44b8-8dd9-b9324b72de23",
   "metadata": {},
   "outputs": [],
   "source": [
    "not_in_train_but_in_test = df_test[-(df_test.first_letter.isin(df_train.first_letter))]"
   ]
  },
  {
   "cell_type": "code",
   "execution_count": 49,
   "id": "16701db3-91f4-4f2b-95f0-116ca29623de",
   "metadata": {},
   "outputs": [
    {
     "data": {
      "text/html": [
       "<div>\n",
       "<style scoped>\n",
       "    .dataframe tbody tr th:only-of-type {\n",
       "        vertical-align: middle;\n",
       "    }\n",
       "\n",
       "    .dataframe tbody tr th {\n",
       "        vertical-align: top;\n",
       "    }\n",
       "\n",
       "    .dataframe thead th {\n",
       "        text-align: right;\n",
       "    }\n",
       "</style>\n",
       "<table border=\"1\" class=\"dataframe\">\n",
       "  <thead>\n",
       "    <tr style=\"text-align: right;\">\n",
       "      <th></th>\n",
       "      <th>alphabets</th>\n",
       "      <th>first_letter</th>\n",
       "    </tr>\n",
       "  </thead>\n",
       "  <tbody>\n",
       "    <tr>\n",
       "      <th>24</th>\n",
       "      <td>ka</td>\n",
       "      <td>k</td>\n",
       "    </tr>\n",
       "    <tr>\n",
       "      <th>49</th>\n",
       "      <td>ya</td>\n",
       "      <td>y</td>\n",
       "    </tr>\n",
       "    <tr>\n",
       "      <th>13</th>\n",
       "      <td>xi</td>\n",
       "      <td>x</td>\n",
       "    </tr>\n",
       "    <tr>\n",
       "      <th>6</th>\n",
       "      <td>eta</td>\n",
       "      <td>e</td>\n",
       "    </tr>\n",
       "    <tr>\n",
       "      <th>56</th>\n",
       "      <td>ha</td>\n",
       "      <td>h</td>\n",
       "    </tr>\n",
       "    <tr>\n",
       "      <th>0</th>\n",
       "      <td>alpha</td>\n",
       "      <td>a</td>\n",
       "    </tr>\n",
       "    <tr>\n",
       "      <th>47</th>\n",
       "      <td>bh</td>\n",
       "      <td>b</td>\n",
       "    </tr>\n",
       "    <tr>\n",
       "      <th>9</th>\n",
       "      <td>kappa</td>\n",
       "      <td>k</td>\n",
       "    </tr>\n",
       "    <tr>\n",
       "      <th>57</th>\n",
       "      <td>ksh</td>\n",
       "      <td>k</td>\n",
       "    </tr>\n",
       "    <tr>\n",
       "      <th>1</th>\n",
       "      <td>beta</td>\n",
       "      <td>b</td>\n",
       "    </tr>\n",
       "    <tr>\n",
       "      <th>4</th>\n",
       "      <td>epsilon</td>\n",
       "      <td>e</td>\n",
       "    </tr>\n",
       "    <tr>\n",
       "      <th>46</th>\n",
       "      <td>ba</td>\n",
       "      <td>b</td>\n",
       "    </tr>\n",
       "    <tr>\n",
       "      <th>25</th>\n",
       "      <td>kh</td>\n",
       "      <td>k</td>\n",
       "    </tr>\n",
       "  </tbody>\n",
       "</table>\n",
       "</div>"
      ],
      "text/plain": [
       "   alphabets first_letter\n",
       "24        ka            k\n",
       "49        ya            y\n",
       "13        xi            x\n",
       "6        eta            e\n",
       "56        ha            h\n",
       "0      alpha            a\n",
       "47        bh            b\n",
       "9      kappa            k\n",
       "57       ksh            k\n",
       "1       beta            b\n",
       "4    epsilon            e\n",
       "46        ba            b\n",
       "25        kh            k"
      ]
     },
     "execution_count": 49,
     "metadata": {},
     "output_type": "execute_result"
    }
   ],
   "source": [
    "not_in_train_but_in_test"
   ]
  },
  {
   "cell_type": "code",
   "execution_count": 57,
   "id": "9f61d7e9-1f84-4702-a751-cdb072e7cd1c",
   "metadata": {},
   "outputs": [
    {
     "name": "stdout",
     "output_type": "stream",
     "text": [
      "3.3.0\n"
     ]
    }
   ],
   "source": [
    "import pyspark\n",
    "print(pyspark.__version__)"
   ]
  },
  {
   "cell_type": "code",
   "execution_count": 50,
   "id": "56f78083-3001-4eca-adaf-3d5288505a57",
   "metadata": {},
   "outputs": [
    {
     "name": "stderr",
     "output_type": "stream",
     "text": [
      "WARNING:root:'PYARROW_IGNORE_TIMEZONE' environment variable was not set. It is required to set this environment variable to '1' in both driver and executor sides if you use pyarrow>=2.0.0. pandas-on-Spark will set it for you but it does not work if there is a Spark context already launched.\n"
     ]
    }
   ],
   "source": [
    "from pyspark import pandas as ppd"
   ]
  },
  {
   "cell_type": "code",
   "execution_count": 51,
   "id": "8398c3e3-f3ad-4617-83f6-a184a069d7dd",
   "metadata": {},
   "outputs": [
    {
     "name": "stderr",
     "output_type": "stream",
     "text": [
      "/home/ashish/anaconda3/envs/mh/lib/python3.9/site-packages/pyspark/pandas/internal.py:1573: FutureWarning: iteritems is deprecated and will be removed in a future version. Use .items instead.\n",
      "  fields = [\n",
      "Setting default log level to \"WARN\".\n",
      "To adjust logging level use sc.setLogLevel(newLevel). For SparkR, use setLogLevel(newLevel).\n"
     ]
    },
    {
     "name": "stdout",
     "output_type": "stream",
     "text": [
      "22/10/25 22:18:56 WARN NativeCodeLoader: Unable to load native-hadoop library for your platform... using builtin-java classes where applicable\n",
      "22/10/25 22:18:58 WARN Utils: Service 'SparkUI' could not bind on port 4040. Attempting port 4041.\n",
      "22/10/25 22:18:58 WARN Utils: Service 'SparkUI' could not bind on port 4041. Attempting port 4042.\n"
     ]
    },
    {
     "name": "stderr",
     "output_type": "stream",
     "text": [
      "/home/ashish/anaconda3/envs/mh/lib/python3.9/site-packages/pyspark/sql/pandas/conversion.py:486: FutureWarning: iteritems is deprecated and will be removed in a future version. Use .items instead.\n",
      "  for column, series in pdf.iteritems():\n"
     ]
    }
   ],
   "source": [
    "df_ppd = ppd.DataFrame({\n",
    "    'alphabets': [\n",
    "        'alpha', 'beta', 'gamma', 'delta', 'epsilon', 'zeta', 'eta', 'theta', 'iota', 'kappa', 'lambda', 'mu', 'nu', 'xi', 'omicron', 'pi', 'rho', 'sigma', 'tau',\n",
    "        'upsilon', 'phi', 'chi', 'psi', 'omega', # Greek\n",
    "        'ka', 'kh', 'ga', 'gh', 'ng', 'ch', 'chh', 'ja', 'jh', 'ny', 'ta', 'th', 'da', 'dh', 'na', 'ta', 'th', 'da', 'dh', 'na', 'pa', 'ph', 'ba', 'bh', 'ma', \n",
    "        'ya', 'ra', 'la', 'va', 'sh', 'sh', 'sa', 'ha', 'ksh', 'tr', 'gy', 'shr' # Hindi\n",
    "    ]\n",
    "})"
   ]
  },
  {
   "cell_type": "code",
   "execution_count": 54,
   "id": "57e57c50-17c1-4fa1-84d0-05ee64a915bf",
   "metadata": {},
   "outputs": [
    {
     "name": "stderr",
     "output_type": "stream",
     "text": [
      "/home/ashish/anaconda3/envs/mh/lib/python3.9/site-packages/pyspark/pandas/internal.py:1573: FutureWarning: iteritems is deprecated and will be removed in a future version. Use .items instead.\n",
      "  fields = [\n",
      "/home/ashish/anaconda3/envs/mh/lib/python3.9/site-packages/pyspark/sql/pandas/conversion.py:486: FutureWarning: iteritems is deprecated and will be removed in a future version. Use .items instead.\n",
      "  for column, series in pdf.iteritems():\n"
     ]
    }
   ],
   "source": [
    "df_ppd['first_letter'] = df_ppd['alphabets'].apply(lambda x: x[0])"
   ]
  },
  {
   "cell_type": "code",
   "execution_count": 55,
   "id": "db7c800e-dbbb-4cae-8ec8-268dc467c1db",
   "metadata": {},
   "outputs": [],
   "source": [
    "df_ppd_train = df_ppd.iloc[train_ixs]\n",
    "df_ppd_test = df_ppd.iloc[test_ixs]"
   ]
  },
  {
   "cell_type": "raw",
   "id": "74531f6b-83e0-4135-929e-a27adfd7f4e3",
   "metadata": {},
   "source": [
    "not_in_train_but_in_test = df_ppd_test[-(df_ppd_test.first_letter.isin(df_ppd_train.first_letter))]\n",
    "\n",
    "---------------------------------------------------------------------------\n",
    "PandasNotImplementedError                 Traceback (most recent call last)\n",
    "Cell In [62], line 1\n",
    "----> 1 not_in_train_but_in_test = df_ppd_test[-(df_ppd_test.first_letter.isin(df_ppd_train.first_letter))]\n",
    "\n",
    "File ~/anaconda3/envs/mh/lib/python3.9/site-packages/pyspark/pandas/base.py:880, in IndexOpsMixin.isin(self, values)\n",
    "    873 if not is_list_like(values):\n",
    "    874     raise TypeError(\n",
    "    875         \"only list-like objects are allowed to be passed\"\n",
    "    876         \" to isin(), you passed a [{values_type}]\".format(values_type=type(values).__name__)\n",
    "    877     )\n",
    "    879 values = (\n",
    "--> 880     cast(np.ndarray, values).tolist() if isinstance(values, np.ndarray) else list(values)\n",
    "    881 )\n",
    "    883 other = [SF.lit(v) for v in values]\n",
    "    884 scol = self.spark.column.isin(other)\n",
    "\n",
    "File ~/anaconda3/envs/mh/lib/python3.9/site-packages/pyspark/pandas/series.py:6485, in Series.__iter__(self)\n",
    "   6484 def __iter__(self) -> None:\n",
    "-> 6485     return MissingPandasLikeSeries.__iter__(self)\n",
    "\n",
    "File ~/anaconda3/envs/mh/lib/python3.9/site-packages/pyspark/pandas/missing/__init__.py:23, in unsupported_function.<locals>.unsupported_function(*args, **kwargs)\n",
    "     22 def unsupported_function(*args, **kwargs):\n",
    "---> 23     raise PandasNotImplementedError(\n",
    "     24         class_name=class_name, method_name=method_name, reason=reason\n",
    "     25     )\n",
    "\n",
    "PandasNotImplementedError: The method `pd.Series.__iter__()` is not implemented. If you want to collect your data as an NumPy array, use 'to_numpy()' instead."
   ]
  },
  {
   "cell_type": "code",
   "execution_count": 75,
   "id": "8484967c-73b9-4449-aa94-9db45f303688",
   "metadata": {},
   "outputs": [
    {
     "ename": "PandasNotImplementedError",
     "evalue": "The method `pd.Series.__iter__()` is not implemented. If you want to collect your data as an NumPy array, use 'to_numpy()' instead.",
     "output_type": "error",
     "traceback": [
      "\u001b[0;31m---------------------------------------------------------------------------\u001b[0m",
      "\u001b[0;31mPandasNotImplementedError\u001b[0m                 Traceback (most recent call last)",
      "Cell \u001b[0;32mIn [75], line 1\u001b[0m\n\u001b[0;32m----> 1\u001b[0m df_ppd_test\u001b[38;5;241m.\u001b[39mfirst_letter\u001b[38;5;241m.\u001b[39misin(df_ppd_train\u001b[38;5;241m.\u001b[39mfirst_letter)\n",
      "File \u001b[0;32m~/anaconda3/envs/mh/lib/python3.9/site-packages/pyspark/pandas/base.py:880\u001b[0m, in \u001b[0;36mIndexOpsMixin.isin\u001b[0;34m(self, values)\u001b[0m\n\u001b[1;32m    873\u001b[0m \u001b[38;5;28;01mif\u001b[39;00m \u001b[38;5;129;01mnot\u001b[39;00m is_list_like(values):\n\u001b[1;32m    874\u001b[0m     \u001b[38;5;28;01mraise\u001b[39;00m \u001b[38;5;167;01mTypeError\u001b[39;00m(\n\u001b[1;32m    875\u001b[0m         \u001b[38;5;124m\"\u001b[39m\u001b[38;5;124monly list-like objects are allowed to be passed\u001b[39m\u001b[38;5;124m\"\u001b[39m\n\u001b[1;32m    876\u001b[0m         \u001b[38;5;124m\"\u001b[39m\u001b[38;5;124m to isin(), you passed a [\u001b[39m\u001b[38;5;132;01m{values_type}\u001b[39;00m\u001b[38;5;124m]\u001b[39m\u001b[38;5;124m\"\u001b[39m\u001b[38;5;241m.\u001b[39mformat(values_type\u001b[38;5;241m=\u001b[39m\u001b[38;5;28mtype\u001b[39m(values)\u001b[38;5;241m.\u001b[39m\u001b[38;5;18m__name__\u001b[39m)\n\u001b[1;32m    877\u001b[0m     )\n\u001b[1;32m    879\u001b[0m values \u001b[38;5;241m=\u001b[39m (\n\u001b[0;32m--> 880\u001b[0m     cast(np\u001b[38;5;241m.\u001b[39mndarray, values)\u001b[38;5;241m.\u001b[39mtolist() \u001b[38;5;28;01mif\u001b[39;00m \u001b[38;5;28misinstance\u001b[39m(values, np\u001b[38;5;241m.\u001b[39mndarray) \u001b[38;5;28;01melse\u001b[39;00m \u001b[38;5;28;43mlist\u001b[39;49m\u001b[43m(\u001b[49m\u001b[43mvalues\u001b[49m\u001b[43m)\u001b[49m\n\u001b[1;32m    881\u001b[0m )\n\u001b[1;32m    883\u001b[0m other \u001b[38;5;241m=\u001b[39m [SF\u001b[38;5;241m.\u001b[39mlit(v) \u001b[38;5;28;01mfor\u001b[39;00m v \u001b[38;5;129;01min\u001b[39;00m values]\n\u001b[1;32m    884\u001b[0m scol \u001b[38;5;241m=\u001b[39m \u001b[38;5;28mself\u001b[39m\u001b[38;5;241m.\u001b[39mspark\u001b[38;5;241m.\u001b[39mcolumn\u001b[38;5;241m.\u001b[39misin(other)\n",
      "File \u001b[0;32m~/anaconda3/envs/mh/lib/python3.9/site-packages/pyspark/pandas/series.py:6485\u001b[0m, in \u001b[0;36mSeries.__iter__\u001b[0;34m(self)\u001b[0m\n\u001b[1;32m   6484\u001b[0m \u001b[38;5;28;01mdef\u001b[39;00m \u001b[38;5;21m__iter__\u001b[39m(\u001b[38;5;28mself\u001b[39m) \u001b[38;5;241m-\u001b[39m\u001b[38;5;241m>\u001b[39m \u001b[38;5;28;01mNone\u001b[39;00m:\n\u001b[0;32m-> 6485\u001b[0m     \u001b[38;5;28;01mreturn\u001b[39;00m \u001b[43mMissingPandasLikeSeries\u001b[49m\u001b[38;5;241;43m.\u001b[39;49m\u001b[38;5;21;43m__iter__\u001b[39;49m\u001b[43m(\u001b[49m\u001b[38;5;28;43mself\u001b[39;49m\u001b[43m)\u001b[49m\n",
      "File \u001b[0;32m~/anaconda3/envs/mh/lib/python3.9/site-packages/pyspark/pandas/missing/__init__.py:23\u001b[0m, in \u001b[0;36munsupported_function.<locals>.unsupported_function\u001b[0;34m(*args, **kwargs)\u001b[0m\n\u001b[1;32m     22\u001b[0m \u001b[38;5;28;01mdef\u001b[39;00m \u001b[38;5;21munsupported_function\u001b[39m(\u001b[38;5;241m*\u001b[39margs, \u001b[38;5;241m*\u001b[39m\u001b[38;5;241m*\u001b[39mkwargs):\n\u001b[0;32m---> 23\u001b[0m     \u001b[38;5;28;01mraise\u001b[39;00m PandasNotImplementedError(\n\u001b[1;32m     24\u001b[0m         class_name\u001b[38;5;241m=\u001b[39mclass_name, method_name\u001b[38;5;241m=\u001b[39mmethod_name, reason\u001b[38;5;241m=\u001b[39mreason\n\u001b[1;32m     25\u001b[0m     )\n",
      "\u001b[0;31mPandasNotImplementedError\u001b[0m: The method `pd.Series.__iter__()` is not implemented. If you want to collect your data as an NumPy array, use 'to_numpy()' instead."
     ]
    }
   ],
   "source": [
    "df_ppd_test.first_letter.isin(df_ppd_train.first_letter)"
   ]
  },
  {
   "cell_type": "raw",
   "id": "a0203f68-0580-4abd-aec0-96e71183b46e",
   "metadata": {},
   "source": [
    "df_ppd_test.first_letter.isin(df_ppd_train.first_letter)\n",
    "\n",
    "---------------------------------------------------------------------------\n",
    "PandasNotImplementedError                 Traceback (most recent call last)\n",
    "Cell In [63], line 1\n",
    "----> 1 df_ppd_test.first_letter.isin(df_ppd_train.first_letter)\n",
    "\n",
    "File ~/anaconda3/envs/mh/lib/python3.9/site-packages/pyspark/pandas/base.py:880, in IndexOpsMixin.isin(self, values)\n",
    "    873 if not is_list_like(values):\n",
    "    874     raise TypeError(\n",
    "    875         \"only list-like objects are allowed to be passed\"\n",
    "    876         \" to isin(), you passed a [{values_type}]\".format(values_type=type(values).__name__)\n",
    "    877     )\n",
    "    879 values = (\n",
    "--> 880     cast(np.ndarray, values).tolist() if isinstance(values, np.ndarray) else list(values)\n",
    "    881 )\n",
    "    883 other = [SF.lit(v) for v in values]\n",
    "    884 scol = self.spark.column.isin(other)\n",
    "\n",
    "File ~/anaconda3/envs/mh/lib/python3.9/site-packages/pyspark/pandas/series.py:6485, in Series.__iter__(self)\n",
    "   6484 def __iter__(self) -> None:\n",
    "-> 6485     return MissingPandasLikeSeries.__iter__(self)\n",
    "\n",
    "File ~/anaconda3/envs/mh/lib/python3.9/site-packages/pyspark/pandas/missing/__init__.py:23, in unsupported_function.<locals>.unsupported_function(*args, **kwargs)\n",
    "     22 def unsupported_function(*args, **kwargs):\n",
    "---> 23     raise PandasNotImplementedError(\n",
    "     24         class_name=class_name, method_name=method_name, reason=reason\n",
    "     25     )\n",
    "\n",
    "PandasNotImplementedError: The method `pd.Series.__iter__()` is not implemented. If you want to collect your data as an NumPy array, use 'to_numpy()' instead."
   ]
  },
  {
   "cell_type": "code",
   "execution_count": 67,
   "id": "e5c7f947-1346-4d06-a742-1b9881561446",
   "metadata": {},
   "outputs": [
    {
     "data": {
      "text/plain": [
       "24    False\n",
       "23     True\n",
       "49    False\n",
       "33     True\n",
       "39     True\n",
       "13    False\n",
       "34     True\n",
       "6     False\n",
       "45     True\n",
       "7      True\n",
       "10     True\n",
       "2      True\n",
       "56    False\n",
       "0     False\n",
       "28     True\n",
       "47    False\n",
       "9     False\n",
       "57    False\n",
       "53     True\n",
       "1     False\n",
       "4     False\n",
       "58     True\n",
       "46    False\n",
       "30     True\n",
       "31     True\n",
       "41     True\n",
       "12     True\n",
       "3      True\n",
       "43     True\n",
       "44     True\n",
       "25    False\n",
       "Name: first_letter, dtype: bool"
      ]
     },
     "execution_count": 67,
     "metadata": {},
     "output_type": "execute_result"
    }
   ],
   "source": [
    "# In Pandas\n",
    "\n",
    "df_test.first_letter.isin(df_train.first_letter)"
   ]
  },
  {
   "cell_type": "code",
   "execution_count": 70,
   "id": "26b9571c-b4be-487b-a446-bdf9fef924ed",
   "metadata": {},
   "outputs": [
    {
     "data": {
      "text/plain": [
       "0     a\n",
       "1     b\n",
       "2     g\n",
       "3     d\n",
       "4     e\n",
       "6     e\n",
       "7     t\n",
       "9     k\n",
       "10    l\n",
       "12    n\n",
       "13    x\n",
       "23    o\n",
       "24    k\n",
       "25    k\n",
       "28    n\n",
       "30    c\n",
       "31    j\n",
       "33    n\n",
       "34    t\n",
       "39    t\n",
       "41    d\n",
       "43    n\n",
       "44    p\n",
       "45    p\n",
       "46    b\n",
       "47    b\n",
       "49    y\n",
       "53    s\n",
       "56    h\n",
       "57    k\n",
       "58    t\n",
       "Name: first_letter, dtype: object"
      ]
     },
     "execution_count": 70,
     "metadata": {},
     "output_type": "execute_result"
    }
   ],
   "source": [
    "df_ppd_test.first_letter"
   ]
  },
  {
   "cell_type": "raw",
   "id": "5829eba7-6ddd-423b-acee-7f015ede733b",
   "metadata": {},
   "source": [
    "DataFrame.to_numpy() → numpy.ndarray\n",
    "Returns: A NumPy ndarray representing the values in this DataFrame or Series.\n",
    "\n",
    "Note: This method should only be used if the resulting NumPy ndarray is expected to be small, as all the data is loaded into the driver’s memory."
   ]
  },
  {
   "cell_type": "code",
   "execution_count": 69,
   "id": "911bceba-fe40-44ba-84ca-49c50eebc7e5",
   "metadata": {},
   "outputs": [
    {
     "name": "stderr",
     "output_type": "stream",
     "text": [
      "/home/ashish/anaconda3/envs/mh/lib/python3.9/site-packages/pyspark/pandas/utils.py:975: PandasAPIOnSparkAdviceWarning: `to_numpy` loads all data into the driver's memory. It should only be used if the resulting NumPy ndarray is expected to be small.\n",
      "  warnings.warn(message, PandasAPIOnSparkAdviceWarning)\n",
      "                                                                                \r"
     ]
    },
    {
     "data": {
      "text/plain": [
       "array(['a', 'b', 'g', 'd', 'e', 'e', 't', 'k', 'l', 'n', 'x', 'o', 'k',\n",
       "       'k', 'n', 'c', 'j', 'n', 't', 't', 'd', 'n', 'p', 'p', 'b', 'b',\n",
       "       'y', 's', 'h', 'k', 't'], dtype=object)"
      ]
     },
     "execution_count": 69,
     "metadata": {},
     "output_type": "execute_result"
    }
   ],
   "source": [
    "df_ppd_test.first_letter.to_numpy()"
   ]
  },
  {
   "cell_type": "code",
   "execution_count": 72,
   "id": "79ad23ee-96f7-4e0b-9bd3-1342f3aaab92",
   "metadata": {},
   "outputs": [
    {
     "data": {
      "text/plain": [
       "0     False\n",
       "1     False\n",
       "2      True\n",
       "3      True\n",
       "4     False\n",
       "6     False\n",
       "7      True\n",
       "9     False\n",
       "10     True\n",
       "12     True\n",
       "13    False\n",
       "23     True\n",
       "24    False\n",
       "25    False\n",
       "28     True\n",
       "30     True\n",
       "31     True\n",
       "33     True\n",
       "34     True\n",
       "39     True\n",
       "41     True\n",
       "43     True\n",
       "44     True\n",
       "45     True\n",
       "46    False\n",
       "47    False\n",
       "49    False\n",
       "53     True\n",
       "56    False\n",
       "57    False\n",
       "58     True\n",
       "Name: first_letter, dtype: bool"
      ]
     },
     "execution_count": 72,
     "metadata": {},
     "output_type": "execute_result"
    }
   ],
   "source": [
    "df_ppd_test.first_letter.isin(df_ppd_train.first_letter.to_numpy())"
   ]
  },
  {
   "cell_type": "code",
   "execution_count": 76,
   "id": "4f63d739-5863-47e5-8e11-27672c7870b9",
   "metadata": {},
   "outputs": [
    {
     "name": "stderr",
     "output_type": "stream",
     "text": [
      "/home/ashish/anaconda3/envs/mh/lib/python3.9/site-packages/pyspark/pandas/utils.py:975: PandasAPIOnSparkAdviceWarning: `to_numpy` loads all data into the driver's memory. It should only be used if the resulting NumPy ndarray is expected to be small.\n",
      "  warnings.warn(message, PandasAPIOnSparkAdviceWarning)\n"
     ]
    }
   ],
   "source": [
    "not_in_train_but_in_test = df_ppd_test[- ( df_ppd_test.first_letter.isin( df_ppd_train.first_letter.to_numpy() ) )]"
   ]
  },
  {
   "cell_type": "code",
   "execution_count": 77,
   "id": "896afd25-c116-4805-b032-ea56bda2427d",
   "metadata": {},
   "outputs": [
    {
     "name": "stderr",
     "output_type": "stream",
     "text": [
      "                                                                                \r"
     ]
    },
    {
     "data": {
      "text/html": [
       "<div>\n",
       "<style scoped>\n",
       "    .dataframe tbody tr th:only-of-type {\n",
       "        vertical-align: middle;\n",
       "    }\n",
       "\n",
       "    .dataframe tbody tr th {\n",
       "        vertical-align: top;\n",
       "    }\n",
       "\n",
       "    .dataframe thead th {\n",
       "        text-align: right;\n",
       "    }\n",
       "</style>\n",
       "<table border=\"1\" class=\"dataframe\">\n",
       "  <thead>\n",
       "    <tr style=\"text-align: right;\">\n",
       "      <th></th>\n",
       "      <th>alphabets</th>\n",
       "      <th>first_letter</th>\n",
       "    </tr>\n",
       "  </thead>\n",
       "  <tbody>\n",
       "    <tr>\n",
       "      <th>0</th>\n",
       "      <td>alpha</td>\n",
       "      <td>a</td>\n",
       "    </tr>\n",
       "    <tr>\n",
       "      <th>1</th>\n",
       "      <td>beta</td>\n",
       "      <td>b</td>\n",
       "    </tr>\n",
       "    <tr>\n",
       "      <th>4</th>\n",
       "      <td>epsilon</td>\n",
       "      <td>e</td>\n",
       "    </tr>\n",
       "    <tr>\n",
       "      <th>6</th>\n",
       "      <td>eta</td>\n",
       "      <td>e</td>\n",
       "    </tr>\n",
       "    <tr>\n",
       "      <th>9</th>\n",
       "      <td>kappa</td>\n",
       "      <td>k</td>\n",
       "    </tr>\n",
       "    <tr>\n",
       "      <th>13</th>\n",
       "      <td>xi</td>\n",
       "      <td>x</td>\n",
       "    </tr>\n",
       "    <tr>\n",
       "      <th>24</th>\n",
       "      <td>ka</td>\n",
       "      <td>k</td>\n",
       "    </tr>\n",
       "    <tr>\n",
       "      <th>25</th>\n",
       "      <td>kh</td>\n",
       "      <td>k</td>\n",
       "    </tr>\n",
       "    <tr>\n",
       "      <th>46</th>\n",
       "      <td>ba</td>\n",
       "      <td>b</td>\n",
       "    </tr>\n",
       "    <tr>\n",
       "      <th>47</th>\n",
       "      <td>bh</td>\n",
       "      <td>b</td>\n",
       "    </tr>\n",
       "    <tr>\n",
       "      <th>49</th>\n",
       "      <td>ya</td>\n",
       "      <td>y</td>\n",
       "    </tr>\n",
       "    <tr>\n",
       "      <th>56</th>\n",
       "      <td>ha</td>\n",
       "      <td>h</td>\n",
       "    </tr>\n",
       "    <tr>\n",
       "      <th>57</th>\n",
       "      <td>ksh</td>\n",
       "      <td>k</td>\n",
       "    </tr>\n",
       "  </tbody>\n",
       "</table>\n",
       "</div>"
      ],
      "text/plain": [
       "   alphabets first_letter\n",
       "0      alpha            a\n",
       "1       beta            b\n",
       "4    epsilon            e\n",
       "6        eta            e\n",
       "9      kappa            k\n",
       "13        xi            x\n",
       "24        ka            k\n",
       "25        kh            k\n",
       "46        ba            b\n",
       "47        bh            b\n",
       "49        ya            y\n",
       "56        ha            h\n",
       "57       ksh            k"
      ]
     },
     "execution_count": 77,
     "metadata": {},
     "output_type": "execute_result"
    }
   ],
   "source": [
    "not_in_train_but_in_test"
   ]
  },
  {
   "cell_type": "code",
   "execution_count": null,
   "id": "c181bb70-c017-49a7-8075-8c72b6c6daee",
   "metadata": {},
   "outputs": [],
   "source": []
  }
 ],
 "metadata": {
  "kernelspec": {
   "display_name": "mh",
   "language": "python",
   "name": "mh"
  },
  "language_info": {
   "codemirror_mode": {
    "name": "ipython",
    "version": 3
   },
   "file_extension": ".py",
   "mimetype": "text/x-python",
   "name": "python",
   "nbconvert_exporter": "python",
   "pygments_lexer": "ipython3",
   "version": "3.9.0"
  }
 },
 "nbformat": 4,
 "nbformat_minor": 5
}
