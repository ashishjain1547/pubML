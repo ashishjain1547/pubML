{
 "cells": [
  {
   "cell_type": "code",
   "execution_count": 5,
   "id": "1ef85ec6-4eff-4f5b-9ad9-46924c686f27",
   "metadata": {},
   "outputs": [],
   "source": [
    "import pandas as pd\n",
    "import seaborn as sns"
   ]
  },
  {
   "cell_type": "code",
   "execution_count": 2,
   "id": "f98d2b39-4275-4425-9bc2-a719e845a475",
   "metadata": {},
   "outputs": [],
   "source": [
    "amazon_reviews = pd.read_csv('input/amazonReviewSnippets_GroundTruth.txt', sep = '\\t')"
   ]
  },
  {
   "cell_type": "code",
   "execution_count": 3,
   "id": "b23dedaf-c0da-4f11-bb45-56bc2262d1f4",
   "metadata": {},
   "outputs": [],
   "source": [
    "amazon_reviews['dataset'] = 'amazon'"
   ]
  },
  {
   "cell_type": "code",
   "execution_count": 37,
   "id": "c44025b1-2d02-446b-a029-a307ebf8c64f",
   "metadata": {},
   "outputs": [],
   "source": [
    "def get_sentiment_label(sentiment_score):\n",
    "    if (sentiment_score < 0):\n",
    "        return 'Negative'\n",
    "    else:\n",
    "        return 'Positive'"
   ]
  },
  {
   "cell_type": "code",
   "execution_count": 8,
   "id": "0c36b4e8-52d6-4fa0-ae2c-b317ce6ef350",
   "metadata": {},
   "outputs": [],
   "source": [
    "amazon_reviews['sentiment_label'] = amazon_reviews['sentiment'].apply(get_sentiment_label)"
   ]
  },
  {
   "cell_type": "code",
   "execution_count": 40,
   "id": "0b9ca92e-1622-48b6-b5e1-deff319fbfda",
   "metadata": {},
   "outputs": [],
   "source": [
    "amazon_reviews['length'] = amazon_reviews['text'].apply(len)"
   ]
  },
  {
   "cell_type": "code",
   "execution_count": 47,
   "id": "0c218f10-cd1e-410c-a715-fb30ca58cf42",
   "metadata": {},
   "outputs": [],
   "source": [
    "def get_word_count(text):\n",
    "    text = text.split()\n",
    "    return len(text)"
   ]
  },
  {
   "cell_type": "code",
   "execution_count": 48,
   "id": "641754b6-78ef-4413-97a7-9c4a3d3b43c9",
   "metadata": {},
   "outputs": [],
   "source": [
    "amazon_reviews['word_count'] = amazon_reviews['text'].apply(get_word_count)"
   ]
  },
  {
   "cell_type": "code",
   "execution_count": 49,
   "id": "aa20e10a-fffb-4ec0-8bc1-98213b4d66c9",
   "metadata": {},
   "outputs": [
    {
     "data": {
      "text/html": [
       "<div>\n",
       "<style scoped>\n",
       "    .dataframe tbody tr th:only-of-type {\n",
       "        vertical-align: middle;\n",
       "    }\n",
       "\n",
       "    .dataframe tbody tr th {\n",
       "        vertical-align: top;\n",
       "    }\n",
       "\n",
       "    .dataframe thead th {\n",
       "        text-align: right;\n",
       "    }\n",
       "</style>\n",
       "<table border=\"1\" class=\"dataframe\">\n",
       "  <thead>\n",
       "    <tr style=\"text-align: right;\">\n",
       "      <th></th>\n",
       "      <th>id</th>\n",
       "      <th>sentiment</th>\n",
       "      <th>text</th>\n",
       "      <th>dataset</th>\n",
       "      <th>sentiment_label</th>\n",
       "      <th>length</th>\n",
       "      <th>word_count</th>\n",
       "    </tr>\n",
       "  </thead>\n",
       "  <tbody>\n",
       "    <tr>\n",
       "      <th>0</th>\n",
       "      <td>1_1</td>\n",
       "      <td>-0.90</td>\n",
       "      <td>troubleshooting ad-2500 and ad-2600 no picture...</td>\n",
       "      <td>amazon</td>\n",
       "      <td>Negative</td>\n",
       "      <td>61</td>\n",
       "      <td>8</td>\n",
       "    </tr>\n",
       "    <tr>\n",
       "      <th>1</th>\n",
       "      <td>1_2</td>\n",
       "      <td>-0.15</td>\n",
       "      <td>repost from january 13, 2004 with a better fit...</td>\n",
       "      <td>amazon</td>\n",
       "      <td>Negative</td>\n",
       "      <td>53</td>\n",
       "      <td>10</td>\n",
       "    </tr>\n",
       "    <tr>\n",
       "      <th>2</th>\n",
       "      <td>1_3</td>\n",
       "      <td>-0.20</td>\n",
       "      <td>does your apex dvd player only play dvd audio ...</td>\n",
       "      <td>amazon</td>\n",
       "      <td>Negative</td>\n",
       "      <td>60</td>\n",
       "      <td>11</td>\n",
       "    </tr>\n",
       "    <tr>\n",
       "      <th>3</th>\n",
       "      <td>1_4</td>\n",
       "      <td>-0.10</td>\n",
       "      <td>or does it play audio and video but scrolling ...</td>\n",
       "      <td>amazon</td>\n",
       "      <td>Negative</td>\n",
       "      <td>65</td>\n",
       "      <td>13</td>\n",
       "    </tr>\n",
       "    <tr>\n",
       "      <th>4</th>\n",
       "      <td>1_5</td>\n",
       "      <td>-0.50</td>\n",
       "      <td>before you try to return the player or waste h...</td>\n",
       "      <td>amazon</td>\n",
       "      <td>Negative</td>\n",
       "      <td>161</td>\n",
       "      <td>28</td>\n",
       "    </tr>\n",
       "  </tbody>\n",
       "</table>\n",
       "</div>"
      ],
      "text/plain": [
       "    id  sentiment                                               text dataset  \\\n",
       "0  1_1      -0.90  troubleshooting ad-2500 and ad-2600 no picture...  amazon   \n",
       "1  1_2      -0.15  repost from january 13, 2004 with a better fit...  amazon   \n",
       "2  1_3      -0.20  does your apex dvd player only play dvd audio ...  amazon   \n",
       "3  1_4      -0.10  or does it play audio and video but scrolling ...  amazon   \n",
       "4  1_5      -0.50  before you try to return the player or waste h...  amazon   \n",
       "\n",
       "  sentiment_label  length  word_count  \n",
       "0        Negative      61           8  \n",
       "1        Negative      53          10  \n",
       "2        Negative      60          11  \n",
       "3        Negative      65          13  \n",
       "4        Negative     161          28  "
      ]
     },
     "execution_count": 49,
     "metadata": {},
     "output_type": "execute_result"
    }
   ],
   "source": [
    "amazon_reviews.head()"
   ]
  },
  {
   "cell_type": "code",
   "execution_count": 50,
   "id": "4d23d302-02aa-4929-8891-ed51c4389ecc",
   "metadata": {},
   "outputs": [
    {
     "data": {
      "text/plain": [
       "<AxesSubplot:xlabel='sentiment_label', ylabel='count'>"
      ]
     },
     "execution_count": 50,
     "metadata": {},
     "output_type": "execute_result"
    },
    {
     "data": {
      "image/png": "[encoded data removed]",
      "text/plain": [
       "<Figure size 640x480 with 1 Axes>"
      ]
     },
     "metadata": {},
     "output_type": "display_data"
    }
   ],
   "source": [
    "sns.countplot(x ='sentiment_label', data = amazon_reviews)"
   ]
  },
  {
   "cell_type": "code",
   "execution_count": 51,
   "id": "066f23a1-46af-4f1b-836f-cc1b92498d94",
   "metadata": {},
   "outputs": [
    {
     "data": {
      "text/plain": [
       "count    3546.000000\n",
       "mean       92.314721\n",
       "std       170.213505\n",
       "min         1.000000\n",
       "25%        48.000000\n",
       "50%        77.000000\n",
       "75%       114.000000\n",
       "max      6583.000000\n",
       "Name: length, dtype: float64"
      ]
     },
     "execution_count": 51,
     "metadata": {},
     "output_type": "execute_result"
    }
   ],
   "source": [
    "amazon_reviews['length'].describe()"
   ]
  },
  {
   "cell_type": "code",
   "execution_count": 52,
   "id": "f4a548dd-4377-47af-80df-96f9bbeb6121",
   "metadata": {},
   "outputs": [
    {
     "data": {
      "text/plain": [
       "count    3546.000000\n",
       "mean       17.300056\n",
       "std        31.449383\n",
       "min         1.000000\n",
       "25%         9.000000\n",
       "50%        15.000000\n",
       "75%        21.000000\n",
       "max      1220.000000\n",
       "Name: word_count, dtype: float64"
      ]
     },
     "execution_count": 52,
     "metadata": {},
     "output_type": "execute_result"
    }
   ],
   "source": [
    "amazon_reviews['word_count'].describe()"
   ]
  },
  {
   "cell_type": "markdown",
   "id": "bbdb7907-61a7-4779-8dde-82bb7873a06f",
   "metadata": {},
   "source": [
    "# If max number of tokens exceeds 512, plain BERT embedding cannot be used and we have to use SentenceBERT as the embedding technique."
   ]
  },
  {
   "cell_type": "code",
   "execution_count": 12,
   "id": "07a45468-7f33-4974-adc3-55b5743e4461",
   "metadata": {},
   "outputs": [],
   "source": [
    "movie_reviews = pd.read_csv('input/movieReviewSnippets_GroundTruth.txt', sep = '\\t')"
   ]
  },
  {
   "cell_type": "code",
   "execution_count": 13,
   "id": "28411630-1d91-4532-ae1c-0b4595f9203f",
   "metadata": {},
   "outputs": [],
   "source": [
    "movie_reviews['dataset'] = 'movie reviews'"
   ]
  },
  {
   "cell_type": "code",
   "execution_count": 54,
   "id": "01a3f2a9-df93-44e9-9045-6eb0df51c8b4",
   "metadata": {},
   "outputs": [],
   "source": [
    "movie_reviews['sentiment_label'] = movie_reviews['sentiment'].apply(get_sentiment_label)\n",
    "movie_reviews['word_count'] = movie_reviews['text'].apply(get_word_count)"
   ]
  },
  {
   "cell_type": "code",
   "execution_count": 55,
   "id": "8d1d88d4-f4aa-42e9-9568-92a5eb200e78",
   "metadata": {},
   "outputs": [
    {
     "data": {
      "text/html": [
       "<div>\n",
       "<style scoped>\n",
       "    .dataframe tbody tr th:only-of-type {\n",
       "        vertical-align: middle;\n",
       "    }\n",
       "\n",
       "    .dataframe tbody tr th {\n",
       "        vertical-align: top;\n",
       "    }\n",
       "\n",
       "    .dataframe thead th {\n",
       "        text-align: right;\n",
       "    }\n",
       "</style>\n",
       "<table border=\"1\" class=\"dataframe\">\n",
       "  <thead>\n",
       "    <tr style=\"text-align: right;\">\n",
       "      <th></th>\n",
       "      <th>id</th>\n",
       "      <th>sentiment</th>\n",
       "      <th>text</th>\n",
       "      <th>dataset</th>\n",
       "      <th>sentiment_label</th>\n",
       "      <th>word_count</th>\n",
       "    </tr>\n",
       "  </thead>\n",
       "  <tbody>\n",
       "    <tr>\n",
       "      <th>0</th>\n",
       "      <td>1</td>\n",
       "      <td>2.266667</td>\n",
       "      <td>The Rock is destined to be the 21st Century's ...</td>\n",
       "      <td>movie reviews</td>\n",
       "      <td>Positive</td>\n",
       "      <td>31</td>\n",
       "    </tr>\n",
       "    <tr>\n",
       "      <th>1</th>\n",
       "      <td>2</td>\n",
       "      <td>3.533333</td>\n",
       "      <td>The gorgeously elaborate continuation of ''The...</td>\n",
       "      <td>movie reviews</td>\n",
       "      <td>Positive</td>\n",
       "      <td>33</td>\n",
       "    </tr>\n",
       "    <tr>\n",
       "      <th>2</th>\n",
       "      <td>3</td>\n",
       "      <td>-0.600000</td>\n",
       "      <td>Effective but too tepid biopic</td>\n",
       "      <td>movie reviews</td>\n",
       "      <td>Negative</td>\n",
       "      <td>5</td>\n",
       "    </tr>\n",
       "    <tr>\n",
       "      <th>3</th>\n",
       "      <td>4</td>\n",
       "      <td>1.466667</td>\n",
       "      <td>If you sometimes like to go to the movies to h...</td>\n",
       "      <td>movie reviews</td>\n",
       "      <td>Positive</td>\n",
       "      <td>19</td>\n",
       "    </tr>\n",
       "    <tr>\n",
       "      <th>4</th>\n",
       "      <td>5</td>\n",
       "      <td>1.733333</td>\n",
       "      <td>Emerges as something rare, an issue movie that...</td>\n",
       "      <td>movie reviews</td>\n",
       "      <td>Positive</td>\n",
       "      <td>19</td>\n",
       "    </tr>\n",
       "  </tbody>\n",
       "</table>\n",
       "</div>"
      ],
      "text/plain": [
       "   id  sentiment                                               text  \\\n",
       "0   1   2.266667  The Rock is destined to be the 21st Century's ...   \n",
       "1   2   3.533333  The gorgeously elaborate continuation of ''The...   \n",
       "2   3  -0.600000                     Effective but too tepid biopic   \n",
       "3   4   1.466667  If you sometimes like to go to the movies to h...   \n",
       "4   5   1.733333  Emerges as something rare, an issue movie that...   \n",
       "\n",
       "         dataset sentiment_label  word_count  \n",
       "0  movie reviews        Positive          31  \n",
       "1  movie reviews        Positive          33  \n",
       "2  movie reviews        Negative           5  \n",
       "3  movie reviews        Positive          19  \n",
       "4  movie reviews        Positive          19  "
      ]
     },
     "execution_count": 55,
     "metadata": {},
     "output_type": "execute_result"
    }
   ],
   "source": [
    "movie_reviews.head(5)"
   ]
  },
  {
   "cell_type": "code",
   "execution_count": 56,
   "id": "8990d0c4-6f3b-4380-8c7e-817208786fdd",
   "metadata": {},
   "outputs": [
    {
     "data": {
      "text/plain": [
       "<AxesSubplot:xlabel='sentiment_label', ylabel='count'>"
      ]
     },
     "execution_count": 56,
     "metadata": {},
     "output_type": "execute_result"
    },
    {
     "data": {
      "image/png": "[encoded data removed]",
      "text/plain": [
       "<Figure size 640x480 with 1 Axes>"
      ]
     },
     "metadata": {},
     "output_type": "display_data"
    }
   ],
   "source": [
    "sns.countplot(x ='sentiment_label', data = movie_reviews)"
   ]
  },
  {
   "cell_type": "code",
   "execution_count": 58,
   "id": "00b350a8-c27d-4deb-adfa-b01bab2c1ce7",
   "metadata": {},
   "outputs": [
    {
     "data": {
      "text/plain": [
       "count    10605.000000\n",
       "mean        18.864875\n",
       "std          8.702398\n",
       "min          1.000000\n",
       "25%         12.000000\n",
       "50%         18.000000\n",
       "75%         25.000000\n",
       "max         51.000000\n",
       "Name: word_count, dtype: float64"
      ]
     },
     "execution_count": 58,
     "metadata": {},
     "output_type": "execute_result"
    }
   ],
   "source": [
    "movie_reviews['word_count'].describe()"
   ]
  },
  {
   "cell_type": "code",
   "execution_count": 17,
   "id": "7d345c1f-05fb-40bc-ade3-bcd3d6547be0",
   "metadata": {},
   "outputs": [],
   "source": [
    "nyt_editorial_snippets = pd.read_csv('input/nytEditorialSnippets_GroundTruth.txt', sep = '\\t')"
   ]
  },
  {
   "cell_type": "code",
   "execution_count": 18,
   "id": "64f63537-3e07-47af-8219-23c83f452b62",
   "metadata": {},
   "outputs": [],
   "source": [
    "nyt_editorial_snippets['dataset'] = 'nyt_editorial_snippets'"
   ]
  },
  {
   "cell_type": "code",
   "execution_count": 59,
   "id": "f1ef67af-9ea1-402c-b1da-2844151fcf26",
   "metadata": {},
   "outputs": [],
   "source": [
    "nyt_editorial_snippets['sentiment_label'] = nyt_editorial_snippets['sentiment'].apply(get_sentiment_label)\n",
    "nyt_editorial_snippets['word_count'] = nyt_editorial_snippets['text'].apply(get_word_count)"
   ]
  },
  {
   "cell_type": "code",
   "execution_count": 60,
   "id": "ea8d8a0a-326a-406f-b438-2aca9ca1af6f",
   "metadata": {},
   "outputs": [
    {
     "data": {
      "text/html": [
       "<div>\n",
       "<style scoped>\n",
       "    .dataframe tbody tr th:only-of-type {\n",
       "        vertical-align: middle;\n",
       "    }\n",
       "\n",
       "    .dataframe tbody tr th {\n",
       "        vertical-align: top;\n",
       "    }\n",
       "\n",
       "    .dataframe thead th {\n",
       "        text-align: right;\n",
       "    }\n",
       "</style>\n",
       "<table border=\"1\" class=\"dataframe\">\n",
       "  <thead>\n",
       "    <tr style=\"text-align: right;\">\n",
       "      <th></th>\n",
       "      <th>id</th>\n",
       "      <th>sentiment</th>\n",
       "      <th>text</th>\n",
       "      <th>dataset</th>\n",
       "      <th>sentiment_label</th>\n",
       "      <th>word_count</th>\n",
       "    </tr>\n",
       "  </thead>\n",
       "  <tbody>\n",
       "    <tr>\n",
       "      <th>0</th>\n",
       "      <td>1_1</td>\n",
       "      <td>0.40</td>\n",
       "      <td>On Dec. 19, around noon, New York City's Union...</td>\n",
       "      <td>nyt_editorial_snippets</td>\n",
       "      <td>Positive</td>\n",
       "      <td>33</td>\n",
       "    </tr>\n",
       "    <tr>\n",
       "      <th>1</th>\n",
       "      <td>1_2</td>\n",
       "      <td>0.15</td>\n",
       "      <td>Events include sprinting, broad jumping, yule ...</td>\n",
       "      <td>nyt_editorial_snippets</td>\n",
       "      <td>Positive</td>\n",
       "      <td>15</td>\n",
       "    </tr>\n",
       "    <tr>\n",
       "      <th>2</th>\n",
       "      <td>1_3</td>\n",
       "      <td>1.50</td>\n",
       "      <td>It's mainly a holiday celebration - toys from ...</td>\n",
       "      <td>nyt_editorial_snippets</td>\n",
       "      <td>Positive</td>\n",
       "      <td>16</td>\n",
       "    </tr>\n",
       "    <tr>\n",
       "      <th>3</th>\n",
       "      <td>1_4</td>\n",
       "      <td>-0.05</td>\n",
       "      <td>But the games also convey another message.</td>\n",
       "      <td>nyt_editorial_snippets</td>\n",
       "      <td>Negative</td>\n",
       "      <td>7</td>\n",
       "    </tr>\n",
       "    <tr>\n",
       "      <th>4</th>\n",
       "      <td>1_5</td>\n",
       "      <td>-1.15</td>\n",
       "      <td>According to Clement C. Moore, author of ''A V...</td>\n",
       "      <td>nyt_editorial_snippets</td>\n",
       "      <td>Negative</td>\n",
       "      <td>19</td>\n",
       "    </tr>\n",
       "  </tbody>\n",
       "</table>\n",
       "</div>"
      ],
      "text/plain": [
       "    id  sentiment                                               text  \\\n",
       "0  1_1       0.40  On Dec. 19, around noon, New York City's Union...   \n",
       "1  1_2       0.15  Events include sprinting, broad jumping, yule ...   \n",
       "2  1_3       1.50  It's mainly a holiday celebration - toys from ...   \n",
       "3  1_4      -0.05         But the games also convey another message.   \n",
       "4  1_5      -1.15  According to Clement C. Moore, author of ''A V...   \n",
       "\n",
       "                  dataset sentiment_label  word_count  \n",
       "0  nyt_editorial_snippets        Positive          33  \n",
       "1  nyt_editorial_snippets        Positive          15  \n",
       "2  nyt_editorial_snippets        Positive          16  \n",
       "3  nyt_editorial_snippets        Negative           7  \n",
       "4  nyt_editorial_snippets        Negative          19  "
      ]
     },
     "execution_count": 60,
     "metadata": {},
     "output_type": "execute_result"
    }
   ],
   "source": [
    "nyt_editorial_snippets.head()"
   ]
  },
  {
   "cell_type": "code",
   "execution_count": 61,
   "id": "245c6ed1-71a2-4305-b63b-685f126dbf3f",
   "metadata": {},
   "outputs": [
    {
     "data": {
      "text/plain": [
       "<AxesSubplot:xlabel='sentiment_label', ylabel='count'>"
      ]
     },
     "execution_count": 61,
     "metadata": {},
     "output_type": "execute_result"
    },
    {
     "data": {
      "image/png": "[encoded data removed]",
      "text/plain": [
       "<Figure size 640x480 with 1 Axes>"
      ]
     },
     "metadata": {},
     "output_type": "display_data"
    }
   ],
   "source": [
    "sns.countplot(x ='sentiment_label', data = nyt_editorial_snippets)"
   ]
  },
  {
   "cell_type": "code",
   "execution_count": 62,
   "id": "c95bcf76-eaea-4b2c-88a4-3a3a76c591e4",
   "metadata": {},
   "outputs": [
    {
     "data": {
      "text/plain": [
       "count    5183.000000\n",
       "mean       17.482925\n",
       "std         8.767046\n",
       "min         1.000000\n",
       "25%        11.000000\n",
       "50%        17.000000\n",
       "75%        23.000000\n",
       "max        91.000000\n",
       "Name: word_count, dtype: float64"
      ]
     },
     "execution_count": 62,
     "metadata": {},
     "output_type": "execute_result"
    }
   ],
   "source": [
    "nyt_editorial_snippets['word_count'].describe()"
   ]
  },
  {
   "cell_type": "code",
   "execution_count": 24,
   "id": "a74fbd1c-1221-44fe-b149-56dd618d37f6",
   "metadata": {},
   "outputs": [],
   "source": [
    "tweets_groud_truth = pd.read_csv('input/tweets_GroundTruth.txt', sep = '\\t')"
   ]
  },
  {
   "cell_type": "code",
   "execution_count": 25,
   "id": "807d508f-3de2-4fa9-bcec-8ca363d42f7d",
   "metadata": {},
   "outputs": [],
   "source": [
    "tweets_groud_truth['dataset'] = 'tweets_groud_truth'"
   ]
  },
  {
   "cell_type": "code",
   "execution_count": 63,
   "id": "3e064cdc-20a2-40f5-b8f3-d6ca771c2fc5",
   "metadata": {},
   "outputs": [],
   "source": [
    "tweets_groud_truth['sentiment_label'] = tweets_groud_truth['sentiment'].apply(get_sentiment_label)\n",
    "tweets_groud_truth['word_count'] = tweets_groud_truth['text'].apply(get_word_count)"
   ]
  },
  {
   "cell_type": "code",
   "execution_count": 67,
   "id": "d75ea2b3-4743-4e4b-9ca2-babd8301901b",
   "metadata": {},
   "outputs": [
    {
     "data": {
      "text/html": [
       "<div>\n",
       "<style scoped>\n",
       "    .dataframe tbody tr th:only-of-type {\n",
       "        vertical-align: middle;\n",
       "    }\n",
       "\n",
       "    .dataframe tbody tr th {\n",
       "        vertical-align: top;\n",
       "    }\n",
       "\n",
       "    .dataframe thead th {\n",
       "        text-align: right;\n",
       "    }\n",
       "</style>\n",
       "<table border=\"1\" class=\"dataframe\">\n",
       "  <thead>\n",
       "    <tr style=\"text-align: right;\">\n",
       "      <th></th>\n",
       "      <th>id</th>\n",
       "      <th>sentiment</th>\n",
       "      <th>text</th>\n",
       "      <th>dataset</th>\n",
       "      <th>sentiment_label</th>\n",
       "      <th>word_count</th>\n",
       "    </tr>\n",
       "  </thead>\n",
       "  <tbody>\n",
       "    <tr>\n",
       "      <th>0</th>\n",
       "      <td>1</td>\n",
       "      <td>2.726316</td>\n",
       "      <td>Somehow I was blessed with some really amazing...</td>\n",
       "      <td>tweets_groud_truth</td>\n",
       "      <td>Positive</td>\n",
       "      <td>25</td>\n",
       "    </tr>\n",
       "    <tr>\n",
       "      <th>1</th>\n",
       "      <td>2</td>\n",
       "      <td>1.443299</td>\n",
       "      <td>Yay. Another good phone interview.</td>\n",
       "      <td>tweets_groud_truth</td>\n",
       "      <td>Positive</td>\n",
       "      <td>5</td>\n",
       "    </tr>\n",
       "    <tr>\n",
       "      <th>2</th>\n",
       "      <td>3</td>\n",
       "      <td>2.873684</td>\n",
       "      <td>We were 17 deep last night &amp;amp; the love was ...</td>\n",
       "      <td>tweets_groud_truth</td>\n",
       "      <td>Positive</td>\n",
       "      <td>28</td>\n",
       "    </tr>\n",
       "    <tr>\n",
       "      <th>3</th>\n",
       "      <td>4</td>\n",
       "      <td>2.857143</td>\n",
       "      <td>LMAO, AMAZING!</td>\n",
       "      <td>tweets_groud_truth</td>\n",
       "      <td>Positive</td>\n",
       "      <td>2</td>\n",
       "    </tr>\n",
       "    <tr>\n",
       "      <th>4</th>\n",
       "      <td>5</td>\n",
       "      <td>-2.154639</td>\n",
       "      <td>Two words that should die this year: Sexting a...</td>\n",
       "      <td>tweets_groud_truth</td>\n",
       "      <td>Negative</td>\n",
       "      <td>13</td>\n",
       "    </tr>\n",
       "  </tbody>\n",
       "</table>\n",
       "</div>"
      ],
      "text/plain": [
       "   id  sentiment                                               text  \\\n",
       "0   1   2.726316  Somehow I was blessed with some really amazing...   \n",
       "1   2   1.443299                 Yay. Another good phone interview.   \n",
       "2   3   2.873684  We were 17 deep last night &amp; the love was ...   \n",
       "3   4   2.857143                                     LMAO, AMAZING!   \n",
       "4   5  -2.154639  Two words that should die this year: Sexting a...   \n",
       "\n",
       "              dataset sentiment_label  word_count  \n",
       "0  tweets_groud_truth        Positive          25  \n",
       "1  tweets_groud_truth        Positive           5  \n",
       "2  tweets_groud_truth        Positive          28  \n",
       "3  tweets_groud_truth        Positive           2  \n",
       "4  tweets_groud_truth        Negative          13  "
      ]
     },
     "execution_count": 67,
     "metadata": {},
     "output_type": "execute_result"
    }
   ],
   "source": [
    "tweets_groud_truth.head()"
   ]
  },
  {
   "cell_type": "code",
   "execution_count": 64,
   "id": "b7f05d2d-bd9c-4a20-94c2-53d73173361f",
   "metadata": {},
   "outputs": [
    {
     "data": {
      "text/plain": [
       "<AxesSubplot:xlabel='sentiment_label', ylabel='count'>"
      ]
     },
     "execution_count": 64,
     "metadata": {},
     "output_type": "execute_result"
    },
    {
     "data": {
      "image/png": "[encoded data removed]",
      "text/plain": [
       "<Figure size 640x480 with 1 Axes>"
      ]
     },
     "metadata": {},
     "output_type": "display_data"
    }
   ],
   "source": [
    "sns.countplot(x ='sentiment_label', data = tweets_groud_truth)"
   ]
  },
  {
   "cell_type": "code",
   "execution_count": 65,
   "id": "6db696ec-2ee1-4266-9ae0-cb4993943773",
   "metadata": {},
   "outputs": [
    {
     "data": {
      "text/plain": [
       "count    4200.000000\n",
       "mean       13.619286\n",
       "std         6.720463\n",
       "min         1.000000\n",
       "25%         8.000000\n",
       "50%        13.000000\n",
       "75%        19.000000\n",
       "max        32.000000\n",
       "Name: word_count, dtype: float64"
      ]
     },
     "execution_count": 65,
     "metadata": {},
     "output_type": "execute_result"
    }
   ],
   "source": [
    "tweets_groud_truth['word_count'].describe()"
   ]
  },
  {
   "cell_type": "code",
   "execution_count": 68,
   "id": "79af3140-c55f-423f-91d7-824ae6ca4401",
   "metadata": {},
   "outputs": [],
   "source": [
    "us_presidential_election_2016 = pd.read_csv('input/us_politics_presidential_election_2016.csv', sep = ',')"
   ]
  },
  {
   "cell_type": "code",
   "execution_count": 69,
   "id": "e5bbcd05-f8d0-4b5b-885d-38747d004cda",
   "metadata": {},
   "outputs": [
    {
     "data": {
      "text/html": [
       "<div>\n",
       "<style scoped>\n",
       "    .dataframe tbody tr th:only-of-type {\n",
       "        vertical-align: middle;\n",
       "    }\n",
       "\n",
       "    .dataframe tbody tr th {\n",
       "        vertical-align: top;\n",
       "    }\n",
       "\n",
       "    .dataframe thead th {\n",
       "        text-align: right;\n",
       "    }\n",
       "</style>\n",
       "<table border=\"1\" class=\"dataframe\">\n",
       "  <thead>\n",
       "    <tr style=\"text-align: right;\">\n",
       "      <th></th>\n",
       "      <th>id</th>\n",
       "      <th>candidate</th>\n",
       "      <th>candidate_confidence</th>\n",
       "      <th>relevant_yn</th>\n",
       "      <th>relevant_yn_confidence</th>\n",
       "      <th>sentiment</th>\n",
       "      <th>sentiment_confidence</th>\n",
       "      <th>subject_matter</th>\n",
       "      <th>subject_matter_confidence</th>\n",
       "      <th>candidate_gold</th>\n",
       "      <th>...</th>\n",
       "      <th>relevant_yn_gold</th>\n",
       "      <th>retweet_count</th>\n",
       "      <th>sentiment_gold</th>\n",
       "      <th>subject_matter_gold</th>\n",
       "      <th>text</th>\n",
       "      <th>tweet_coord</th>\n",
       "      <th>tweet_created</th>\n",
       "      <th>tweet_id</th>\n",
       "      <th>tweet_location</th>\n",
       "      <th>user_timezone</th>\n",
       "    </tr>\n",
       "  </thead>\n",
       "  <tbody>\n",
       "    <tr>\n",
       "      <th>0</th>\n",
       "      <td>1</td>\n",
       "      <td>No candidate mentioned</td>\n",
       "      <td>1.0</td>\n",
       "      <td>yes</td>\n",
       "      <td>1.0</td>\n",
       "      <td>Neutral</td>\n",
       "      <td>0.6578</td>\n",
       "      <td>None of the above</td>\n",
       "      <td>1.0000</td>\n",
       "      <td>NaN</td>\n",
       "      <td>...</td>\n",
       "      <td>NaN</td>\n",
       "      <td>5</td>\n",
       "      <td>NaN</td>\n",
       "      <td>NaN</td>\n",
       "      <td>RT @NancyLeeGrahn: How did everyone feel about...</td>\n",
       "      <td>NaN</td>\n",
       "      <td>2015-08-07 09:54:46 -0700</td>\n",
       "      <td>629697200650592256</td>\n",
       "      <td>NaN</td>\n",
       "      <td>Quito</td>\n",
       "    </tr>\n",
       "    <tr>\n",
       "      <th>1</th>\n",
       "      <td>2</td>\n",
       "      <td>Scott Walker</td>\n",
       "      <td>1.0</td>\n",
       "      <td>yes</td>\n",
       "      <td>1.0</td>\n",
       "      <td>Positive</td>\n",
       "      <td>0.6333</td>\n",
       "      <td>None of the above</td>\n",
       "      <td>1.0000</td>\n",
       "      <td>NaN</td>\n",
       "      <td>...</td>\n",
       "      <td>NaN</td>\n",
       "      <td>26</td>\n",
       "      <td>NaN</td>\n",
       "      <td>NaN</td>\n",
       "      <td>RT @ScottWalker: Didn't catch the full #GOPdeb...</td>\n",
       "      <td>NaN</td>\n",
       "      <td>2015-08-07 09:54:46 -0700</td>\n",
       "      <td>629697199560069120</td>\n",
       "      <td>NaN</td>\n",
       "      <td>NaN</td>\n",
       "    </tr>\n",
       "    <tr>\n",
       "      <th>2</th>\n",
       "      <td>3</td>\n",
       "      <td>No candidate mentioned</td>\n",
       "      <td>1.0</td>\n",
       "      <td>yes</td>\n",
       "      <td>1.0</td>\n",
       "      <td>Neutral</td>\n",
       "      <td>0.6629</td>\n",
       "      <td>None of the above</td>\n",
       "      <td>0.6629</td>\n",
       "      <td>NaN</td>\n",
       "      <td>...</td>\n",
       "      <td>NaN</td>\n",
       "      <td>27</td>\n",
       "      <td>NaN</td>\n",
       "      <td>NaN</td>\n",
       "      <td>RT @TJMShow: No mention of Tamir Rice and the ...</td>\n",
       "      <td>NaN</td>\n",
       "      <td>2015-08-07 09:54:46 -0700</td>\n",
       "      <td>629697199312482304</td>\n",
       "      <td>NaN</td>\n",
       "      <td>NaN</td>\n",
       "    </tr>\n",
       "    <tr>\n",
       "      <th>3</th>\n",
       "      <td>4</td>\n",
       "      <td>No candidate mentioned</td>\n",
       "      <td>1.0</td>\n",
       "      <td>yes</td>\n",
       "      <td>1.0</td>\n",
       "      <td>Positive</td>\n",
       "      <td>1.0000</td>\n",
       "      <td>None of the above</td>\n",
       "      <td>0.7039</td>\n",
       "      <td>NaN</td>\n",
       "      <td>...</td>\n",
       "      <td>NaN</td>\n",
       "      <td>138</td>\n",
       "      <td>NaN</td>\n",
       "      <td>NaN</td>\n",
       "      <td>RT @RobGeorge: That Carly Fiorina is trending ...</td>\n",
       "      <td>NaN</td>\n",
       "      <td>2015-08-07 09:54:45 -0700</td>\n",
       "      <td>629697197118861312</td>\n",
       "      <td>Texas</td>\n",
       "      <td>Central Time (US &amp; Canada)</td>\n",
       "    </tr>\n",
       "    <tr>\n",
       "      <th>4</th>\n",
       "      <td>5</td>\n",
       "      <td>Donald Trump</td>\n",
       "      <td>1.0</td>\n",
       "      <td>yes</td>\n",
       "      <td>1.0</td>\n",
       "      <td>Positive</td>\n",
       "      <td>0.7045</td>\n",
       "      <td>None of the above</td>\n",
       "      <td>1.0000</td>\n",
       "      <td>NaN</td>\n",
       "      <td>...</td>\n",
       "      <td>NaN</td>\n",
       "      <td>156</td>\n",
       "      <td>NaN</td>\n",
       "      <td>NaN</td>\n",
       "      <td>RT @DanScavino: #GOPDebate w/ @realDonaldTrump...</td>\n",
       "      <td>NaN</td>\n",
       "      <td>2015-08-07 09:54:45 -0700</td>\n",
       "      <td>629697196967903232</td>\n",
       "      <td>NaN</td>\n",
       "      <td>Arizona</td>\n",
       "    </tr>\n",
       "  </tbody>\n",
       "</table>\n",
       "<p>5 rows × 21 columns</p>\n",
       "</div>"
      ],
      "text/plain": [
       "   id               candidate  candidate_confidence relevant_yn  \\\n",
       "0   1  No candidate mentioned                   1.0         yes   \n",
       "1   2            Scott Walker                   1.0         yes   \n",
       "2   3  No candidate mentioned                   1.0         yes   \n",
       "3   4  No candidate mentioned                   1.0         yes   \n",
       "4   5            Donald Trump                   1.0         yes   \n",
       "\n",
       "   relevant_yn_confidence sentiment  sentiment_confidence     subject_matter  \\\n",
       "0                     1.0   Neutral                0.6578  None of the above   \n",
       "1                     1.0  Positive                0.6333  None of the above   \n",
       "2                     1.0   Neutral                0.6629  None of the above   \n",
       "3                     1.0  Positive                1.0000  None of the above   \n",
       "4                     1.0  Positive                0.7045  None of the above   \n",
       "\n",
       "   subject_matter_confidence candidate_gold  ... relevant_yn_gold  \\\n",
       "0                     1.0000            NaN  ...              NaN   \n",
       "1                     1.0000            NaN  ...              NaN   \n",
       "2                     0.6629            NaN  ...              NaN   \n",
       "3                     0.7039            NaN  ...              NaN   \n",
       "4                     1.0000            NaN  ...              NaN   \n",
       "\n",
       "  retweet_count  sentiment_gold subject_matter_gold  \\\n",
       "0             5             NaN                 NaN   \n",
       "1            26             NaN                 NaN   \n",
       "2            27             NaN                 NaN   \n",
       "3           138             NaN                 NaN   \n",
       "4           156             NaN                 NaN   \n",
       "\n",
       "                                                text tweet_coord  \\\n",
       "0  RT @NancyLeeGrahn: How did everyone feel about...         NaN   \n",
       "1  RT @ScottWalker: Didn't catch the full #GOPdeb...         NaN   \n",
       "2  RT @TJMShow: No mention of Tamir Rice and the ...         NaN   \n",
       "3  RT @RobGeorge: That Carly Fiorina is trending ...         NaN   \n",
       "4  RT @DanScavino: #GOPDebate w/ @realDonaldTrump...         NaN   \n",
       "\n",
       "               tweet_created            tweet_id  tweet_location  \\\n",
       "0  2015-08-07 09:54:46 -0700  629697200650592256             NaN   \n",
       "1  2015-08-07 09:54:46 -0700  629697199560069120             NaN   \n",
       "2  2015-08-07 09:54:46 -0700  629697199312482304             NaN   \n",
       "3  2015-08-07 09:54:45 -0700  629697197118861312           Texas   \n",
       "4  2015-08-07 09:54:45 -0700  629697196967903232             NaN   \n",
       "\n",
       "                user_timezone  \n",
       "0                       Quito  \n",
       "1                         NaN  \n",
       "2                         NaN  \n",
       "3  Central Time (US & Canada)  \n",
       "4                     Arizona  \n",
       "\n",
       "[5 rows x 21 columns]"
      ]
     },
     "execution_count": 69,
     "metadata": {},
     "output_type": "execute_result"
    }
   ],
   "source": [
    "us_presidential_election_2016.head()"
   ]
  },
  {
   "cell_type": "code",
   "execution_count": 70,
   "id": "03549333-f9ae-4883-aa41-6b828b89d3d7",
   "metadata": {},
   "outputs": [],
   "source": [
    "us_presidential_election_2016 = us_presidential_election_2016[['id', 'sentiment', 'text']]"
   ]
  },
  {
   "cell_type": "code",
   "execution_count": 71,
   "id": "404e9910-cc45-4c4f-a49f-28f3d0d88a18",
   "metadata": {},
   "outputs": [],
   "source": [
    "us_presidential_election_2016['dataset'] = 'us_presidential_election_2016'"
   ]
  },
  {
   "cell_type": "code",
   "execution_count": 72,
   "id": "cde53dde-ce5c-4c30-97bf-5326973745ff",
   "metadata": {},
   "outputs": [
    {
     "data": {
      "text/html": [
       "<div>\n",
       "<style scoped>\n",
       "    .dataframe tbody tr th:only-of-type {\n",
       "        vertical-align: middle;\n",
       "    }\n",
       "\n",
       "    .dataframe tbody tr th {\n",
       "        vertical-align: top;\n",
       "    }\n",
       "\n",
       "    .dataframe thead th {\n",
       "        text-align: right;\n",
       "    }\n",
       "</style>\n",
       "<table border=\"1\" class=\"dataframe\">\n",
       "  <thead>\n",
       "    <tr style=\"text-align: right;\">\n",
       "      <th></th>\n",
       "      <th>id</th>\n",
       "      <th>sentiment</th>\n",
       "      <th>text</th>\n",
       "      <th>dataset</th>\n",
       "    </tr>\n",
       "  </thead>\n",
       "  <tbody>\n",
       "    <tr>\n",
       "      <th>0</th>\n",
       "      <td>1</td>\n",
       "      <td>Neutral</td>\n",
       "      <td>RT @NancyLeeGrahn: How did everyone feel about...</td>\n",
       "      <td>us_presidential_election_2016</td>\n",
       "    </tr>\n",
       "    <tr>\n",
       "      <th>1</th>\n",
       "      <td>2</td>\n",
       "      <td>Positive</td>\n",
       "      <td>RT @ScottWalker: Didn't catch the full #GOPdeb...</td>\n",
       "      <td>us_presidential_election_2016</td>\n",
       "    </tr>\n",
       "    <tr>\n",
       "      <th>2</th>\n",
       "      <td>3</td>\n",
       "      <td>Neutral</td>\n",
       "      <td>RT @TJMShow: No mention of Tamir Rice and the ...</td>\n",
       "      <td>us_presidential_election_2016</td>\n",
       "    </tr>\n",
       "    <tr>\n",
       "      <th>3</th>\n",
       "      <td>4</td>\n",
       "      <td>Positive</td>\n",
       "      <td>RT @RobGeorge: That Carly Fiorina is trending ...</td>\n",
       "      <td>us_presidential_election_2016</td>\n",
       "    </tr>\n",
       "    <tr>\n",
       "      <th>4</th>\n",
       "      <td>5</td>\n",
       "      <td>Positive</td>\n",
       "      <td>RT @DanScavino: #GOPDebate w/ @realDonaldTrump...</td>\n",
       "      <td>us_presidential_election_2016</td>\n",
       "    </tr>\n",
       "  </tbody>\n",
       "</table>\n",
       "</div>"
      ],
      "text/plain": [
       "   id sentiment                                               text  \\\n",
       "0   1   Neutral  RT @NancyLeeGrahn: How did everyone feel about...   \n",
       "1   2  Positive  RT @ScottWalker: Didn't catch the full #GOPdeb...   \n",
       "2   3   Neutral  RT @TJMShow: No mention of Tamir Rice and the ...   \n",
       "3   4  Positive  RT @RobGeorge: That Carly Fiorina is trending ...   \n",
       "4   5  Positive  RT @DanScavino: #GOPDebate w/ @realDonaldTrump...   \n",
       "\n",
       "                         dataset  \n",
       "0  us_presidential_election_2016  \n",
       "1  us_presidential_election_2016  \n",
       "2  us_presidential_election_2016  \n",
       "3  us_presidential_election_2016  \n",
       "4  us_presidential_election_2016  "
      ]
     },
     "execution_count": 72,
     "metadata": {},
     "output_type": "execute_result"
    }
   ],
   "source": [
    "us_presidential_election_2016.head()"
   ]
  },
  {
   "cell_type": "code",
   "execution_count": 74,
   "id": "5044bfd6-b633-480e-bb88-1a9e48ad2080",
   "metadata": {},
   "outputs": [],
   "source": [
    "us_presidential_election_2016['word_count'] = us_presidential_election_2016['text'].apply(get_word_count)"
   ]
  },
  {
   "cell_type": "code",
   "execution_count": 77,
   "id": "cc8665f6-216f-49ca-afd0-7b0512eea330",
   "metadata": {},
   "outputs": [
    {
     "data": {
      "text/plain": [
       "count    13871.000000\n",
       "mean        16.943912\n",
       "std          5.224908\n",
       "min          2.000000\n",
       "25%         13.000000\n",
       "50%         18.000000\n",
       "75%         21.000000\n",
       "max         29.000000\n",
       "Name: word_count, dtype: float64"
      ]
     },
     "execution_count": 77,
     "metadata": {},
     "output_type": "execute_result"
    }
   ],
   "source": [
    "us_presidential_election_2016['word_count'].describe()"
   ]
  },
  {
   "cell_type": "code",
   "execution_count": 75,
   "id": "e625e3ec-6847-499b-b901-9924205e7257",
   "metadata": {},
   "outputs": [
    {
     "data": {
      "text/plain": [
       "<AxesSubplot:xlabel='sentiment', ylabel='count'>"
      ]
     },
     "execution_count": 75,
     "metadata": {},
     "output_type": "execute_result"
    },
    {
     "data": {
      "image/png": "[encoded data removed]",
      "text/plain": [
       "<Figure size 640x480 with 1 Axes>"
      ]
     },
     "metadata": {},
     "output_type": "display_data"
    }
   ],
   "source": [
    "sns.countplot(x ='sentiment', data = us_presidential_election_2016)"
   ]
  },
  {
   "cell_type": "code",
   "execution_count": 78,
   "id": "bba84570-682d-4828-b044-70a511f62d27",
   "metadata": {},
   "outputs": [],
   "source": [
    "stock_market_tweets = pd.read_csv('input/stock_market_twitter_data.csv')"
   ]
  },
  {
   "cell_type": "code",
   "execution_count": 80,
   "id": "c762bc27-ebd8-4381-a349-9e0f8c7287b4",
   "metadata": {},
   "outputs": [],
   "source": [
    "stock_market_tweets['sentiment_label'] = stock_market_tweets['Sentiment'].apply(get_sentiment_label)\n",
    "stock_market_tweets['word_count'] = stock_market_tweets['Text'].apply(get_word_count)"
   ]
  },
  {
   "cell_type": "code",
   "execution_count": 82,
   "id": "1293876f-ab85-4f8e-96fa-e3eac105714f",
   "metadata": {},
   "outputs": [
    {
     "data": {
      "text/html": [
       "<div>\n",
       "<style scoped>\n",
       "    .dataframe tbody tr th:only-of-type {\n",
       "        vertical-align: middle;\n",
       "    }\n",
       "\n",
       "    .dataframe tbody tr th {\n",
       "        vertical-align: top;\n",
       "    }\n",
       "\n",
       "    .dataframe thead th {\n",
       "        text-align: right;\n",
       "    }\n",
       "</style>\n",
       "<table border=\"1\" class=\"dataframe\">\n",
       "  <thead>\n",
       "    <tr style=\"text-align: right;\">\n",
       "      <th></th>\n",
       "      <th>Text</th>\n",
       "      <th>Sentiment</th>\n",
       "      <th>sentiment_label</th>\n",
       "      <th>word_count</th>\n",
       "    </tr>\n",
       "  </thead>\n",
       "  <tbody>\n",
       "    <tr>\n",
       "      <th>0</th>\n",
       "      <td>Kickers on my watchlist XIDE TIT SOQ PNK CPW B...</td>\n",
       "      <td>1</td>\n",
       "      <td>Positive</td>\n",
       "      <td>20</td>\n",
       "    </tr>\n",
       "    <tr>\n",
       "      <th>1</th>\n",
       "      <td>user: AAP MOVIE. 55% return for the FEA/GEED i...</td>\n",
       "      <td>1</td>\n",
       "      <td>Positive</td>\n",
       "      <td>16</td>\n",
       "    </tr>\n",
       "    <tr>\n",
       "      <th>2</th>\n",
       "      <td>user I'd be afraid to short AMZN - they are lo...</td>\n",
       "      <td>1</td>\n",
       "      <td>Positive</td>\n",
       "      <td>18</td>\n",
       "    </tr>\n",
       "    <tr>\n",
       "      <th>3</th>\n",
       "      <td>MNTA Over 12.00</td>\n",
       "      <td>1</td>\n",
       "      <td>Positive</td>\n",
       "      <td>3</td>\n",
       "    </tr>\n",
       "    <tr>\n",
       "      <th>4</th>\n",
       "      <td>OI  Over 21.37</td>\n",
       "      <td>1</td>\n",
       "      <td>Positive</td>\n",
       "      <td>3</td>\n",
       "    </tr>\n",
       "  </tbody>\n",
       "</table>\n",
       "</div>"
      ],
      "text/plain": [
       "                                                Text  Sentiment  \\\n",
       "0  Kickers on my watchlist XIDE TIT SOQ PNK CPW B...          1   \n",
       "1  user: AAP MOVIE. 55% return for the FEA/GEED i...          1   \n",
       "2  user I'd be afraid to short AMZN - they are lo...          1   \n",
       "3                                  MNTA Over 12.00            1   \n",
       "4                                   OI  Over 21.37            1   \n",
       "\n",
       "  sentiment_label  word_count  \n",
       "0        Positive          20  \n",
       "1        Positive          16  \n",
       "2        Positive          18  \n",
       "3        Positive           3  \n",
       "4        Positive           3  "
      ]
     },
     "execution_count": 82,
     "metadata": {},
     "output_type": "execute_result"
    }
   ],
   "source": [
    "stock_market_tweets.head()"
   ]
  },
  {
   "cell_type": "code",
   "execution_count": 83,
   "id": "ff8af537-e2f9-4787-ae38-6629dca22728",
   "metadata": {},
   "outputs": [
    {
     "data": {
      "text/plain": [
       "count    5791.000000\n",
       "mean       14.006562\n",
       "std         6.595463\n",
       "min         2.000000\n",
       "25%         9.000000\n",
       "50%        14.000000\n",
       "75%        19.000000\n",
       "max        32.000000\n",
       "Name: word_count, dtype: float64"
      ]
     },
     "execution_count": 83,
     "metadata": {},
     "output_type": "execute_result"
    }
   ],
   "source": [
    "stock_market_tweets['word_count'].describe()"
   ]
  },
  {
   "cell_type": "code",
   "execution_count": 84,
   "id": "0e19a806-4346-41f0-ab6d-f587cc09fb3e",
   "metadata": {},
   "outputs": [
    {
     "data": {
      "text/plain": [
       "<AxesSubplot:xlabel='sentiment_label', ylabel='count'>"
      ]
     },
     "execution_count": 84,
     "metadata": {},
     "output_type": "execute_result"
    },
    {
     "data": {
      "image/png": "[encoded data removed]",
      "text/plain": [
       "<Figure size 640x480 with 1 Axes>"
      ]
     },
     "metadata": {},
     "output_type": "display_data"
    }
   ],
   "source": [
    "sns.countplot(x ='sentiment_label', data = stock_market_tweets)"
   ]
  },
  {
   "cell_type": "code",
   "execution_count": 31,
   "id": "08464ca5-7b92-4088-acb6-e4c23e3538e9",
   "metadata": {},
   "outputs": [],
   "source": [
    "df = pd.concat([amazon_reviews, movie_reviews, tweets_groud_truth, us_presidential_election_2016])"
   ]
  },
  {
   "cell_type": "code",
   "execution_count": 32,
   "id": "7eb66f00-11bb-4936-be78-d58962668c7d",
   "metadata": {},
   "outputs": [
    {
     "data": {
      "text/plain": [
       "(32222, 4)"
      ]
     },
     "execution_count": 32,
     "metadata": {},
     "output_type": "execute_result"
    }
   ],
   "source": [
    "df.shape"
   ]
  },
  {
   "cell_type": "code",
   "execution_count": 33,
   "id": "49a585dd-a52d-4775-90ca-9f56e906fe17",
   "metadata": {
    "tags": []
   },
   "outputs": [
    {
     "data": {
      "text/html": [
       "<div>\n",
       "<style scoped>\n",
       "    .dataframe tbody tr th:only-of-type {\n",
       "        vertical-align: middle;\n",
       "    }\n",
       "\n",
       "    .dataframe tbody tr th {\n",
       "        vertical-align: top;\n",
       "    }\n",
       "\n",
       "    .dataframe thead th {\n",
       "        text-align: right;\n",
       "    }\n",
       "</style>\n",
       "<table border=\"1\" class=\"dataframe\">\n",
       "  <thead>\n",
       "    <tr style=\"text-align: right;\">\n",
       "      <th></th>\n",
       "      <th>id</th>\n",
       "      <th>sentiment</th>\n",
       "      <th>text</th>\n",
       "      <th>dataset</th>\n",
       "    </tr>\n",
       "  </thead>\n",
       "  <tbody>\n",
       "    <tr>\n",
       "      <th>0</th>\n",
       "      <td>1_1</td>\n",
       "      <td>-0.9</td>\n",
       "      <td>troubleshooting ad-2500 and ad-2600 no picture...</td>\n",
       "      <td>amazon</td>\n",
       "    </tr>\n",
       "    <tr>\n",
       "      <th>1</th>\n",
       "      <td>1_2</td>\n",
       "      <td>-0.15</td>\n",
       "      <td>repost from january 13, 2004 with a better fit...</td>\n",
       "      <td>amazon</td>\n",
       "    </tr>\n",
       "    <tr>\n",
       "      <th>2</th>\n",
       "      <td>1_3</td>\n",
       "      <td>-0.2</td>\n",
       "      <td>does your apex dvd player only play dvd audio ...</td>\n",
       "      <td>amazon</td>\n",
       "    </tr>\n",
       "    <tr>\n",
       "      <th>3</th>\n",
       "      <td>1_4</td>\n",
       "      <td>-0.1</td>\n",
       "      <td>or does it play audio and video but scrolling ...</td>\n",
       "      <td>amazon</td>\n",
       "    </tr>\n",
       "    <tr>\n",
       "      <th>4</th>\n",
       "      <td>1_5</td>\n",
       "      <td>-0.5</td>\n",
       "      <td>before you try to return the player or waste h...</td>\n",
       "      <td>amazon</td>\n",
       "    </tr>\n",
       "  </tbody>\n",
       "</table>\n",
       "</div>"
      ],
      "text/plain": [
       "    id sentiment                                               text dataset\n",
       "0  1_1      -0.9  troubleshooting ad-2500 and ad-2600 no picture...  amazon\n",
       "1  1_2     -0.15  repost from january 13, 2004 with a better fit...  amazon\n",
       "2  1_3      -0.2  does your apex dvd player only play dvd audio ...  amazon\n",
       "3  1_4      -0.1  or does it play audio and video but scrolling ...  amazon\n",
       "4  1_5      -0.5  before you try to return the player or waste h...  amazon"
      ]
     },
     "execution_count": 33,
     "metadata": {},
     "output_type": "execute_result"
    }
   ],
   "source": [
    "df.head()"
   ]
  },
  {
   "cell_type": "code",
   "execution_count": 34,
   "id": "5ab722bc-b0d7-43b9-b093-37c3e04c7031",
   "metadata": {},
   "outputs": [],
   "source": [
    "df['sentiment_label'] = 'Neutral'"
   ]
  },
  {
   "cell_type": "code",
   "execution_count": 38,
   "id": "8b3f0f1c-cd6c-48d7-b6cd-99476987789d",
   "metadata": {},
   "outputs": [],
   "source": [
    "def get_sentiment_label(in_row):\n",
    "    rtn = 'Neutral'\n",
    "    if(isinstance(in_row['sentiment'], float) or isinstance(in_row['sentiment'], int)):\n",
    "        if(in_row['sentiment'] < 0):\n",
    "            rtn = 'Negative'\n",
    "        else:\n",
    "            rtn = 'Positive'\n",
    "    else:\n",
    "        rtn = in_row['sentiment']\n",
    "    return rtn"
   ]
  },
  {
   "cell_type": "code",
   "execution_count": 39,
   "id": "a2cb7dd5-6d0f-4450-af18-9ed4ebb52873",
   "metadata": {},
   "outputs": [],
   "source": [
    "df['sentiment_label'] = df.apply(get_sentiment_label, axis = 1)"
   ]
  },
  {
   "cell_type": "code",
   "execution_count": 40,
   "id": "f604a197-57c4-4fd9-a512-72eae4813fc3",
   "metadata": {},
   "outputs": [
    {
     "data": {
      "text/html": [
       "<div>\n",
       "<style scoped>\n",
       "    .dataframe tbody tr th:only-of-type {\n",
       "        vertical-align: middle;\n",
       "    }\n",
       "\n",
       "    .dataframe tbody tr th {\n",
       "        vertical-align: top;\n",
       "    }\n",
       "\n",
       "    .dataframe thead th {\n",
       "        text-align: right;\n",
       "    }\n",
       "</style>\n",
       "<table border=\"1\" class=\"dataframe\">\n",
       "  <thead>\n",
       "    <tr style=\"text-align: right;\">\n",
       "      <th></th>\n",
       "      <th>id</th>\n",
       "      <th>sentiment</th>\n",
       "      <th>text</th>\n",
       "      <th>dataset</th>\n",
       "      <th>sentiment_label</th>\n",
       "    </tr>\n",
       "  </thead>\n",
       "  <tbody>\n",
       "    <tr>\n",
       "      <th>0</th>\n",
       "      <td>1_1</td>\n",
       "      <td>-0.9</td>\n",
       "      <td>troubleshooting ad-2500 and ad-2600 no picture...</td>\n",
       "      <td>amazon</td>\n",
       "      <td>Negative</td>\n",
       "    </tr>\n",
       "    <tr>\n",
       "      <th>1</th>\n",
       "      <td>1_2</td>\n",
       "      <td>-0.15</td>\n",
       "      <td>repost from january 13, 2004 with a better fit...</td>\n",
       "      <td>amazon</td>\n",
       "      <td>Negative</td>\n",
       "    </tr>\n",
       "    <tr>\n",
       "      <th>2</th>\n",
       "      <td>1_3</td>\n",
       "      <td>-0.2</td>\n",
       "      <td>does your apex dvd player only play dvd audio ...</td>\n",
       "      <td>amazon</td>\n",
       "      <td>Negative</td>\n",
       "    </tr>\n",
       "    <tr>\n",
       "      <th>3</th>\n",
       "      <td>1_4</td>\n",
       "      <td>-0.1</td>\n",
       "      <td>or does it play audio and video but scrolling ...</td>\n",
       "      <td>amazon</td>\n",
       "      <td>Negative</td>\n",
       "    </tr>\n",
       "    <tr>\n",
       "      <th>4</th>\n",
       "      <td>1_5</td>\n",
       "      <td>-0.5</td>\n",
       "      <td>before you try to return the player or waste h...</td>\n",
       "      <td>amazon</td>\n",
       "      <td>Negative</td>\n",
       "    </tr>\n",
       "    <tr>\n",
       "      <th>...</th>\n",
       "      <td>...</td>\n",
       "      <td>...</td>\n",
       "      <td>...</td>\n",
       "      <td>...</td>\n",
       "      <td>...</td>\n",
       "    </tr>\n",
       "    <tr>\n",
       "      <th>13866</th>\n",
       "      <td>13867</td>\n",
       "      <td>Negative</td>\n",
       "      <td>RT @cappy_yarbrough: Love to see men who will ...</td>\n",
       "      <td>us_presidential_election_2016</td>\n",
       "      <td>Negative</td>\n",
       "    </tr>\n",
       "    <tr>\n",
       "      <th>13867</th>\n",
       "      <td>13868</td>\n",
       "      <td>Positive</td>\n",
       "      <td>RT @georgehenryw: Who thought Huckabee exceede...</td>\n",
       "      <td>us_presidential_election_2016</td>\n",
       "      <td>Positive</td>\n",
       "    </tr>\n",
       "    <tr>\n",
       "      <th>13868</th>\n",
       "      <td>13869</td>\n",
       "      <td>Positive</td>\n",
       "      <td>RT @Lrihendry: #TedCruz As President, I will a...</td>\n",
       "      <td>us_presidential_election_2016</td>\n",
       "      <td>Positive</td>\n",
       "    </tr>\n",
       "    <tr>\n",
       "      <th>13869</th>\n",
       "      <td>13870</td>\n",
       "      <td>Negative</td>\n",
       "      <td>RT @JRehling: #GOPDebate Donald Trump says tha...</td>\n",
       "      <td>us_presidential_election_2016</td>\n",
       "      <td>Negative</td>\n",
       "    </tr>\n",
       "    <tr>\n",
       "      <th>13870</th>\n",
       "      <td>13871</td>\n",
       "      <td>Positive</td>\n",
       "      <td>RT @Lrihendry: #TedCruz headed into the Presid...</td>\n",
       "      <td>us_presidential_election_2016</td>\n",
       "      <td>Positive</td>\n",
       "    </tr>\n",
       "  </tbody>\n",
       "</table>\n",
       "<p>32222 rows × 5 columns</p>\n",
       "</div>"
      ],
      "text/plain": [
       "          id sentiment                                               text  \\\n",
       "0        1_1      -0.9  troubleshooting ad-2500 and ad-2600 no picture...   \n",
       "1        1_2     -0.15  repost from january 13, 2004 with a better fit...   \n",
       "2        1_3      -0.2  does your apex dvd player only play dvd audio ...   \n",
       "3        1_4      -0.1  or does it play audio and video but scrolling ...   \n",
       "4        1_5      -0.5  before you try to return the player or waste h...   \n",
       "...      ...       ...                                                ...   \n",
       "13866  13867  Negative  RT @cappy_yarbrough: Love to see men who will ...   \n",
       "13867  13868  Positive  RT @georgehenryw: Who thought Huckabee exceede...   \n",
       "13868  13869  Positive  RT @Lrihendry: #TedCruz As President, I will a...   \n",
       "13869  13870  Negative  RT @JRehling: #GOPDebate Donald Trump says tha...   \n",
       "13870  13871  Positive  RT @Lrihendry: #TedCruz headed into the Presid...   \n",
       "\n",
       "                             dataset sentiment_label  \n",
       "0                             amazon        Negative  \n",
       "1                             amazon        Negative  \n",
       "2                             amazon        Negative  \n",
       "3                             amazon        Negative  \n",
       "4                             amazon        Negative  \n",
       "...                              ...             ...  \n",
       "13866  us_presidential_election_2016        Negative  \n",
       "13867  us_presidential_election_2016        Positive  \n",
       "13868  us_presidential_election_2016        Positive  \n",
       "13869  us_presidential_election_2016        Negative  \n",
       "13870  us_presidential_election_2016        Positive  \n",
       "\n",
       "[32222 rows x 5 columns]"
      ]
     },
     "execution_count": 40,
     "metadata": {},
     "output_type": "execute_result"
    }
   ],
   "source": [
    "df"
   ]
  },
  {
   "cell_type": "code",
   "execution_count": 41,
   "id": "f4243635-4a39-4b79-959c-cd9f7cb71296",
   "metadata": {},
   "outputs": [],
   "source": [
    "df.to_csv('32K_labeled_data_points_for_sentiment_analysis.csv', index = False)"
   ]
  },
  {
   "cell_type": "code",
   "execution_count": null,
   "id": "7790ad28-070f-4ff0-bbd3-ff66a8573303",
   "metadata": {},
   "outputs": [],
   "source": []
  }
 ],
 "metadata": {
  "kernelspec": {
   "display_name": "stock_market_prediction",
   "language": "python",
   "name": "stock_market_prediction"
  },
  "language_info": {
   "codemirror_mode": {
    "name": "ipython",
    "version": 3
   },
   "file_extension": ".py",
   "mimetype": "text/x-python",
   "name": "python",
   "nbconvert_exporter": "python",
   "pygments_lexer": "ipython3",
   "version": "3.10.6"
  }
 },
 "nbformat": 4,
 "nbformat_minor": 5
}
