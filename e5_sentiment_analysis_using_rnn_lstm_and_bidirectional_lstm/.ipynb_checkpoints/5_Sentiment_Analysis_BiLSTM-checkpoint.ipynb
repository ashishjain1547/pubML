{
 "cells": [
  {
   "cell_type": "markdown",
   "id": "a0cd24ff",
   "metadata": {},
   "source": [
    "<font color=Navy><b>SentimentAnalysis using Simple RNN <br>\n",
    "This example illustrates the sentiment analysis on MovieReview Comments.\n"
   ]
  },
  {
   "cell_type": "markdown",
   "id": "e3b4fcc0",
   "metadata": {},
   "source": [
    "Import numpy and Pandas"
   ]
  },
  {
   "cell_type": "code",
   "execution_count": 1,
   "id": "22b956cc",
   "metadata": {},
   "outputs": [],
   "source": [
    "import numpy as np \n",
    "import nltk\n",
    "import pandas as pd \n",
    "from sklearn.model_selection import train_test_split\n",
    "from sklearn.metrics import classification_report"
   ]
  },
  {
   "cell_type": "code",
   "execution_count": 2,
   "id": "a5d1281d-35f2-47e2-a1e8-7036034f06cb",
   "metadata": {},
   "outputs": [
    {
     "name": "stderr",
     "output_type": "stream",
     "text": [
      "[nltk_data] Downloading package stopwords to /home/ashish/nltk_data...\n",
      "[nltk_data]   Package stopwords is already up-to-date!\n"
     ]
    },
    {
     "data": {
      "text/plain": [
       "True"
      ]
     },
     "execution_count": 2,
     "metadata": {},
     "output_type": "execute_result"
    }
   ],
   "source": [
    "nltk.download('stopwords')"
   ]
  },
  {
   "cell_type": "code",
   "execution_count": 3,
   "id": "a70ac183",
   "metadata": {},
   "outputs": [],
   "source": [
    "df = pd.read_csv('32K_labeled_data_points_for_sentiment_analysis.csv')"
   ]
  },
  {
   "cell_type": "code",
   "execution_count": 4,
   "id": "ccca6173",
   "metadata": {},
   "outputs": [
    {
     "data": {
      "text/plain": [
       "<AxesSubplot:xlabel='sentiment_label', ylabel='count'>"
      ]
     },
     "execution_count": 4,
     "metadata": {},
     "output_type": "execute_result"
    },
    {
     "data": {
      "image/png": "[encoded data removed]",
      "text/plain": [
       "<Figure size 640x480 with 1 Axes>"
      ]
     },
     "metadata": {},
     "output_type": "display_data"
    }
   ],
   "source": [
    "import seaborn as sns\n",
    "sns.countplot(x ='sentiment_label', data = df)"
   ]
  },
  {
   "cell_type": "code",
   "execution_count": 5,
   "id": "74dc98ef",
   "metadata": {},
   "outputs": [
    {
     "data": {
      "text/plain": [
       "Negative    16524\n",
       "Positive    12556\n",
       "Neutral      3142\n",
       "Name: sentiment_label, dtype: int64"
      ]
     },
     "execution_count": 5,
     "metadata": {},
     "output_type": "execute_result"
    }
   ],
   "source": [
    "df['sentiment_label'].value_counts()"
   ]
  },
  {
   "cell_type": "code",
   "execution_count": 6,
   "id": "13253394",
   "metadata": {},
   "outputs": [],
   "source": [
    "import nltk, re"
   ]
  },
  {
   "cell_type": "markdown",
   "id": "428d3691",
   "metadata": {},
   "source": [
    "<font color=Navy><b>The below function is used to preprocess the train and test data.<br>\n",
    "1.fillna(0) -fills NaN values (if any )with zero<br>\n",
    "2.Regular expression is used to match only the text data from the phrase<br>\n",
    "3. The text is the split to get the sentence.<br>\n",
    "4. every sentence is appended to Corpus for next use<br>\n",
    "\n",
    "Note: Stemming or leematization or stop wordremoval is not applied here. Practioners can consider doing it for better result"
   ]
  },
  {
   "cell_type": "code",
   "execution_count": 7,
   "id": "324acdf5",
   "metadata": {},
   "outputs": [],
   "source": [
    "from nltk.corpus import stopwords"
   ]
  },
  {
   "cell_type": "code",
   "execution_count": 8,
   "id": "a733ad53",
   "metadata": {},
   "outputs": [],
   "source": [
    "def func(X):\n",
    "    X=X.fillna(0)\n",
    "    messages = X.copy()\n",
    "    messages.reset_index(inplace=True)\n",
    "    corpus=[]\n",
    "    for i in range(len(messages)):\n",
    "        review = re.sub('[^a-zA-Z]',' ',str(messages['text'][i]))\n",
    "        review = review.lower()\n",
    "        review = review.split()\n",
    "        review = [w for w in review if w not in stopwords.words('english')]\n",
    "        review = ' '.join(review)\n",
    "        corpus.append(review)\n",
    "        \n",
    "    return corpus"
   ]
  },
  {
   "cell_type": "code",
   "execution_count": 9,
   "id": "5d3234fe-cf49-43f4-8bae-0a40b73f953a",
   "metadata": {},
   "outputs": [],
   "source": [
    "from numpy import random\n",
    "ix = list(range(df.shape[0]))\n",
    "ix = random.permutation(ix)"
   ]
  },
  {
   "cell_type": "code",
   "execution_count": 10,
   "id": "8e40e009-4393-4358-a83f-137a0fc43adf",
   "metadata": {},
   "outputs": [],
   "source": [
    "div = int(df.shape[0] * 0.7)"
   ]
  },
  {
   "cell_type": "code",
   "execution_count": 11,
   "id": "0bcf9ea8",
   "metadata": {},
   "outputs": [],
   "source": [
    "%%time\n",
    "train_df = df.iloc[ix[0:div]]\n",
    "corpus_train = func(train_df)"
   ]
  },
  {
   "cell_type": "code",
   "execution_count": 12,
   "id": "0df1ae87-8eb5-4cce-8d59-428f4942a51c",
   "metadata": {},
   "outputs": [
    {
     "name": "stdout",
     "output_type": "stream",
     "text": [
      "CPU times: user 20.4 s, sys: 2.98 s, total: 23.4 s\n",
      "Wall time: 23.4 s\n"
     ]
    }
   ],
   "source": [
    "%%time\n",
    "test_df = df.iloc[ix[div:]]\n",
    "corpus_test = func(test_df)"
   ]
  },
  {
   "cell_type": "markdown",
   "id": "8e23c22b",
   "metadata": {},
   "source": [
    "<font color=Navy><b>The below function get_wordlist() will split the training/ test data to extract the words. "
   ]
  },
  {
   "cell_type": "code",
   "execution_count": 13,
   "id": "e3209459",
   "metadata": {},
   "outputs": [],
   "source": [
    "def get_wordlist(corpus1):\n",
    "    words = []\n",
    "    for phrase in corpus1:\n",
    "        for word in phrase.split():\n",
    "            words.append(word)       \n",
    "             \n",
    "    words.sort()\n",
    "    return set(words)"
   ]
  },
  {
   "cell_type": "code",
   "execution_count": 14,
   "id": "44c043c8",
   "metadata": {},
   "outputs": [],
   "source": [
    "word_set_train = get_wordlist(corpus_train)\n",
    "word_set_test = get_wordlist(corpus_test)"
   ]
  },
  {
   "cell_type": "markdown",
   "id": "1f2cf0ff",
   "metadata": {},
   "source": [
    "<font color=Navy><b> the below function get_dicts() takes the set of words as input and generate index to each word"
   ]
  },
  {
   "cell_type": "code",
   "execution_count": 15,
   "id": "d9ead9a8",
   "metadata": {},
   "outputs": [],
   "source": [
    "def get_dicts(word_set):\n",
    "    word_to_index = {}\n",
    "    for i, word in enumerate(word_set):\n",
    "        word_to_index[word] = i  \n",
    "        \n",
    "    index_to_word = {index:word for (word, index) in word_to_index.items()}\n",
    "    \n",
    "    return word_to_index, index_to_word"
   ]
  },
  {
   "cell_type": "code",
   "execution_count": 16,
   "id": "160cb600",
   "metadata": {},
   "outputs": [],
   "source": [
    "word_to_index_train, index_to_word_train = get_dicts(word_set_train)\n",
    "word_to_index_test, index_to_word_test = get_dicts(word_set_test)"
   ]
  },
  {
   "cell_type": "markdown",
   "id": "701a0675",
   "metadata": {},
   "source": [
    "<font color=Navy><b>the below function token () generates token with index"
   ]
  },
  {
   "cell_type": "code",
   "execution_count": 17,
   "id": "bf6bf8d3",
   "metadata": {},
   "outputs": [],
   "source": [
    "def token(corpus, word_to_index):\n",
    "    tokenized_list = []\n",
    "    \n",
    "    for phrase in corpus:\n",
    "        tokenized_format = []\n",
    "        for word in phrase.split():\n",
    "            index = word_to_index[word]\n",
    "            tokenized_format.append(index)\n",
    "            \n",
    "        tokenized_list.append(tokenized_format)\n",
    "        \n",
    "    return np.array(tokenized_list, dtype='object')"
   ]
  },
  {
   "cell_type": "code",
   "execution_count": 18,
   "id": "1d54ad2d",
   "metadata": {},
   "outputs": [],
   "source": [
    "from tensorflow import keras"
   ]
  },
  {
   "cell_type": "code",
   "execution_count": 19,
   "id": "37636bfb",
   "metadata": {},
   "outputs": [],
   "source": [
    "X_train = token(corpus_train, word_to_index_train)\n",
    "X_test = token(corpus_test, word_to_index_test)\n"
   ]
  },
  {
   "cell_type": "code",
   "execution_count": 20,
   "id": "3301d1d6",
   "metadata": {},
   "outputs": [
    {
     "data": {
      "text/plain": [
       "(22555,)"
      ]
     },
     "execution_count": 20,
     "metadata": {},
     "output_type": "execute_result"
    }
   ],
   "source": [
    "X_train.shape"
   ]
  },
  {
   "cell_type": "code",
   "execution_count": 21,
   "id": "8a102b45",
   "metadata": {},
   "outputs": [
    {
     "data": {
      "text/plain": [
       "array([list([7152, 20551, 10592, 50, 28114, 24133, 18019, 8763, 6371, 25601]),\n",
       "       list([275, 28406, 10904, 5190, 7947, 11039, 22360]),\n",
       "       list([22587, 22884, 25601, 13499, 23105, 21552, 8889, 977, 3910, 28563, 3910, 23180, 8259, 5115, 3328, 6087]),\n",
       "       ...,\n",
       "       list([9342, 6521, 6108, 8713, 26840, 22490, 4086, 13070, 25601]),\n",
       "       list([5425]),\n",
       "       list([22410, 15331, 26769, 25527, 25366, 7157, 23860, 18570, 27311, 12896, 6396, 3910, 28804, 17985, 15915, 7418, 6130])],\n",
       "      dtype=object)"
      ]
     },
     "execution_count": 21,
     "metadata": {},
     "output_type": "execute_result"
    }
   ],
   "source": [
    "X_train"
   ]
  },
  {
   "cell_type": "markdown",
   "id": "77487f4f",
   "metadata": {},
   "source": [
    "<font color=Navy><b>In order to train the RNN on the tokenized data, all text input  must have the same length.<br>\n",
    "We will limit the maximum review length to maxlen=30 by truncating longer reviews and padding shorter reviews with a null value (0).<br>\n",
    "Keras pad_sequences() function is used to accomplish this .<br>\n"
   ]
  },
  {
   "cell_type": "code",
   "execution_count": 22,
   "id": "25dc4a18",
   "metadata": {},
   "outputs": [],
   "source": [
    "maxlen = 30\n",
    "X_train_padded = keras.preprocessing.sequence.pad_sequences(X_train, maxlen=maxlen, padding='post')\n",
    "X_test_padded = keras.preprocessing.sequence.pad_sequences(X_test, maxlen=maxlen, padding='post')\n"
   ]
  },
  {
   "cell_type": "code",
   "execution_count": 23,
   "id": "a48a6e7d",
   "metadata": {},
   "outputs": [
    {
     "data": {
      "text/plain": [
       "array([[ 7152, 20551, 10592, ...,     0,     0,     0],\n",
       "       [  275, 28406, 10904, ...,     0,     0,     0],\n",
       "       [22587, 22884, 25601, ...,     0,     0,     0],\n",
       "       ...,\n",
       "       [ 9342,  6521,  6108, ...,     0,     0,     0],\n",
       "       [ 5425,     0,     0, ...,     0,     0,     0],\n",
       "       [22410, 15331, 26769, ...,     0,     0,     0]], dtype=int32)"
      ]
     },
     "execution_count": 23,
     "metadata": {},
     "output_type": "execute_result"
    }
   ],
   "source": [
    "X_train_padded"
   ]
  },
  {
   "cell_type": "markdown",
   "id": "617f67a6",
   "metadata": {},
   "source": [
    "<font color=Navy><b>extract the label from the train data"
   ]
  },
  {
   "cell_type": "code",
   "execution_count": 24,
   "id": "e03194be",
   "metadata": {},
   "outputs": [],
   "source": [
    "y_train = train_df.iloc[:,-1].values"
   ]
  },
  {
   "cell_type": "code",
   "execution_count": 25,
   "id": "8ea49fd4",
   "metadata": {},
   "outputs": [
    {
     "data": {
      "text/plain": [
       "array(['Negative', 'Positive', 'Negative', ..., 'Negative', 'Negative',\n",
       "       'Neutral'], dtype=object)"
      ]
     },
     "execution_count": 25,
     "metadata": {},
     "output_type": "execute_result"
    }
   ],
   "source": [
    "y_train "
   ]
  },
  {
   "cell_type": "markdown",
   "id": "1afd6c5f",
   "metadata": {},
   "source": [
    "<font color=Navy><b>Encode the label using one hot encoder"
   ]
  },
  {
   "cell_type": "code",
   "execution_count": 26,
   "id": "bf678ddb",
   "metadata": {},
   "outputs": [],
   "source": [
    "from sklearn.preprocessing import OneHotEncoder\n",
    "encoder = OneHotEncoder(sparse=False)\n",
    "y_train_encoded = encoder.fit_transform(y_train.reshape(-1, 1))"
   ]
  },
  {
   "cell_type": "code",
   "execution_count": 27,
   "id": "8dac32ca-ba06-4800-a735-1d24fc569a52",
   "metadata": {},
   "outputs": [
    {
     "data": {
      "text/plain": [
       "[array(['Negative', 'Neutral', 'Positive'], dtype=object)]"
      ]
     },
     "execution_count": 27,
     "metadata": {},
     "output_type": "execute_result"
    }
   ],
   "source": [
    "encoder.categories_"
   ]
  },
  {
   "cell_type": "code",
   "execution_count": 28,
   "id": "682fe532-554c-4cfa-9983-53418e183b45",
   "metadata": {},
   "outputs": [
    {
     "data": {
      "text/plain": [
       "array(['Negative', 'Positive', 'Negative', ..., 'Negative', 'Negative',\n",
       "       'Neutral'], dtype=object)"
      ]
     },
     "execution_count": 28,
     "metadata": {},
     "output_type": "execute_result"
    }
   ],
   "source": [
    "y_train"
   ]
  },
  {
   "cell_type": "code",
   "execution_count": 29,
   "id": "222e0f57",
   "metadata": {},
   "outputs": [
    {
     "data": {
      "text/plain": [
       "array([[1., 0., 0.],\n",
       "       [0., 0., 1.],\n",
       "       [1., 0., 0.],\n",
       "       ...,\n",
       "       [1., 0., 0.],\n",
       "       [1., 0., 0.],\n",
       "       [0., 1., 0.]])"
      ]
     },
     "execution_count": 29,
     "metadata": {},
     "output_type": "execute_result"
    }
   ],
   "source": [
    "y_train_encoded"
   ]
  },
  {
   "cell_type": "code",
   "execution_count": 30,
   "id": "8bb54580",
   "metadata": {},
   "outputs": [
    {
     "name": "stdout",
     "output_type": "stream",
     "text": [
      "(22555, 30)\n",
      "(22555, 3)\n",
      "(9667, 30)\n"
     ]
    }
   ],
   "source": [
    "print(X_train_padded.shape)\n",
    "print(y_train_encoded.shape)\n",
    "print(X_test_padded.shape)"
   ]
  },
  {
   "cell_type": "markdown",
   "id": "0b6f7a2f",
   "metadata": {},
   "source": [
    "# <font color=Navy>Design an Bidirectional LSTM model for sentiment analysis"
   ]
  },
  {
   "cell_type": "markdown",
   "id": "06e96528",
   "metadata": {},
   "source": [
    "<font color=Navy>the below code demonstrates the architecture of RNN built.<br>\n",
    "input is a sequence of words i.e,, integer word IDs of maximum length = 30<br>\n",
    "output is a  sentiment label (0, 1,2,3,4).\n"
   ]
  },
  {
   "cell_type": "code",
   "execution_count": 34,
   "id": "25c0283f",
   "metadata": {},
   "outputs": [
    {
     "name": "stdout",
     "output_type": "stream",
     "text": [
      "Model: \"sequential_1\"\n",
      "_________________________________________________________________\n",
      " Layer (type)                Output Shape              Param #   \n",
      "=================================================================\n",
      " embedding_1 (Embedding)     (None, None, 30)          870330    \n",
      "                                                                 \n",
      " bidirectional_1 (Bidirectio  (None, 128)              48640     \n",
      " nal)                                                            \n",
      "                                                                 \n",
      " dropout_1 (Dropout)         (None, 128)               0         \n",
      "                                                                 \n",
      " dense_1 (Dense)             (None, 3)                 387       \n",
      "                                                                 \n",
      "=================================================================\n",
      "Total params: 919,357\n",
      "Trainable params: 919,357\n",
      "Non-trainable params: 0\n",
      "_________________________________________________________________\n"
     ]
    }
   ],
   "source": [
    "#import the Keras layers\n",
    "from tensorflow.keras.models import Sequential\n",
    "from tensorflow.keras.layers import Embedding,Dense, Dropout, LSTM, Dropout,Bidirectional\n",
    "\n",
    "vocabulary_size = len(word_to_index_train) + 1\n",
    "embedding_size=30\n",
    "\n",
    "model = Sequential()\n",
    "model.add(Embedding(vocabulary_size, embedding_size, trainable=True))\n",
    "model.add(Bidirectional(LSTM(64)))\n",
    "model.add(Dropout(0.5))\n",
    "model.add(Dense(3, activation='softmax'))\n",
    "model.summary()"
   ]
  },
  {
   "cell_type": "code",
   "execution_count": 42,
   "id": "fab51f29-16ca-4ca1-acd9-5b6dc7868bc4",
   "metadata": {},
   "outputs": [
    {
     "data": {
      "text/plain": [
       "29011"
      ]
     },
     "execution_count": 42,
     "metadata": {},
     "output_type": "execute_result"
    }
   ],
   "source": [
    "vocabulary_size"
   ]
  },
  {
   "cell_type": "markdown",
   "id": "2c4a76ff",
   "metadata": {},
   "source": [
    "719,227 parameters in total need to be trained."
   ]
  },
  {
   "cell_type": "markdown",
   "id": "6ac3b072",
   "metadata": {},
   "source": [
    "<font color=>Train and evaluate our model\n",
    "We first need to compile our model by specifying the loss function and optimizer we want to use while training, as well as any evaluation metrics we’d like to measure.<br>\n",
    "Specify the appropriate parameters, including at least one metric ‘accuracy’."
   ]
  },
  {
   "cell_type": "code",
   "execution_count": 35,
   "id": "97734671",
   "metadata": {},
   "outputs": [],
   "source": [
    "model.compile(optimizer='adam',loss='categorical_crossentropy',metrics=['accuracy'])"
   ]
  },
  {
   "cell_type": "code",
   "execution_count": 36,
   "id": "1c91c6a1",
   "metadata": {},
   "outputs": [
    {
     "name": "stdout",
     "output_type": "stream",
     "text": [
      "Epoch 1/5\n",
      "89/89 [==============================] - 15s 117ms/step - loss: 0.9105 - accuracy: 0.5382\n",
      "Epoch 2/5\n",
      "89/89 [==============================] - 9s 100ms/step - loss: 0.6008 - accuracy: 0.7430\n",
      "Epoch 3/5\n",
      "89/89 [==============================] - 10s 108ms/step - loss: 0.4106 - accuracy: 0.8393\n",
      "Epoch 4/5\n",
      "89/89 [==============================] - 9s 99ms/step - loss: 0.2916 - accuracy: 0.8913\n",
      "Epoch 5/5\n",
      "89/89 [==============================] - 10s 108ms/step - loss: 0.2191 - accuracy: 0.9199\n"
     ]
    },
    {
     "data": {
      "text/plain": [
       "<keras.callbacks.History at 0x7fcf7a8711b0>"
      ]
     },
     "execution_count": 36,
     "metadata": {},
     "output_type": "execute_result"
    }
   ],
   "source": [
    "model.fit(X_train_padded, y_train_encoded, batch_size=256, epochs=5 )"
   ]
  },
  {
   "cell_type": "code",
   "execution_count": 37,
   "id": "0c5a238b",
   "metadata": {},
   "outputs": [
    {
     "name": "stdout",
     "output_type": "stream",
     "text": [
      "303/303 [==============================] - 4s 9ms/step\n"
     ]
    }
   ],
   "source": [
    "pred = model.predict(X_test_padded)"
   ]
  },
  {
   "cell_type": "code",
   "execution_count": 38,
   "id": "d8175e37",
   "metadata": {},
   "outputs": [
    {
     "name": "stdout",
     "output_type": "stream",
     "text": [
      "303/303 [==============================] - 3s 9ms/step\n"
     ]
    }
   ],
   "source": [
    "labels = ['Negative', 'Neutral', 'Positive']\n",
    "LABELS=[labels[i] for i in model.predict(X_test_padded).argmax(axis=-1)]"
   ]
  },
  {
   "cell_type": "code",
   "execution_count": 39,
   "id": "c861f43c",
   "metadata": {},
   "outputs": [],
   "source": [
    "#predicted = pd.DataFrame({'Phrase': test_df.iloc[:,0].values, 'Sentiment': LABELS})\n",
    "predicted = pd.DataFrame({'text': test_df['text'].values, 'sentiment_label': LABELS})"
   ]
  },
  {
   "cell_type": "code",
   "execution_count": 40,
   "id": "777bef0a",
   "metadata": {},
   "outputs": [
    {
     "data": {
      "text/html": [
       "<div>\n",
       "<style scoped>\n",
       "    .dataframe tbody tr th:only-of-type {\n",
       "        vertical-align: middle;\n",
       "    }\n",
       "\n",
       "    .dataframe tbody tr th {\n",
       "        vertical-align: top;\n",
       "    }\n",
       "\n",
       "    .dataframe thead th {\n",
       "        text-align: right;\n",
       "    }\n",
       "</style>\n",
       "<table border=\"1\" class=\"dataframe\">\n",
       "  <thead>\n",
       "    <tr style=\"text-align: right;\">\n",
       "      <th></th>\n",
       "      <th>text</th>\n",
       "      <th>sentiment_label</th>\n",
       "    </tr>\n",
       "  </thead>\n",
       "  <tbody>\n",
       "    <tr>\n",
       "      <th>0</th>\n",
       "      <td>Earns its laughs from stock redneck 'types' an...</td>\n",
       "      <td>Positive</td>\n",
       "    </tr>\n",
       "    <tr>\n",
       "      <th>1</th>\n",
       "      <td>RT @hamilt0n: I hope someone asks the candidat...</td>\n",
       "      <td>Negative</td>\n",
       "    </tr>\n",
       "    <tr>\n",
       "      <th>2</th>\n",
       "      <td>RT @goldietaylor: Huckabee. #GOPDebates http:/...</td>\n",
       "      <td>Negative</td>\n",
       "    </tr>\n",
       "    <tr>\n",
       "      <th>3</th>\n",
       "      <td>http://url_removed - all of you Iowans need to...</td>\n",
       "      <td>Negative</td>\n",
       "    </tr>\n",
       "    <tr>\n",
       "      <th>4</th>\n",
       "      <td>As surreal as a dream and as detailed as a pho...</td>\n",
       "      <td>Positive</td>\n",
       "    </tr>\n",
       "    <tr>\n",
       "      <th>...</th>\n",
       "      <td>...</td>\n",
       "      <td>...</td>\n",
       "    </tr>\n",
       "    <tr>\n",
       "      <th>9662</th>\n",
       "      <td>Everything's serious, poetic, earnest and    s...</td>\n",
       "      <td>Negative</td>\n",
       "    </tr>\n",
       "    <tr>\n",
       "      <th>9663</th>\n",
       "      <td>Too slow, too long and too little happens.</td>\n",
       "      <td>Positive</td>\n",
       "    </tr>\n",
       "    <tr>\n",
       "      <th>9664</th>\n",
       "      <td>I believe Silberling had the best intentions h...</td>\n",
       "      <td>Positive</td>\n",
       "    </tr>\n",
       "    <tr>\n",
       "      <th>9665</th>\n",
       "      <td>RT @anonymous thanks #OLTL for all the Cord/Ti...</td>\n",
       "      <td>Negative</td>\n",
       "    </tr>\n",
       "    <tr>\n",
       "      <th>9666</th>\n",
       "      <td>the scroll bar problems make the task of creat...</td>\n",
       "      <td>Positive</td>\n",
       "    </tr>\n",
       "  </tbody>\n",
       "</table>\n",
       "<p>9667 rows × 2 columns</p>\n",
       "</div>"
      ],
      "text/plain": [
       "                                                   text sentiment_label\n",
       "0     Earns its laughs from stock redneck 'types' an...        Positive\n",
       "1     RT @hamilt0n: I hope someone asks the candidat...        Negative\n",
       "2     RT @goldietaylor: Huckabee. #GOPDebates http:/...        Negative\n",
       "3     http://url_removed - all of you Iowans need to...        Negative\n",
       "4     As surreal as a dream and as detailed as a pho...        Positive\n",
       "...                                                 ...             ...\n",
       "9662  Everything's serious, poetic, earnest and    s...        Negative\n",
       "9663         Too slow, too long and too little happens.        Positive\n",
       "9664  I believe Silberling had the best intentions h...        Positive\n",
       "9665  RT @anonymous thanks #OLTL for all the Cord/Ti...        Negative\n",
       "9666  the scroll bar problems make the task of creat...        Positive\n",
       "\n",
       "[9667 rows x 2 columns]"
      ]
     },
     "execution_count": 40,
     "metadata": {},
     "output_type": "execute_result"
    }
   ],
   "source": [
    "predicted"
   ]
  },
  {
   "cell_type": "code",
   "execution_count": 41,
   "id": "004c00cc",
   "metadata": {},
   "outputs": [
    {
     "name": "stdout",
     "output_type": "stream",
     "text": [
      "              precision    recall  f1-score   support\n",
      "\n",
      "    Negative       0.53      0.68      0.60      5030\n",
      "     Neutral       0.21      0.04      0.06       924\n",
      "    Positive       0.43      0.35      0.39      3713\n",
      "\n",
      "    accuracy                           0.49      9667\n",
      "   macro avg       0.39      0.36      0.35      9667\n",
      "weighted avg       0.46      0.49      0.47      9667\n",
      "\n"
     ]
    }
   ],
   "source": [
    "print(classification_report(test_df['sentiment_label'], y_pred = predicted['sentiment_label'], labels = labels))"
   ]
  },
  {
   "cell_type": "code",
   "execution_count": null,
   "id": "78f817e3-d403-4416-bcf4-a8581e383557",
   "metadata": {},
   "outputs": [],
   "source": []
  },
  {
   "cell_type": "code",
   "execution_count": null,
   "id": "a52c362b-7522-4053-a172-398ce00db167",
   "metadata": {},
   "outputs": [],
   "source": []
  }
 ],
 "metadata": {
  "kernelspec": {
   "display_name": "stock_market_prediction",
   "language": "python",
   "name": "stock_market_prediction"
  },
  "language_info": {
   "codemirror_mode": {
    "name": "ipython",
    "version": 3
   },
   "file_extension": ".py",
   "mimetype": "text/x-python",
   "name": "python",
   "nbconvert_exporter": "python",
   "pygments_lexer": "ipython3",
   "version": "3.10.6"
  }
 },
 "nbformat": 4,
 "nbformat_minor": 5
}
