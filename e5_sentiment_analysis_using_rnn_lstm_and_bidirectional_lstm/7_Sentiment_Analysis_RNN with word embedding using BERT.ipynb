{
 "cells": [
  {
   "cell_type": "markdown",
   "id": "a0cd24ff",
   "metadata": {},
   "source": [
    "<font color=Navy><b>SentimentAnalysis using Simple RNN <br>\n",
    "This example illustrates the sentiment analysis on MovieReview Comments.\n"
   ]
  },
  {
   "cell_type": "markdown",
   "id": "5b00fbf6",
   "metadata": {},
   "source": [
    "<font color=Navy><b>Data Set:\n",
    "The data set contains Moviereview comments. The train/test split has been preserved for the purposes of benchmarking, but the sentences have been shuffled from their original order. \n",
    "Each Sentence has been parsed into many phrases. \n",
    "train.tsv contains the phrases and their associated sentiment labels.<br>\n",
    "test.tsv contains just phrases. \n",
    "It is required to assign a sentiment label to each phrase.\n",
    "The sentiment labels are:<br>\n",
    "\n",
    "0 - negative <br>\n",
    "1 - somewhat negative<br>\n",
    "2 - neutral<br>\n",
    "3 - somewhat positive<br>\n",
    "4 - positive <br>   "
   ]
  },
  {
   "cell_type": "markdown",
   "id": "e3b4fcc0",
   "metadata": {},
   "source": [
    "Import numpy and Pandas"
   ]
  },
  {
   "cell_type": "code",
   "execution_count": 1,
   "id": "22b956cc",
   "metadata": {},
   "outputs": [
    {
     "name": "stdout",
     "output_type": "stream",
     "text": [
      "4.18.0\n"
     ]
    }
   ],
   "source": [
    "import numpy as np\n",
    "import pandas as pd\n",
    "import matplotlib.pyplot as plt\n",
    "from sklearn.model_selection import train_test_split\n",
    "from sklearn.linear_model import LogisticRegression\n",
    "from sklearn.model_selection import GridSearchCV\n",
    "from sklearn.model_selection import cross_val_score\n",
    "from sklearn.metrics.pairwise import cosine_similarity\n",
    "from joblib import load, dump\n",
    "\n",
    "import torch\n",
    "# conda install -c pytorch pytorch\n",
    "\n",
    "import transformers as ppb\n",
    "\n",
    "import warnings\n",
    "warnings.filterwarnings('ignore')\n",
    "\n",
    "print(ppb.__version__)"
   ]
  },
  {
   "cell_type": "markdown",
   "id": "42b036a9",
   "metadata": {},
   "source": [
    "Read train and test data from csv file"
   ]
  },
  {
   "cell_type": "code",
   "execution_count": 2,
   "id": "a70ac183",
   "metadata": {},
   "outputs": [],
   "source": [
    "train_df = pd.read_csv('files_input/Train_Sentiment_Analysis.csv')"
   ]
  },
  {
   "cell_type": "code",
   "execution_count": 3,
   "id": "c4f4f495",
   "metadata": {},
   "outputs": [],
   "source": [
    "test_df = pd.read_csv('files_input/Test_sentiment_analysis.csv')"
   ]
  },
  {
   "cell_type": "markdown",
   "id": "84268722",
   "metadata": {},
   "source": [
    "count plot on single categorical variable"
   ]
  },
  {
   "cell_type": "code",
   "execution_count": 4,
   "id": "ccca6173",
   "metadata": {},
   "outputs": [
    {
     "data": {
      "text/plain": [
       "<AxesSubplot:xlabel='Sentiment', ylabel='count'>"
      ]
     },
     "execution_count": 4,
     "metadata": {},
     "output_type": "execute_result"
    },
    {
     "data": {
      "image/png": "[encoded data removed]",
      "text/plain": [
       "<Figure size 640x480 with 1 Axes>"
      ]
     },
     "metadata": {},
     "output_type": "display_data"
    }
   ],
   "source": [
    "import seaborn as sns\n",
    "sns.countplot(x ='Sentiment', data = train_df)\n"
   ]
  },
  {
   "cell_type": "code",
   "execution_count": 5,
   "id": "74dc98ef",
   "metadata": {},
   "outputs": [
    {
     "data": {
      "text/plain": [
       "2    79582\n",
       "3    32927\n",
       "1    27273\n",
       "4     9206\n",
       "0     7072\n",
       "Name: Sentiment, dtype: int64"
      ]
     },
     "execution_count": 5,
     "metadata": {},
     "output_type": "execute_result"
    }
   ],
   "source": [
    "train_df['Sentiment'].value_counts()"
   ]
  },
  {
   "cell_type": "code",
   "execution_count": 6,
   "id": "325ca28a",
   "metadata": {},
   "outputs": [
    {
     "data": {
      "text/plain": [
       "(156060, 2)"
      ]
     },
     "execution_count": 6,
     "metadata": {},
     "output_type": "execute_result"
    }
   ],
   "source": [
    "train_df.shape"
   ]
  },
  {
   "cell_type": "code",
   "execution_count": 7,
   "id": "49dc3cf8",
   "metadata": {},
   "outputs": [
    {
     "data": {
      "text/plain": [
       "<bound method NDFrame.head of                                                    Phrase  Sentiment\n",
       "0       A series of escapades demonstrating the adage ...          1\n",
       "1       A series of escapades demonstrating the adage ...          2\n",
       "2                                                A series          2\n",
       "3                                                       A          2\n",
       "4                                                  series          2\n",
       "...                                                   ...        ...\n",
       "156055                                          Hearst 's          2\n",
       "156056                          forced avuncular chortles          1\n",
       "156057                                 avuncular chortles          3\n",
       "156058                                          avuncular          2\n",
       "156059                                           chortles          2\n",
       "\n",
       "[156060 rows x 2 columns]>"
      ]
     },
     "execution_count": 7,
     "metadata": {},
     "output_type": "execute_result"
    }
   ],
   "source": [
    "train_df.head"
   ]
  },
  {
   "cell_type": "code",
   "execution_count": 8,
   "id": "50d3676c",
   "metadata": {},
   "outputs": [
    {
     "data": {
      "text/plain": [
       "(69, 1)"
      ]
     },
     "execution_count": 8,
     "metadata": {},
     "output_type": "execute_result"
    }
   ],
   "source": [
    "test_df.shape"
   ]
  },
  {
   "cell_type": "code",
   "execution_count": 9,
   "id": "12598fdc",
   "metadata": {},
   "outputs": [
    {
     "data": {
      "text/plain": [
       "<bound method NDFrame.head of                                                Phrase\n",
       "0   An intermittently pleasing but mostly routine ...\n",
       "1   An intermittently pleasing but mostly routine ...\n",
       "2                                                  An\n",
       "3   intermittently pleasing but mostly routine effort\n",
       "4          intermittently pleasing but mostly routine\n",
       "..                                                ...\n",
       "64                                              -RRB-\n",
       "65                                        that serves\n",
       "66                                             serves\n",
       "67  as yet another example of the sad decline of B...\n",
       "68                                                 as\n",
       "\n",
       "[69 rows x 1 columns]>"
      ]
     },
     "execution_count": 9,
     "metadata": {},
     "output_type": "execute_result"
    }
   ],
   "source": [
    "test_df.head"
   ]
  },
  {
   "cell_type": "code",
   "execution_count": 23,
   "id": "1d54ad2d",
   "metadata": {},
   "outputs": [],
   "source": [
    "from tensorflow import keras"
   ]
  },
  {
   "cell_type": "code",
   "execution_count": 26,
   "id": "3301d1d6",
   "metadata": {},
   "outputs": [
    {
     "data": {
      "text/plain": [
       "(156060,)"
      ]
     },
     "execution_count": 26,
     "metadata": {},
     "output_type": "execute_result"
    }
   ],
   "source": [
    "X_train.shape"
   ]
  },
  {
   "cell_type": "code",
   "execution_count": 27,
   "id": "8a102b45",
   "metadata": {},
   "outputs": [
    {
     "data": {
      "text/plain": [
       "array([list([6230, 12650, 13827, 2150, 3799, 6861, 2389, 8074, 7245, 9636, 15915, 3871, 6861, 11623, 9636, 11063, 15915, 3871, 6861, 14687, 16388, 13827, 12527, 15644, 784, 14183, 5873, 13827, 12527, 1145, 2721, 12562, 13827, 7912, 8511]),\n",
       "       list([6230, 12650, 13827, 2150, 3799, 6861, 2389, 8074, 7245, 9636, 15915, 3871, 6861, 11623]),\n",
       "       list([6230, 12650]), ..., list([10683, 2469]), list([10683]),\n",
       "       list([2469])], dtype=object)"
      ]
     },
     "execution_count": 27,
     "metadata": {},
     "output_type": "execute_result"
    }
   ],
   "source": [
    "X_train"
   ]
  },
  {
   "cell_type": "markdown",
   "id": "77487f4f",
   "metadata": {},
   "source": [
    "<font color=Navy><b>In order to train the RNN on the tokenized data, all text input  must have the same length.<br>\n",
    "We will limit the maximum review length to maxlen=30 by truncating longer reviews and padding shorter reviews with a null value (0).<br>\n",
    "Keras pad_sequences() function is used to accomplish this .<br>\n"
   ]
  },
  {
   "cell_type": "code",
   "execution_count": 28,
   "id": "25dc4a18",
   "metadata": {},
   "outputs": [],
   "source": [
    "maxlen = 30\n",
    "X_train_padded = keras.preprocessing.sequence.pad_sequences(X_train, maxlen=maxlen, padding='post')\n",
    "X_test_padded = keras.preprocessing.sequence.pad_sequences(X_test, maxlen=maxlen, padding='post')\n"
   ]
  },
  {
   "cell_type": "code",
   "execution_count": 29,
   "id": "a48a6e7d",
   "metadata": {},
   "outputs": [
    {
     "data": {
      "text/plain": [
       "array([[ 6861,  2389,  8074, ..., 13827,  7912,  8511],\n",
       "       [ 6230, 12650, 13827, ...,     0,     0,     0],\n",
       "       [ 6230, 12650,     0, ...,     0,     0,     0],\n",
       "       ...,\n",
       "       [10683,  2469,     0, ...,     0,     0,     0],\n",
       "       [10683,     0,     0, ...,     0,     0,     0],\n",
       "       [ 2469,     0,     0, ...,     0,     0,     0]])"
      ]
     },
     "execution_count": 29,
     "metadata": {},
     "output_type": "execute_result"
    }
   ],
   "source": [
    "X_train_padded"
   ]
  },
  {
   "cell_type": "markdown",
   "id": "617f67a6",
   "metadata": {},
   "source": [
    "<font color=Navy><b>extract the label from the train data"
   ]
  },
  {
   "cell_type": "code",
   "execution_count": 30,
   "id": "e03194be",
   "metadata": {},
   "outputs": [],
   "source": [
    "y_train = train_df.iloc[:,-1].values"
   ]
  },
  {
   "cell_type": "code",
   "execution_count": 31,
   "id": "8ea49fd4",
   "metadata": {},
   "outputs": [
    {
     "data": {
      "text/plain": [
       "array([1, 2, 2, ..., 3, 2, 2], dtype=int64)"
      ]
     },
     "execution_count": 31,
     "metadata": {},
     "output_type": "execute_result"
    }
   ],
   "source": [
    "y_train "
   ]
  },
  {
   "cell_type": "markdown",
   "id": "1afd6c5f",
   "metadata": {},
   "source": [
    "<font color=Navy><b>Encode the label using one hot encoder"
   ]
  },
  {
   "cell_type": "code",
   "execution_count": 32,
   "id": "bf678ddb",
   "metadata": {},
   "outputs": [],
   "source": [
    "from sklearn.preprocessing import OneHotEncoder\n",
    "encoder = OneHotEncoder(sparse=False)\n",
    "y_train_encoded = encoder.fit_transform(y_train.reshape(-1, 1))"
   ]
  },
  {
   "cell_type": "code",
   "execution_count": 33,
   "id": "222e0f57",
   "metadata": {},
   "outputs": [
    {
     "data": {
      "text/plain": [
       "array([[0., 1., 0., 0., 0.],\n",
       "       [0., 0., 1., 0., 0.],\n",
       "       [0., 0., 1., 0., 0.],\n",
       "       ...,\n",
       "       [0., 0., 0., 1., 0.],\n",
       "       [0., 0., 1., 0., 0.],\n",
       "       [0., 0., 1., 0., 0.]])"
      ]
     },
     "execution_count": 33,
     "metadata": {},
     "output_type": "execute_result"
    }
   ],
   "source": [
    "y_train_encoded"
   ]
  },
  {
   "cell_type": "code",
   "execution_count": 34,
   "id": "8bb54580",
   "metadata": {},
   "outputs": [
    {
     "name": "stdout",
     "output_type": "stream",
     "text": [
      "(156060, 30)\n",
      "(156060, 5)\n",
      "(69, 30)\n"
     ]
    }
   ],
   "source": [
    "print(X_train_padded.shape)\n",
    "print(y_train_encoded.shape)\n",
    "print(X_test_padded.shape)"
   ]
  },
  {
   "cell_type": "markdown",
   "id": "0b6f7a2f",
   "metadata": {},
   "source": [
    "# <font color=Navy>Design an RNN model for sentiment analysis"
   ]
  },
  {
   "cell_type": "markdown",
   "id": "06e96528",
   "metadata": {},
   "source": [
    "<font color=Navy>the below code demonstrates the architecture of RNN built.<br>\n",
    "input is a sequence of words i.e,, integer word IDs of maximum length = 30<br>\n",
    "output is a  sentiment label (0, 1,2,3,4).\n"
   ]
  },
  {
   "cell_type": "code",
   "execution_count": 35,
   "id": "25c0283f",
   "metadata": {},
   "outputs": [],
   "source": [
    "#import the Keras layers\n",
    "from tensorflow.keras.models import Sequential\n",
    "from tensorflow.keras.layers import Embedding,Dense, Dropout, LSTM, Dropout"
   ]
  },
  {
   "cell_type": "code",
   "execution_count": 36,
   "id": "c8aeadb1",
   "metadata": {},
   "outputs": [],
   "source": [
    "vocabulary_size = len(word_to_index_train) + 1\n",
    "embedding_size=30"
   ]
  },
  {
   "cell_type": "markdown",
   "id": "11ad9657",
   "metadata": {},
   "source": [
    "<font color=Navy><b>A simple RNN model is built with 1 embedding layer, 1 simple RNN layer , 1 dense layer as hidden layer and one dense layer as output layer.<br>\n",
    "1.A Sequential model is appropriate for a plain stack of layers where each layer has exactly one input tensor and one output tensor.<br>\n",
    "2.Keras Embedding Layer takes encoded text data as input. Embedding layer is used as the first hidden layer of a network.\n",
    "It takes 3 arguments.Embedding(input dimension, out_dimension=embedding_size, trainable=True).Embedding layer has weights that are learned. <br>\n",
    "3.Simple RNN () class is a complete RNN layer in Keras with input unit = 32 neurons. It is a Fully-connected RNN where the output is to be fed back to input. for more detials visit the website: https://keras.io/api/layers/recurrent_layers/simple_rnn/<br>\n",
    "3.A dense layer which is deeply connected with its preceding layer. The dense layer’s neuron in a model receives output from every neuron of its preceding layer, where neurons of the dense layer perform matrix-vector multiplication. Row vector of the output from the preceding layers (RNN layer) is equal to the column vector of the dense layer. \n",
    "4. Last dense layer is the Output layer with 5 nodes indicating the probabilities of sentiment calculated."
   ]
  },
  {
   "cell_type": "code",
   "execution_count": 45,
   "id": "10c788fe",
   "metadata": {},
   "outputs": [],
   "source": [
    "import tensorflow as tf\n",
    "model = tf.keras.Sequential([   \n",
    "    tf.keras.layers.Embedding(vocabulary_size, embedding_size, trainable=True),\n",
    "    tf.keras.layers.SimpleRNN(32),\n",
    "    tf.keras.layers.Dense(10, activation='relu'),\n",
    "    tf.keras.layers.Dense(5, activation='sigmoid')\n",
    "])"
   ]
  },
  {
   "cell_type": "markdown",
   "id": "2c4a76ff",
   "metadata": {},
   "source": []
  },
  {
   "cell_type": "code",
   "execution_count": 46,
   "id": "395fbaa2",
   "metadata": {},
   "outputs": [
    {
     "name": "stdout",
     "output_type": "stream",
     "text": [
      "Model: \"sequential_3\"\n",
      "_________________________________________________________________\n",
      "Layer (type)                 Output Shape              Param #   \n",
      "=================================================================\n",
      "embedding_3 (Embedding)      (None, None, 30)          505590    \n",
      "_________________________________________________________________\n",
      "simple_rnn_2 (SimpleRNN)     (None, 32)                2016      \n",
      "_________________________________________________________________\n",
      "dense_4 (Dense)              (None, 10)                330       \n",
      "_________________________________________________________________\n",
      "dense_5 (Dense)              (None, 5)                 55        \n",
      "=================================================================\n",
      "Total params: 507,991\n",
      "Trainable params: 507,991\n",
      "Non-trainable params: 0\n",
      "_________________________________________________________________\n"
     ]
    }
   ],
   "source": [
    "model.summary()"
   ]
  },
  {
   "cell_type": "markdown",
   "id": "e6c8bad9",
   "metadata": {},
   "source": [
    "total 507,947 parameters  need to be trained."
   ]
  },
  {
   "cell_type": "markdown",
   "id": "d0507d7e",
   "metadata": {},
   "source": [
    "<font color=Navy>Hyper Parameter<br>\n",
    "We first need to compile our model by specifying the loss function and optimizer we want to use while training, as well as any evaluation metrics we’d like to measure.<br>\n",
    "Specify the appropriate parameters, including at least one metric ‘accuracy’.\n",
    "Optimizer used:Adam optimizer is used as it has the most beneficial nature of  its adaptive learning rate. It can compute adaptive learning rates for different parameters.\n",
    "Loss Function: Since, the label is one-hot encoded, categorical_crossentropy is used as loss function. suppose, the label is not one hot enocded, one can use Sparse_categorical_crossentropy as loss function."
   ]
  },
  {
   "cell_type": "code",
   "execution_count": 47,
   "id": "97734671",
   "metadata": {},
   "outputs": [],
   "source": [
    "model.compile(optimizer='adam',loss='categorical_crossentropy',metrics=['accuracy'])"
   ]
  },
  {
   "cell_type": "code",
   "execution_count": 48,
   "id": "1c91c6a1",
   "metadata": {},
   "outputs": [
    {
     "name": "stdout",
     "output_type": "stream",
     "text": [
      "Epoch 1/5\n",
      "610/610 [==============================] - 32s 44ms/step - loss: 1.2051 - accuracy: 0.5218\n",
      "Epoch 2/5\n",
      "610/610 [==============================] - 26s 43ms/step - loss: 1.0575 - accuracy: 0.5718\n",
      "Epoch 3/5\n",
      "610/610 [==============================] - 27s 45ms/step - loss: 0.9063 - accuracy: 0.6394\n",
      "Epoch 4/5\n",
      "610/610 [==============================] - 31s 50ms/step - loss: 0.7897 - accuracy: 0.6828\n",
      "Epoch 5/5\n",
      "610/610 [==============================] - 29s 48ms/step - loss: 0.7375 - accuracy: 0.7014\n"
     ]
    },
    {
     "data": {
      "text/plain": [
       "<tensorflow.python.keras.callbacks.History at 0x1f0e48d0898>"
      ]
     },
     "execution_count": 48,
     "metadata": {},
     "output_type": "execute_result"
    }
   ],
   "source": [
    "model.fit(X_train_padded, y_train_encoded, batch_size=256, epochs=5 )"
   ]
  },
  {
   "cell_type": "code",
   "execution_count": 49,
   "id": "0c5a238b",
   "metadata": {},
   "outputs": [],
   "source": [
    "pred = model.predict(X_test_padded)"
   ]
  },
  {
   "cell_type": "code",
   "execution_count": 50,
   "id": "d1ae1247",
   "metadata": {},
   "outputs": [
    {
     "data": {
      "text/plain": [
       "array([[0.01212355, 0.18707171, 0.7844191 , 0.9301711 , 0.62602615],\n",
       "       [0.01212355, 0.18707171, 0.7844191 , 0.9301711 , 0.62602615],\n",
       "       [0.0054509 , 0.31225884, 0.9488878 , 0.8928417 , 0.16915017],\n",
       "       [0.00857937, 0.31331336, 0.9173157 , 0.8979676 , 0.23320615],\n",
       "       [0.00739372, 0.3749041 , 0.95012414, 0.87052417, 0.13738006],\n",
       "       [0.00751609, 0.4807847 , 0.9804566 , 0.7377072 , 0.03501353],\n",
       "       [0.0057624 , 0.41619197, 0.9794154 , 0.77709526, 0.04556924],\n",
       "       [0.00958735, 0.45272985, 0.9759133 , 0.7085302 , 0.03808439],\n",
       "       [0.00690082, 0.44037008, 0.97961605, 0.744725  , 0.03932878],\n",
       "       [0.01325646, 0.55159533, 0.9787048 , 0.6409861 , 0.02424005],\n",
       "       [0.66003644, 0.8591062 , 0.6078037 , 0.20566857, 0.02979133],\n",
       "       [0.00643378, 0.40583807, 0.9772837 , 0.766806  , 0.04914907],\n",
       "       [0.743049  , 0.8307217 , 0.52803   , 0.21559623, 0.04444471],\n",
       "       [0.00738984, 0.48375863, 0.97739816, 0.7706766 , 0.04240191],\n",
       "       [0.01707768, 0.47038734, 0.96586204, 0.65219283, 0.03913867],\n",
       "       [0.5219995 , 0.5120245 , 0.36723545, 0.48706186, 0.35839695],\n",
       "       [0.02026343, 0.4567117 , 0.95778596, 0.64971817, 0.04511204],\n",
       "       [0.5219995 , 0.5120245 , 0.36723545, 0.48706186, 0.35839695],\n",
       "       [0.5219995 , 0.5120245 , 0.36723545, 0.48706186, 0.35839695],\n",
       "       [0.1988003 , 0.68946826, 0.71932447, 0.49588457, 0.06135818],\n",
       "       [0.66189635, 0.8866693 , 0.6539743 , 0.1839549 , 0.01932049],\n",
       "       [0.0086109 , 0.52529556, 0.9802495 , 0.72383976, 0.03157321],\n",
       "       [0.5219995 , 0.5120245 , 0.36723545, 0.48706186, 0.35839695],\n",
       "       [0.01547071, 0.50290215, 0.97136414, 0.64949673, 0.03149959],\n",
       "       [0.03159338, 0.3757974 , 0.9224556 , 0.64689064, 0.08749768],\n",
       "       [0.01327482, 0.5530844 , 0.9787509 , 0.63968724, 0.02405217],\n",
       "       [0.01842791, 0.45486242, 0.96144265, 0.6522298 , 0.04291403],\n",
       "       [0.01186806, 0.59044504, 0.9786289 , 0.69776475, 0.02878979],\n",
       "       [0.5219995 , 0.5120245 , 0.36723545, 0.48706186, 0.35839695],\n",
       "       [0.006899  , 0.47185156, 0.979912  , 0.75645566, 0.03811705],\n",
       "       [0.5219994 , 0.51202446, 0.36723542, 0.48706195, 0.358397  ],\n",
       "       [0.26944858, 0.31760535, 0.4544718 , 0.6642828 , 0.6999368 ],\n",
       "       [0.03198722, 0.09516135, 0.5083657 , 0.91771317, 0.94467306],\n",
       "       [0.07950819, 0.6908456 , 0.875082  , 0.629172  , 0.04574412],\n",
       "       [0.08605081, 0.6817106 , 0.85987324, 0.62056553, 0.04939076],\n",
       "       [0.01254144, 0.5924142 , 0.981109  , 0.65024185, 0.02218619],\n",
       "       [0.02329546, 0.08114511, 0.53084546, 0.9309534 , 0.95617217],\n",
       "       [0.01582181, 0.07552528, 0.58168805, 0.94491285, 0.95417035],\n",
       "       [0.07068631, 0.317502  , 0.8346909 , 0.6216797 , 0.22091794],\n",
       "       [0.01557809, 0.10807571, 0.64316744, 0.9464729 , 0.9049789 ],\n",
       "       [0.01406613, 0.18803144, 0.76329845, 0.9253875 , 0.632648  ],\n",
       "       [0.01627138, 0.165741  , 0.7091002 , 0.92832464, 0.7632297 ],\n",
       "       [0.01850197, 0.14411181, 0.66697896, 0.9320294 , 0.83267003],\n",
       "       [0.01850197, 0.14411181, 0.66697896, 0.9320294 , 0.83267003],\n",
       "       [0.01650113, 0.21726274, 0.7689581 , 0.91171026, 0.5502918 ],\n",
       "       [0.06285173, 0.24432468, 0.7997762 , 0.6746451 , 0.4864881 ],\n",
       "       [0.01707768, 0.47038734, 0.96586204, 0.65219283, 0.03913867],\n",
       "       [0.01179415, 0.5033676 , 0.96053153, 0.7915007 , 0.06886646],\n",
       "       [0.01462525, 0.567106  , 0.9776006 , 0.6341816 , 0.02433473],\n",
       "       [0.01391104, 0.30616295, 0.86765134, 0.8806238 , 0.26529342],\n",
       "       [0.02052054, 0.19116595, 0.6989362 , 0.91417205, 0.70875525],\n",
       "       [0.01155424, 0.17215785, 0.778821  , 0.9356209 , 0.65937656],\n",
       "       [0.03267556, 0.33950615, 0.762347  , 0.8422055 , 0.29661214],\n",
       "       [0.02473029, 0.3054976 , 0.78316236, 0.8696665 , 0.33532828],\n",
       "       [0.00391841, 0.22478196, 0.93870115, 0.92735875, 0.2828307 ],\n",
       "       [0.00826275, 0.2209416 , 0.8724408 , 0.9206914 , 0.41373754],\n",
       "       [0.00617686, 0.2114734 , 0.89682543, 0.9235531 , 0.3899284 ],\n",
       "       [0.01342914, 0.51917315, 0.95597315, 0.7823752 , 0.06016988],\n",
       "       [0.01194382, 0.41439322, 0.93065447, 0.8431252 , 0.11871386],\n",
       "       [0.01260811, 0.5839964 , 0.9812356 , 0.6409931 , 0.02164859],\n",
       "       [0.42870587, 0.8926938 , 0.8184334 , 0.23272955, 0.01317498],\n",
       "       [0.01162684, 0.57877946, 0.98152244, 0.6570996 , 0.02263725],\n",
       "       [0.85816896, 0.80555034, 0.358737  , 0.204238  , 0.08076522],\n",
       "       [0.8198409 , 0.8384997 , 0.45488364, 0.19377041, 0.04967648],\n",
       "       [0.03069037, 0.5256338 , 0.95005673, 0.6365341 , 0.05474117],\n",
       "       [0.01583093, 0.62995774, 0.9796457 , 0.62700903, 0.02144012],\n",
       "       [0.01962095, 0.5165201 , 0.9645654 , 0.6417953 , 0.03422347],\n",
       "       [0.12096909, 0.59488356, 0.746179  , 0.6132345 , 0.09776163],\n",
       "       [0.02430162, 0.4068266 , 0.94369185, 0.6506908 , 0.06426036]],\n",
       "      dtype=float32)"
      ]
     },
     "execution_count": 50,
     "metadata": {},
     "output_type": "execute_result"
    }
   ],
   "source": [
    "pred"
   ]
  },
  {
   "cell_type": "code",
   "execution_count": 51,
   "id": "1f20a962",
   "metadata": {},
   "outputs": [],
   "source": [
    "pred1=(pred > 0.5).astype(int)"
   ]
  },
  {
   "cell_type": "code",
   "execution_count": 52,
   "id": "d68979f5",
   "metadata": {},
   "outputs": [
    {
     "data": {
      "text/plain": [
       "array([[0, 0, 1, 1, 1],\n",
       "       [0, 0, 1, 1, 1],\n",
       "       [0, 0, 1, 1, 0],\n",
       "       [0, 0, 1, 1, 0],\n",
       "       [0, 0, 1, 1, 0],\n",
       "       [0, 0, 1, 1, 0],\n",
       "       [0, 0, 1, 1, 0],\n",
       "       [0, 0, 1, 1, 0],\n",
       "       [0, 0, 1, 1, 0],\n",
       "       [0, 1, 1, 1, 0],\n",
       "       [1, 1, 1, 0, 0],\n",
       "       [0, 0, 1, 1, 0],\n",
       "       [1, 1, 1, 0, 0],\n",
       "       [0, 0, 1, 1, 0],\n",
       "       [0, 0, 1, 1, 0],\n",
       "       [1, 1, 0, 0, 0],\n",
       "       [0, 0, 1, 1, 0],\n",
       "       [1, 1, 0, 0, 0],\n",
       "       [1, 1, 0, 0, 0],\n",
       "       [0, 1, 1, 0, 0],\n",
       "       [1, 1, 1, 0, 0],\n",
       "       [0, 1, 1, 1, 0],\n",
       "       [1, 1, 0, 0, 0],\n",
       "       [0, 1, 1, 1, 0],\n",
       "       [0, 0, 1, 1, 0],\n",
       "       [0, 1, 1, 1, 0],\n",
       "       [0, 0, 1, 1, 0],\n",
       "       [0, 1, 1, 1, 0],\n",
       "       [1, 1, 0, 0, 0],\n",
       "       [0, 0, 1, 1, 0],\n",
       "       [1, 1, 0, 0, 0],\n",
       "       [0, 0, 0, 1, 1],\n",
       "       [0, 0, 1, 1, 1],\n",
       "       [0, 1, 1, 1, 0],\n",
       "       [0, 1, 1, 1, 0],\n",
       "       [0, 1, 1, 1, 0],\n",
       "       [0, 0, 1, 1, 1],\n",
       "       [0, 0, 1, 1, 1],\n",
       "       [0, 0, 1, 1, 0],\n",
       "       [0, 0, 1, 1, 1],\n",
       "       [0, 0, 1, 1, 1],\n",
       "       [0, 0, 1, 1, 1],\n",
       "       [0, 0, 1, 1, 1],\n",
       "       [0, 0, 1, 1, 1],\n",
       "       [0, 0, 1, 1, 1],\n",
       "       [0, 0, 1, 1, 0],\n",
       "       [0, 0, 1, 1, 0],\n",
       "       [0, 1, 1, 1, 0],\n",
       "       [0, 1, 1, 1, 0],\n",
       "       [0, 0, 1, 1, 0],\n",
       "       [0, 0, 1, 1, 1],\n",
       "       [0, 0, 1, 1, 1],\n",
       "       [0, 0, 1, 1, 0],\n",
       "       [0, 0, 1, 1, 0],\n",
       "       [0, 0, 1, 1, 0],\n",
       "       [0, 0, 1, 1, 0],\n",
       "       [0, 0, 1, 1, 0],\n",
       "       [0, 1, 1, 1, 0],\n",
       "       [0, 0, 1, 1, 0],\n",
       "       [0, 1, 1, 1, 0],\n",
       "       [0, 1, 1, 0, 0],\n",
       "       [0, 1, 1, 1, 0],\n",
       "       [1, 1, 0, 0, 0],\n",
       "       [1, 1, 0, 0, 0],\n",
       "       [0, 1, 1, 1, 0],\n",
       "       [0, 1, 1, 1, 0],\n",
       "       [0, 1, 1, 1, 0],\n",
       "       [0, 1, 1, 1, 0],\n",
       "       [0, 0, 1, 1, 0]])"
      ]
     },
     "execution_count": 52,
     "metadata": {},
     "output_type": "execute_result"
    }
   ],
   "source": [
    "pred1"
   ]
  },
  {
   "cell_type": "markdown",
   "id": "090a2395",
   "metadata": {},
   "source": [
    "The sentiment labels are:\n",
    "\n",
    "0 - negative\n",
    "1 - somewhat negative\n",
    "2 - neutral\n",
    "3 - somewhat positive\n",
    "4 - positive"
   ]
  },
  {
   "cell_type": "code",
   "execution_count": 53,
   "id": "48f6465e",
   "metadata": {},
   "outputs": [
    {
     "data": {
      "text/plain": [
       "(69, 5)"
      ]
     },
     "execution_count": 53,
     "metadata": {},
     "output_type": "execute_result"
    }
   ],
   "source": [
    "pred1.shape"
   ]
  },
  {
   "cell_type": "code",
   "execution_count": 54,
   "id": "d8175e37",
   "metadata": {},
   "outputs": [],
   "source": [
    "labels = ['negative', 'somewhat negative', 'neutral','somewhat positive','positive']\n",
    "LABELS=[labels[i] for i in model.predict(X_test_padded).argmax(axis=-1)]\n"
   ]
  },
  {
   "cell_type": "markdown",
   "id": "e474ae4e",
   "metadata": {},
   "source": [
    "Predicted labels"
   ]
  },
  {
   "cell_type": "code",
   "execution_count": 55,
   "id": "d035b77e",
   "metadata": {},
   "outputs": [
    {
     "data": {
      "text/plain": [
       "['somewhat positive',\n",
       " 'somewhat positive',\n",
       " 'neutral',\n",
       " 'neutral',\n",
       " 'neutral',\n",
       " 'neutral',\n",
       " 'neutral',\n",
       " 'neutral',\n",
       " 'neutral',\n",
       " 'neutral',\n",
       " 'somewhat negative',\n",
       " 'neutral',\n",
       " 'somewhat negative',\n",
       " 'neutral',\n",
       " 'neutral',\n",
       " 'negative',\n",
       " 'neutral',\n",
       " 'negative',\n",
       " 'negative',\n",
       " 'neutral',\n",
       " 'somewhat negative',\n",
       " 'neutral',\n",
       " 'negative',\n",
       " 'neutral',\n",
       " 'neutral',\n",
       " 'neutral',\n",
       " 'neutral',\n",
       " 'neutral',\n",
       " 'negative',\n",
       " 'neutral',\n",
       " 'negative',\n",
       " 'positive',\n",
       " 'positive',\n",
       " 'neutral',\n",
       " 'neutral',\n",
       " 'neutral',\n",
       " 'positive',\n",
       " 'positive',\n",
       " 'neutral',\n",
       " 'somewhat positive',\n",
       " 'somewhat positive',\n",
       " 'somewhat positive',\n",
       " 'somewhat positive',\n",
       " 'somewhat positive',\n",
       " 'somewhat positive',\n",
       " 'neutral',\n",
       " 'neutral',\n",
       " 'neutral',\n",
       " 'neutral',\n",
       " 'somewhat positive',\n",
       " 'somewhat positive',\n",
       " 'somewhat positive',\n",
       " 'somewhat positive',\n",
       " 'somewhat positive',\n",
       " 'neutral',\n",
       " 'somewhat positive',\n",
       " 'somewhat positive',\n",
       " 'neutral',\n",
       " 'neutral',\n",
       " 'neutral',\n",
       " 'somewhat negative',\n",
       " 'neutral',\n",
       " 'negative',\n",
       " 'somewhat negative',\n",
       " 'neutral',\n",
       " 'neutral',\n",
       " 'neutral',\n",
       " 'neutral',\n",
       " 'neutral']"
      ]
     },
     "execution_count": 55,
     "metadata": {},
     "output_type": "execute_result"
    }
   ],
   "source": [
    "LABELS"
   ]
  },
  {
   "cell_type": "markdown",
   "id": "59a4f194",
   "metadata": {},
   "source": [
    "<font color=Navy>creating a dataframe with Phrase and Sentiment columns"
   ]
  },
  {
   "cell_type": "code",
   "execution_count": 56,
   "id": "c861f43c",
   "metadata": {},
   "outputs": [],
   "source": [
    "predicted = pd.DataFrame({'Phrase': test_df.iloc[:,0].values,\n",
    "                      'Sentiment': LABELS})"
   ]
  },
  {
   "cell_type": "markdown",
   "id": "1ec236d3",
   "metadata": {},
   "source": [
    "<font color=Navy> Printing the predicted sequence"
   ]
  },
  {
   "cell_type": "code",
   "execution_count": 57,
   "id": "777bef0a",
   "metadata": {},
   "outputs": [
    {
     "data": {
      "text/html": [
       "<div>\n",
       "<style scoped>\n",
       "    .dataframe tbody tr th:only-of-type {\n",
       "        vertical-align: middle;\n",
       "    }\n",
       "\n",
       "    .dataframe tbody tr th {\n",
       "        vertical-align: top;\n",
       "    }\n",
       "\n",
       "    .dataframe thead th {\n",
       "        text-align: right;\n",
       "    }\n",
       "</style>\n",
       "<table border=\"1\" class=\"dataframe\">\n",
       "  <thead>\n",
       "    <tr style=\"text-align: right;\">\n",
       "      <th></th>\n",
       "      <th>Phrase</th>\n",
       "      <th>Sentiment</th>\n",
       "    </tr>\n",
       "  </thead>\n",
       "  <tbody>\n",
       "    <tr>\n",
       "      <th>0</th>\n",
       "      <td>An intermittently pleasing but mostly routine ...</td>\n",
       "      <td>somewhat positive</td>\n",
       "    </tr>\n",
       "    <tr>\n",
       "      <th>1</th>\n",
       "      <td>An intermittently pleasing but mostly routine ...</td>\n",
       "      <td>somewhat positive</td>\n",
       "    </tr>\n",
       "    <tr>\n",
       "      <th>2</th>\n",
       "      <td>An</td>\n",
       "      <td>neutral</td>\n",
       "    </tr>\n",
       "    <tr>\n",
       "      <th>3</th>\n",
       "      <td>intermittently pleasing but mostly routine effort</td>\n",
       "      <td>neutral</td>\n",
       "    </tr>\n",
       "    <tr>\n",
       "      <th>4</th>\n",
       "      <td>intermittently pleasing but mostly routine</td>\n",
       "      <td>neutral</td>\n",
       "    </tr>\n",
       "    <tr>\n",
       "      <th>...</th>\n",
       "      <td>...</td>\n",
       "      <td>...</td>\n",
       "    </tr>\n",
       "    <tr>\n",
       "      <th>64</th>\n",
       "      <td>-RRB-</td>\n",
       "      <td>neutral</td>\n",
       "    </tr>\n",
       "    <tr>\n",
       "      <th>65</th>\n",
       "      <td>that serves</td>\n",
       "      <td>neutral</td>\n",
       "    </tr>\n",
       "    <tr>\n",
       "      <th>66</th>\n",
       "      <td>serves</td>\n",
       "      <td>neutral</td>\n",
       "    </tr>\n",
       "    <tr>\n",
       "      <th>67</th>\n",
       "      <td>as yet another example of the sad decline of B...</td>\n",
       "      <td>neutral</td>\n",
       "    </tr>\n",
       "    <tr>\n",
       "      <th>68</th>\n",
       "      <td>as</td>\n",
       "      <td>neutral</td>\n",
       "    </tr>\n",
       "  </tbody>\n",
       "</table>\n",
       "<p>69 rows × 2 columns</p>\n",
       "</div>"
      ],
      "text/plain": [
       "                                               Phrase          Sentiment\n",
       "0   An intermittently pleasing but mostly routine ...  somewhat positive\n",
       "1   An intermittently pleasing but mostly routine ...  somewhat positive\n",
       "2                                                  An            neutral\n",
       "3   intermittently pleasing but mostly routine effort            neutral\n",
       "4          intermittently pleasing but mostly routine            neutral\n",
       "..                                                ...                ...\n",
       "64                                              -RRB-            neutral\n",
       "65                                        that serves            neutral\n",
       "66                                             serves            neutral\n",
       "67  as yet another example of the sad decline of B...            neutral\n",
       "68                                                 as            neutral\n",
       "\n",
       "[69 rows x 2 columns]"
      ]
     },
     "execution_count": 57,
     "metadata": {},
     "output_type": "execute_result"
    }
   ],
   "source": [
    "predicted\n"
   ]
  },
  {
   "cell_type": "markdown",
   "id": "e323ee45",
   "metadata": {},
   "source": [
    "<font color=Navy> writing the predicted sequence to .csv file"
   ]
  },
  {
   "cell_type": "code",
   "execution_count": null,
   "id": "79b7d585",
   "metadata": {},
   "outputs": [],
   "source": [
    "predicted.to_csv('Predicted.csv')"
   ]
  },
  {
   "cell_type": "code",
   "execution_count": null,
   "id": "004c00cc",
   "metadata": {},
   "outputs": [],
   "source": []
  }
 ],
 "metadata": {
  "kernelspec": {
   "display_name": "stock_market_prediction",
   "language": "python",
   "name": "stock_market_prediction"
  },
  "language_info": {
   "codemirror_mode": {
    "name": "ipython",
    "version": 3
   },
   "file_extension": ".py",
   "mimetype": "text/x-python",
   "name": "python",
   "nbconvert_exporter": "python",
   "pygments_lexer": "ipython3",
   "version": "3.10.6"
  }
 },
 "nbformat": 4,
 "nbformat_minor": 5
}
