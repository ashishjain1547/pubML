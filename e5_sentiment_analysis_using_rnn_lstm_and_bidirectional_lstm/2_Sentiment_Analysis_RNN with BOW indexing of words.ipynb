{
 "cells": [
  {
   "cell_type": "markdown",
   "id": "a0cd24ff",
   "metadata": {},
   "source": [
    "<font color=Navy><b>SentimentAnalysis using Simple RNN <br>\n",
    "This example illustrates the sentiment analysis on MovieReview Comments.\n"
   ]
  },
  {
   "cell_type": "markdown",
   "id": "5b00fbf6",
   "metadata": {},
   "source": [
    "<font color=Navy><b>Data Set:\n",
    "The data set contains Moviereview comments. The train/test split has been preserved for the purposes of benchmarking, but the sentences have been shuffled from their original order. \n",
    "Each Sentence has been parsed into many phrases. \n",
    "train.tsv contains the phrases and their associated sentiment labels.<br>\n",
    "test.tsv contains just phrases. \n",
    "It is required to assign a sentiment label to each phrase.\n",
    "The sentiment labels are:<br>\n",
    "\n",
    "0 - negative <br>\n",
    "1 - somewhat negative<br>\n",
    "2 - neutral<br>\n",
    "3 - somewhat positive<br>\n",
    "4 - positive <br>   "
   ]
  },
  {
   "cell_type": "markdown",
   "id": "e3b4fcc0",
   "metadata": {},
   "source": [
    "Import numpy and Pandas"
   ]
  },
  {
   "cell_type": "code",
   "execution_count": 79,
   "id": "22b956cc",
   "metadata": {},
   "outputs": [],
   "source": [
    "import numpy as np \n",
    "import pandas as pd \n",
    "from sklearn.metrics import classification_report"
   ]
  },
  {
   "cell_type": "markdown",
   "id": "42b036a9",
   "metadata": {},
   "source": [
    "Read train and test data from csv file"
   ]
  },
  {
   "cell_type": "code",
   "execution_count": 44,
   "id": "a70ac183",
   "metadata": {},
   "outputs": [],
   "source": [
    "df = pd.read_csv('input/sentences_and_phrases_150k/train.csv')"
   ]
  },
  {
   "cell_type": "code",
   "execution_count": 45,
   "id": "c4f4f495",
   "metadata": {},
   "outputs": [],
   "source": [
    "test_df = pd.read_csv('input/sentences_and_phrases_150k/test.csv')"
   ]
  },
  {
   "cell_type": "code",
   "execution_count": 46,
   "id": "4b324d13-c228-4b66-8a22-f334a40c1eed",
   "metadata": {},
   "outputs": [
    {
     "data": {
      "text/html": [
       "<div>\n",
       "<style scoped>\n",
       "    .dataframe tbody tr th:only-of-type {\n",
       "        vertical-align: middle;\n",
       "    }\n",
       "\n",
       "    .dataframe tbody tr th {\n",
       "        vertical-align: top;\n",
       "    }\n",
       "\n",
       "    .dataframe thead th {\n",
       "        text-align: right;\n",
       "    }\n",
       "</style>\n",
       "<table border=\"1\" class=\"dataframe\">\n",
       "  <thead>\n",
       "    <tr style=\"text-align: right;\">\n",
       "      <th></th>\n",
       "      <th>Phrase</th>\n",
       "    </tr>\n",
       "  </thead>\n",
       "  <tbody>\n",
       "    <tr>\n",
       "      <th>0</th>\n",
       "      <td>An intermittently pleasing but mostly routine ...</td>\n",
       "    </tr>\n",
       "    <tr>\n",
       "      <th>1</th>\n",
       "      <td>An intermittently pleasing but mostly routine ...</td>\n",
       "    </tr>\n",
       "    <tr>\n",
       "      <th>2</th>\n",
       "      <td>An</td>\n",
       "    </tr>\n",
       "    <tr>\n",
       "      <th>3</th>\n",
       "      <td>intermittently pleasing but mostly routine effort</td>\n",
       "    </tr>\n",
       "    <tr>\n",
       "      <th>4</th>\n",
       "      <td>intermittently pleasing but mostly routine</td>\n",
       "    </tr>\n",
       "    <tr>\n",
       "      <th>...</th>\n",
       "      <td>...</td>\n",
       "    </tr>\n",
       "    <tr>\n",
       "      <th>64</th>\n",
       "      <td>-RRB-</td>\n",
       "    </tr>\n",
       "    <tr>\n",
       "      <th>65</th>\n",
       "      <td>that serves</td>\n",
       "    </tr>\n",
       "    <tr>\n",
       "      <th>66</th>\n",
       "      <td>serves</td>\n",
       "    </tr>\n",
       "    <tr>\n",
       "      <th>67</th>\n",
       "      <td>as yet another example of the sad decline of B...</td>\n",
       "    </tr>\n",
       "    <tr>\n",
       "      <th>68</th>\n",
       "      <td>as</td>\n",
       "    </tr>\n",
       "  </tbody>\n",
       "</table>\n",
       "<p>69 rows × 1 columns</p>\n",
       "</div>"
      ],
      "text/plain": [
       "                                               Phrase\n",
       "0   An intermittently pleasing but mostly routine ...\n",
       "1   An intermittently pleasing but mostly routine ...\n",
       "2                                                  An\n",
       "3   intermittently pleasing but mostly routine effort\n",
       "4          intermittently pleasing but mostly routine\n",
       "..                                                ...\n",
       "64                                              -RRB-\n",
       "65                                        that serves\n",
       "66                                             serves\n",
       "67  as yet another example of the sad decline of B...\n",
       "68                                                 as\n",
       "\n",
       "[69 rows x 1 columns]"
      ]
     },
     "execution_count": 46,
     "metadata": {},
     "output_type": "execute_result"
    }
   ],
   "source": [
    "test_df"
   ]
  },
  {
   "cell_type": "code",
   "execution_count": 47,
   "id": "250dc133-d2ba-4361-96c7-3ac559c6481a",
   "metadata": {},
   "outputs": [],
   "source": [
    "from numpy import random\n",
    "ix = list(range(df.shape[0]))\n",
    "ix = random.permutation(ix)\n",
    "div = int(df.shape[0] * 0.7)\n",
    "train_df = df.iloc[ix[0:div]]\n",
    "validation_df = df.iloc[ix[div:]]"
   ]
  },
  {
   "cell_type": "markdown",
   "id": "84268722",
   "metadata": {},
   "source": [
    "count plot on single categorical variable"
   ]
  },
  {
   "cell_type": "code",
   "execution_count": 48,
   "id": "ccca6173",
   "metadata": {},
   "outputs": [
    {
     "data": {
      "text/plain": [
       "<AxesSubplot:xlabel='Sentiment', ylabel='count'>"
      ]
     },
     "execution_count": 48,
     "metadata": {},
     "output_type": "execute_result"
    },
    {
     "data": {
      "image/png": "[encoded data removed]",
      "text/plain": [
       "<Figure size 640x480 with 1 Axes>"
      ]
     },
     "metadata": {},
     "output_type": "display_data"
    }
   ],
   "source": [
    "import seaborn as sns\n",
    "sns.countplot(x ='Sentiment', data = train_df)\n"
   ]
  },
  {
   "cell_type": "code",
   "execution_count": 49,
   "id": "74dc98ef",
   "metadata": {},
   "outputs": [
    {
     "data": {
      "text/plain": [
       "2    55723\n",
       "3    22917\n",
       "1    19105\n",
       "4     6492\n",
       "0     5005\n",
       "Name: Sentiment, dtype: int64"
      ]
     },
     "execution_count": 49,
     "metadata": {},
     "output_type": "execute_result"
    }
   ],
   "source": [
    "train_df['Sentiment'].value_counts()"
   ]
  },
  {
   "cell_type": "code",
   "execution_count": 50,
   "id": "13253394",
   "metadata": {},
   "outputs": [],
   "source": [
    "import nltk, re"
   ]
  },
  {
   "cell_type": "markdown",
   "id": "428d3691",
   "metadata": {},
   "source": [
    "<font color=Navy><b>The below function is used to preprocess the train and test data.<br>\n",
    "1.fillna(0) -fills NaN values (if any )with zero<br>\n",
    "2.Regular expression is used to match only the text data from the phrase<br>\n",
    "3. The text is the split to get the sentence.<br>\n",
    "4. every sentence is appended to Corpus for next use<br>\n",
    "\n",
    "Note: Stemming or leematization or stop wordremoval is not applied here. Practioners can consider doing it for better result"
   ]
  },
  {
   "cell_type": "code",
   "execution_count": 51,
   "id": "a733ad53",
   "metadata": {},
   "outputs": [],
   "source": [
    "def func(X):\n",
    "    X=X.fillna(0)\n",
    "    messages = X.copy()\n",
    "    messages.reset_index(inplace=True)\n",
    "    corpus=[]\n",
    "    for i in range(len(messages)):\n",
    "        review = re.sub('[^a-zA-Z]',' ',str(messages['Phrase'][i]))\n",
    "        review = review.split()\n",
    "        review = ' '.join(review)\n",
    "        corpus.append(review)\n",
    "        \n",
    "    return corpus"
   ]
  },
  {
   "cell_type": "code",
   "execution_count": 53,
   "id": "0bcf9ea8",
   "metadata": {},
   "outputs": [],
   "source": [
    "corpus_train = func(train_df)\n",
    "corpus_validation = func(validation_df)\n",
    "corpus_test = func(test_df)"
   ]
  },
  {
   "cell_type": "markdown",
   "id": "8e23c22b",
   "metadata": {},
   "source": [
    "<font color=Navy><b>The below function get_wordlist() will split the training/ test data to extract the words. "
   ]
  },
  {
   "cell_type": "code",
   "execution_count": 54,
   "id": "e3209459",
   "metadata": {},
   "outputs": [],
   "source": [
    "def get_wordlist(corpus1):\n",
    "    words = []\n",
    "    for phrase in corpus1:\n",
    "        for word in phrase.split():\n",
    "            words.append(word)       \n",
    "             \n",
    "    words.sort()\n",
    "    return set(words)"
   ]
  },
  {
   "cell_type": "code",
   "execution_count": null,
   "id": "e96dc045",
   "metadata": {},
   "outputs": [],
   "source": []
  },
  {
   "cell_type": "code",
   "execution_count": 55,
   "id": "44c043c8",
   "metadata": {},
   "outputs": [],
   "source": [
    "word_set_train = get_wordlist(corpus_train)\n",
    "word_set_validation = get_wordlist(corpus_validation)\n",
    "word_set_test = get_wordlist(corpus_test)"
   ]
  },
  {
   "cell_type": "markdown",
   "id": "1f2cf0ff",
   "metadata": {},
   "source": [
    "<font color=Navy><b> the below function get_dicts() takes the set of words as input and generate index to each word"
   ]
  },
  {
   "cell_type": "code",
   "execution_count": 56,
   "id": "d9ead9a8",
   "metadata": {},
   "outputs": [],
   "source": [
    "def get_dicts(word_set):\n",
    "    word_to_index = {}\n",
    "    for i, word in enumerate(word_set):\n",
    "        word_to_index[word] = i  \n",
    "        \n",
    "    index_to_word = {index:word for (word, index) in word_to_index.items()}\n",
    "    \n",
    "    return word_to_index, index_to_word"
   ]
  },
  {
   "cell_type": "code",
   "execution_count": 57,
   "id": "160cb600",
   "metadata": {},
   "outputs": [],
   "source": [
    "word_to_index_train, index_to_word_train = get_dicts(word_set_train)\n",
    "word_to_index_validation, index_to_word_validation = get_dicts(word_set_validation)\n",
    "word_to_index_test, index_to_word_test = get_dicts(word_set_test)"
   ]
  },
  {
   "cell_type": "markdown",
   "id": "701a0675",
   "metadata": {},
   "source": [
    "<font color=Navy><b>the below function token () generates token with index"
   ]
  },
  {
   "cell_type": "code",
   "execution_count": 58,
   "id": "bf6bf8d3",
   "metadata": {},
   "outputs": [],
   "source": [
    "def token(corpus, word_to_index):\n",
    "    tokenized_list = []\n",
    "    \n",
    "    for phrase in corpus:\n",
    "        tokenized_format = []\n",
    "        for word in phrase.split():\n",
    "            index = word_to_index[word]\n",
    "            tokenized_format.append(index)\n",
    "            \n",
    "        tokenized_list.append(tokenized_format)\n",
    "        \n",
    "    return np.array(tokenized_list, dtype='object')"
   ]
  },
  {
   "cell_type": "code",
   "execution_count": 14,
   "id": "1d54ad2d",
   "metadata": {},
   "outputs": [],
   "source": [
    "from tensorflow import keras"
   ]
  },
  {
   "cell_type": "code",
   "execution_count": 59,
   "id": "37636bfb",
   "metadata": {},
   "outputs": [],
   "source": [
    "X_train = token(corpus_train, word_to_index_train)\n",
    "X_validation = token(corpus_validation, word_to_index_validation)\n",
    "X_test = token(corpus_test, word_to_index_test)"
   ]
  },
  {
   "cell_type": "markdown",
   "id": "77487f4f",
   "metadata": {},
   "source": [
    "<font color=Navy><b>In order to train the RNN on the tokenized data, all text input  must have the same length.<br>\n",
    "We will limit the maximum review length to maxlen=30 by truncating longer reviews and padding shorter reviews with a null value (0).<br>\n",
    "Keras pad_sequences() function is used to accomplish this .<br>\n"
   ]
  },
  {
   "cell_type": "code",
   "execution_count": 60,
   "id": "25dc4a18",
   "metadata": {},
   "outputs": [],
   "source": [
    "maxlen = 30\n",
    "X_train_padded = keras.preprocessing.sequence.pad_sequences(X_train, maxlen=maxlen, padding='post')\n",
    "X_validation_padded = keras.preprocessing.sequence.pad_sequences(X_validation, maxlen=maxlen, padding='post')\n",
    "X_test_padded = keras.preprocessing.sequence.pad_sequences(X_test, maxlen=maxlen, padding='post')"
   ]
  },
  {
   "cell_type": "markdown",
   "id": "617f67a6",
   "metadata": {},
   "source": [
    "<font color=Navy><b>extract the label from the train data"
   ]
  },
  {
   "cell_type": "code",
   "execution_count": 61,
   "id": "e03194be",
   "metadata": {},
   "outputs": [],
   "source": [
    "y_train = train_df.iloc[:,-1].values\n",
    "y_validation = validation_df.iloc[:,-1].values"
   ]
  },
  {
   "cell_type": "markdown",
   "id": "1afd6c5f",
   "metadata": {},
   "source": [
    "<font color=Navy><b>Encode the label using one hot encoder"
   ]
  },
  {
   "cell_type": "code",
   "execution_count": 62,
   "id": "bf678ddb",
   "metadata": {},
   "outputs": [],
   "source": [
    "from sklearn.preprocessing import OneHotEncoder\n",
    "encoder = OneHotEncoder(sparse=False)\n",
    "y_train_encoded = encoder.fit_transform(y_train.reshape(-1, 1))"
   ]
  },
  {
   "cell_type": "markdown",
   "id": "0b6f7a2f",
   "metadata": {},
   "source": [
    "# <font color=Navy>Design an RNN model for sentiment analysis"
   ]
  },
  {
   "cell_type": "markdown",
   "id": "06e96528",
   "metadata": {},
   "source": [
    "<font color=Navy>the below code demonstrates the architecture of RNN built.<br>\n",
    "input is a sequence of words i.e,, integer word IDs of maximum length = 30<br>\n",
    "output is a  sentiment label (0, 1,2,3,4).\n"
   ]
  },
  {
   "cell_type": "code",
   "execution_count": 63,
   "id": "25c0283f",
   "metadata": {},
   "outputs": [],
   "source": [
    "#import the Keras layers\n",
    "from tensorflow.keras.models import Sequential\n",
    "from tensorflow.keras.layers import Embedding,Dense, Dropout, LSTM, Dropout"
   ]
  },
  {
   "cell_type": "code",
   "execution_count": 64,
   "id": "c8aeadb1",
   "metadata": {},
   "outputs": [],
   "source": [
    "vocabulary_size = len(word_to_index_train) + 1\n",
    "embedding_size=30"
   ]
  },
  {
   "cell_type": "markdown",
   "id": "11ad9657",
   "metadata": {},
   "source": [
    "<font color=Navy><b>A simple RNN model is built with 1 embedding layer, 1 simple RNN layer , 1 dense layer as hidden layer and one dense layer as output layer.<br>\n",
    "1.A Sequential model is appropriate for a plain stack of layers where each layer has exactly one input tensor and one output tensor.<br>\n",
    "2.Keras Embedding Layer takes encoded text data as input. Embedding layer is used as the first hidden layer of a network.\n",
    "It takes 3 arguments.Embedding(input dimension, out_dimension=embedding_size, trainable=True).Embedding layer has weights that are learned. <br>\n",
    "3.Simple RNN () class is a complete RNN layer in Keras with input unit = 32 neurons. It is a Fully-connected RNN where the output is to be fed back to input. for more detials visit the website: https://keras.io/api/layers/recurrent_layers/simple_rnn/<br>\n",
    "3.A dense layer which is deeply connected with its preceding layer. The dense layer’s neuron in a model receives output from every neuron of its preceding layer, where neurons of the dense layer perform matrix-vector multiplication. Row vector of the output from the preceding layers (RNN layer) is equal to the column vector of the dense layer. \n",
    "4. Last dense layer is the Output layer with 5 nodes indicating the probabilities of sentiment calculated."
   ]
  },
  {
   "cell_type": "code",
   "execution_count": 65,
   "id": "10c788fe",
   "metadata": {},
   "outputs": [],
   "source": [
    "import tensorflow as tf\n",
    "model = tf.keras.Sequential([   \n",
    "    tf.keras.layers.Embedding(vocabulary_size, embedding_size, trainable=True),\n",
    "    tf.keras.layers.SimpleRNN(32),\n",
    "    tf.keras.layers.Dense(10, activation='relu'),\n",
    "    tf.keras.layers.Dense(5, activation='sigmoid')\n",
    "])"
   ]
  },
  {
   "cell_type": "markdown",
   "id": "2c4a76ff",
   "metadata": {},
   "source": []
  },
  {
   "cell_type": "code",
   "execution_count": 66,
   "id": "395fbaa2",
   "metadata": {},
   "outputs": [
    {
     "name": "stdout",
     "output_type": "stream",
     "text": [
      "Model: \"sequential_2\"\n",
      "_________________________________________________________________\n",
      " Layer (type)                Output Shape              Param #   \n",
      "=================================================================\n",
      " embedding_2 (Embedding)     (None, None, 30)          503430    \n",
      "                                                                 \n",
      " simple_rnn_2 (SimpleRNN)    (None, 32)                2016      \n",
      "                                                                 \n",
      " dense_4 (Dense)             (None, 10)                330       \n",
      "                                                                 \n",
      " dense_5 (Dense)             (None, 5)                 55        \n",
      "                                                                 \n",
      "=================================================================\n",
      "Total params: 505,831\n",
      "Trainable params: 505,831\n",
      "Non-trainable params: 0\n",
      "_________________________________________________________________\n"
     ]
    }
   ],
   "source": [
    "model.summary()"
   ]
  },
  {
   "cell_type": "markdown",
   "id": "e6c8bad9",
   "metadata": {},
   "source": [
    "total 507,947 parameters  need to be trained."
   ]
  },
  {
   "cell_type": "markdown",
   "id": "d0507d7e",
   "metadata": {},
   "source": [
    "<font color=Navy>Hyper Parameter<br>\n",
    "We first need to compile our model by specifying the loss function and optimizer we want to use while training, as well as any evaluation metrics we’d like to measure.<br>\n",
    "Specify the appropriate parameters, including at least one metric ‘accuracy’.\n",
    "Optimizer used:Adam optimizer is used as it has the most beneficial nature of  its adaptive learning rate. It can compute adaptive learning rates for different parameters.\n",
    "Loss Function: Since, the label is one-hot encoded, categorical_crossentropy is used as loss function. suppose, the label is not one hot enocded, one can use Sparse_categorical_crossentropy as loss function."
   ]
  },
  {
   "cell_type": "code",
   "execution_count": 67,
   "id": "97734671",
   "metadata": {},
   "outputs": [],
   "source": [
    "model.compile(optimizer='adam',loss='categorical_crossentropy',metrics=['accuracy'])"
   ]
  },
  {
   "cell_type": "code",
   "execution_count": 68,
   "id": "1c91c6a1",
   "metadata": {},
   "outputs": [
    {
     "name": "stdout",
     "output_type": "stream",
     "text": [
      "Epoch 1/5\n",
      "427/427 [==============================] - 9s 19ms/step - loss: 1.2401 - accuracy: 0.5143\n",
      "Epoch 2/5\n",
      "427/427 [==============================] - 8s 18ms/step - loss: 1.0842 - accuracy: 0.5567\n",
      "Epoch 3/5\n",
      "427/427 [==============================] - 8s 18ms/step - loss: 1.0129 - accuracy: 0.5849\n",
      "Epoch 4/5\n",
      "427/427 [==============================] - 8s 18ms/step - loss: 0.9300 - accuracy: 0.6288\n",
      "Epoch 5/5\n",
      "427/427 [==============================] - 8s 18ms/step - loss: 0.8159 - accuracy: 0.6783\n"
     ]
    },
    {
     "data": {
      "text/plain": [
       "<keras.callbacks.History at 0x7f5ace3a3eb0>"
      ]
     },
     "execution_count": 68,
     "metadata": {},
     "output_type": "execute_result"
    }
   ],
   "source": [
    "model.fit(X_train_padded, y_train_encoded, batch_size=256, epochs=5 )"
   ]
  },
  {
   "cell_type": "code",
   "execution_count": 87,
   "id": "0e8c0403-2f82-479d-a147-a1fae8526a25",
   "metadata": {},
   "outputs": [
    {
     "name": "stdout",
     "output_type": "stream",
     "text": [
      "1464/1464 [==============================] - 6s 4ms/step\n",
      "1464/1464 [==============================] - 6s 4ms/step\n"
     ]
    }
   ],
   "source": [
    "pred_validation = model.predict(X_validation_padded)\n",
    "pred1_validation = (pred_validation > 0.5).astype(int)\n",
    "labels = [0, 1, 2, 3, 4]\n",
    "LABELS_validation = [labels[i] for i in model.predict(X_validation_padded).argmax(axis=-1)]"
   ]
  },
  {
   "cell_type": "code",
   "execution_count": 88,
   "id": "65f30d86-e916-4892-9efb-abd15873d282",
   "metadata": {},
   "outputs": [
    {
     "data": {
      "text/html": [
       "<div>\n",
       "<style scoped>\n",
       "    .dataframe tbody tr th:only-of-type {\n",
       "        vertical-align: middle;\n",
       "    }\n",
       "\n",
       "    .dataframe tbody tr th {\n",
       "        vertical-align: top;\n",
       "    }\n",
       "\n",
       "    .dataframe thead th {\n",
       "        text-align: right;\n",
       "    }\n",
       "</style>\n",
       "<table border=\"1\" class=\"dataframe\">\n",
       "  <thead>\n",
       "    <tr style=\"text-align: right;\">\n",
       "      <th></th>\n",
       "      <th>Phrase</th>\n",
       "      <th>Sentiment</th>\n",
       "    </tr>\n",
       "  </thead>\n",
       "  <tbody>\n",
       "    <tr>\n",
       "      <th>94982</th>\n",
       "      <td>another iteration of what 's become one of the...</td>\n",
       "      <td>1</td>\n",
       "    </tr>\n",
       "    <tr>\n",
       "      <th>132780</th>\n",
       "      <td>#NAME?</td>\n",
       "      <td>2</td>\n",
       "    </tr>\n",
       "    <tr>\n",
       "      <th>25924</th>\n",
       "      <td>remember the lessons of the trickster spider</td>\n",
       "      <td>2</td>\n",
       "    </tr>\n",
       "    <tr>\n",
       "      <th>115983</th>\n",
       "      <td>the transcendent performance</td>\n",
       "      <td>4</td>\n",
       "    </tr>\n",
       "    <tr>\n",
       "      <th>45321</th>\n",
       "      <td>the flaws inherent in how medical aid is made ...</td>\n",
       "      <td>2</td>\n",
       "    </tr>\n",
       "    <tr>\n",
       "      <th>...</th>\n",
       "      <td>...</td>\n",
       "      <td>...</td>\n",
       "    </tr>\n",
       "    <tr>\n",
       "      <th>120005</th>\n",
       "      <td>of American Pie hijinks</td>\n",
       "      <td>1</td>\n",
       "    </tr>\n",
       "    <tr>\n",
       "      <th>20999</th>\n",
       "      <td>viewing alternative</td>\n",
       "      <td>2</td>\n",
       "    </tr>\n",
       "    <tr>\n",
       "      <th>137663</th>\n",
       "      <td>Thriller directorial debut for Traffic scribe ...</td>\n",
       "      <td>3</td>\n",
       "    </tr>\n",
       "    <tr>\n",
       "      <th>14412</th>\n",
       "      <td>It challenges , this nervy oddity , like moder...</td>\n",
       "      <td>3</td>\n",
       "    </tr>\n",
       "    <tr>\n",
       "      <th>58440</th>\n",
       "      <td>is that they 're stuck with a script that prev...</td>\n",
       "      <td>1</td>\n",
       "    </tr>\n",
       "  </tbody>\n",
       "</table>\n",
       "<p>46818 rows × 2 columns</p>\n",
       "</div>"
      ],
      "text/plain": [
       "                                                   Phrase  Sentiment\n",
       "94982   another iteration of what 's become one of the...          1\n",
       "132780                                             #NAME?          2\n",
       "25924        remember the lessons of the trickster spider          2\n",
       "115983                       the transcendent performance          4\n",
       "45321   the flaws inherent in how medical aid is made ...          2\n",
       "...                                                   ...        ...\n",
       "120005                            of American Pie hijinks          1\n",
       "20999                                 viewing alternative          2\n",
       "137663  Thriller directorial debut for Traffic scribe ...          3\n",
       "14412   It challenges , this nervy oddity , like moder...          3\n",
       "58440   is that they 're stuck with a script that prev...          1\n",
       "\n",
       "[46818 rows x 2 columns]"
      ]
     },
     "execution_count": 88,
     "metadata": {},
     "output_type": "execute_result"
    }
   ],
   "source": [
    "validation_df"
   ]
  },
  {
   "cell_type": "code",
   "execution_count": 89,
   "id": "a8663a24-4f82-4b79-8efa-0703f29f2196",
   "metadata": {},
   "outputs": [
    {
     "data": {
      "text/plain": [
       "array([[0.35124218, 0.49508047, 0.42328304, 0.40976202, 0.49353117],\n",
       "       [0.01830212, 0.26754817, 0.89429593, 0.31163877, 0.01045383],\n",
       "       [0.12968063, 0.2599892 , 0.33151105, 0.6286491 , 0.69934726],\n",
       "       ...,\n",
       "       [0.44079593, 0.72953033, 0.52047783, 0.4344295 , 0.26073414],\n",
       "       [0.01559354, 0.29176456, 0.7811119 , 0.503976  , 0.02066441],\n",
       "       [0.01887997, 0.26541346, 0.6408404 , 0.60548234, 0.06311299]],\n",
       "      dtype=float32)"
      ]
     },
     "execution_count": 89,
     "metadata": {},
     "output_type": "execute_result"
    }
   ],
   "source": [
    "pred_validation"
   ]
  },
  {
   "cell_type": "code",
   "execution_count": 91,
   "id": "f0c0283c-86cd-427c-b975-c32f3760c2c5",
   "metadata": {},
   "outputs": [
    {
     "name": "stdout",
     "output_type": "stream",
     "text": [
      "              precision    recall  f1-score   support\n",
      "\n",
      "           0       0.06      0.03      0.04      2067\n",
      "           1       0.21      0.14      0.17      8168\n",
      "           2       0.56      0.64      0.60     23859\n",
      "           3       0.22      0.22      0.22     10010\n",
      "           4       0.08      0.11      0.09      2714\n",
      "\n",
      "    accuracy                           0.40     46818\n",
      "   macro avg       0.23      0.23      0.22     46818\n",
      "weighted avg       0.38      0.40      0.39     46818\n",
      "\n"
     ]
    }
   ],
   "source": [
    "print(classification_report(validation_df['Sentiment'], y_pred = LABELS_validation, labels = labels))"
   ]
  },
  {
   "cell_type": "code",
   "execution_count": 75,
   "id": "0c5a238b",
   "metadata": {},
   "outputs": [
    {
     "name": "stdout",
     "output_type": "stream",
     "text": [
      "3/3 [==============================] - 0s 5ms/step\n"
     ]
    }
   ],
   "source": [
    "pred = model.predict(X_test_padded)\n",
    "pred1=(pred > 0.5).astype(int)"
   ]
  },
  {
   "cell_type": "markdown",
   "id": "090a2395",
   "metadata": {},
   "source": [
    "The sentiment labels are:\n",
    "\n",
    "0 - negative\n",
    "1 - somewhat negative\n",
    "2 - neutral\n",
    "3 - somewhat positive\n",
    "4 - positive"
   ]
  },
  {
   "cell_type": "code",
   "execution_count": 86,
   "id": "d8175e37",
   "metadata": {},
   "outputs": [
    {
     "name": "stdout",
     "output_type": "stream",
     "text": [
      "3/3 [==============================] - 0s 6ms/step\n"
     ]
    }
   ],
   "source": [
    "labels = ['negative', 'somewhat negative', 'neutral','somewhat positive','positive']\n",
    "LABELS=[labels[i] for i in model.predict(X_test_padded).argmax(axis=-1)]"
   ]
  },
  {
   "cell_type": "markdown",
   "id": "e474ae4e",
   "metadata": {},
   "source": [
    "Predicted labels"
   ]
  },
  {
   "cell_type": "markdown",
   "id": "59a4f194",
   "metadata": {},
   "source": [
    "<font color=Navy>creating a dataframe with Phrase and Sentiment columns"
   ]
  },
  {
   "cell_type": "code",
   "execution_count": 72,
   "id": "c861f43c",
   "metadata": {},
   "outputs": [],
   "source": [
    "predicted = pd.DataFrame({'Phrase': test_df.iloc[:,0].values, 'Sentiment': LABELS})"
   ]
  },
  {
   "cell_type": "markdown",
   "id": "1ec236d3",
   "metadata": {},
   "source": [
    "<font color=Navy> Printing the predicted sequence"
   ]
  },
  {
   "cell_type": "code",
   "execution_count": 36,
   "id": "777bef0a",
   "metadata": {},
   "outputs": [
    {
     "data": {
      "text/html": [
       "<div>\n",
       "<style scoped>\n",
       "    .dataframe tbody tr th:only-of-type {\n",
       "        vertical-align: middle;\n",
       "    }\n",
       "\n",
       "    .dataframe tbody tr th {\n",
       "        vertical-align: top;\n",
       "    }\n",
       "\n",
       "    .dataframe thead th {\n",
       "        text-align: right;\n",
       "    }\n",
       "</style>\n",
       "<table border=\"1\" class=\"dataframe\">\n",
       "  <thead>\n",
       "    <tr style=\"text-align: right;\">\n",
       "      <th></th>\n",
       "      <th>Phrase</th>\n",
       "      <th>Sentiment</th>\n",
       "    </tr>\n",
       "  </thead>\n",
       "  <tbody>\n",
       "    <tr>\n",
       "      <th>0</th>\n",
       "      <td>An intermittently pleasing but mostly routine ...</td>\n",
       "      <td>negative</td>\n",
       "    </tr>\n",
       "    <tr>\n",
       "      <th>1</th>\n",
       "      <td>An intermittently pleasing but mostly routine ...</td>\n",
       "      <td>negative</td>\n",
       "    </tr>\n",
       "    <tr>\n",
       "      <th>2</th>\n",
       "      <td>An</td>\n",
       "      <td>neutral</td>\n",
       "    </tr>\n",
       "    <tr>\n",
       "      <th>3</th>\n",
       "      <td>intermittently pleasing but mostly routine effort</td>\n",
       "      <td>negative</td>\n",
       "    </tr>\n",
       "    <tr>\n",
       "      <th>4</th>\n",
       "      <td>intermittently pleasing but mostly routine</td>\n",
       "      <td>negative</td>\n",
       "    </tr>\n",
       "    <tr>\n",
       "      <th>...</th>\n",
       "      <td>...</td>\n",
       "      <td>...</td>\n",
       "    </tr>\n",
       "    <tr>\n",
       "      <th>64</th>\n",
       "      <td>-RRB-</td>\n",
       "      <td>neutral</td>\n",
       "    </tr>\n",
       "    <tr>\n",
       "      <th>65</th>\n",
       "      <td>that serves</td>\n",
       "      <td>somewhat positive</td>\n",
       "    </tr>\n",
       "    <tr>\n",
       "      <th>66</th>\n",
       "      <td>serves</td>\n",
       "      <td>neutral</td>\n",
       "    </tr>\n",
       "    <tr>\n",
       "      <th>67</th>\n",
       "      <td>as yet another example of the sad decline of B...</td>\n",
       "      <td>positive</td>\n",
       "    </tr>\n",
       "    <tr>\n",
       "      <th>68</th>\n",
       "      <td>as</td>\n",
       "      <td>neutral</td>\n",
       "    </tr>\n",
       "  </tbody>\n",
       "</table>\n",
       "<p>69 rows × 2 columns</p>\n",
       "</div>"
      ],
      "text/plain": [
       "                                               Phrase          Sentiment\n",
       "0   An intermittently pleasing but mostly routine ...           negative\n",
       "1   An intermittently pleasing but mostly routine ...           negative\n",
       "2                                                  An            neutral\n",
       "3   intermittently pleasing but mostly routine effort           negative\n",
       "4          intermittently pleasing but mostly routine           negative\n",
       "..                                                ...                ...\n",
       "64                                              -RRB-            neutral\n",
       "65                                        that serves  somewhat positive\n",
       "66                                             serves            neutral\n",
       "67  as yet another example of the sad decline of B...           positive\n",
       "68                                                 as            neutral\n",
       "\n",
       "[69 rows x 2 columns]"
      ]
     },
     "execution_count": 36,
     "metadata": {},
     "output_type": "execute_result"
    }
   ],
   "source": [
    "predicted\n"
   ]
  },
  {
   "cell_type": "markdown",
   "id": "e323ee45",
   "metadata": {},
   "source": [
    "<font color=Navy> writing the predicted sequence to .csv file"
   ]
  },
  {
   "cell_type": "code",
   "execution_count": null,
   "id": "004c00cc",
   "metadata": {},
   "outputs": [],
   "source": []
  }
 ],
 "metadata": {
  "kernelspec": {
   "display_name": "stock_market_prediction",
   "language": "python",
   "name": "stock_market_prediction"
  },
  "language_info": {
   "codemirror_mode": {
    "name": "ipython",
    "version": 3
   },
   "file_extension": ".py",
   "mimetype": "text/x-python",
   "name": "python",
   "nbconvert_exporter": "python",
   "pygments_lexer": "ipython3",
   "version": "3.10.6"
  }
 },
 "nbformat": 4,
 "nbformat_minor": 5
}
