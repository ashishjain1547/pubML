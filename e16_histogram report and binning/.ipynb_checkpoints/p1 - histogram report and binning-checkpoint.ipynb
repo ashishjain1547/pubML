{
 "cells": [
  {
   "cell_type": "code",
   "execution_count": 2,
   "id": "1bc15ea4-74ae-4e38-bb9a-784b6a757b74",
   "metadata": {},
   "outputs": [],
   "source": [
    "import pandas as pd\n",
    "import seaborn as sns\n",
    "from matplotlib import pyplot as plt"
   ]
  },
  {
   "cell_type": "code",
   "execution_count": 3,
   "id": "587cbb9a-e7b3-40e1-9a57-723ec8fe1c20",
   "metadata": {},
   "outputs": [],
   "source": [
    "df1 = pd.read_csv('sales_data_sample.csv')"
   ]
  },
  {
   "cell_type": "code",
   "execution_count": 4,
   "id": "aeef37cc-0c32-4ccc-b1ca-42d9e1233c60",
   "metadata": {},
   "outputs": [
    {
     "data": {
      "text/plain": [
       "(2823, 25)"
      ]
     },
     "execution_count": 4,
     "metadata": {},
     "output_type": "execute_result"
    }
   ],
   "source": [
    "df1.shape"
   ]
  },
  {
   "cell_type": "code",
   "execution_count": 5,
   "id": "2be75077-9c72-40b0-b29c-1b7be552316d",
   "metadata": {},
   "outputs": [
    {
     "data": {
      "text/plain": [
       "Index(['ORDERNUMBER', 'QUANTITYORDERED', 'PRICEEACH', 'ORDERLINENUMBER',\n",
       "       'SALES', 'ORDERDATE', 'STATUS', 'QTR_ID', 'MONTH_ID', 'YEAR_ID',\n",
       "       'PRODUCTLINE', 'MSRP', 'PRODUCTCODE', 'CUSTOMERNAME', 'PHONE',\n",
       "       'ADDRESSLINE1', 'ADDRESSLINE2', 'CITY', 'STATE', 'POSTALCODE',\n",
       "       'COUNTRY', 'TERRITORY', 'CONTACTLASTNAME', 'CONTACTFIRSTNAME',\n",
       "       'DEALSIZE'],\n",
       "      dtype='object')"
      ]
     },
     "execution_count": 5,
     "metadata": {},
     "output_type": "execute_result"
    }
   ],
   "source": [
    "df1.columns"
   ]
  },
  {
   "cell_type": "code",
   "execution_count": 6,
   "id": "ff5e82a2-aa59-46af-bb37-6fefb34ec62c",
   "metadata": {},
   "outputs": [
    {
     "data": {
      "text/html": [
       "<div>\n",
       "<style scoped>\n",
       "    .dataframe tbody tr th:only-of-type {\n",
       "        vertical-align: middle;\n",
       "    }\n",
       "\n",
       "    .dataframe tbody tr th {\n",
       "        vertical-align: top;\n",
       "    }\n",
       "\n",
       "    .dataframe thead th {\n",
       "        text-align: right;\n",
       "    }\n",
       "</style>\n",
       "<table border=\"1\" class=\"dataframe\">\n",
       "  <thead>\n",
       "    <tr style=\"text-align: right;\">\n",
       "      <th></th>\n",
       "      <th>ORDERNUMBER</th>\n",
       "      <th>QUANTITYORDERED</th>\n",
       "      <th>PRICEEACH</th>\n",
       "      <th>ORDERLINENUMBER</th>\n",
       "      <th>SALES</th>\n",
       "      <th>ORDERDATE</th>\n",
       "      <th>STATUS</th>\n",
       "      <th>QTR_ID</th>\n",
       "      <th>MONTH_ID</th>\n",
       "      <th>YEAR_ID</th>\n",
       "      <th>...</th>\n",
       "      <th>ADDRESSLINE1</th>\n",
       "      <th>ADDRESSLINE2</th>\n",
       "      <th>CITY</th>\n",
       "      <th>STATE</th>\n",
       "      <th>POSTALCODE</th>\n",
       "      <th>COUNTRY</th>\n",
       "      <th>TERRITORY</th>\n",
       "      <th>CONTACTLASTNAME</th>\n",
       "      <th>CONTACTFIRSTNAME</th>\n",
       "      <th>DEALSIZE</th>\n",
       "    </tr>\n",
       "  </thead>\n",
       "  <tbody>\n",
       "    <tr>\n",
       "      <th>0</th>\n",
       "      <td>10107</td>\n",
       "      <td>30</td>\n",
       "      <td>95.70</td>\n",
       "      <td>2</td>\n",
       "      <td>2871.00</td>\n",
       "      <td>2/24/2003 0:00</td>\n",
       "      <td>Shipped</td>\n",
       "      <td>1</td>\n",
       "      <td>2</td>\n",
       "      <td>2003</td>\n",
       "      <td>...</td>\n",
       "      <td>897 Long Airport Avenue</td>\n",
       "      <td>NaN</td>\n",
       "      <td>NYC</td>\n",
       "      <td>NY</td>\n",
       "      <td>10022</td>\n",
       "      <td>USA</td>\n",
       "      <td>NaN</td>\n",
       "      <td>Yu</td>\n",
       "      <td>Kwai</td>\n",
       "      <td>Small</td>\n",
       "    </tr>\n",
       "    <tr>\n",
       "      <th>1</th>\n",
       "      <td>10121</td>\n",
       "      <td>34</td>\n",
       "      <td>81.35</td>\n",
       "      <td>5</td>\n",
       "      <td>2765.90</td>\n",
       "      <td>5/7/2003 0:00</td>\n",
       "      <td>Shipped</td>\n",
       "      <td>2</td>\n",
       "      <td>5</td>\n",
       "      <td>2003</td>\n",
       "      <td>...</td>\n",
       "      <td>59 rue de l'Abbaye</td>\n",
       "      <td>NaN</td>\n",
       "      <td>Reims</td>\n",
       "      <td>NaN</td>\n",
       "      <td>51100</td>\n",
       "      <td>France</td>\n",
       "      <td>EMEA</td>\n",
       "      <td>Henriot</td>\n",
       "      <td>Paul</td>\n",
       "      <td>Small</td>\n",
       "    </tr>\n",
       "    <tr>\n",
       "      <th>2</th>\n",
       "      <td>10134</td>\n",
       "      <td>41</td>\n",
       "      <td>94.74</td>\n",
       "      <td>2</td>\n",
       "      <td>3884.34</td>\n",
       "      <td>7/1/2003 0:00</td>\n",
       "      <td>Shipped</td>\n",
       "      <td>3</td>\n",
       "      <td>7</td>\n",
       "      <td>2003</td>\n",
       "      <td>...</td>\n",
       "      <td>27 rue du Colonel Pierre Avia</td>\n",
       "      <td>NaN</td>\n",
       "      <td>Paris</td>\n",
       "      <td>NaN</td>\n",
       "      <td>75508</td>\n",
       "      <td>France</td>\n",
       "      <td>EMEA</td>\n",
       "      <td>Da Cunha</td>\n",
       "      <td>Daniel</td>\n",
       "      <td>Medium</td>\n",
       "    </tr>\n",
       "    <tr>\n",
       "      <th>3</th>\n",
       "      <td>10145</td>\n",
       "      <td>45</td>\n",
       "      <td>83.26</td>\n",
       "      <td>6</td>\n",
       "      <td>3746.70</td>\n",
       "      <td>8/25/2003 0:00</td>\n",
       "      <td>Shipped</td>\n",
       "      <td>3</td>\n",
       "      <td>8</td>\n",
       "      <td>2003</td>\n",
       "      <td>...</td>\n",
       "      <td>78934 Hillside Dr.</td>\n",
       "      <td>NaN</td>\n",
       "      <td>Pasadena</td>\n",
       "      <td>CA</td>\n",
       "      <td>90003</td>\n",
       "      <td>USA</td>\n",
       "      <td>NaN</td>\n",
       "      <td>Young</td>\n",
       "      <td>Julie</td>\n",
       "      <td>Medium</td>\n",
       "    </tr>\n",
       "    <tr>\n",
       "      <th>4</th>\n",
       "      <td>10159</td>\n",
       "      <td>49</td>\n",
       "      <td>100.00</td>\n",
       "      <td>14</td>\n",
       "      <td>5205.27</td>\n",
       "      <td>10/10/2003 0:00</td>\n",
       "      <td>Shipped</td>\n",
       "      <td>4</td>\n",
       "      <td>10</td>\n",
       "      <td>2003</td>\n",
       "      <td>...</td>\n",
       "      <td>7734 Strong St.</td>\n",
       "      <td>NaN</td>\n",
       "      <td>San Francisco</td>\n",
       "      <td>CA</td>\n",
       "      <td>NaN</td>\n",
       "      <td>USA</td>\n",
       "      <td>NaN</td>\n",
       "      <td>Brown</td>\n",
       "      <td>Julie</td>\n",
       "      <td>Medium</td>\n",
       "    </tr>\n",
       "  </tbody>\n",
       "</table>\n",
       "<p>5 rows × 25 columns</p>\n",
       "</div>"
      ],
      "text/plain": [
       "   ORDERNUMBER  QUANTITYORDERED  PRICEEACH  ORDERLINENUMBER    SALES  \\\n",
       "0        10107               30      95.70                2  2871.00   \n",
       "1        10121               34      81.35                5  2765.90   \n",
       "2        10134               41      94.74                2  3884.34   \n",
       "3        10145               45      83.26                6  3746.70   \n",
       "4        10159               49     100.00               14  5205.27   \n",
       "\n",
       "         ORDERDATE   STATUS  QTR_ID  MONTH_ID  YEAR_ID  ...  \\\n",
       "0   2/24/2003 0:00  Shipped       1         2     2003  ...   \n",
       "1    5/7/2003 0:00  Shipped       2         5     2003  ...   \n",
       "2    7/1/2003 0:00  Shipped       3         7     2003  ...   \n",
       "3   8/25/2003 0:00  Shipped       3         8     2003  ...   \n",
       "4  10/10/2003 0:00  Shipped       4        10     2003  ...   \n",
       "\n",
       "                    ADDRESSLINE1  ADDRESSLINE2           CITY STATE  \\\n",
       "0        897 Long Airport Avenue           NaN            NYC    NY   \n",
       "1             59 rue de l'Abbaye           NaN          Reims   NaN   \n",
       "2  27 rue du Colonel Pierre Avia           NaN          Paris   NaN   \n",
       "3             78934 Hillside Dr.           NaN       Pasadena    CA   \n",
       "4                7734 Strong St.           NaN  San Francisco    CA   \n",
       "\n",
       "  POSTALCODE COUNTRY TERRITORY CONTACTLASTNAME CONTACTFIRSTNAME DEALSIZE  \n",
       "0      10022     USA       NaN              Yu             Kwai    Small  \n",
       "1      51100  France      EMEA         Henriot             Paul    Small  \n",
       "2      75508  France      EMEA        Da Cunha           Daniel   Medium  \n",
       "3      90003     USA       NaN           Young            Julie   Medium  \n",
       "4        NaN     USA       NaN           Brown            Julie   Medium  \n",
       "\n",
       "[5 rows x 25 columns]"
      ]
     },
     "execution_count": 6,
     "metadata": {},
     "output_type": "execute_result"
    }
   ],
   "source": [
    "df1.head()"
   ]
  },
  {
   "cell_type": "code",
   "execution_count": 7,
   "id": "0b740290-445d-4321-9146-af3393d953b2",
   "metadata": {},
   "outputs": [],
   "source": [
    "bin_columns = ['PRICEEACH', 'SALES']"
   ]
  },
  {
   "cell_type": "code",
   "execution_count": 8,
   "id": "0fe7b951-7f2d-4a3e-9954-adfd27f4cf0b",
   "metadata": {},
   "outputs": [
    {
     "data": {
      "image/png": "[encoded data removed]",
      "text/plain": [
       "<Figure size 640x480 with 1 Axes>"
      ]
     },
     "metadata": {},
     "output_type": "display_data"
    },
    {
     "data": {
      "image/png": "[encoded data removed]",
      "text/plain": [
       "<Figure size 640x480 with 1 Axes>"
      ]
     },
     "metadata": {},
     "output_type": "display_data"
    }
   ],
   "source": [
    "for i, col in enumerate(bin_columns):\n",
    "    plt.figure(i)\n",
    "    sns.histplot(data=df1, x = col)"
   ]
  },
  {
   "cell_type": "code",
   "execution_count": 9,
   "id": "ffbbcb2c-181d-40ac-a025-a7f0bcc72ff1",
   "metadata": {},
   "outputs": [
    {
     "data": {
      "text/plain": [
       "<AxesSubplot:xlabel='SALES', ylabel='Count'>"
      ]
     },
     "execution_count": 9,
     "metadata": {},
     "output_type": "execute_result"
    },
    {
     "data": {
      "image/png": "[encoded data removed]",
      "text/plain": [
       "<Figure size 640x480 with 1 Axes>"
      ]
     },
     "metadata": {},
     "output_type": "display_data"
    }
   ],
   "source": [
    "sns.histplot(data=df1, x = 'SALES', binwidth = 2000)"
   ]
  },
  {
   "cell_type": "code",
   "execution_count": 10,
   "id": "0f7cde37-97ed-4144-a127-faf7695e1c1f",
   "metadata": {},
   "outputs": [],
   "source": [
    "bins = [0, 2000, 4000, 6000, 8000, 10000, 12000, 14000]\n",
    "df1['bins'] = pd.cut(df1['SALES'], bins)"
   ]
  },
  {
   "cell_type": "code",
   "execution_count": 11,
   "id": "2588f62e-3eaf-4d83-a9d7-d8648ad52bf2",
   "metadata": {},
   "outputs": [
    {
     "data": {
      "text/plain": [
       "(2000, 4000]      1340\n",
       "(4000, 6000]       624\n",
       "(0, 2000]          565\n",
       "(6000, 8000]       215\n",
       "(8000, 10000]       63\n",
       "(10000, 12000]      13\n",
       "(12000, 14000]       2\n",
       "Name: bins, dtype: int64"
      ]
     },
     "execution_count": 11,
     "metadata": {},
     "output_type": "execute_result"
    }
   ],
   "source": [
    "df1['bins'].value_counts()"
   ]
  },
  {
   "cell_type": "code",
   "execution_count": null,
   "id": "ff4864a8-6af9-41f5-a093-7bd797f64094",
   "metadata": {},
   "outputs": [],
   "source": []
  }
 ],
 "metadata": {
  "kernelspec": {
   "display_name": "Python 3 (ipykernel)",
   "language": "python",
   "name": "python3"
  },
  "language_info": {
   "codemirror_mode": {
    "name": "ipython",
    "version": 3
   },
   "file_extension": ".py",
   "mimetype": "text/x-python",
   "name": "python",
   "nbconvert_exporter": "python",
   "pygments_lexer": "ipython3",
   "version": "3.9.13"
  }
 },
 "nbformat": 4,
 "nbformat_minor": 5
}
