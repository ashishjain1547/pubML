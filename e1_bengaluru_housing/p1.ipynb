{
 "cells": [
  {
   "cell_type": "code",
   "execution_count": 192,
   "id": "19ecf347-b307-497f-bb4d-33009e34b7db",
   "metadata": {},
   "outputs": [],
   "source": [
    "import pandas as pd\n",
    "from copy import deepcopy\n",
    "from collections import Counter\n",
    "import random\n",
    "\n",
    "import numpy as np\n",
    "import statsmodels.api as sm"
   ]
  },
  {
   "cell_type": "code",
   "execution_count": 193,
   "id": "2047dacc-1200-4871-b555-0009b358247a",
   "metadata": {},
   "outputs": [],
   "source": [
    "df = pd.read_csv('Bengaluru_House_Data.csv')"
   ]
  },
  {
   "cell_type": "code",
   "execution_count": 194,
   "id": "eb583388-700d-487a-8205-2f1ab10a5199",
   "metadata": {},
   "outputs": [
    {
     "data": {
      "text/html": [
       "<div>\n",
       "<style scoped>\n",
       "    .dataframe tbody tr th:only-of-type {\n",
       "        vertical-align: middle;\n",
       "    }\n",
       "\n",
       "    .dataframe tbody tr th {\n",
       "        vertical-align: top;\n",
       "    }\n",
       "\n",
       "    .dataframe thead th {\n",
       "        text-align: right;\n",
       "    }\n",
       "</style>\n",
       "<table border=\"1\" class=\"dataframe\">\n",
       "  <thead>\n",
       "    <tr style=\"text-align: right;\">\n",
       "      <th></th>\n",
       "      <th>area_type</th>\n",
       "      <th>availability</th>\n",
       "      <th>location</th>\n",
       "      <th>size</th>\n",
       "      <th>society</th>\n",
       "      <th>total_sqft</th>\n",
       "      <th>bath</th>\n",
       "      <th>balcony</th>\n",
       "      <th>price</th>\n",
       "    </tr>\n",
       "  </thead>\n",
       "  <tbody>\n",
       "    <tr>\n",
       "      <th>0</th>\n",
       "      <td>Super built-up  Area</td>\n",
       "      <td>19-Dec</td>\n",
       "      <td>Electronic City Phase II</td>\n",
       "      <td>2 BHK</td>\n",
       "      <td>Coomee</td>\n",
       "      <td>1056</td>\n",
       "      <td>2.0</td>\n",
       "      <td>1.0</td>\n",
       "      <td>39.07</td>\n",
       "    </tr>\n",
       "    <tr>\n",
       "      <th>1</th>\n",
       "      <td>Plot  Area</td>\n",
       "      <td>Ready To Move</td>\n",
       "      <td>Chikka Tirupathi</td>\n",
       "      <td>4 Bedroom</td>\n",
       "      <td>Theanmp</td>\n",
       "      <td>2600</td>\n",
       "      <td>5.0</td>\n",
       "      <td>3.0</td>\n",
       "      <td>120.00</td>\n",
       "    </tr>\n",
       "    <tr>\n",
       "      <th>2</th>\n",
       "      <td>Built-up  Area</td>\n",
       "      <td>Ready To Move</td>\n",
       "      <td>Uttarahalli</td>\n",
       "      <td>3 BHK</td>\n",
       "      <td>NaN</td>\n",
       "      <td>1440</td>\n",
       "      <td>2.0</td>\n",
       "      <td>3.0</td>\n",
       "      <td>62.00</td>\n",
       "    </tr>\n",
       "    <tr>\n",
       "      <th>3</th>\n",
       "      <td>Super built-up  Area</td>\n",
       "      <td>Ready To Move</td>\n",
       "      <td>Lingadheeranahalli</td>\n",
       "      <td>3 BHK</td>\n",
       "      <td>Soiewre</td>\n",
       "      <td>1521</td>\n",
       "      <td>3.0</td>\n",
       "      <td>1.0</td>\n",
       "      <td>95.00</td>\n",
       "    </tr>\n",
       "    <tr>\n",
       "      <th>4</th>\n",
       "      <td>Super built-up  Area</td>\n",
       "      <td>Ready To Move</td>\n",
       "      <td>Kothanur</td>\n",
       "      <td>2 BHK</td>\n",
       "      <td>NaN</td>\n",
       "      <td>1200</td>\n",
       "      <td>2.0</td>\n",
       "      <td>1.0</td>\n",
       "      <td>51.00</td>\n",
       "    </tr>\n",
       "  </tbody>\n",
       "</table>\n",
       "</div>"
      ],
      "text/plain": [
       "              area_type   availability                  location       size  \\\n",
       "0  Super built-up  Area         19-Dec  Electronic City Phase II      2 BHK   \n",
       "1            Plot  Area  Ready To Move          Chikka Tirupathi  4 Bedroom   \n",
       "2        Built-up  Area  Ready To Move               Uttarahalli      3 BHK   \n",
       "3  Super built-up  Area  Ready To Move        Lingadheeranahalli      3 BHK   \n",
       "4  Super built-up  Area  Ready To Move                  Kothanur      2 BHK   \n",
       "\n",
       "   society total_sqft  bath  balcony   price  \n",
       "0  Coomee        1056   2.0      1.0   39.07  \n",
       "1  Theanmp       2600   5.0      3.0  120.00  \n",
       "2      NaN       1440   2.0      3.0   62.00  \n",
       "3  Soiewre       1521   3.0      1.0   95.00  \n",
       "4      NaN       1200   2.0      1.0   51.00  "
      ]
     },
     "execution_count": 194,
     "metadata": {},
     "output_type": "execute_result"
    }
   ],
   "source": [
    "df.head()"
   ]
  },
  {
   "cell_type": "code",
   "execution_count": 195,
   "id": "bad8cb5d-3acf-4d39-a410-6f95446d970a",
   "metadata": {},
   "outputs": [
    {
     "data": {
      "text/plain": [
       "(13320, 9)"
      ]
     },
     "execution_count": 195,
     "metadata": {},
     "output_type": "execute_result"
    }
   ],
   "source": [
    "df.shape"
   ]
  },
  {
   "cell_type": "code",
   "execution_count": 196,
   "id": "3a1ccf6e-3650-4c9a-a47d-974587c4a972",
   "metadata": {},
   "outputs": [],
   "source": [
    "df_2 = deepcopy(df)"
   ]
  },
  {
   "cell_type": "code",
   "execution_count": 197,
   "id": "7ffb1dd0-1721-46b2-86bf-56b62850d407",
   "metadata": {},
   "outputs": [],
   "source": [
    "df_2.dropna(inplace = True)"
   ]
  },
  {
   "cell_type": "code",
   "execution_count": 198,
   "id": "39fa49c6-f2d2-4529-bd89-f7db67b2279b",
   "metadata": {},
   "outputs": [
    {
     "data": {
      "text/plain": [
       "(7496, 9)"
      ]
     },
     "execution_count": 198,
     "metadata": {},
     "output_type": "execute_result"
    }
   ],
   "source": [
    "df_2.shape"
   ]
  },
  {
   "cell_type": "code",
   "execution_count": 199,
   "id": "351ae6c2-6cc3-4ddb-b13a-0a7402d16cbe",
   "metadata": {},
   "outputs": [],
   "source": [
    "df.dropna(subset=['size'], inplace = True)"
   ]
  },
  {
   "cell_type": "code",
   "execution_count": 200,
   "id": "61cd1cbf-5090-429b-987e-0bba9a973651",
   "metadata": {},
   "outputs": [
    {
     "data": {
      "text/plain": [
       "(13304, 9)"
      ]
     },
     "execution_count": 200,
     "metadata": {},
     "output_type": "execute_result"
    }
   ],
   "source": [
    "df.shape"
   ]
  },
  {
   "cell_type": "code",
   "execution_count": 201,
   "id": "ae31b3cf-7fc9-438e-ad3a-84f48dd7fb64",
   "metadata": {},
   "outputs": [],
   "source": [
    "df['size_num'] = [float(i.split()[0]) for i in list(df['size'].values)]"
   ]
  },
  {
   "cell_type": "code",
   "execution_count": 202,
   "id": "86c1d7b6-cdad-42a2-aa4e-b6a0af6b2984",
   "metadata": {},
   "outputs": [
    {
     "data": {
      "text/plain": [
       "Index(['area_type', 'availability', 'location', 'size', 'society',\n",
       "       'total_sqft', 'bath', 'balcony', 'price', 'size_num'],\n",
       "      dtype='object')"
      ]
     },
     "execution_count": 202,
     "metadata": {},
     "output_type": "execute_result"
    }
   ],
   "source": [
    "df.columns"
   ]
  },
  {
   "cell_type": "code",
   "execution_count": 203,
   "id": "444c4bc3-5f49-4b47-9977-b50788b28b8d",
   "metadata": {},
   "outputs": [
    {
     "data": {
      "text/plain": [
       "array(['19-Dec', 'Ready To Move', '18-May', '18-Feb', '18-Nov', '20-Dec',\n",
       "       '17-Oct', '21-Dec', '19-Sep', '20-Sep', '18-Mar', '20-Feb',\n",
       "       '18-Apr', '20-Aug', '18-Oct', '19-Mar', '17-Sep', '18-Dec',\n",
       "       '17-Aug', '19-Apr', '18-Jun', '22-Dec', '22-Jan', '18-Aug',\n",
       "       '19-Jan', '17-Jul', '18-Jul', '21-Jun', '20-May', '19-Aug',\n",
       "       '18-Sep', '17-May', '17-Jun', '21-May', '18-Jan', '20-Mar',\n",
       "       '17-Dec', '16-Mar', '19-Jun', '22-Jun', '19-Jul', '21-Feb',\n",
       "       '19-May', '17-Nov', '20-Oct', '20-Jun', '19-Feb', '21-Oct',\n",
       "       '21-Jan', '17-Mar', '17-Apr', '22-May', '19-Oct', '21-Jul',\n",
       "       '21-Nov', '21-Mar', '16-Dec', '22-Mar', '20-Jan', '21-Sep',\n",
       "       '21-Aug', '14-Nov', '19-Nov', '15-Nov', '16-Jul', '15-Jun',\n",
       "       '17-Feb', '20-Nov', '20-Jul', '16-Sep', '15-Oct', '15-Dec',\n",
       "       '16-Oct', '22-Nov', '15-Aug', '17-Jan', '16-Nov', '20-Apr',\n",
       "       '16-Jan', '14-Jul'], dtype=object)"
      ]
     },
     "execution_count": 203,
     "metadata": {},
     "output_type": "execute_result"
    }
   ],
   "source": [
    "df['availability'].unique()"
   ]
  },
  {
   "cell_type": "code",
   "execution_count": 204,
   "id": "fa47d3e8-87b3-4e6e-b8bb-4ba745455d55",
   "metadata": {},
   "outputs": [],
   "source": [
    "# [unicode(x.strip()) if x is not None else '' for x in row]\n",
    "df['availability_num'] = [1 if x == 'Ready To Move' else 0 for x in list(df['availability'].values)]"
   ]
  },
  {
   "cell_type": "code",
   "execution_count": 205,
   "id": "c81a2b3e-e843-4888-bcb8-bba7e64bc9e5",
   "metadata": {},
   "outputs": [
    {
     "data": {
      "text/html": [
       "<div>\n",
       "<style scoped>\n",
       "    .dataframe tbody tr th:only-of-type {\n",
       "        vertical-align: middle;\n",
       "    }\n",
       "\n",
       "    .dataframe tbody tr th {\n",
       "        vertical-align: top;\n",
       "    }\n",
       "\n",
       "    .dataframe thead th {\n",
       "        text-align: right;\n",
       "    }\n",
       "</style>\n",
       "<table border=\"1\" class=\"dataframe\">\n",
       "  <thead>\n",
       "    <tr style=\"text-align: right;\">\n",
       "      <th></th>\n",
       "      <th>area_type</th>\n",
       "      <th>availability</th>\n",
       "      <th>location</th>\n",
       "      <th>size</th>\n",
       "      <th>society</th>\n",
       "      <th>total_sqft</th>\n",
       "      <th>bath</th>\n",
       "      <th>balcony</th>\n",
       "      <th>price</th>\n",
       "      <th>size_num</th>\n",
       "      <th>availability_num</th>\n",
       "    </tr>\n",
       "  </thead>\n",
       "  <tbody>\n",
       "    <tr>\n",
       "      <th>0</th>\n",
       "      <td>Super built-up  Area</td>\n",
       "      <td>19-Dec</td>\n",
       "      <td>Electronic City Phase II</td>\n",
       "      <td>2 BHK</td>\n",
       "      <td>Coomee</td>\n",
       "      <td>1056</td>\n",
       "      <td>2.0</td>\n",
       "      <td>1.0</td>\n",
       "      <td>39.07</td>\n",
       "      <td>2.0</td>\n",
       "      <td>0</td>\n",
       "    </tr>\n",
       "    <tr>\n",
       "      <th>1</th>\n",
       "      <td>Plot  Area</td>\n",
       "      <td>Ready To Move</td>\n",
       "      <td>Chikka Tirupathi</td>\n",
       "      <td>4 Bedroom</td>\n",
       "      <td>Theanmp</td>\n",
       "      <td>2600</td>\n",
       "      <td>5.0</td>\n",
       "      <td>3.0</td>\n",
       "      <td>120.00</td>\n",
       "      <td>4.0</td>\n",
       "      <td>1</td>\n",
       "    </tr>\n",
       "    <tr>\n",
       "      <th>2</th>\n",
       "      <td>Built-up  Area</td>\n",
       "      <td>Ready To Move</td>\n",
       "      <td>Uttarahalli</td>\n",
       "      <td>3 BHK</td>\n",
       "      <td>NaN</td>\n",
       "      <td>1440</td>\n",
       "      <td>2.0</td>\n",
       "      <td>3.0</td>\n",
       "      <td>62.00</td>\n",
       "      <td>3.0</td>\n",
       "      <td>1</td>\n",
       "    </tr>\n",
       "    <tr>\n",
       "      <th>3</th>\n",
       "      <td>Super built-up  Area</td>\n",
       "      <td>Ready To Move</td>\n",
       "      <td>Lingadheeranahalli</td>\n",
       "      <td>3 BHK</td>\n",
       "      <td>Soiewre</td>\n",
       "      <td>1521</td>\n",
       "      <td>3.0</td>\n",
       "      <td>1.0</td>\n",
       "      <td>95.00</td>\n",
       "      <td>3.0</td>\n",
       "      <td>1</td>\n",
       "    </tr>\n",
       "    <tr>\n",
       "      <th>4</th>\n",
       "      <td>Super built-up  Area</td>\n",
       "      <td>Ready To Move</td>\n",
       "      <td>Kothanur</td>\n",
       "      <td>2 BHK</td>\n",
       "      <td>NaN</td>\n",
       "      <td>1200</td>\n",
       "      <td>2.0</td>\n",
       "      <td>1.0</td>\n",
       "      <td>51.00</td>\n",
       "      <td>2.0</td>\n",
       "      <td>1</td>\n",
       "    </tr>\n",
       "  </tbody>\n",
       "</table>\n",
       "</div>"
      ],
      "text/plain": [
       "              area_type   availability                  location       size  \\\n",
       "0  Super built-up  Area         19-Dec  Electronic City Phase II      2 BHK   \n",
       "1            Plot  Area  Ready To Move          Chikka Tirupathi  4 Bedroom   \n",
       "2        Built-up  Area  Ready To Move               Uttarahalli      3 BHK   \n",
       "3  Super built-up  Area  Ready To Move        Lingadheeranahalli      3 BHK   \n",
       "4  Super built-up  Area  Ready To Move                  Kothanur      2 BHK   \n",
       "\n",
       "   society total_sqft  bath  balcony   price  size_num  availability_num  \n",
       "0  Coomee        1056   2.0      1.0   39.07       2.0                 0  \n",
       "1  Theanmp       2600   5.0      3.0  120.00       4.0                 1  \n",
       "2      NaN       1440   2.0      3.0   62.00       3.0                 1  \n",
       "3  Soiewre       1521   3.0      1.0   95.00       3.0                 1  \n",
       "4      NaN       1200   2.0      1.0   51.00       2.0                 1  "
      ]
     },
     "execution_count": 205,
     "metadata": {},
     "output_type": "execute_result"
    }
   ],
   "source": [
    "df.head()"
   ]
  },
  {
   "cell_type": "code",
   "execution_count": 206,
   "id": "bf9b21e5-aef3-412a-913f-133cfe83e2ff",
   "metadata": {},
   "outputs": [
    {
     "data": {
      "text/plain": [
       "['Coomee ',\n",
       " 'Theanmp',\n",
       " nan,\n",
       " 'Soiewre',\n",
       " 'DuenaTa',\n",
       " 'Jaades ',\n",
       " 'Brway G',\n",
       " 'Prrry M',\n",
       " 'Shncyes',\n",
       " 'Skityer']"
      ]
     },
     "execution_count": 206,
     "metadata": {},
     "output_type": "execute_result"
    }
   ],
   "source": [
    "list(df['society'].unique())[:10]"
   ]
  },
  {
   "cell_type": "code",
   "execution_count": 207,
   "id": "85c27cfe-ae51-475b-b0bc-61792bc6c948",
   "metadata": {},
   "outputs": [
    {
     "data": {
      "text/plain": [
       "2676"
      ]
     },
     "execution_count": 207,
     "metadata": {},
     "output_type": "execute_result"
    }
   ],
   "source": [
    "df['society'].nunique()"
   ]
  },
  {
   "cell_type": "code",
   "execution_count": 208,
   "id": "032a06cb-5073-4d82-bc0b-162376d9ff15",
   "metadata": {},
   "outputs": [
    {
     "data": {
      "text/plain": [
       "(5499, 11)"
      ]
     },
     "execution_count": 208,
     "metadata": {},
     "output_type": "execute_result"
    }
   ],
   "source": [
    "df[df['society'].isnull()].shape"
   ]
  },
  {
   "cell_type": "code",
   "execution_count": 209,
   "id": "f6b946c0-27b5-4f60-988e-71b9e36db40f",
   "metadata": {},
   "outputs": [],
   "source": [
    "df['society_num'] = [1 if str(x) != 'nan' else 0 for x in list(df['society'].values)]"
   ]
  },
  {
   "cell_type": "code",
   "execution_count": 210,
   "id": "a9e074d7-3378-44e1-aed4-64407ea234dd",
   "metadata": {},
   "outputs": [
    {
     "data": {
      "text/plain": [
       "array([1, 0], dtype=int64)"
      ]
     },
     "execution_count": 210,
     "metadata": {},
     "output_type": "execute_result"
    }
   ],
   "source": [
    "df['society_num'].unique()"
   ]
  },
  {
   "cell_type": "code",
   "execution_count": 211,
   "id": "95b650e7-a2d2-4f74-bd03-476693740327",
   "metadata": {},
   "outputs": [
    {
     "data": {
      "text/plain": [
       "Counter({1: 7805, 0: 5499})"
      ]
     },
     "execution_count": 211,
     "metadata": {},
     "output_type": "execute_result"
    }
   ],
   "source": [
    "Counter(df['society_num'].values)"
   ]
  },
  {
   "cell_type": "code",
   "execution_count": 212,
   "id": "eca6cb46-c37d-4eb7-acec-8f40a63feac2",
   "metadata": {},
   "outputs": [
    {
     "data": {
      "text/html": [
       "<div>\n",
       "<style scoped>\n",
       "    .dataframe tbody tr th:only-of-type {\n",
       "        vertical-align: middle;\n",
       "    }\n",
       "\n",
       "    .dataframe tbody tr th {\n",
       "        vertical-align: top;\n",
       "    }\n",
       "\n",
       "    .dataframe thead th {\n",
       "        text-align: right;\n",
       "    }\n",
       "</style>\n",
       "<table border=\"1\" class=\"dataframe\">\n",
       "  <thead>\n",
       "    <tr style=\"text-align: right;\">\n",
       "      <th></th>\n",
       "      <th>area_type</th>\n",
       "      <th>availability</th>\n",
       "      <th>location</th>\n",
       "      <th>size</th>\n",
       "      <th>society</th>\n",
       "      <th>total_sqft</th>\n",
       "      <th>bath</th>\n",
       "      <th>balcony</th>\n",
       "      <th>price</th>\n",
       "      <th>size_num</th>\n",
       "      <th>availability_num</th>\n",
       "      <th>society_num</th>\n",
       "    </tr>\n",
       "  </thead>\n",
       "  <tbody>\n",
       "    <tr>\n",
       "      <th>0</th>\n",
       "      <td>Super built-up  Area</td>\n",
       "      <td>19-Dec</td>\n",
       "      <td>Electronic City Phase II</td>\n",
       "      <td>2 BHK</td>\n",
       "      <td>Coomee</td>\n",
       "      <td>1056</td>\n",
       "      <td>2.0</td>\n",
       "      <td>1.0</td>\n",
       "      <td>39.07</td>\n",
       "      <td>2.0</td>\n",
       "      <td>0</td>\n",
       "      <td>1</td>\n",
       "    </tr>\n",
       "    <tr>\n",
       "      <th>1</th>\n",
       "      <td>Plot  Area</td>\n",
       "      <td>Ready To Move</td>\n",
       "      <td>Chikka Tirupathi</td>\n",
       "      <td>4 Bedroom</td>\n",
       "      <td>Theanmp</td>\n",
       "      <td>2600</td>\n",
       "      <td>5.0</td>\n",
       "      <td>3.0</td>\n",
       "      <td>120.00</td>\n",
       "      <td>4.0</td>\n",
       "      <td>1</td>\n",
       "      <td>1</td>\n",
       "    </tr>\n",
       "    <tr>\n",
       "      <th>2</th>\n",
       "      <td>Built-up  Area</td>\n",
       "      <td>Ready To Move</td>\n",
       "      <td>Uttarahalli</td>\n",
       "      <td>3 BHK</td>\n",
       "      <td>NaN</td>\n",
       "      <td>1440</td>\n",
       "      <td>2.0</td>\n",
       "      <td>3.0</td>\n",
       "      <td>62.00</td>\n",
       "      <td>3.0</td>\n",
       "      <td>1</td>\n",
       "      <td>0</td>\n",
       "    </tr>\n",
       "    <tr>\n",
       "      <th>3</th>\n",
       "      <td>Super built-up  Area</td>\n",
       "      <td>Ready To Move</td>\n",
       "      <td>Lingadheeranahalli</td>\n",
       "      <td>3 BHK</td>\n",
       "      <td>Soiewre</td>\n",
       "      <td>1521</td>\n",
       "      <td>3.0</td>\n",
       "      <td>1.0</td>\n",
       "      <td>95.00</td>\n",
       "      <td>3.0</td>\n",
       "      <td>1</td>\n",
       "      <td>1</td>\n",
       "    </tr>\n",
       "    <tr>\n",
       "      <th>4</th>\n",
       "      <td>Super built-up  Area</td>\n",
       "      <td>Ready To Move</td>\n",
       "      <td>Kothanur</td>\n",
       "      <td>2 BHK</td>\n",
       "      <td>NaN</td>\n",
       "      <td>1200</td>\n",
       "      <td>2.0</td>\n",
       "      <td>1.0</td>\n",
       "      <td>51.00</td>\n",
       "      <td>2.0</td>\n",
       "      <td>1</td>\n",
       "      <td>0</td>\n",
       "    </tr>\n",
       "  </tbody>\n",
       "</table>\n",
       "</div>"
      ],
      "text/plain": [
       "              area_type   availability                  location       size  \\\n",
       "0  Super built-up  Area         19-Dec  Electronic City Phase II      2 BHK   \n",
       "1            Plot  Area  Ready To Move          Chikka Tirupathi  4 Bedroom   \n",
       "2        Built-up  Area  Ready To Move               Uttarahalli      3 BHK   \n",
       "3  Super built-up  Area  Ready To Move        Lingadheeranahalli      3 BHK   \n",
       "4  Super built-up  Area  Ready To Move                  Kothanur      2 BHK   \n",
       "\n",
       "   society total_sqft  bath  balcony   price  size_num  availability_num  \\\n",
       "0  Coomee        1056   2.0      1.0   39.07       2.0                 0   \n",
       "1  Theanmp       2600   5.0      3.0  120.00       4.0                 1   \n",
       "2      NaN       1440   2.0      3.0   62.00       3.0                 1   \n",
       "3  Soiewre       1521   3.0      1.0   95.00       3.0                 1   \n",
       "4      NaN       1200   2.0      1.0   51.00       2.0                 1   \n",
       "\n",
       "   society_num  \n",
       "0            1  \n",
       "1            1  \n",
       "2            0  \n",
       "3            1  \n",
       "4            0  "
      ]
     },
     "execution_count": 212,
     "metadata": {},
     "output_type": "execute_result"
    }
   ],
   "source": [
    "df.head()"
   ]
  },
  {
   "cell_type": "code",
   "execution_count": 213,
   "id": "d6d959af-b4f3-423b-862b-837d83ad410b",
   "metadata": {},
   "outputs": [
    {
     "data": {
      "text/plain": [
       "Index(['area_type', 'availability', 'location', 'size', 'society',\n",
       "       'total_sqft', 'bath', 'balcony', 'price', 'size_num',\n",
       "       'availability_num', 'society_num'],\n",
       "      dtype='object')"
      ]
     },
     "execution_count": 213,
     "metadata": {},
     "output_type": "execute_result"
    }
   ],
   "source": [
    "df.columns"
   ]
  },
  {
   "cell_type": "code",
   "execution_count": 214,
   "id": "15a2d135-f76d-4c18-b8db-51f0668d6ed0",
   "metadata": {},
   "outputs": [],
   "source": [
    "req_cols = ['total_sqft', 'bath', 'balcony', 'price', 'size_num', 'availability_num', 'society_num']"
   ]
  },
  {
   "cell_type": "code",
   "execution_count": 215,
   "id": "10f86505-533e-4400-a1c2-417152de40f0",
   "metadata": {},
   "outputs": [
    {
     "name": "stdout",
     "output_type": "stream",
     "text": [
      "(12978, 12)\n"
     ]
    }
   ],
   "source": [
    "df = df.loc[df['total_sqft'].str.isnumeric()]\n",
    "print(df.shape)"
   ]
  },
  {
   "cell_type": "code",
   "execution_count": 216,
   "id": "3a996ce4-ad03-491e-aa74-b4fc58231521",
   "metadata": {},
   "outputs": [],
   "source": [
    "df['total_sqft'] = [x.split(\" \")[0] for x in list(df['total_sqft'].values)]\n",
    "df['total_sqft'] = [x.split(\".\")[0] for x in list(df['total_sqft'].values)]\n",
    "df['total_sqft'] = [x.split(\"P\")[0] for x in list(df['total_sqft'].values)]\n",
    "df['total_sqft'] = [x.split(\"S\")[0] for x in list(df['total_sqft'].values)]\n",
    "df['total_sqft'] = [x.split(\"A\")[0] for x in list(df['total_sqft'].values)]\n",
    "df['total_sqft'] = [x.split(\"C\")[0] for x in list(df['total_sqft'].values)]\n",
    "df['total_sqft'] = [x.split(\"G\")[0] for x in list(df['total_sqft'].values)]\n",
    "df['total_sqft'] = [float(x) for x in list(df['total_sqft'].values)]"
   ]
  },
  {
   "cell_type": "code",
   "execution_count": 217,
   "id": "9625153c-d4b6-4e51-86cc-19b7734e87cb",
   "metadata": {},
   "outputs": [],
   "source": [
    "df_2 = df[req_cols]"
   ]
  },
  {
   "cell_type": "code",
   "execution_count": 218,
   "id": "cf59d57c-00e4-431d-86a8-9057db114628",
   "metadata": {},
   "outputs": [
    {
     "name": "stdout",
     "output_type": "stream",
     "text": [
      "Before dropping nulls: 12978\n",
      "After dropping nulls: 12439\n"
     ]
    },
    {
     "name": "stderr",
     "output_type": "stream",
     "text": [
      "E:\\programfiles\\Anaconda3\\lib\\site-packages\\ipykernel_launcher.py:2: SettingWithCopyWarning: \n",
      "A value is trying to be set on a copy of a slice from a DataFrame\n",
      "\n",
      "See the caveats in the documentation: https://pandas.pydata.org/pandas-docs/stable/user_guide/indexing.html#returning-a-view-versus-a-copy\n",
      "  \n"
     ]
    }
   ],
   "source": [
    "print(\"Before dropping nulls:\", df_2.shape[0])\n",
    "df_2.dropna(inplace = True)\n",
    "print(\"After dropping nulls:\", df_2.shape[0])"
   ]
  },
  {
   "cell_type": "code",
   "execution_count": null,
   "id": "8b4e0554-c3ce-49da-ac33-7692c0b18c57",
   "metadata": {},
   "outputs": [],
   "source": []
  },
  {
   "cell_type": "code",
   "execution_count": 219,
   "id": "54d9ef7a-8364-42fd-9b15-912bfb4218e2",
   "metadata": {},
   "outputs": [
    {
     "data": {
      "text/plain": [
       "(0, 12)"
      ]
     },
     "execution_count": 219,
     "metadata": {},
     "output_type": "execute_result"
    }
   ],
   "source": [
    "df[df['price'].isnull()].shape"
   ]
  },
  {
   "cell_type": "code",
   "execution_count": 220,
   "id": "4700a320-9e43-485a-be64-571c932a6244",
   "metadata": {},
   "outputs": [],
   "source": [
    "inx = list(range(df_2.shape[0]))"
   ]
  },
  {
   "cell_type": "code",
   "execution_count": 221,
   "id": "c1dac9a6-5be8-4a7f-b0d9-c3f67d03c441",
   "metadata": {},
   "outputs": [],
   "source": [
    "random.shuffle(inx)"
   ]
  },
  {
   "cell_type": "code",
   "execution_count": 222,
   "id": "29044115-87b2-4a7a-adfb-1ca85fcd3e51",
   "metadata": {},
   "outputs": [
    {
     "data": {
      "text/plain": [
       "[1758, 9196, 10616, 10678, 7621]"
      ]
     },
     "execution_count": 222,
     "metadata": {},
     "output_type": "execute_result"
    }
   ],
   "source": [
    "inx[0:5]"
   ]
  },
  {
   "cell_type": "code",
   "execution_count": 223,
   "id": "521f3a9e-3e9e-4027-8549-352de8985f6a",
   "metadata": {},
   "outputs": [
    {
     "data": {
      "text/plain": [
       "total_sqft          float64\n",
       "bath                float64\n",
       "balcony             float64\n",
       "price               float64\n",
       "size_num            float64\n",
       "availability_num      int64\n",
       "society_num           int64\n",
       "dtype: object"
      ]
     },
     "execution_count": 223,
     "metadata": {},
     "output_type": "execute_result"
    }
   ],
   "source": [
    "df_2.dtypes"
   ]
  },
  {
   "cell_type": "code",
   "execution_count": 224,
   "id": "d5b1a9bf-8965-46e3-b0cf-172d934550be",
   "metadata": {},
   "outputs": [],
   "source": [
    "df_train = df_2.iloc[inx[:round(len(inx) * 0.8)]]"
   ]
  },
  {
   "cell_type": "code",
   "execution_count": 225,
   "id": "b90c5974-1783-425d-b818-84e8876de7ca",
   "metadata": {},
   "outputs": [],
   "source": [
    "df_test = df_2.iloc[inx[round(len(inx) * 0.8):]]"
   ]
  },
  {
   "cell_type": "code",
   "execution_count": 226,
   "id": "59d1a100-a79d-4056-94d9-bba1804ccc9d",
   "metadata": {},
   "outputs": [
    {
     "name": "stdout",
     "output_type": "stream",
     "text": [
      "(9951, 7)\n",
      "(2488, 7)\n"
     ]
    }
   ],
   "source": [
    "print(df_train.shape)\n",
    "print(df_test.shape)"
   ]
  },
  {
   "cell_type": "code",
   "execution_count": 227,
   "id": "69e47688-6bb4-47a0-bf69-6dff2ecefe09",
   "metadata": {},
   "outputs": [],
   "source": [
    "train_cols = ['total_sqft', 'bath', 'balcony', 'size_num', 'availability_num', 'society_num']"
   ]
  },
  {
   "cell_type": "raw",
   "id": "896aa184-7dd2-4b36-874b-ef002585436d",
   "metadata": {},
   "source": [
    "df_2 = df_2.loc[df_2['total_sqft'].str.isnumeric()]\n",
    "print(df_2.shape)"
   ]
  },
  {
   "cell_type": "code",
   "execution_count": null,
   "id": "39db7a16-53c7-416c-811d-4769cea83068",
   "metadata": {},
   "outputs": [],
   "source": []
  },
  {
   "cell_type": "raw",
   "id": "3a2ff4c8-84dc-4edf-9b5b-338c9d3bf170",
   "metadata": {},
   "source": [
    "model = sm.OLS(list(df_train['price'].values), np.asarray(df_train[train_cols])).fit()\n",
    "print(model.summary())\n",
    "\n",
    "#TypeError: ufunc 'isfinite' not supported for the input types, and the inputs could not be safely coerced to any supported types according to the casting rule ''safe''"
   ]
  },
  {
   "cell_type": "raw",
   "id": "d9c849c9-58cc-4a54-9eeb-b7ec50957955",
   "metadata": {},
   "source": [
    "model = sm.OLS(list(df_train[['price']]), df_train[train_cols]).fit()\n",
    "print(model.summary())\n",
    "\n",
    "ValueError: Pandas data cast to numpy dtype of object. Check input data with np.asarray(data)."
   ]
  },
  {
   "cell_type": "raw",
   "id": "06913c9e-5b17-451b-ae5a-68a99609c43a",
   "metadata": {},
   "source": [
    "model = sm.OLS(df_train['price'], df_train[train_cols]).fit()\n",
    "print(model.summary())\n",
    "#ValueError: Pandas data cast to numpy dtype of object. Check input data with np.asarray(data)."
   ]
  },
  {
   "cell_type": "markdown",
   "id": "135829cd-0a54-4fae-8e3e-eba4ac73953c",
   "metadata": {},
   "source": [
    "# statsmodels"
   ]
  },
  {
   "cell_type": "code",
   "execution_count": 232,
   "id": "06612d27-64bc-4b0b-b6b0-fa0ce5f8ef9e",
   "metadata": {},
   "outputs": [
    {
     "name": "stdout",
     "output_type": "stream",
     "text": [
      "                                 OLS Regression Results                                \n",
      "=======================================================================================\n",
      "Dep. Variable:                  price   R-squared (uncentered):                   0.601\n",
      "Model:                            OLS   Adj. R-squared (uncentered):              0.601\n",
      "Method:                 Least Squares   F-statistic:                              2497.\n",
      "Date:                Tue, 15 Feb 2022   Prob (F-statistic):                        0.00\n",
      "Time:                        23:02:13   Log-Likelihood:                         -60574.\n",
      "No. Observations:                9951   AIC:                                  1.212e+05\n",
      "Df Residuals:                    9945   BIC:                                  1.212e+05\n",
      "Df Model:                           6                                                  \n",
      "Covariance Type:            nonrobust                                                  \n",
      "====================================================================================\n",
      "                       coef    std err          t      P>|t|      [0.025      0.975]\n",
      "------------------------------------------------------------------------------------\n",
      "total_sqft           0.0446      0.001     46.634      0.000       0.043       0.046\n",
      "bath                33.2404      1.931     17.213      0.000      29.455      37.026\n",
      "balcony             -3.6399      1.308     -2.783      0.005      -6.204      -1.076\n",
      "size_num            -7.3323      1.882     -3.895      0.000     -11.022      -3.642\n",
      "availability_num   -12.7984      2.374     -5.391      0.000     -17.452      -8.145\n",
      "society_num        -17.4278      2.039     -8.549      0.000     -21.424     -13.432\n",
      "==============================================================================\n",
      "Omnibus:                    11555.448   Durbin-Watson:                   2.041\n",
      "Prob(Omnibus):                  0.000   Jarque-Bera (JB):          8372243.537\n",
      "Skew:                           5.363   Prob(JB):                         0.00\n",
      "Kurtosis:                     144.694   Cond. No.                     4.92e+03\n",
      "==============================================================================\n",
      "\n",
      "Notes:\n",
      "[1] R² is computed without centering (uncentered) since the model does not contain a constant.\n",
      "[2] Standard Errors assume that the covariance matrix of the errors is correctly specified.\n",
      "[3] The condition number is large, 4.92e+03. This might indicate that there are\n",
      "strong multicollinearity or other numerical problems.\n"
     ]
    }
   ],
   "source": [
    "# https://www.statsmodels.org/dev/generated/statsmodels.regression.linear_model.OLS.html\n",
    "# https://www.statsmodels.org/dev/examples/notebooks/generated/ols.html\n",
    "model = sm.OLS(df_train['price'], df_train[train_cols]).fit()\n",
    "print(model.summary())"
   ]
  },
  {
   "cell_type": "markdown",
   "id": "b2e292e0-3017-4e4e-9386-080517c34aed",
   "metadata": {},
   "source": [
    "# sklearn"
   ]
  },
  {
   "cell_type": "code",
   "execution_count": 235,
   "id": "19ea9e90-d44f-46a7-b62b-42cb5e674414",
   "metadata": {},
   "outputs": [
    {
     "name": "stdout",
     "output_type": "stream",
     "text": [
      "0.34940031902653435\n",
      "[ 0.04533451 33.47626509  0.32725498 -3.31425155 -1.33303882 -9.04550627]\n",
      "-35.738924349929846\n"
     ]
    }
   ],
   "source": [
    "from sklearn.linear_model import LinearRegression\n",
    "\n",
    "reg = LinearRegression().fit(df_train[train_cols], df_train['price'])\n",
    "print(reg.score(df_train[train_cols], df_train['price']))\n",
    "print(reg.coef_)\n",
    "print(reg.intercept_)"
   ]
  },
  {
   "cell_type": "code",
   "execution_count": 237,
   "id": "714ccb19-bbdd-44b5-ac2e-34f85ec25be0",
   "metadata": {},
   "outputs": [
    {
     "data": {
      "text/plain": [
       "array([106.22467443, 204.69123783,  55.44948192, ...,  67.80186604,\n",
       "       141.61901378,  74.68122904])"
      ]
     },
     "execution_count": 237,
     "metadata": {},
     "output_type": "execute_result"
    }
   ],
   "source": [
    "reg.predict(df_test[train_cols])"
   ]
  },
  {
   "cell_type": "markdown",
   "id": "2dc7f4a3-5a49-46b6-ad43-27a6a0b1ca7d",
   "metadata": {},
   "source": [
    "# scipy.stats.linregress"
   ]
  },
  {
   "cell_type": "code",
   "execution_count": 243,
   "id": "c53069f9-4469-4d44-87dd-fe109ec37188",
   "metadata": {},
   "outputs": [],
   "source": [
    "from scipy.stats import linregress\n",
    "from scipy.optimize import curve_fit"
   ]
  },
  {
   "cell_type": "code",
   "execution_count": 241,
   "id": "d8207718-ddfe-4152-88e7-74e166f602ad",
   "metadata": {},
   "outputs": [
    {
     "name": "stdout",
     "output_type": "stream",
     "text": [
      "(9951, 6)\n",
      "(9951, 1)\n"
     ]
    }
   ],
   "source": [
    "print(df_train[train_cols].shape)\n",
    "print(df_train[['price']].shape)"
   ]
  },
  {
   "cell_type": "raw",
   "id": "b6dc88da-0f3d-4cc0-b01f-166704338307",
   "metadata": {},
   "source": [
    "slope, intercept, r, p, se = linregress(df_train[train_cols], df_train[['price']])\n",
    "\n",
    "ValueError: all the input array dimensions for the concatenation axis must match exactly, but along dimension 1, the array at index 0 has size 6 and the array at index 1 has size 1\n",
    "\n",
    "# https://docs.scipy.org/doc/scipy/reference/generated/scipy.stats.linregress.html"
   ]
  },
  {
   "cell_type": "code",
   "execution_count": 245,
   "id": "138756d1-e14d-465e-ad47-ad8817eb04ed",
   "metadata": {},
   "outputs": [],
   "source": [
    "def func(x, a, b, c):\n",
    "    return a * np.exp(-b * x) + c"
   ]
  },
  {
   "cell_type": "code",
   "execution_count": 247,
   "id": "cd1ba2fa-d103-4ba4-878d-3e95382107e5",
   "metadata": {},
   "outputs": [
    {
     "ename": "ValueError",
     "evalue": "object too deep for desired array",
     "output_type": "error",
     "traceback": [
      "\u001b[1;31m---------------------------------------------------------------------------\u001b[0m",
      "\u001b[1;31mValueError\u001b[0m                                Traceback (most recent call last)",
      "\u001b[1;31mValueError\u001b[0m: object too deep for desired array"
     ]
    },
    {
     "ename": "error",
     "evalue": "Result from function call is not a proper array of floats.",
     "output_type": "error",
     "traceback": [
      "\u001b[1;31m---------------------------------------------------------------------------\u001b[0m",
      "\u001b[1;31merror\u001b[0m                                     Traceback (most recent call last)",
      "\u001b[1;32m<ipython-input-247-c77471154697>\u001b[0m in \u001b[0;36m<module>\u001b[1;34m\u001b[0m\n\u001b[1;32m----> 1\u001b[1;33m \u001b[0mpopt\u001b[0m\u001b[1;33m,\u001b[0m \u001b[0mpcov\u001b[0m \u001b[1;33m=\u001b[0m \u001b[0mcurve_fit\u001b[0m\u001b[1;33m(\u001b[0m\u001b[0mfunc\u001b[0m\u001b[1;33m,\u001b[0m \u001b[0mdf_train\u001b[0m\u001b[1;33m[\u001b[0m\u001b[0mtrain_cols\u001b[0m\u001b[1;33m]\u001b[0m\u001b[1;33m,\u001b[0m \u001b[0mdf_train\u001b[0m\u001b[1;33m[\u001b[0m\u001b[1;33m[\u001b[0m\u001b[1;34m'price'\u001b[0m\u001b[1;33m]\u001b[0m\u001b[1;33m]\u001b[0m\u001b[1;33m)\u001b[0m\u001b[1;33m\u001b[0m\u001b[1;33m\u001b[0m\u001b[0m\n\u001b[0m",
      "\u001b[1;32m~\\AppData\\Roaming\\Python\\Python37\\site-packages\\scipy\\optimize\\minpack.py\u001b[0m in \u001b[0;36mcurve_fit\u001b[1;34m(f, xdata, ydata, p0, sigma, absolute_sigma, check_finite, bounds, method, jac, **kwargs)\u001b[0m\n\u001b[0;32m    761\u001b[0m         \u001b[1;31m# Remove full_output from kwargs, otherwise we're passing it in twice.\u001b[0m\u001b[1;33m\u001b[0m\u001b[1;33m\u001b[0m\u001b[1;33m\u001b[0m\u001b[0m\n\u001b[0;32m    762\u001b[0m         \u001b[0mreturn_full\u001b[0m \u001b[1;33m=\u001b[0m \u001b[0mkwargs\u001b[0m\u001b[1;33m.\u001b[0m\u001b[0mpop\u001b[0m\u001b[1;33m(\u001b[0m\u001b[1;34m'full_output'\u001b[0m\u001b[1;33m,\u001b[0m \u001b[1;32mFalse\u001b[0m\u001b[1;33m)\u001b[0m\u001b[1;33m\u001b[0m\u001b[1;33m\u001b[0m\u001b[0m\n\u001b[1;32m--> 763\u001b[1;33m         \u001b[0mres\u001b[0m \u001b[1;33m=\u001b[0m \u001b[0mleastsq\u001b[0m\u001b[1;33m(\u001b[0m\u001b[0mfunc\u001b[0m\u001b[1;33m,\u001b[0m \u001b[0mp0\u001b[0m\u001b[1;33m,\u001b[0m \u001b[0mDfun\u001b[0m\u001b[1;33m=\u001b[0m\u001b[0mjac\u001b[0m\u001b[1;33m,\u001b[0m \u001b[0mfull_output\u001b[0m\u001b[1;33m=\u001b[0m\u001b[1;36m1\u001b[0m\u001b[1;33m,\u001b[0m \u001b[1;33m**\u001b[0m\u001b[0mkwargs\u001b[0m\u001b[1;33m)\u001b[0m\u001b[1;33m\u001b[0m\u001b[1;33m\u001b[0m\u001b[0m\n\u001b[0m\u001b[0;32m    764\u001b[0m         \u001b[0mpopt\u001b[0m\u001b[1;33m,\u001b[0m \u001b[0mpcov\u001b[0m\u001b[1;33m,\u001b[0m \u001b[0minfodict\u001b[0m\u001b[1;33m,\u001b[0m \u001b[0merrmsg\u001b[0m\u001b[1;33m,\u001b[0m \u001b[0mier\u001b[0m \u001b[1;33m=\u001b[0m \u001b[0mres\u001b[0m\u001b[1;33m\u001b[0m\u001b[1;33m\u001b[0m\u001b[0m\n\u001b[0;32m    765\u001b[0m         \u001b[0mysize\u001b[0m \u001b[1;33m=\u001b[0m \u001b[0mlen\u001b[0m\u001b[1;33m(\u001b[0m\u001b[0minfodict\u001b[0m\u001b[1;33m[\u001b[0m\u001b[1;34m'fvec'\u001b[0m\u001b[1;33m]\u001b[0m\u001b[1;33m)\u001b[0m\u001b[1;33m\u001b[0m\u001b[1;33m\u001b[0m\u001b[0m\n",
      "\u001b[1;32m~\\AppData\\Roaming\\Python\\Python37\\site-packages\\scipy\\optimize\\minpack.py\u001b[0m in \u001b[0;36mleastsq\u001b[1;34m(func, x0, args, Dfun, full_output, col_deriv, ftol, xtol, gtol, maxfev, epsfcn, factor, diag)\u001b[0m\n\u001b[0;32m    399\u001b[0m             \u001b[0mmaxfev\u001b[0m \u001b[1;33m=\u001b[0m \u001b[1;36m200\u001b[0m\u001b[1;33m*\u001b[0m\u001b[1;33m(\u001b[0m\u001b[0mn\u001b[0m \u001b[1;33m+\u001b[0m \u001b[1;36m1\u001b[0m\u001b[1;33m)\u001b[0m\u001b[1;33m\u001b[0m\u001b[1;33m\u001b[0m\u001b[0m\n\u001b[0;32m    400\u001b[0m         retval = _minpack._lmdif(func, x0, args, full_output, ftol, xtol,\n\u001b[1;32m--> 401\u001b[1;33m                                  gtol, maxfev, epsfcn, factor, diag)\n\u001b[0m\u001b[0;32m    402\u001b[0m     \u001b[1;32melse\u001b[0m\u001b[1;33m:\u001b[0m\u001b[1;33m\u001b[0m\u001b[1;33m\u001b[0m\u001b[0m\n\u001b[0;32m    403\u001b[0m         \u001b[1;32mif\u001b[0m \u001b[0mcol_deriv\u001b[0m\u001b[1;33m:\u001b[0m\u001b[1;33m\u001b[0m\u001b[1;33m\u001b[0m\u001b[0m\n",
      "\u001b[1;31merror\u001b[0m: Result from function call is not a proper array of floats."
     ]
    }
   ],
   "source": [
    "popt, pcov = curve_fit(func, df_train[train_cols], df_train[['price']])"
   ]
  },
  {
   "cell_type": "raw",
   "id": "bf54d801-b01a-439c-bb15-2aea289c9def",
   "metadata": {},
   "source": [
    "np.polynomial.polynomial.polyfit(df_train[train_cols], df_train[['price']], 1)\n",
    "\n",
    "# TypeError: expected 1D vector for x"
   ]
  },
  {
   "cell_type": "raw",
   "id": "ed234ee1-e922-4519-8d8a-0ade44742629",
   "metadata": {},
   "source": [
    "np.polynomial.polynomial.polyfit(df_train[train_cols], df_train[['price']], 3)\n",
    "\n",
    "# TypeError: expected 1D vector for x"
   ]
  },
  {
   "cell_type": "code",
   "execution_count": null,
   "id": "9b3d36c7-ae29-497e-927b-7d014b276e48",
   "metadata": {},
   "outputs": [],
   "source": []
  }
 ],
 "metadata": {
  "kernelspec": {
   "display_name": "Python 3",
   "language": "python",
   "name": "python3"
  },
  "language_info": {
   "codemirror_mode": {
    "name": "ipython",
    "version": 3
   },
   "file_extension": ".py",
   "mimetype": "text/x-python",
   "name": "python",
   "nbconvert_exporter": "python",
   "pygments_lexer": "ipython3",
   "version": "3.7.1"
  }
 },
 "nbformat": 4,
 "nbformat_minor": 5
}
