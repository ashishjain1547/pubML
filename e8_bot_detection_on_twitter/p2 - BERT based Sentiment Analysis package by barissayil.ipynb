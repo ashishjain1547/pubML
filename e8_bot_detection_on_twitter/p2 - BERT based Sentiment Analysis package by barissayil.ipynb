{
 "cells": [
  {
   "cell_type": "code",
   "execution_count": 10,
   "id": "c52df017-8c43-41fe-b245-b49e520c504e",
   "metadata": {},
   "outputs": [],
   "source": [
    "import pandas as pd\n",
    "import nltk\n",
    "from nltk.sentiment.vader import SentimentIntensityAnalyzer\n",
    "import seaborn as sns\n",
    "import requests\n",
    "import json"
   ]
  },
  {
   "cell_type": "code",
   "execution_count": 2,
   "id": "c8e727ff-a5f9-43ef-8308-98e8cdcfb02e",
   "metadata": {},
   "outputs": [],
   "source": [
    "df = pd.read_csv('input/tweets_of_f234_users_1663839312.csv')"
   ]
  },
  {
   "cell_type": "code",
   "execution_count": 3,
   "id": "137d9d8d-cdc7-4470-87af-114eb2d09940",
   "metadata": {},
   "outputs": [
    {
     "data": {
      "text/html": [
       "<div>\n",
       "<style scoped>\n",
       "    .dataframe tbody tr th:only-of-type {\n",
       "        vertical-align: middle;\n",
       "    }\n",
       "\n",
       "    .dataframe tbody tr th {\n",
       "        vertical-align: top;\n",
       "    }\n",
       "\n",
       "    .dataframe thead th {\n",
       "        text-align: right;\n",
       "    }\n",
       "</style>\n",
       "<table border=\"1\" class=\"dataframe\">\n",
       "  <thead>\n",
       "    <tr style=\"text-align: right;\">\n",
       "      <th></th>\n",
       "      <th>userid</th>\n",
       "      <th>account_type</th>\n",
       "      <th>clean_tweet</th>\n",
       "    </tr>\n",
       "  </thead>\n",
       "  <tbody>\n",
       "    <tr>\n",
       "      <th>0</th>\n",
       "      <td>787405734442958848</td>\n",
       "      <td>bot</td>\n",
       "      <td>We can put the \"River\" in \"Screwdrivers\" https...</td>\n",
       "    </tr>\n",
       "    <tr>\n",
       "      <th>1</th>\n",
       "      <td>787405734442958848</td>\n",
       "      <td>bot</td>\n",
       "      <td>You can't extract the \"Pong\" from \"Sponged\" ht...</td>\n",
       "    </tr>\n",
       "    <tr>\n",
       "      <th>2</th>\n",
       "      <td>787405734442958848</td>\n",
       "      <td>bot</td>\n",
       "      <td>Put the \"Nope\" back in \"Inoperative\" https://t...</td>\n",
       "    </tr>\n",
       "    <tr>\n",
       "      <th>3</th>\n",
       "      <td>787405734442958848</td>\n",
       "      <td>bot</td>\n",
       "      <td>We can't spell \"Artworks\" without \"Two\" https:...</td>\n",
       "    </tr>\n",
       "    <tr>\n",
       "      <th>4</th>\n",
       "      <td>787405734442958848</td>\n",
       "      <td>bot</td>\n",
       "      <td>You can be the \"She\" in \"Astonished\" https://t...</td>\n",
       "    </tr>\n",
       "    <tr>\n",
       "      <th>...</th>\n",
       "      <td>...</td>\n",
       "      <td>...</td>\n",
       "      <td>...</td>\n",
       "    </tr>\n",
       "    <tr>\n",
       "      <th>488632</th>\n",
       "      <td>3077047801</td>\n",
       "      <td>bot</td>\n",
       "      <td>A Tribute – Joan Rivers on Fitness http://t.co...</td>\n",
       "    </tr>\n",
       "    <tr>\n",
       "      <th>488633</th>\n",
       "      <td>3077047801</td>\n",
       "      <td>bot</td>\n",
       "      <td>Live in Orlando area? Want a personal trainer?...</td>\n",
       "    </tr>\n",
       "    <tr>\n",
       "      <th>488634</th>\n",
       "      <td>3077047801</td>\n",
       "      <td>bot</td>\n",
       "      <td>If you're trying to get fit  keep working. You...</td>\n",
       "    </tr>\n",
       "    <tr>\n",
       "      <th>488635</th>\n",
       "      <td>3077047801</td>\n",
       "      <td>bot</td>\n",
       "      <td>Ready for summer? Cheap  cool sunglasses - loo...</td>\n",
       "    </tr>\n",
       "    <tr>\n",
       "      <th>488636</th>\n",
       "      <td>3077047801</td>\n",
       "      <td>bot</td>\n",
       "      <td>Hey all. Stayn' healthy is important especiall...</td>\n",
       "    </tr>\n",
       "  </tbody>\n",
       "</table>\n",
       "<p>488637 rows × 3 columns</p>\n",
       "</div>"
      ],
      "text/plain": [
       "                    userid account_type  \\\n",
       "0       787405734442958848          bot   \n",
       "1       787405734442958848          bot   \n",
       "2       787405734442958848          bot   \n",
       "3       787405734442958848          bot   \n",
       "4       787405734442958848          bot   \n",
       "...                    ...          ...   \n",
       "488632          3077047801          bot   \n",
       "488633          3077047801          bot   \n",
       "488634          3077047801          bot   \n",
       "488635          3077047801          bot   \n",
       "488636          3077047801          bot   \n",
       "\n",
       "                                              clean_tweet  \n",
       "0       We can put the \"River\" in \"Screwdrivers\" https...  \n",
       "1       You can't extract the \"Pong\" from \"Sponged\" ht...  \n",
       "2       Put the \"Nope\" back in \"Inoperative\" https://t...  \n",
       "3       We can't spell \"Artworks\" without \"Two\" https:...  \n",
       "4       You can be the \"She\" in \"Astonished\" https://t...  \n",
       "...                                                   ...  \n",
       "488632  A Tribute – Joan Rivers on Fitness http://t.co...  \n",
       "488633  Live in Orlando area? Want a personal trainer?...  \n",
       "488634  If you're trying to get fit  keep working. You...  \n",
       "488635  Ready for summer? Cheap  cool sunglasses - loo...  \n",
       "488636  Hey all. Stayn' healthy is important especiall...  \n",
       "\n",
       "[488637 rows x 3 columns]"
      ]
     },
     "execution_count": 3,
     "metadata": {},
     "output_type": "execute_result"
    }
   ],
   "source": [
    "df"
   ]
  },
  {
   "cell_type": "code",
   "execution_count": 7,
   "id": "52c6a56a-8aa6-4635-89f0-b4bd8f69573a",
   "metadata": {},
   "outputs": [],
   "source": [
    "userid_accountype = df[['userid', 'account_type']].drop_duplicates()"
   ]
  },
  {
   "cell_type": "code",
   "execution_count": 8,
   "id": "5c9b9ac7-f17e-4902-8957-6cf5db2ff578",
   "metadata": {},
   "outputs": [
    {
     "data": {
      "text/plain": [
       "human    146\n",
       "bot       71\n",
       "Name: account_type, dtype: int64"
      ]
     },
     "execution_count": 8,
     "metadata": {},
     "output_type": "execute_result"
    }
   ],
   "source": [
    "userid_accountype['account_type'].value_counts()"
   ]
  },
  {
   "cell_type": "code",
   "execution_count": null,
   "id": "4e2dca9e-ed3b-4cad-9ea8-aaabdf7d1741",
   "metadata": {},
   "outputs": [],
   "source": [
    "%%time\n",
    "def get_sentiment_bert(sentence):\n",
    "    return json.dumps(requests.get(\"http://127.0.0.1:5000/?text=\" + sentence).json())\n",
    "\n",
    "# df['bert_sentiment_label'] = df.clean_tweet.apply(lambda x: get_sentiment_bert(x)['sentiment'])\n",
    "# df['bert_sentiment_proba'] = df.clean_tweet.apply(lambda x: get_sentiment_bert(x)['probability'])\n",
    "\n",
    "df['bert_sentiment_json'] = df.clean_tweet.apply(lambda x: get_sentiment_bert(x))"
   ]
  },
  {
   "cell_type": "code",
   "execution_count": null,
   "id": "ceded834-b614-4c53-bfb5-2c6cc1b927ae",
   "metadata": {},
   "outputs": [],
   "source": []
  }
 ],
 "metadata": {
  "kernelspec": {
   "display_name": "rasa_py38",
   "language": "python",
   "name": "rasa_py38"
  },
  "language_info": {
   "codemirror_mode": {
    "name": "ipython",
    "version": 3
   },
   "file_extension": ".py",
   "mimetype": "text/x-python",
   "name": "python",
   "nbconvert_exporter": "python",
   "pygments_lexer": "ipython3",
   "version": "3.8.13"
  }
 },
 "nbformat": 4,
 "nbformat_minor": 5
}
