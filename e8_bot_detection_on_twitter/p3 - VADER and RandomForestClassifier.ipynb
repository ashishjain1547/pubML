{
 "cells": [
  {
   "cell_type": "code",
   "execution_count": 1,
   "id": "c52df017-8c43-41fe-b245-b49e520c504e",
   "metadata": {},
   "outputs": [],
   "source": [
    "import pandas as pd\n",
    "import numpy as np\n",
    "import re\n",
    "import seaborn as sns\n",
    "import nltk\n",
    "from nltk.sentiment.vader import SentimentIntensityAnalyzer\n",
    "\n",
    "from sklearn.ensemble import RandomForestClassifier\n",
    "from sklearn.model_selection import train_test_split\n",
    "from sklearn.metrics import classification_report"
   ]
  },
  {
   "cell_type": "code",
   "execution_count": 2,
   "id": "b30f0b3c-2174-4e88-8a10-8c74d561b67d",
   "metadata": {},
   "outputs": [
    {
     "name": "stderr",
     "output_type": "stream",
     "text": [
      "[nltk_data] Downloading package vader_lexicon to\n",
      "[nltk_data]     /home/ashish/nltk_data...\n",
      "[nltk_data]   Package vader_lexicon is already up-to-date!\n"
     ]
    },
    {
     "data": {
      "text/plain": [
       "True"
      ]
     },
     "execution_count": 2,
     "metadata": {},
     "output_type": "execute_result"
    }
   ],
   "source": [
    "nltk.download('vader_lexicon')"
   ]
  },
  {
   "cell_type": "code",
   "execution_count": 43,
   "id": "c8e727ff-a5f9-43ef-8308-98e8cdcfb02e",
   "metadata": {},
   "outputs": [],
   "source": [
    "df = pd.read_csv('input/tweets_of_f234_users_1663839312.csv')"
   ]
  },
  {
   "cell_type": "code",
   "execution_count": 44,
   "id": "0c2e0ea4-c9fa-4491-a16c-995cf186d4b9",
   "metadata": {},
   "outputs": [
    {
     "data": {
      "text/plain": [
       "human    371791\n",
       "bot      116846\n",
       "Name: account_type, dtype: int64"
      ]
     },
     "execution_count": 44,
     "metadata": {},
     "output_type": "execute_result"
    }
   ],
   "source": [
    "df['account_type'].value_counts()"
   ]
  },
  {
   "cell_type": "code",
   "execution_count": 4,
   "id": "137d9d8d-cdc7-4470-87af-114eb2d09940",
   "metadata": {},
   "outputs": [
    {
     "data": {
      "text/html": [
       "<div>\n",
       "<style scoped>\n",
       "    .dataframe tbody tr th:only-of-type {\n",
       "        vertical-align: middle;\n",
       "    }\n",
       "\n",
       "    .dataframe tbody tr th {\n",
       "        vertical-align: top;\n",
       "    }\n",
       "\n",
       "    .dataframe thead th {\n",
       "        text-align: right;\n",
       "    }\n",
       "</style>\n",
       "<table border=\"1\" class=\"dataframe\">\n",
       "  <thead>\n",
       "    <tr style=\"text-align: right;\">\n",
       "      <th></th>\n",
       "      <th>userid</th>\n",
       "      <th>account_type</th>\n",
       "      <th>clean_tweet</th>\n",
       "    </tr>\n",
       "  </thead>\n",
       "  <tbody>\n",
       "    <tr>\n",
       "      <th>0</th>\n",
       "      <td>787405734442958848</td>\n",
       "      <td>bot</td>\n",
       "      <td>We can put the \"River\" in \"Screwdrivers\" https...</td>\n",
       "    </tr>\n",
       "    <tr>\n",
       "      <th>1</th>\n",
       "      <td>787405734442958848</td>\n",
       "      <td>bot</td>\n",
       "      <td>You can't extract the \"Pong\" from \"Sponged\" ht...</td>\n",
       "    </tr>\n",
       "    <tr>\n",
       "      <th>2</th>\n",
       "      <td>787405734442958848</td>\n",
       "      <td>bot</td>\n",
       "      <td>Put the \"Nope\" back in \"Inoperative\" https://t...</td>\n",
       "    </tr>\n",
       "    <tr>\n",
       "      <th>3</th>\n",
       "      <td>787405734442958848</td>\n",
       "      <td>bot</td>\n",
       "      <td>We can't spell \"Artworks\" without \"Two\" https:...</td>\n",
       "    </tr>\n",
       "    <tr>\n",
       "      <th>4</th>\n",
       "      <td>787405734442958848</td>\n",
       "      <td>bot</td>\n",
       "      <td>You can be the \"She\" in \"Astonished\" https://t...</td>\n",
       "    </tr>\n",
       "    <tr>\n",
       "      <th>...</th>\n",
       "      <td>...</td>\n",
       "      <td>...</td>\n",
       "      <td>...</td>\n",
       "    </tr>\n",
       "    <tr>\n",
       "      <th>488632</th>\n",
       "      <td>3077047801</td>\n",
       "      <td>bot</td>\n",
       "      <td>A Tribute – Joan Rivers on Fitness http://t.co...</td>\n",
       "    </tr>\n",
       "    <tr>\n",
       "      <th>488633</th>\n",
       "      <td>3077047801</td>\n",
       "      <td>bot</td>\n",
       "      <td>Live in Orlando area? Want a personal trainer?...</td>\n",
       "    </tr>\n",
       "    <tr>\n",
       "      <th>488634</th>\n",
       "      <td>3077047801</td>\n",
       "      <td>bot</td>\n",
       "      <td>If you're trying to get fit  keep working. You...</td>\n",
       "    </tr>\n",
       "    <tr>\n",
       "      <th>488635</th>\n",
       "      <td>3077047801</td>\n",
       "      <td>bot</td>\n",
       "      <td>Ready for summer? Cheap  cool sunglasses - loo...</td>\n",
       "    </tr>\n",
       "    <tr>\n",
       "      <th>488636</th>\n",
       "      <td>3077047801</td>\n",
       "      <td>bot</td>\n",
       "      <td>Hey all. Stayn' healthy is important especiall...</td>\n",
       "    </tr>\n",
       "  </tbody>\n",
       "</table>\n",
       "<p>488637 rows × 3 columns</p>\n",
       "</div>"
      ],
      "text/plain": [
       "                    userid account_type  \\\n",
       "0       787405734442958848          bot   \n",
       "1       787405734442958848          bot   \n",
       "2       787405734442958848          bot   \n",
       "3       787405734442958848          bot   \n",
       "4       787405734442958848          bot   \n",
       "...                    ...          ...   \n",
       "488632          3077047801          bot   \n",
       "488633          3077047801          bot   \n",
       "488634          3077047801          bot   \n",
       "488635          3077047801          bot   \n",
       "488636          3077047801          bot   \n",
       "\n",
       "                                              clean_tweet  \n",
       "0       We can put the \"River\" in \"Screwdrivers\" https...  \n",
       "1       You can't extract the \"Pong\" from \"Sponged\" ht...  \n",
       "2       Put the \"Nope\" back in \"Inoperative\" https://t...  \n",
       "3       We can't spell \"Artworks\" without \"Two\" https:...  \n",
       "4       You can be the \"She\" in \"Astonished\" https://t...  \n",
       "...                                                   ...  \n",
       "488632  A Tribute – Joan Rivers on Fitness http://t.co...  \n",
       "488633  Live in Orlando area? Want a personal trainer?...  \n",
       "488634  If you're trying to get fit  keep working. You...  \n",
       "488635  Ready for summer? Cheap  cool sunglasses - loo...  \n",
       "488636  Hey all. Stayn' healthy is important especiall...  \n",
       "\n",
       "[488637 rows x 3 columns]"
      ]
     },
     "execution_count": 4,
     "metadata": {},
     "output_type": "execute_result"
    }
   ],
   "source": [
    "df"
   ]
  },
  {
   "cell_type": "code",
   "execution_count": 5,
   "id": "61ce577c-77eb-49d6-8b06-b95e42b62537",
   "metadata": {},
   "outputs": [],
   "source": [
    "userid_accountype = df[['userid', 'account_type']].drop_duplicates()"
   ]
  },
  {
   "cell_type": "code",
   "execution_count": 6,
   "id": "d18bb17a-a9c8-43f7-af25-5dba93aa4db5",
   "metadata": {},
   "outputs": [
    {
     "data": {
      "text/plain": [
       "human    146\n",
       "bot       71\n",
       "Name: account_type, dtype: int64"
      ]
     },
     "execution_count": 6,
     "metadata": {},
     "output_type": "execute_result"
    }
   ],
   "source": [
    "userid_accountype['account_type'].value_counts()"
   ]
  },
  {
   "cell_type": "code",
   "execution_count": 7,
   "id": "76963935-6f50-43f2-85b9-c5fcafdc30ba",
   "metadata": {},
   "outputs": [
    {
     "name": "stdout",
     "output_type": "stream",
     "text": [
      "CPU times: user 2min 40s, sys: 2 s, total: 2min 42s\n",
      "Wall time: 2min 42s\n"
     ]
    }
   ],
   "source": [
    "%%time\n",
    "# Wall time: 1min 41s\n",
    "pred = []\n",
    "vader_label = []\n",
    "sid = SentimentIntensityAnalyzer()\n",
    "for sentence in df['clean_tweet'].values:\n",
    "       \n",
    "    ss = sid.polarity_scores(sentence)\n",
    "    \n",
    "    pred.append(ss['compound'])\n",
    "    \n",
    "    if(ss['compound'] < 0.05 and ss['compound'] > -0.05):\n",
    "        vader_label.append('neutral')\n",
    "    elif(ss['compound'] >= 0.05):\n",
    "        vader_label.append('positive')\n",
    "    elif(ss['compound'] <= -0.05):\n",
    "        vader_label.append('negative')"
   ]
  },
  {
   "cell_type": "code",
   "execution_count": 8,
   "id": "1c60c0e9-bc0b-490b-8875-3dab820497b7",
   "metadata": {},
   "outputs": [],
   "source": [
    "df['vader_sentiment'] = pred\n",
    "df['vader_label'] = vader_label"
   ]
  },
  {
   "cell_type": "code",
   "execution_count": 9,
   "id": "1e2d7744-1d23-422d-a5f8-ee662e560ae5",
   "metadata": {},
   "outputs": [
    {
     "data": {
      "text/html": [
       "<div>\n",
       "<style scoped>\n",
       "    .dataframe tbody tr th:only-of-type {\n",
       "        vertical-align: middle;\n",
       "    }\n",
       "\n",
       "    .dataframe tbody tr th {\n",
       "        vertical-align: top;\n",
       "    }\n",
       "\n",
       "    .dataframe thead th {\n",
       "        text-align: right;\n",
       "    }\n",
       "</style>\n",
       "<table border=\"1\" class=\"dataframe\">\n",
       "  <thead>\n",
       "    <tr style=\"text-align: right;\">\n",
       "      <th></th>\n",
       "      <th>userid</th>\n",
       "      <th>account_type</th>\n",
       "      <th>clean_tweet</th>\n",
       "      <th>vader_sentiment</th>\n",
       "      <th>vader_label</th>\n",
       "    </tr>\n",
       "  </thead>\n",
       "  <tbody>\n",
       "    <tr>\n",
       "      <th>0</th>\n",
       "      <td>787405734442958848</td>\n",
       "      <td>bot</td>\n",
       "      <td>We can put the \"River\" in \"Screwdrivers\" https...</td>\n",
       "      <td>0.0000</td>\n",
       "      <td>neutral</td>\n",
       "    </tr>\n",
       "    <tr>\n",
       "      <th>1</th>\n",
       "      <td>787405734442958848</td>\n",
       "      <td>bot</td>\n",
       "      <td>You can't extract the \"Pong\" from \"Sponged\" ht...</td>\n",
       "      <td>0.0000</td>\n",
       "      <td>neutral</td>\n",
       "    </tr>\n",
       "    <tr>\n",
       "      <th>2</th>\n",
       "      <td>787405734442958848</td>\n",
       "      <td>bot</td>\n",
       "      <td>Put the \"Nope\" back in \"Inoperative\" https://t...</td>\n",
       "      <td>0.0000</td>\n",
       "      <td>neutral</td>\n",
       "    </tr>\n",
       "    <tr>\n",
       "      <th>3</th>\n",
       "      <td>787405734442958848</td>\n",
       "      <td>bot</td>\n",
       "      <td>We can't spell \"Artworks\" without \"Two\" https:...</td>\n",
       "      <td>0.0000</td>\n",
       "      <td>neutral</td>\n",
       "    </tr>\n",
       "    <tr>\n",
       "      <th>4</th>\n",
       "      <td>787405734442958848</td>\n",
       "      <td>bot</td>\n",
       "      <td>You can be the \"She\" in \"Astonished\" https://t...</td>\n",
       "      <td>0.0000</td>\n",
       "      <td>neutral</td>\n",
       "    </tr>\n",
       "    <tr>\n",
       "      <th>...</th>\n",
       "      <td>...</td>\n",
       "      <td>...</td>\n",
       "      <td>...</td>\n",
       "      <td>...</td>\n",
       "      <td>...</td>\n",
       "    </tr>\n",
       "    <tr>\n",
       "      <th>488632</th>\n",
       "      <td>3077047801</td>\n",
       "      <td>bot</td>\n",
       "      <td>A Tribute – Joan Rivers on Fitness http://t.co...</td>\n",
       "      <td>0.2732</td>\n",
       "      <td>positive</td>\n",
       "    </tr>\n",
       "    <tr>\n",
       "      <th>488633</th>\n",
       "      <td>3077047801</td>\n",
       "      <td>bot</td>\n",
       "      <td>Live in Orlando area? Want a personal trainer?...</td>\n",
       "      <td>0.1680</td>\n",
       "      <td>positive</td>\n",
       "    </tr>\n",
       "    <tr>\n",
       "      <th>488634</th>\n",
       "      <td>3077047801</td>\n",
       "      <td>bot</td>\n",
       "      <td>If you're trying to get fit  keep working. You...</td>\n",
       "      <td>0.8608</td>\n",
       "      <td>positive</td>\n",
       "    </tr>\n",
       "    <tr>\n",
       "      <th>488635</th>\n",
       "      <td>3077047801</td>\n",
       "      <td>bot</td>\n",
       "      <td>Ready for summer? Cheap  cool sunglasses - loo...</td>\n",
       "      <td>0.7430</td>\n",
       "      <td>positive</td>\n",
       "    </tr>\n",
       "    <tr>\n",
       "      <th>488636</th>\n",
       "      <td>3077047801</td>\n",
       "      <td>bot</td>\n",
       "      <td>Hey all. Stayn' healthy is important especiall...</td>\n",
       "      <td>0.5423</td>\n",
       "      <td>positive</td>\n",
       "    </tr>\n",
       "  </tbody>\n",
       "</table>\n",
       "<p>488637 rows × 5 columns</p>\n",
       "</div>"
      ],
      "text/plain": [
       "                    userid account_type  \\\n",
       "0       787405734442958848          bot   \n",
       "1       787405734442958848          bot   \n",
       "2       787405734442958848          bot   \n",
       "3       787405734442958848          bot   \n",
       "4       787405734442958848          bot   \n",
       "...                    ...          ...   \n",
       "488632          3077047801          bot   \n",
       "488633          3077047801          bot   \n",
       "488634          3077047801          bot   \n",
       "488635          3077047801          bot   \n",
       "488636          3077047801          bot   \n",
       "\n",
       "                                              clean_tweet  vader_sentiment  \\\n",
       "0       We can put the \"River\" in \"Screwdrivers\" https...           0.0000   \n",
       "1       You can't extract the \"Pong\" from \"Sponged\" ht...           0.0000   \n",
       "2       Put the \"Nope\" back in \"Inoperative\" https://t...           0.0000   \n",
       "3       We can't spell \"Artworks\" without \"Two\" https:...           0.0000   \n",
       "4       You can be the \"She\" in \"Astonished\" https://t...           0.0000   \n",
       "...                                                   ...              ...   \n",
       "488632  A Tribute – Joan Rivers on Fitness http://t.co...           0.2732   \n",
       "488633  Live in Orlando area? Want a personal trainer?...           0.1680   \n",
       "488634  If you're trying to get fit  keep working. You...           0.8608   \n",
       "488635  Ready for summer? Cheap  cool sunglasses - loo...           0.7430   \n",
       "488636  Hey all. Stayn' healthy is important especiall...           0.5423   \n",
       "\n",
       "       vader_label  \n",
       "0          neutral  \n",
       "1          neutral  \n",
       "2          neutral  \n",
       "3          neutral  \n",
       "4          neutral  \n",
       "...            ...  \n",
       "488632    positive  \n",
       "488633    positive  \n",
       "488634    positive  \n",
       "488635    positive  \n",
       "488636    positive  \n",
       "\n",
       "[488637 rows x 5 columns]"
      ]
     },
     "execution_count": 9,
     "metadata": {},
     "output_type": "execute_result"
    }
   ],
   "source": [
    "df"
   ]
  },
  {
   "cell_type": "code",
   "execution_count": 10,
   "id": "9ccbe38c-c5b7-4bc0-adc6-37f5798fe446",
   "metadata": {},
   "outputs": [],
   "source": [
    "df_mean_sentiment = df.groupby(['userid', 'vader_label']).mean().reset_index()"
   ]
  },
  {
   "cell_type": "code",
   "execution_count": 11,
   "id": "f98e31ad-62eb-46c6-8da8-c8b700321802",
   "metadata": {},
   "outputs": [],
   "source": [
    "df_mean_sentiment.rename({'vader_sentiment': 'mean_sentiment'}, axis='columns', inplace = True)"
   ]
  },
  {
   "cell_type": "code",
   "execution_count": 12,
   "id": "76a69752-6ca9-4c84-87b1-a3fa4d8da365",
   "metadata": {},
   "outputs": [
    {
     "data": {
      "text/html": [
       "<div>\n",
       "<style scoped>\n",
       "    .dataframe tbody tr th:only-of-type {\n",
       "        vertical-align: middle;\n",
       "    }\n",
       "\n",
       "    .dataframe tbody tr th {\n",
       "        vertical-align: top;\n",
       "    }\n",
       "\n",
       "    .dataframe thead th {\n",
       "        text-align: right;\n",
       "    }\n",
       "</style>\n",
       "<table border=\"1\" class=\"dataframe\">\n",
       "  <thead>\n",
       "    <tr style=\"text-align: right;\">\n",
       "      <th></th>\n",
       "      <th>userid</th>\n",
       "      <th>vader_label</th>\n",
       "      <th>mean_sentiment</th>\n",
       "    </tr>\n",
       "  </thead>\n",
       "  <tbody>\n",
       "    <tr>\n",
       "      <th>0</th>\n",
       "      <td>418</td>\n",
       "      <td>negative</td>\n",
       "      <td>-0.431048</td>\n",
       "    </tr>\n",
       "    <tr>\n",
       "      <th>1</th>\n",
       "      <td>418</td>\n",
       "      <td>neutral</td>\n",
       "      <td>0.000060</td>\n",
       "    </tr>\n",
       "    <tr>\n",
       "      <th>2</th>\n",
       "      <td>418</td>\n",
       "      <td>positive</td>\n",
       "      <td>0.565365</td>\n",
       "    </tr>\n",
       "    <tr>\n",
       "      <th>3</th>\n",
       "      <td>586</td>\n",
       "      <td>negative</td>\n",
       "      <td>-0.461686</td>\n",
       "    </tr>\n",
       "    <tr>\n",
       "      <th>4</th>\n",
       "      <td>586</td>\n",
       "      <td>neutral</td>\n",
       "      <td>0.000057</td>\n",
       "    </tr>\n",
       "    <tr>\n",
       "      <th>...</th>\n",
       "      <td>...</td>\n",
       "      <td>...</td>\n",
       "      <td>...</td>\n",
       "    </tr>\n",
       "    <tr>\n",
       "      <th>635</th>\n",
       "      <td>1014793793353199617</td>\n",
       "      <td>neutral</td>\n",
       "      <td>0.000009</td>\n",
       "    </tr>\n",
       "    <tr>\n",
       "      <th>636</th>\n",
       "      <td>1014793793353199617</td>\n",
       "      <td>positive</td>\n",
       "      <td>0.509822</td>\n",
       "    </tr>\n",
       "    <tr>\n",
       "      <th>637</th>\n",
       "      <td>1034115201979826178</td>\n",
       "      <td>negative</td>\n",
       "      <td>-0.344304</td>\n",
       "    </tr>\n",
       "    <tr>\n",
       "      <th>638</th>\n",
       "      <td>1034115201979826178</td>\n",
       "      <td>neutral</td>\n",
       "      <td>-0.000113</td>\n",
       "    </tr>\n",
       "    <tr>\n",
       "      <th>639</th>\n",
       "      <td>1034115201979826178</td>\n",
       "      <td>positive</td>\n",
       "      <td>0.609808</td>\n",
       "    </tr>\n",
       "  </tbody>\n",
       "</table>\n",
       "<p>640 rows × 3 columns</p>\n",
       "</div>"
      ],
      "text/plain": [
       "                  userid vader_label  mean_sentiment\n",
       "0                    418    negative       -0.431048\n",
       "1                    418     neutral        0.000060\n",
       "2                    418    positive        0.565365\n",
       "3                    586    negative       -0.461686\n",
       "4                    586     neutral        0.000057\n",
       "..                   ...         ...             ...\n",
       "635  1014793793353199617     neutral        0.000009\n",
       "636  1014793793353199617    positive        0.509822\n",
       "637  1034115201979826178    negative       -0.344304\n",
       "638  1034115201979826178     neutral       -0.000113\n",
       "639  1034115201979826178    positive        0.609808\n",
       "\n",
       "[640 rows x 3 columns]"
      ]
     },
     "execution_count": 12,
     "metadata": {},
     "output_type": "execute_result"
    }
   ],
   "source": [
    "df_mean_sentiment"
   ]
  },
  {
   "cell_type": "code",
   "execution_count": null,
   "id": "8b63a1d7-8aff-4456-a931-619e94f3805c",
   "metadata": {},
   "outputs": [],
   "source": []
  },
  {
   "cell_type": "code",
   "execution_count": 13,
   "id": "814a76ef-d96a-458d-babb-bc524f05ae9d",
   "metadata": {},
   "outputs": [],
   "source": [
    "df_var_sentiment = df.groupby(['userid']).var().reset_index()"
   ]
  },
  {
   "cell_type": "code",
   "execution_count": 14,
   "id": "6b0ebf52-ae22-43be-a2bd-a2841873549b",
   "metadata": {},
   "outputs": [],
   "source": [
    "df_var_sentiment.rename({'vader_sentiment': 'variance_sentiment'}, axis='columns', inplace = True)"
   ]
  },
  {
   "cell_type": "code",
   "execution_count": 15,
   "id": "46bd42a8-1dca-4298-8c07-9e0c9433dbcf",
   "metadata": {},
   "outputs": [
    {
     "data": {
      "text/html": [
       "<div>\n",
       "<style scoped>\n",
       "    .dataframe tbody tr th:only-of-type {\n",
       "        vertical-align: middle;\n",
       "    }\n",
       "\n",
       "    .dataframe tbody tr th {\n",
       "        vertical-align: top;\n",
       "    }\n",
       "\n",
       "    .dataframe thead th {\n",
       "        text-align: right;\n",
       "    }\n",
       "</style>\n",
       "<table border=\"1\" class=\"dataframe\">\n",
       "  <thead>\n",
       "    <tr style=\"text-align: right;\">\n",
       "      <th></th>\n",
       "      <th>userid</th>\n",
       "      <th>variance_sentiment</th>\n",
       "    </tr>\n",
       "  </thead>\n",
       "  <tbody>\n",
       "    <tr>\n",
       "      <th>0</th>\n",
       "      <td>418</td>\n",
       "      <td>0.175295</td>\n",
       "    </tr>\n",
       "    <tr>\n",
       "      <th>1</th>\n",
       "      <td>586</td>\n",
       "      <td>0.206516</td>\n",
       "    </tr>\n",
       "    <tr>\n",
       "      <th>2</th>\n",
       "      <td>2622731</td>\n",
       "      <td>0.151959</td>\n",
       "    </tr>\n",
       "    <tr>\n",
       "      <th>3</th>\n",
       "      <td>5768282</td>\n",
       "      <td>0.002442</td>\n",
       "    </tr>\n",
       "    <tr>\n",
       "      <th>4</th>\n",
       "      <td>14157134</td>\n",
       "      <td>0.200867</td>\n",
       "    </tr>\n",
       "    <tr>\n",
       "      <th>...</th>\n",
       "      <td>...</td>\n",
       "      <td>...</td>\n",
       "    </tr>\n",
       "    <tr>\n",
       "      <th>212</th>\n",
       "      <td>969324483185119232</td>\n",
       "      <td>0.165845</td>\n",
       "    </tr>\n",
       "    <tr>\n",
       "      <th>213</th>\n",
       "      <td>982628478284595200</td>\n",
       "      <td>0.204360</td>\n",
       "    </tr>\n",
       "    <tr>\n",
       "      <th>214</th>\n",
       "      <td>1006905571994472448</td>\n",
       "      <td>0.174320</td>\n",
       "    </tr>\n",
       "    <tr>\n",
       "      <th>215</th>\n",
       "      <td>1014793793353199617</td>\n",
       "      <td>0.161225</td>\n",
       "    </tr>\n",
       "    <tr>\n",
       "      <th>216</th>\n",
       "      <td>1034115201979826178</td>\n",
       "      <td>0.156157</td>\n",
       "    </tr>\n",
       "  </tbody>\n",
       "</table>\n",
       "<p>217 rows × 2 columns</p>\n",
       "</div>"
      ],
      "text/plain": [
       "                  userid  variance_sentiment\n",
       "0                    418            0.175295\n",
       "1                    586            0.206516\n",
       "2                2622731            0.151959\n",
       "3                5768282            0.002442\n",
       "4               14157134            0.200867\n",
       "..                   ...                 ...\n",
       "212   969324483185119232            0.165845\n",
       "213   982628478284595200            0.204360\n",
       "214  1006905571994472448            0.174320\n",
       "215  1014793793353199617            0.161225\n",
       "216  1034115201979826178            0.156157\n",
       "\n",
       "[217 rows x 2 columns]"
      ]
     },
     "execution_count": 15,
     "metadata": {},
     "output_type": "execute_result"
    }
   ],
   "source": [
    "df_var_sentiment"
   ]
  },
  {
   "cell_type": "code",
   "execution_count": 16,
   "id": "31cb053e-08b4-4b49-8f35-9eb61f80359c",
   "metadata": {},
   "outputs": [],
   "source": [
    "df_mean_var = df_mean_sentiment.merge(df_var_sentiment, on=['userid'], how = 'inner')"
   ]
  },
  {
   "cell_type": "code",
   "execution_count": 17,
   "id": "2d71a5e2-7fec-4678-aba3-1a41b06c27fd",
   "metadata": {},
   "outputs": [
    {
     "data": {
      "text/html": [
       "<div>\n",
       "<style scoped>\n",
       "    .dataframe tbody tr th:only-of-type {\n",
       "        vertical-align: middle;\n",
       "    }\n",
       "\n",
       "    .dataframe tbody tr th {\n",
       "        vertical-align: top;\n",
       "    }\n",
       "\n",
       "    .dataframe thead th {\n",
       "        text-align: right;\n",
       "    }\n",
       "</style>\n",
       "<table border=\"1\" class=\"dataframe\">\n",
       "  <thead>\n",
       "    <tr style=\"text-align: right;\">\n",
       "      <th></th>\n",
       "      <th>userid</th>\n",
       "      <th>vader_label</th>\n",
       "      <th>mean_sentiment</th>\n",
       "      <th>variance_sentiment</th>\n",
       "    </tr>\n",
       "  </thead>\n",
       "  <tbody>\n",
       "    <tr>\n",
       "      <th>0</th>\n",
       "      <td>418</td>\n",
       "      <td>negative</td>\n",
       "      <td>-0.431048</td>\n",
       "      <td>0.175295</td>\n",
       "    </tr>\n",
       "    <tr>\n",
       "      <th>1</th>\n",
       "      <td>418</td>\n",
       "      <td>neutral</td>\n",
       "      <td>0.000060</td>\n",
       "      <td>0.175295</td>\n",
       "    </tr>\n",
       "    <tr>\n",
       "      <th>2</th>\n",
       "      <td>418</td>\n",
       "      <td>positive</td>\n",
       "      <td>0.565365</td>\n",
       "      <td>0.175295</td>\n",
       "    </tr>\n",
       "    <tr>\n",
       "      <th>3</th>\n",
       "      <td>586</td>\n",
       "      <td>negative</td>\n",
       "      <td>-0.461686</td>\n",
       "      <td>0.206516</td>\n",
       "    </tr>\n",
       "    <tr>\n",
       "      <th>4</th>\n",
       "      <td>586</td>\n",
       "      <td>neutral</td>\n",
       "      <td>0.000057</td>\n",
       "      <td>0.206516</td>\n",
       "    </tr>\n",
       "    <tr>\n",
       "      <th>...</th>\n",
       "      <td>...</td>\n",
       "      <td>...</td>\n",
       "      <td>...</td>\n",
       "      <td>...</td>\n",
       "    </tr>\n",
       "    <tr>\n",
       "      <th>635</th>\n",
       "      <td>1014793793353199617</td>\n",
       "      <td>neutral</td>\n",
       "      <td>0.000009</td>\n",
       "      <td>0.161225</td>\n",
       "    </tr>\n",
       "    <tr>\n",
       "      <th>636</th>\n",
       "      <td>1014793793353199617</td>\n",
       "      <td>positive</td>\n",
       "      <td>0.509822</td>\n",
       "      <td>0.161225</td>\n",
       "    </tr>\n",
       "    <tr>\n",
       "      <th>637</th>\n",
       "      <td>1034115201979826178</td>\n",
       "      <td>negative</td>\n",
       "      <td>-0.344304</td>\n",
       "      <td>0.156157</td>\n",
       "    </tr>\n",
       "    <tr>\n",
       "      <th>638</th>\n",
       "      <td>1034115201979826178</td>\n",
       "      <td>neutral</td>\n",
       "      <td>-0.000113</td>\n",
       "      <td>0.156157</td>\n",
       "    </tr>\n",
       "    <tr>\n",
       "      <th>639</th>\n",
       "      <td>1034115201979826178</td>\n",
       "      <td>positive</td>\n",
       "      <td>0.609808</td>\n",
       "      <td>0.156157</td>\n",
       "    </tr>\n",
       "  </tbody>\n",
       "</table>\n",
       "<p>640 rows × 4 columns</p>\n",
       "</div>"
      ],
      "text/plain": [
       "                  userid vader_label  mean_sentiment  variance_sentiment\n",
       "0                    418    negative       -0.431048            0.175295\n",
       "1                    418     neutral        0.000060            0.175295\n",
       "2                    418    positive        0.565365            0.175295\n",
       "3                    586    negative       -0.461686            0.206516\n",
       "4                    586     neutral        0.000057            0.206516\n",
       "..                   ...         ...             ...                 ...\n",
       "635  1014793793353199617     neutral        0.000009            0.161225\n",
       "636  1014793793353199617    positive        0.509822            0.161225\n",
       "637  1034115201979826178    negative       -0.344304            0.156157\n",
       "638  1034115201979826178     neutral       -0.000113            0.156157\n",
       "639  1034115201979826178    positive        0.609808            0.156157\n",
       "\n",
       "[640 rows x 4 columns]"
      ]
     },
     "execution_count": 17,
     "metadata": {},
     "output_type": "execute_result"
    }
   ],
   "source": [
    "df_mean_var"
   ]
  },
  {
   "cell_type": "code",
   "execution_count": 18,
   "id": "37917b8e-1177-460a-afa6-f009166a065b",
   "metadata": {},
   "outputs": [],
   "source": [
    "df_mean_var_w_label = df_mean_var.merge(userid_accountype, on = 'userid', how = 'inner')"
   ]
  },
  {
   "cell_type": "code",
   "execution_count": 19,
   "id": "db6bade4-4dd1-4bd1-b505-9dc1aaeae033",
   "metadata": {},
   "outputs": [
    {
     "data": {
      "text/html": [
       "<div>\n",
       "<style scoped>\n",
       "    .dataframe tbody tr th:only-of-type {\n",
       "        vertical-align: middle;\n",
       "    }\n",
       "\n",
       "    .dataframe tbody tr th {\n",
       "        vertical-align: top;\n",
       "    }\n",
       "\n",
       "    .dataframe thead th {\n",
       "        text-align: right;\n",
       "    }\n",
       "</style>\n",
       "<table border=\"1\" class=\"dataframe\">\n",
       "  <thead>\n",
       "    <tr style=\"text-align: right;\">\n",
       "      <th></th>\n",
       "      <th>userid</th>\n",
       "      <th>vader_label</th>\n",
       "      <th>mean_sentiment</th>\n",
       "      <th>variance_sentiment</th>\n",
       "      <th>account_type</th>\n",
       "    </tr>\n",
       "  </thead>\n",
       "  <tbody>\n",
       "    <tr>\n",
       "      <th>0</th>\n",
       "      <td>418</td>\n",
       "      <td>negative</td>\n",
       "      <td>-0.431048</td>\n",
       "      <td>0.175295</td>\n",
       "      <td>human</td>\n",
       "    </tr>\n",
       "    <tr>\n",
       "      <th>1</th>\n",
       "      <td>418</td>\n",
       "      <td>neutral</td>\n",
       "      <td>0.000060</td>\n",
       "      <td>0.175295</td>\n",
       "      <td>human</td>\n",
       "    </tr>\n",
       "    <tr>\n",
       "      <th>2</th>\n",
       "      <td>418</td>\n",
       "      <td>positive</td>\n",
       "      <td>0.565365</td>\n",
       "      <td>0.175295</td>\n",
       "      <td>human</td>\n",
       "    </tr>\n",
       "    <tr>\n",
       "      <th>3</th>\n",
       "      <td>586</td>\n",
       "      <td>negative</td>\n",
       "      <td>-0.461686</td>\n",
       "      <td>0.206516</td>\n",
       "      <td>human</td>\n",
       "    </tr>\n",
       "    <tr>\n",
       "      <th>4</th>\n",
       "      <td>586</td>\n",
       "      <td>neutral</td>\n",
       "      <td>0.000057</td>\n",
       "      <td>0.206516</td>\n",
       "      <td>human</td>\n",
       "    </tr>\n",
       "    <tr>\n",
       "      <th>...</th>\n",
       "      <td>...</td>\n",
       "      <td>...</td>\n",
       "      <td>...</td>\n",
       "      <td>...</td>\n",
       "      <td>...</td>\n",
       "    </tr>\n",
       "    <tr>\n",
       "      <th>635</th>\n",
       "      <td>1014793793353199617</td>\n",
       "      <td>neutral</td>\n",
       "      <td>0.000009</td>\n",
       "      <td>0.161225</td>\n",
       "      <td>human</td>\n",
       "    </tr>\n",
       "    <tr>\n",
       "      <th>636</th>\n",
       "      <td>1014793793353199617</td>\n",
       "      <td>positive</td>\n",
       "      <td>0.509822</td>\n",
       "      <td>0.161225</td>\n",
       "      <td>human</td>\n",
       "    </tr>\n",
       "    <tr>\n",
       "      <th>637</th>\n",
       "      <td>1034115201979826178</td>\n",
       "      <td>negative</td>\n",
       "      <td>-0.344304</td>\n",
       "      <td>0.156157</td>\n",
       "      <td>human</td>\n",
       "    </tr>\n",
       "    <tr>\n",
       "      <th>638</th>\n",
       "      <td>1034115201979826178</td>\n",
       "      <td>neutral</td>\n",
       "      <td>-0.000113</td>\n",
       "      <td>0.156157</td>\n",
       "      <td>human</td>\n",
       "    </tr>\n",
       "    <tr>\n",
       "      <th>639</th>\n",
       "      <td>1034115201979826178</td>\n",
       "      <td>positive</td>\n",
       "      <td>0.609808</td>\n",
       "      <td>0.156157</td>\n",
       "      <td>human</td>\n",
       "    </tr>\n",
       "  </tbody>\n",
       "</table>\n",
       "<p>640 rows × 5 columns</p>\n",
       "</div>"
      ],
      "text/plain": [
       "                  userid vader_label  mean_sentiment  variance_sentiment  \\\n",
       "0                    418    negative       -0.431048            0.175295   \n",
       "1                    418     neutral        0.000060            0.175295   \n",
       "2                    418    positive        0.565365            0.175295   \n",
       "3                    586    negative       -0.461686            0.206516   \n",
       "4                    586     neutral        0.000057            0.206516   \n",
       "..                   ...         ...             ...                 ...   \n",
       "635  1014793793353199617     neutral        0.000009            0.161225   \n",
       "636  1014793793353199617    positive        0.509822            0.161225   \n",
       "637  1034115201979826178    negative       -0.344304            0.156157   \n",
       "638  1034115201979826178     neutral       -0.000113            0.156157   \n",
       "639  1034115201979826178    positive        0.609808            0.156157   \n",
       "\n",
       "    account_type  \n",
       "0          human  \n",
       "1          human  \n",
       "2          human  \n",
       "3          human  \n",
       "4          human  \n",
       "..           ...  \n",
       "635        human  \n",
       "636        human  \n",
       "637        human  \n",
       "638        human  \n",
       "639        human  \n",
       "\n",
       "[640 rows x 5 columns]"
      ]
     },
     "execution_count": 19,
     "metadata": {},
     "output_type": "execute_result"
    }
   ],
   "source": [
    "df_mean_var_w_label"
   ]
  },
  {
   "cell_type": "code",
   "execution_count": 20,
   "id": "dbc23123-9783-432c-9a82-bc9f1d54682c",
   "metadata": {},
   "outputs": [
    {
     "data": {
      "text/plain": [
       "human    435\n",
       "bot      205\n",
       "Name: account_type, dtype: int64"
      ]
     },
     "execution_count": 20,
     "metadata": {},
     "output_type": "execute_result"
    }
   ],
   "source": [
    "df_mean_var_w_label['account_type'].value_counts()"
   ]
  },
  {
   "cell_type": "code",
   "execution_count": 21,
   "id": "7361ac53-ac42-4b07-aa03-118c456e3158",
   "metadata": {},
   "outputs": [
    {
     "data": {
      "text/plain": [
       "<AxesSubplot:xlabel='mean_sentiment', ylabel='variance_sentiment'>"
      ]
     },
     "execution_count": 21,
     "metadata": {},
     "output_type": "execute_result"
    },
    {
     "data": {
      "image/png": "[encoded data removed]",
      "text/plain": [
       "<Figure size 640x480 with 1 Axes>"
      ]
     },
     "metadata": {},
     "output_type": "display_data"
    }
   ],
   "source": [
    "sns.scatterplot(data = df_mean_var_w_label, x = \"mean_sentiment\", y = \"variance_sentiment\", hue = \"account_type\", style = \"account_type\")"
   ]
  },
  {
   "cell_type": "code",
   "execution_count": 22,
   "id": "7c9b2a47-d69a-4b0a-b906-df199b63cb8d",
   "metadata": {},
   "outputs": [
    {
     "data": {
      "text/plain": [
       "<AxesSubplot:xlabel='account_type', ylabel='mean_sentiment'>"
      ]
     },
     "execution_count": 22,
     "metadata": {},
     "output_type": "execute_result"
    },
    {
     "data": {
      "image/png": "[encoded data removed]",
      "text/plain": [
       "<Figure size 640x480 with 1 Axes>"
      ]
     },
     "metadata": {},
     "output_type": "display_data"
    }
   ],
   "source": [
    "sns.scatterplot(data = df_mean_var_w_label, x = \"account_type\", y = \"mean_sentiment\", hue = \"account_type\", style = \"account_type\")"
   ]
  },
  {
   "cell_type": "code",
   "execution_count": 23,
   "id": "64de3737-5478-4d28-81bd-6795b6e73364",
   "metadata": {},
   "outputs": [
    {
     "data": {
      "text/plain": [
       "<AxesSubplot:xlabel='account_type', ylabel='variance_sentiment'>"
      ]
     },
     "execution_count": 23,
     "metadata": {},
     "output_type": "execute_result"
    },
    {
     "data": {
      "image/png": "[encoded data removed]",
      "text/plain": [
       "<Figure size 640x480 with 1 Axes>"
      ]
     },
     "metadata": {},
     "output_type": "display_data"
    }
   ],
   "source": [
    "sns.scatterplot(data = df_mean_var_w_label, x = \"account_type\", y = \"variance_sentiment\", hue = \"account_type\", style = \"account_type\")"
   ]
  },
  {
   "cell_type": "code",
   "execution_count": 24,
   "id": "d6824edc-b4ce-4718-b331-34ad71f618d2",
   "metadata": {},
   "outputs": [
    {
     "data": {
      "text/html": [
       "<div>\n",
       "<style scoped>\n",
       "    .dataframe tbody tr th:only-of-type {\n",
       "        vertical-align: middle;\n",
       "    }\n",
       "\n",
       "    .dataframe tbody tr th {\n",
       "        vertical-align: top;\n",
       "    }\n",
       "\n",
       "    .dataframe thead th {\n",
       "        text-align: right;\n",
       "    }\n",
       "</style>\n",
       "<table border=\"1\" class=\"dataframe\">\n",
       "  <thead>\n",
       "    <tr style=\"text-align: right;\">\n",
       "      <th></th>\n",
       "      <th>userid</th>\n",
       "      <th>account_type</th>\n",
       "      <th>clean_tweet</th>\n",
       "      <th>vader_sentiment</th>\n",
       "      <th>vader_label</th>\n",
       "    </tr>\n",
       "  </thead>\n",
       "  <tbody>\n",
       "    <tr>\n",
       "      <th>0</th>\n",
       "      <td>787405734442958848</td>\n",
       "      <td>bot</td>\n",
       "      <td>We can put the \"River\" in \"Screwdrivers\" https...</td>\n",
       "      <td>0.0</td>\n",
       "      <td>neutral</td>\n",
       "    </tr>\n",
       "    <tr>\n",
       "      <th>1</th>\n",
       "      <td>787405734442958848</td>\n",
       "      <td>bot</td>\n",
       "      <td>You can't extract the \"Pong\" from \"Sponged\" ht...</td>\n",
       "      <td>0.0</td>\n",
       "      <td>neutral</td>\n",
       "    </tr>\n",
       "    <tr>\n",
       "      <th>2</th>\n",
       "      <td>787405734442958848</td>\n",
       "      <td>bot</td>\n",
       "      <td>Put the \"Nope\" back in \"Inoperative\" https://t...</td>\n",
       "      <td>0.0</td>\n",
       "      <td>neutral</td>\n",
       "    </tr>\n",
       "    <tr>\n",
       "      <th>3</th>\n",
       "      <td>787405734442958848</td>\n",
       "      <td>bot</td>\n",
       "      <td>We can't spell \"Artworks\" without \"Two\" https:...</td>\n",
       "      <td>0.0</td>\n",
       "      <td>neutral</td>\n",
       "    </tr>\n",
       "    <tr>\n",
       "      <th>4</th>\n",
       "      <td>787405734442958848</td>\n",
       "      <td>bot</td>\n",
       "      <td>You can be the \"She\" in \"Astonished\" https://t...</td>\n",
       "      <td>0.0</td>\n",
       "      <td>neutral</td>\n",
       "    </tr>\n",
       "  </tbody>\n",
       "</table>\n",
       "</div>"
      ],
      "text/plain": [
       "               userid account_type  \\\n",
       "0  787405734442958848          bot   \n",
       "1  787405734442958848          bot   \n",
       "2  787405734442958848          bot   \n",
       "3  787405734442958848          bot   \n",
       "4  787405734442958848          bot   \n",
       "\n",
       "                                         clean_tweet  vader_sentiment  \\\n",
       "0  We can put the \"River\" in \"Screwdrivers\" https...              0.0   \n",
       "1  You can't extract the \"Pong\" from \"Sponged\" ht...              0.0   \n",
       "2  Put the \"Nope\" back in \"Inoperative\" https://t...              0.0   \n",
       "3  We can't spell \"Artworks\" without \"Two\" https:...              0.0   \n",
       "4  You can be the \"She\" in \"Astonished\" https://t...              0.0   \n",
       "\n",
       "  vader_label  \n",
       "0     neutral  \n",
       "1     neutral  \n",
       "2     neutral  \n",
       "3     neutral  \n",
       "4     neutral  "
      ]
     },
     "execution_count": 24,
     "metadata": {},
     "output_type": "execute_result"
    }
   ],
   "source": [
    "df.head()"
   ]
  },
  {
   "cell_type": "code",
   "execution_count": 25,
   "id": "a86b48cf-f9cb-44fd-b919-85992a72b7e4",
   "metadata": {},
   "outputs": [],
   "source": [
    "def get_url_flag(in_tweet):\n",
    "    m = re.search(r\"http[a-zA-Z0-9/\\-.:%]+\", in_tweet)\n",
    "    rtn = False\n",
    "    if m:\n",
    "        rtn = True\n",
    "    return rtn"
   ]
  },
  {
   "cell_type": "code",
   "execution_count": 26,
   "id": "15699282-abee-4392-9f1d-9d4f67c1a8a1",
   "metadata": {},
   "outputs": [
    {
     "name": "stdout",
     "output_type": "stream",
     "text": [
      "CPU times: user 1.4 s, sys: 7.89 ms, total: 1.41 s\n",
      "Wall time: 1.46 s\n"
     ]
    }
   ],
   "source": [
    "%%time\n",
    "df['url_flag'] = df['clean_tweet'].apply(get_url_flag)"
   ]
  },
  {
   "cell_type": "code",
   "execution_count": 27,
   "id": "4d470cc5-743a-49f6-b715-3ecbc21701de",
   "metadata": {},
   "outputs": [
    {
     "data": {
      "text/html": [
       "<div>\n",
       "<style scoped>\n",
       "    .dataframe tbody tr th:only-of-type {\n",
       "        vertical-align: middle;\n",
       "    }\n",
       "\n",
       "    .dataframe tbody tr th {\n",
       "        vertical-align: top;\n",
       "    }\n",
       "\n",
       "    .dataframe thead th {\n",
       "        text-align: right;\n",
       "    }\n",
       "</style>\n",
       "<table border=\"1\" class=\"dataframe\">\n",
       "  <thead>\n",
       "    <tr style=\"text-align: right;\">\n",
       "      <th></th>\n",
       "      <th>userid</th>\n",
       "      <th>account_type</th>\n",
       "      <th>clean_tweet</th>\n",
       "      <th>vader_sentiment</th>\n",
       "      <th>vader_label</th>\n",
       "      <th>url_flag</th>\n",
       "    </tr>\n",
       "  </thead>\n",
       "  <tbody>\n",
       "    <tr>\n",
       "      <th>0</th>\n",
       "      <td>787405734442958848</td>\n",
       "      <td>bot</td>\n",
       "      <td>We can put the \"River\" in \"Screwdrivers\" https...</td>\n",
       "      <td>0.0000</td>\n",
       "      <td>neutral</td>\n",
       "      <td>True</td>\n",
       "    </tr>\n",
       "    <tr>\n",
       "      <th>1</th>\n",
       "      <td>787405734442958848</td>\n",
       "      <td>bot</td>\n",
       "      <td>You can't extract the \"Pong\" from \"Sponged\" ht...</td>\n",
       "      <td>0.0000</td>\n",
       "      <td>neutral</td>\n",
       "      <td>True</td>\n",
       "    </tr>\n",
       "    <tr>\n",
       "      <th>2</th>\n",
       "      <td>787405734442958848</td>\n",
       "      <td>bot</td>\n",
       "      <td>Put the \"Nope\" back in \"Inoperative\" https://t...</td>\n",
       "      <td>0.0000</td>\n",
       "      <td>neutral</td>\n",
       "      <td>True</td>\n",
       "    </tr>\n",
       "    <tr>\n",
       "      <th>3</th>\n",
       "      <td>787405734442958848</td>\n",
       "      <td>bot</td>\n",
       "      <td>We can't spell \"Artworks\" without \"Two\" https:...</td>\n",
       "      <td>0.0000</td>\n",
       "      <td>neutral</td>\n",
       "      <td>True</td>\n",
       "    </tr>\n",
       "    <tr>\n",
       "      <th>4</th>\n",
       "      <td>787405734442958848</td>\n",
       "      <td>bot</td>\n",
       "      <td>You can be the \"She\" in \"Astonished\" https://t...</td>\n",
       "      <td>0.0000</td>\n",
       "      <td>neutral</td>\n",
       "      <td>True</td>\n",
       "    </tr>\n",
       "    <tr>\n",
       "      <th>...</th>\n",
       "      <td>...</td>\n",
       "      <td>...</td>\n",
       "      <td>...</td>\n",
       "      <td>...</td>\n",
       "      <td>...</td>\n",
       "      <td>...</td>\n",
       "    </tr>\n",
       "    <tr>\n",
       "      <th>488632</th>\n",
       "      <td>3077047801</td>\n",
       "      <td>bot</td>\n",
       "      <td>A Tribute – Joan Rivers on Fitness http://t.co...</td>\n",
       "      <td>0.2732</td>\n",
       "      <td>positive</td>\n",
       "      <td>True</td>\n",
       "    </tr>\n",
       "    <tr>\n",
       "      <th>488633</th>\n",
       "      <td>3077047801</td>\n",
       "      <td>bot</td>\n",
       "      <td>Live in Orlando area? Want a personal trainer?...</td>\n",
       "      <td>0.1680</td>\n",
       "      <td>positive</td>\n",
       "      <td>False</td>\n",
       "    </tr>\n",
       "    <tr>\n",
       "      <th>488634</th>\n",
       "      <td>3077047801</td>\n",
       "      <td>bot</td>\n",
       "      <td>If you're trying to get fit  keep working. You...</td>\n",
       "      <td>0.8608</td>\n",
       "      <td>positive</td>\n",
       "      <td>True</td>\n",
       "    </tr>\n",
       "    <tr>\n",
       "      <th>488635</th>\n",
       "      <td>3077047801</td>\n",
       "      <td>bot</td>\n",
       "      <td>Ready for summer? Cheap  cool sunglasses - loo...</td>\n",
       "      <td>0.7430</td>\n",
       "      <td>positive</td>\n",
       "      <td>True</td>\n",
       "    </tr>\n",
       "    <tr>\n",
       "      <th>488636</th>\n",
       "      <td>3077047801</td>\n",
       "      <td>bot</td>\n",
       "      <td>Hey all. Stayn' healthy is important especiall...</td>\n",
       "      <td>0.5423</td>\n",
       "      <td>positive</td>\n",
       "      <td>True</td>\n",
       "    </tr>\n",
       "  </tbody>\n",
       "</table>\n",
       "<p>488637 rows × 6 columns</p>\n",
       "</div>"
      ],
      "text/plain": [
       "                    userid account_type  \\\n",
       "0       787405734442958848          bot   \n",
       "1       787405734442958848          bot   \n",
       "2       787405734442958848          bot   \n",
       "3       787405734442958848          bot   \n",
       "4       787405734442958848          bot   \n",
       "...                    ...          ...   \n",
       "488632          3077047801          bot   \n",
       "488633          3077047801          bot   \n",
       "488634          3077047801          bot   \n",
       "488635          3077047801          bot   \n",
       "488636          3077047801          bot   \n",
       "\n",
       "                                              clean_tweet  vader_sentiment  \\\n",
       "0       We can put the \"River\" in \"Screwdrivers\" https...           0.0000   \n",
       "1       You can't extract the \"Pong\" from \"Sponged\" ht...           0.0000   \n",
       "2       Put the \"Nope\" back in \"Inoperative\" https://t...           0.0000   \n",
       "3       We can't spell \"Artworks\" without \"Two\" https:...           0.0000   \n",
       "4       You can be the \"She\" in \"Astonished\" https://t...           0.0000   \n",
       "...                                                   ...              ...   \n",
       "488632  A Tribute – Joan Rivers on Fitness http://t.co...           0.2732   \n",
       "488633  Live in Orlando area? Want a personal trainer?...           0.1680   \n",
       "488634  If you're trying to get fit  keep working. You...           0.8608   \n",
       "488635  Ready for summer? Cheap  cool sunglasses - loo...           0.7430   \n",
       "488636  Hey all. Stayn' healthy is important especiall...           0.5423   \n",
       "\n",
       "       vader_label  url_flag  \n",
       "0          neutral      True  \n",
       "1          neutral      True  \n",
       "2          neutral      True  \n",
       "3          neutral      True  \n",
       "4          neutral      True  \n",
       "...            ...       ...  \n",
       "488632    positive      True  \n",
       "488633    positive     False  \n",
       "488634    positive      True  \n",
       "488635    positive      True  \n",
       "488636    positive      True  \n",
       "\n",
       "[488637 rows x 6 columns]"
      ]
     },
     "execution_count": 27,
     "metadata": {},
     "output_type": "execute_result"
    }
   ],
   "source": [
    "df"
   ]
  },
  {
   "cell_type": "code",
   "execution_count": 28,
   "id": "22d3b489-b23e-41fd-b059-258ab3871bed",
   "metadata": {},
   "outputs": [
    {
     "data": {
      "text/plain": [
       "'A Tribute – Joan Rivers on Fitness http://t.co/eZQVBugIC2 via @fittipdaily'"
      ]
     },
     "execution_count": 28,
     "metadata": {},
     "output_type": "execute_result"
    }
   ],
   "source": [
    "df.iloc[488632]['clean_tweet']"
   ]
  },
  {
   "cell_type": "code",
   "execution_count": 29,
   "id": "715fa405-dc45-4629-a488-fd77966cdaaf",
   "metadata": {},
   "outputs": [
    {
     "data": {
      "text/plain": [
       "'Live in Orlando area? Want a personal trainer? This woman knows her stuff &amp; priced right: @mytrainertracey  #personaltrainer #healthyliving'"
      ]
     },
     "execution_count": 29,
     "metadata": {},
     "output_type": "execute_result"
    }
   ],
   "source": [
    "df.iloc[488633]['clean_tweet']"
   ]
  },
  {
   "cell_type": "raw",
   "id": "672e0884-8cce-49ae-935e-eceda50bfb78",
   "metadata": {},
   "source": [
    "%%time\n",
    "\n",
    "# Takes infinite time\n",
    "\n",
    "sns.scatterplot(data = df, x = \"account_type\", y = \"url_flag\", hue = \"account_type\", style = \"account_type\")"
   ]
  },
  {
   "cell_type": "code",
   "execution_count": 30,
   "id": "745068aa-947f-48c5-ae42-cec761509c55",
   "metadata": {},
   "outputs": [
    {
     "data": {
      "text/plain": [
       "account_type  url_flag\n",
       "bot           True         68899\n",
       "              False        47947\n",
       "human         False       202148\n",
       "              True        169643\n",
       "Name: url_flag, dtype: int64"
      ]
     },
     "execution_count": 30,
     "metadata": {},
     "output_type": "execute_result"
    }
   ],
   "source": [
    "df.groupby(['account_type'])['url_flag'].value_counts()"
   ]
  },
  {
   "cell_type": "code",
   "execution_count": 31,
   "id": "367ff1c7-ee2e-4c2b-8dba-708399244a80",
   "metadata": {},
   "outputs": [
    {
     "name": "stdout",
     "output_type": "stream",
     "text": [
      "0.5896564709104292\n",
      "0.4562859240810025\n"
     ]
    }
   ],
   "source": [
    "print(68899 / (68899+47947))\n",
    "print(169643 / (169643 + 202148))"
   ]
  },
  {
   "cell_type": "code",
   "execution_count": 32,
   "id": "4becbe0b-010f-449c-8f9e-feb2658808c6",
   "metadata": {},
   "outputs": [],
   "source": [
    "df['len'] = df['clean_tweet'].apply(len)"
   ]
  },
  {
   "cell_type": "code",
   "execution_count": 33,
   "id": "00bf761b-e943-4070-8cb7-7b81bab5a30e",
   "metadata": {},
   "outputs": [
    {
     "data": {
      "text/plain": [
       "account_type\n",
       "bot      111.761455\n",
       "human    109.129188\n",
       "Name: len, dtype: float64"
      ]
     },
     "execution_count": 33,
     "metadata": {},
     "output_type": "execute_result"
    }
   ],
   "source": [
    "df.groupby(['account_type'])['len'].mean()"
   ]
  },
  {
   "cell_type": "code",
   "execution_count": 34,
   "id": "4b70873d-8103-4f8c-b862-65bc130a360b",
   "metadata": {},
   "outputs": [
    {
     "data": {
      "text/html": [
       "<div>\n",
       "<style scoped>\n",
       "    .dataframe tbody tr th:only-of-type {\n",
       "        vertical-align: middle;\n",
       "    }\n",
       "\n",
       "    .dataframe tbody tr th {\n",
       "        vertical-align: top;\n",
       "    }\n",
       "\n",
       "    .dataframe thead th {\n",
       "        text-align: right;\n",
       "    }\n",
       "</style>\n",
       "<table border=\"1\" class=\"dataframe\">\n",
       "  <thead>\n",
       "    <tr style=\"text-align: right;\">\n",
       "      <th></th>\n",
       "      <th>userid</th>\n",
       "      <th>account_type</th>\n",
       "      <th>clean_tweet</th>\n",
       "      <th>vader_sentiment</th>\n",
       "      <th>vader_label</th>\n",
       "      <th>url_flag</th>\n",
       "      <th>len</th>\n",
       "    </tr>\n",
       "  </thead>\n",
       "  <tbody>\n",
       "    <tr>\n",
       "      <th>0</th>\n",
       "      <td>787405734442958848</td>\n",
       "      <td>bot</td>\n",
       "      <td>We can put the \"River\" in \"Screwdrivers\" https...</td>\n",
       "      <td>0.0000</td>\n",
       "      <td>neutral</td>\n",
       "      <td>True</td>\n",
       "      <td>64</td>\n",
       "    </tr>\n",
       "    <tr>\n",
       "      <th>1</th>\n",
       "      <td>787405734442958848</td>\n",
       "      <td>bot</td>\n",
       "      <td>You can't extract the \"Pong\" from \"Sponged\" ht...</td>\n",
       "      <td>0.0000</td>\n",
       "      <td>neutral</td>\n",
       "      <td>True</td>\n",
       "      <td>67</td>\n",
       "    </tr>\n",
       "    <tr>\n",
       "      <th>2</th>\n",
       "      <td>787405734442958848</td>\n",
       "      <td>bot</td>\n",
       "      <td>Put the \"Nope\" back in \"Inoperative\" https://t...</td>\n",
       "      <td>0.0000</td>\n",
       "      <td>neutral</td>\n",
       "      <td>True</td>\n",
       "      <td>60</td>\n",
       "    </tr>\n",
       "    <tr>\n",
       "      <th>3</th>\n",
       "      <td>787405734442958848</td>\n",
       "      <td>bot</td>\n",
       "      <td>We can't spell \"Artworks\" without \"Two\" https:...</td>\n",
       "      <td>0.0000</td>\n",
       "      <td>neutral</td>\n",
       "      <td>True</td>\n",
       "      <td>63</td>\n",
       "    </tr>\n",
       "    <tr>\n",
       "      <th>4</th>\n",
       "      <td>787405734442958848</td>\n",
       "      <td>bot</td>\n",
       "      <td>You can be the \"She\" in \"Astonished\" https://t...</td>\n",
       "      <td>0.0000</td>\n",
       "      <td>neutral</td>\n",
       "      <td>True</td>\n",
       "      <td>60</td>\n",
       "    </tr>\n",
       "    <tr>\n",
       "      <th>...</th>\n",
       "      <td>...</td>\n",
       "      <td>...</td>\n",
       "      <td>...</td>\n",
       "      <td>...</td>\n",
       "      <td>...</td>\n",
       "      <td>...</td>\n",
       "      <td>...</td>\n",
       "    </tr>\n",
       "    <tr>\n",
       "      <th>488632</th>\n",
       "      <td>3077047801</td>\n",
       "      <td>bot</td>\n",
       "      <td>A Tribute – Joan Rivers on Fitness http://t.co...</td>\n",
       "      <td>0.2732</td>\n",
       "      <td>positive</td>\n",
       "      <td>True</td>\n",
       "      <td>74</td>\n",
       "    </tr>\n",
       "    <tr>\n",
       "      <th>488633</th>\n",
       "      <td>3077047801</td>\n",
       "      <td>bot</td>\n",
       "      <td>Live in Orlando area? Want a personal trainer?...</td>\n",
       "      <td>0.1680</td>\n",
       "      <td>positive</td>\n",
       "      <td>False</td>\n",
       "      <td>143</td>\n",
       "    </tr>\n",
       "    <tr>\n",
       "      <th>488634</th>\n",
       "      <td>3077047801</td>\n",
       "      <td>bot</td>\n",
       "      <td>If you're trying to get fit  keep working. You...</td>\n",
       "      <td>0.8608</td>\n",
       "      <td>positive</td>\n",
       "      <td>True</td>\n",
       "      <td>138</td>\n",
       "    </tr>\n",
       "    <tr>\n",
       "      <th>488635</th>\n",
       "      <td>3077047801</td>\n",
       "      <td>bot</td>\n",
       "      <td>Ready for summer? Cheap  cool sunglasses - loo...</td>\n",
       "      <td>0.7430</td>\n",
       "      <td>positive</td>\n",
       "      <td>True</td>\n",
       "      <td>133</td>\n",
       "    </tr>\n",
       "    <tr>\n",
       "      <th>488636</th>\n",
       "      <td>3077047801</td>\n",
       "      <td>bot</td>\n",
       "      <td>Hey all. Stayn' healthy is important especiall...</td>\n",
       "      <td>0.5423</td>\n",
       "      <td>positive</td>\n",
       "      <td>True</td>\n",
       "      <td>135</td>\n",
       "    </tr>\n",
       "  </tbody>\n",
       "</table>\n",
       "<p>488637 rows × 7 columns</p>\n",
       "</div>"
      ],
      "text/plain": [
       "                    userid account_type  \\\n",
       "0       787405734442958848          bot   \n",
       "1       787405734442958848          bot   \n",
       "2       787405734442958848          bot   \n",
       "3       787405734442958848          bot   \n",
       "4       787405734442958848          bot   \n",
       "...                    ...          ...   \n",
       "488632          3077047801          bot   \n",
       "488633          3077047801          bot   \n",
       "488634          3077047801          bot   \n",
       "488635          3077047801          bot   \n",
       "488636          3077047801          bot   \n",
       "\n",
       "                                              clean_tweet  vader_sentiment  \\\n",
       "0       We can put the \"River\" in \"Screwdrivers\" https...           0.0000   \n",
       "1       You can't extract the \"Pong\" from \"Sponged\" ht...           0.0000   \n",
       "2       Put the \"Nope\" back in \"Inoperative\" https://t...           0.0000   \n",
       "3       We can't spell \"Artworks\" without \"Two\" https:...           0.0000   \n",
       "4       You can be the \"She\" in \"Astonished\" https://t...           0.0000   \n",
       "...                                                   ...              ...   \n",
       "488632  A Tribute – Joan Rivers on Fitness http://t.co...           0.2732   \n",
       "488633  Live in Orlando area? Want a personal trainer?...           0.1680   \n",
       "488634  If you're trying to get fit  keep working. You...           0.8608   \n",
       "488635  Ready for summer? Cheap  cool sunglasses - loo...           0.7430   \n",
       "488636  Hey all. Stayn' healthy is important especiall...           0.5423   \n",
       "\n",
       "       vader_label  url_flag  len  \n",
       "0          neutral      True   64  \n",
       "1          neutral      True   67  \n",
       "2          neutral      True   60  \n",
       "3          neutral      True   63  \n",
       "4          neutral      True   60  \n",
       "...            ...       ...  ...  \n",
       "488632    positive      True   74  \n",
       "488633    positive     False  143  \n",
       "488634    positive      True  138  \n",
       "488635    positive      True  133  \n",
       "488636    positive      True  135  \n",
       "\n",
       "[488637 rows x 7 columns]"
      ]
     },
     "execution_count": 34,
     "metadata": {},
     "output_type": "execute_result"
    }
   ],
   "source": [
    "df"
   ]
  },
  {
   "cell_type": "code",
   "execution_count": null,
   "id": "dcdccebd-4ed0-435d-b888-e11f3eedeec3",
   "metadata": {},
   "outputs": [],
   "source": []
  },
  {
   "cell_type": "code",
   "execution_count": 36,
   "id": "c5f10c2e-437c-4ef3-8e68-dfc576a36d13",
   "metadata": {},
   "outputs": [],
   "source": [
    "clf = RandomForestClassifier(random_state=0)"
   ]
  },
  {
   "cell_type": "code",
   "execution_count": 37,
   "id": "ffe95aaa-7116-4090-9964-dc616b2eb70b",
   "metadata": {},
   "outputs": [],
   "source": [
    "X = df[['vader_sentiment', 'url_flag', 'len']]\n",
    "y = df['account_type']"
   ]
  },
  {
   "cell_type": "code",
   "execution_count": 38,
   "id": "cd67098b-eeca-4ab3-9f33-28aa7cc17cd2",
   "metadata": {},
   "outputs": [],
   "source": [
    "X_train, X_test, y_train, y_test = train_test_split(X, y, test_size=0.33, random_state=42)"
   ]
  },
  {
   "cell_type": "code",
   "execution_count": 39,
   "id": "f838ecfe-4522-427f-a41d-ee67481b1b4e",
   "metadata": {},
   "outputs": [],
   "source": [
    "clf = clf.fit(X_train, y_train)"
   ]
  },
  {
   "cell_type": "code",
   "execution_count": 40,
   "id": "4293be80-317a-4131-bce1-17ee63176426",
   "metadata": {},
   "outputs": [],
   "source": [
    "pred = clf.predict(X_test)"
   ]
  },
  {
   "cell_type": "code",
   "execution_count": 41,
   "id": "569197c6-f69f-436c-bc6d-d16a0cf68ee8",
   "metadata": {},
   "outputs": [],
   "source": [
    "labels = ['bot', 'human']"
   ]
  },
  {
   "cell_type": "code",
   "execution_count": 42,
   "id": "47f8a948-f997-499d-aa36-a4fc93ae062f",
   "metadata": {},
   "outputs": [
    {
     "name": "stdout",
     "output_type": "stream",
     "text": [
      "              precision    recall  f1-score   support\n",
      "\n",
      "         bot       0.54      0.24      0.33     38217\n",
      "       human       0.80      0.93      0.86    123034\n",
      "\n",
      "    accuracy                           0.77    161251\n",
      "   macro avg       0.67      0.59      0.60    161251\n",
      "weighted avg       0.74      0.77      0.74    161251\n",
      "\n"
     ]
    }
   ],
   "source": [
    "print(classification_report(y_test, y_pred = pred, labels = labels))"
   ]
  },
  {
   "cell_type": "code",
   "execution_count": null,
   "id": "041aed1d-2d82-4f86-9541-0beee16426e5",
   "metadata": {},
   "outputs": [],
   "source": []
  },
  {
   "cell_type": "code",
   "execution_count": null,
   "id": "024dd6fa-545b-4d8e-9579-9e6a018fd866",
   "metadata": {},
   "outputs": [],
   "source": []
  }
 ],
 "metadata": {
  "kernelspec": {
   "display_name": "rasa_py38",
   "language": "python",
   "name": "rasa_py38"
  },
  "language_info": {
   "codemirror_mode": {
    "name": "ipython",
    "version": 3
   },
   "file_extension": ".py",
   "mimetype": "text/x-python",
   "name": "python",
   "nbconvert_exporter": "python",
   "pygments_lexer": "ipython3",
   "version": "3.8.13"
  }
 },
 "nbformat": 4,
 "nbformat_minor": 5
}
