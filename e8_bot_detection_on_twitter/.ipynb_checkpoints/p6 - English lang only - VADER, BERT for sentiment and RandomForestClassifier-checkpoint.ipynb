{
 "cells": [
  {
   "cell_type": "code",
   "execution_count": 1,
   "id": "b49cb4de-bc41-4412-9f79-4bc3ff5005c8",
   "metadata": {},
   "outputs": [],
   "source": [
    "import pandas as pd\n",
    "import numpy as np\n",
    "import re\n",
    "import seaborn as sns\n",
    "import nltk\n",
    "from nltk.sentiment.vader import SentimentIntensityAnalyzer\n",
    "\n",
    "from sklearn.ensemble import RandomForestClassifier\n",
    "from sklearn.model_selection import train_test_split\n",
    "from sklearn.metrics import classification_report"
   ]
  },
  {
   "cell_type": "code",
   "execution_count": 2,
   "id": "c4c9f925-8628-4b6d-a511-e6d9f78c409e",
   "metadata": {},
   "outputs": [
    {
     "name": "stderr",
     "output_type": "stream",
     "text": [
      "[nltk_data] Downloading package vader_lexicon to\n",
      "[nltk_data]     /home/ashish/nltk_data...\n",
      "[nltk_data]   Package vader_lexicon is already up-to-date!\n"
     ]
    },
    {
     "data": {
      "text/plain": [
       "True"
      ]
     },
     "execution_count": 2,
     "metadata": {},
     "output_type": "execute_result"
    }
   ],
   "source": [
    "nltk.download('vader_lexicon')"
   ]
  },
  {
   "cell_type": "code",
   "execution_count": 4,
   "id": "a296a287-5fa3-492e-a3c7-312236d4f59f",
   "metadata": {},
   "outputs": [],
   "source": [
    "df = pd.read_csv('tweets_f234_users_vader_bert_url_len_lang.csv')"
   ]
  },
  {
   "cell_type": "code",
   "execution_count": 5,
   "id": "b0fc20c6-ba66-4014-b180-89d6c0ce7988",
   "metadata": {},
   "outputs": [
    {
     "data": {
      "text/html": [
       "<div>\n",
       "<style scoped>\n",
       "    .dataframe tbody tr th:only-of-type {\n",
       "        vertical-align: middle;\n",
       "    }\n",
       "\n",
       "    .dataframe tbody tr th {\n",
       "        vertical-align: top;\n",
       "    }\n",
       "\n",
       "    .dataframe thead th {\n",
       "        text-align: right;\n",
       "    }\n",
       "</style>\n",
       "<table border=\"1\" class=\"dataframe\">\n",
       "  <thead>\n",
       "    <tr style=\"text-align: right;\">\n",
       "      <th></th>\n",
       "      <th>userid</th>\n",
       "      <th>account_type</th>\n",
       "      <th>clean_tweet</th>\n",
       "      <th>bert_clear_expression_conf</th>\n",
       "      <th>lang</th>\n",
       "      <th>vader_sentiment</th>\n",
       "      <th>vader_label</th>\n",
       "      <th>url_flag</th>\n",
       "      <th>len</th>\n",
       "    </tr>\n",
       "  </thead>\n",
       "  <tbody>\n",
       "    <tr>\n",
       "      <th>0</th>\n",
       "      <td>787405734442958848</td>\n",
       "      <td>bot</td>\n",
       "      <td>We can put the \"River\" in \"Screwdrivers\" https...</td>\n",
       "      <td>90</td>\n",
       "      <td>en</td>\n",
       "      <td>0.0000</td>\n",
       "      <td>neutral</td>\n",
       "      <td>True</td>\n",
       "      <td>64</td>\n",
       "    </tr>\n",
       "    <tr>\n",
       "      <th>1</th>\n",
       "      <td>787405734442958848</td>\n",
       "      <td>bot</td>\n",
       "      <td>You can't extract the \"Pong\" from \"Sponged\" ht...</td>\n",
       "      <td>98</td>\n",
       "      <td>en</td>\n",
       "      <td>0.0000</td>\n",
       "      <td>neutral</td>\n",
       "      <td>True</td>\n",
       "      <td>67</td>\n",
       "    </tr>\n",
       "    <tr>\n",
       "      <th>2</th>\n",
       "      <td>787405734442958848</td>\n",
       "      <td>bot</td>\n",
       "      <td>Put the \"Nope\" back in \"Inoperative\" https://t...</td>\n",
       "      <td>97</td>\n",
       "      <td>en</td>\n",
       "      <td>0.0000</td>\n",
       "      <td>neutral</td>\n",
       "      <td>True</td>\n",
       "      <td>60</td>\n",
       "    </tr>\n",
       "    <tr>\n",
       "      <th>3</th>\n",
       "      <td>787405734442958848</td>\n",
       "      <td>bot</td>\n",
       "      <td>We can't spell \"Artworks\" without \"Two\" https:...</td>\n",
       "      <td>85</td>\n",
       "      <td>en</td>\n",
       "      <td>0.0000</td>\n",
       "      <td>neutral</td>\n",
       "      <td>True</td>\n",
       "      <td>63</td>\n",
       "    </tr>\n",
       "    <tr>\n",
       "      <th>4</th>\n",
       "      <td>787405734442958848</td>\n",
       "      <td>bot</td>\n",
       "      <td>You can be the \"She\" in \"Astonished\" https://t...</td>\n",
       "      <td>51</td>\n",
       "      <td>en</td>\n",
       "      <td>0.0000</td>\n",
       "      <td>neutral</td>\n",
       "      <td>True</td>\n",
       "      <td>60</td>\n",
       "    </tr>\n",
       "    <tr>\n",
       "      <th>...</th>\n",
       "      <td>...</td>\n",
       "      <td>...</td>\n",
       "      <td>...</td>\n",
       "      <td>...</td>\n",
       "      <td>...</td>\n",
       "      <td>...</td>\n",
       "      <td>...</td>\n",
       "      <td>...</td>\n",
       "      <td>...</td>\n",
       "    </tr>\n",
       "    <tr>\n",
       "      <th>488632</th>\n",
       "      <td>3077047801</td>\n",
       "      <td>bot</td>\n",
       "      <td>A Tribute – Joan Rivers on Fitness http://t.co...</td>\n",
       "      <td>69</td>\n",
       "      <td>en</td>\n",
       "      <td>0.2732</td>\n",
       "      <td>positive</td>\n",
       "      <td>True</td>\n",
       "      <td>74</td>\n",
       "    </tr>\n",
       "    <tr>\n",
       "      <th>488633</th>\n",
       "      <td>3077047801</td>\n",
       "      <td>bot</td>\n",
       "      <td>Live in Orlando area? Want a personal trainer?...</td>\n",
       "      <td>87</td>\n",
       "      <td>en</td>\n",
       "      <td>0.1680</td>\n",
       "      <td>positive</td>\n",
       "      <td>False</td>\n",
       "      <td>143</td>\n",
       "    </tr>\n",
       "    <tr>\n",
       "      <th>488634</th>\n",
       "      <td>3077047801</td>\n",
       "      <td>bot</td>\n",
       "      <td>If you're trying to get fit  keep working. You...</td>\n",
       "      <td>83</td>\n",
       "      <td>en</td>\n",
       "      <td>0.8608</td>\n",
       "      <td>positive</td>\n",
       "      <td>True</td>\n",
       "      <td>138</td>\n",
       "    </tr>\n",
       "    <tr>\n",
       "      <th>488635</th>\n",
       "      <td>3077047801</td>\n",
       "      <td>bot</td>\n",
       "      <td>Ready for summer? Cheap  cool sunglasses - loo...</td>\n",
       "      <td>96</td>\n",
       "      <td>en</td>\n",
       "      <td>0.7430</td>\n",
       "      <td>positive</td>\n",
       "      <td>True</td>\n",
       "      <td>133</td>\n",
       "    </tr>\n",
       "    <tr>\n",
       "      <th>488636</th>\n",
       "      <td>3077047801</td>\n",
       "      <td>bot</td>\n",
       "      <td>Hey all. Stayn' healthy is important especiall...</td>\n",
       "      <td>83</td>\n",
       "      <td>en</td>\n",
       "      <td>0.5423</td>\n",
       "      <td>positive</td>\n",
       "      <td>True</td>\n",
       "      <td>135</td>\n",
       "    </tr>\n",
       "  </tbody>\n",
       "</table>\n",
       "<p>488637 rows × 9 columns</p>\n",
       "</div>"
      ],
      "text/plain": [
       "                    userid account_type  \\\n",
       "0       787405734442958848          bot   \n",
       "1       787405734442958848          bot   \n",
       "2       787405734442958848          bot   \n",
       "3       787405734442958848          bot   \n",
       "4       787405734442958848          bot   \n",
       "...                    ...          ...   \n",
       "488632          3077047801          bot   \n",
       "488633          3077047801          bot   \n",
       "488634          3077047801          bot   \n",
       "488635          3077047801          bot   \n",
       "488636          3077047801          bot   \n",
       "\n",
       "                                              clean_tweet  \\\n",
       "0       We can put the \"River\" in \"Screwdrivers\" https...   \n",
       "1       You can't extract the \"Pong\" from \"Sponged\" ht...   \n",
       "2       Put the \"Nope\" back in \"Inoperative\" https://t...   \n",
       "3       We can't spell \"Artworks\" without \"Two\" https:...   \n",
       "4       You can be the \"She\" in \"Astonished\" https://t...   \n",
       "...                                                   ...   \n",
       "488632  A Tribute – Joan Rivers on Fitness http://t.co...   \n",
       "488633  Live in Orlando area? Want a personal trainer?...   \n",
       "488634  If you're trying to get fit  keep working. You...   \n",
       "488635  Ready for summer? Cheap  cool sunglasses - loo...   \n",
       "488636  Hey all. Stayn' healthy is important especiall...   \n",
       "\n",
       "        bert_clear_expression_conf lang  vader_sentiment vader_label  \\\n",
       "0                               90   en           0.0000     neutral   \n",
       "1                               98   en           0.0000     neutral   \n",
       "2                               97   en           0.0000     neutral   \n",
       "3                               85   en           0.0000     neutral   \n",
       "4                               51   en           0.0000     neutral   \n",
       "...                            ...  ...              ...         ...   \n",
       "488632                          69   en           0.2732    positive   \n",
       "488633                          87   en           0.1680    positive   \n",
       "488634                          83   en           0.8608    positive   \n",
       "488635                          96   en           0.7430    positive   \n",
       "488636                          83   en           0.5423    positive   \n",
       "\n",
       "        url_flag  len  \n",
       "0           True   64  \n",
       "1           True   67  \n",
       "2           True   60  \n",
       "3           True   63  \n",
       "4           True   60  \n",
       "...          ...  ...  \n",
       "488632      True   74  \n",
       "488633     False  143  \n",
       "488634      True  138  \n",
       "488635      True  133  \n",
       "488636      True  135  \n",
       "\n",
       "[488637 rows x 9 columns]"
      ]
     },
     "execution_count": 5,
     "metadata": {},
     "output_type": "execute_result"
    }
   ],
   "source": [
    "df"
   ]
  },
  {
   "cell_type": "code",
   "execution_count": 6,
   "id": "c46efdee-6f94-487a-9932-415ac2ffb5a3",
   "metadata": {},
   "outputs": [
    {
     "data": {
      "text/plain": [
       "en                                 334679\n",
       "es                                  23616\n",
       "it                                  22580\n",
       "ar                                  14389\n",
       "ja                                  13445\n",
       "pt                                   9301\n",
       "Exception: No features in text.      9150\n",
       "id                                   6928\n",
       "fr                                   5543\n",
       "de                                   5011\n",
       "tl                                   4248\n",
       "ur                                   3065\n",
       "pl                                   2954\n",
       "so                                   2680\n",
       "af                                   2621\n",
       "nl                                   2426\n",
       "et                                   2425\n",
       "tr                                   2100\n",
       "ca                                   1973\n",
       "ro                                   1946\n",
       "no                                   1826\n",
       "cy                                   1702\n",
       "hi                                   1628\n",
       "fi                                   1614\n",
       "ru                                   1516\n",
       "da                                   1313\n",
       "sv                                   1134\n",
       "sw                                   1030\n",
       "ko                                    999\n",
       "sl                                    999\n",
       "hr                                    804\n",
       "lt                                    498\n",
       "hu                                    443\n",
       "vi                                    437\n",
       "sk                                    373\n",
       "sq                                    371\n",
       "cs                                    208\n",
       "lv                                    168\n",
       "bg                                    166\n",
       "fa                                    109\n",
       "th                                     63\n",
       "zh-cn                                  53\n",
       "mk                                     42\n",
       "uk                                     18\n",
       "ta                                     13\n",
       "el                                      9\n",
       "ne                                      8\n",
       "mr                                      5\n",
       "he                                      4\n",
       "gu                                      2\n",
       "zh-tw                                   1\n",
       "kn                                      1\n",
       "Name: lang, dtype: int64"
      ]
     },
     "execution_count": 6,
     "metadata": {},
     "output_type": "execute_result"
    }
   ],
   "source": [
    "df['lang'].value_counts()"
   ]
  },
  {
   "cell_type": "code",
   "execution_count": 7,
   "id": "d797390d-48b4-4ad4-b1d3-782e26585344",
   "metadata": {},
   "outputs": [],
   "source": [
    "df = df[df['lang'] == 'en']"
   ]
  },
  {
   "cell_type": "code",
   "execution_count": 8,
   "id": "8b0f55e3-9f12-418a-9aad-be73cc313cb1",
   "metadata": {},
   "outputs": [],
   "source": [
    "clf = RandomForestClassifier(random_state=0)"
   ]
  },
  {
   "cell_type": "code",
   "execution_count": 9,
   "id": "56bd7773-cad3-48a9-8a2e-f5a231df4b16",
   "metadata": {},
   "outputs": [],
   "source": [
    "X = df[['vader_sentiment', 'url_flag', 'len', 'bert_clear_expression_conf']]\n",
    "y = df['account_type']"
   ]
  },
  {
   "cell_type": "code",
   "execution_count": 10,
   "id": "e065c5ea-5e1c-4852-8f72-d8d02bd4abd9",
   "metadata": {},
   "outputs": [],
   "source": [
    "X_train, X_test, y_train, y_test = train_test_split(X, y, test_size=0.33, random_state=42)"
   ]
  },
  {
   "cell_type": "code",
   "execution_count": 11,
   "id": "06ebba8f-a77d-4efb-bbe0-fd1c85c3fa4d",
   "metadata": {},
   "outputs": [
    {
     "name": "stdout",
     "output_type": "stream",
     "text": [
      "CPU times: user 39.8 s, sys: 233 ms, total: 40 s\n",
      "Wall time: 40.1 s\n"
     ]
    }
   ],
   "source": [
    "%%time\n",
    "clf = clf.fit(X_train, y_train)"
   ]
  },
  {
   "cell_type": "code",
   "execution_count": 12,
   "id": "b097c389-d98d-4bf1-8344-641aa744b534",
   "metadata": {},
   "outputs": [],
   "source": [
    "pred = clf.predict(X_test)"
   ]
  },
  {
   "cell_type": "code",
   "execution_count": 13,
   "id": "b22c5247-b1a2-4811-89f4-8aa86c7978fd",
   "metadata": {},
   "outputs": [],
   "source": [
    "labels = ['bot', 'human']"
   ]
  },
  {
   "cell_type": "code",
   "execution_count": 14,
   "id": "9cc6f1f8-7bc2-411a-83e6-ca3b3d969c00",
   "metadata": {},
   "outputs": [
    {
     "name": "stdout",
     "output_type": "stream",
     "text": [
      "              precision    recall  f1-score   support\n",
      "\n",
      "         bot       0.57      0.43      0.49     23603\n",
      "       human       0.85      0.91      0.88     86842\n",
      "\n",
      "    accuracy                           0.81    110445\n",
      "   macro avg       0.71      0.67      0.69    110445\n",
      "weighted avg       0.79      0.81      0.80    110445\n",
      "\n"
     ]
    }
   ],
   "source": [
    "print(classification_report(y_test, y_pred = pred, labels = labels))"
   ]
  }
 ],
 "metadata": {
  "kernelspec": {
   "display_name": "rasa_py38",
   "language": "python",
   "name": "rasa_py38"
  },
  "language_info": {
   "codemirror_mode": {
    "name": "ipython",
    "version": 3
   },
   "file_extension": ".py",
   "mimetype": "text/x-python",
   "name": "python",
   "nbconvert_exporter": "python",
   "pygments_lexer": "ipython3",
   "version": "3.8.13"
  }
 },
 "nbformat": 4,
 "nbformat_minor": 5
}
