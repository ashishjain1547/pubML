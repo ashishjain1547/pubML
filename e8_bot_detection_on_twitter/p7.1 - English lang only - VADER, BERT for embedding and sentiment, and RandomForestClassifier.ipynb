{
 "cells": [
  {
   "cell_type": "code",
   "execution_count": 30,
   "id": "b49cb4de-bc41-4412-9f79-4bc3ff5005c8",
   "metadata": {},
   "outputs": [],
   "source": [
    "import pandas as pd\n",
    "import numpy as np\n",
    "import re\n",
    "from time import time\n",
    "import seaborn as sns\n",
    "import nltk\n",
    "from nltk.sentiment.vader import SentimentIntensityAnalyzer\n",
    "\n",
    "from sklearn.ensemble import RandomForestClassifier\n",
    "from sklearn.model_selection import train_test_split\n",
    "from sklearn.metrics import classification_report\n",
    "from sklearn.decomposition import PCA\n",
    "\n",
    "from sentence_transformers import SentenceTransformer"
   ]
  },
  {
   "cell_type": "code",
   "execution_count": 2,
   "id": "c4c9f925-8628-4b6d-a511-e6d9f78c409e",
   "metadata": {},
   "outputs": [
    {
     "name": "stderr",
     "output_type": "stream",
     "text": [
      "[nltk_data] Downloading package vader_lexicon to\n",
      "[nltk_data]     /home/ashish/nltk_data...\n",
      "[nltk_data]   Package vader_lexicon is already up-to-date!\n"
     ]
    },
    {
     "data": {
      "text/plain": [
       "True"
      ]
     },
     "execution_count": 2,
     "metadata": {},
     "output_type": "execute_result"
    }
   ],
   "source": [
    "nltk.download('vader_lexicon')"
   ]
  },
  {
   "cell_type": "code",
   "execution_count": 4,
   "id": "a296a287-5fa3-492e-a3c7-312236d4f59f",
   "metadata": {},
   "outputs": [],
   "source": [
    "df = pd.read_csv('tweets_f234_users_vader_bert_url_len_lang.csv')"
   ]
  },
  {
   "cell_type": "code",
   "execution_count": 5,
   "id": "d797390d-48b4-4ad4-b1d3-782e26585344",
   "metadata": {},
   "outputs": [],
   "source": [
    "df = df[df['lang'] == 'en']"
   ]
  },
  {
   "cell_type": "code",
   "execution_count": 64,
   "id": "ac04888b-11c6-4c4f-853e-9b10e15672ba",
   "metadata": {},
   "outputs": [
    {
     "data": {
      "text/html": [
       "<div>\n",
       "<style scoped>\n",
       "    .dataframe tbody tr th:only-of-type {\n",
       "        vertical-align: middle;\n",
       "    }\n",
       "\n",
       "    .dataframe tbody tr th {\n",
       "        vertical-align: top;\n",
       "    }\n",
       "\n",
       "    .dataframe thead th {\n",
       "        text-align: right;\n",
       "    }\n",
       "</style>\n",
       "<table border=\"1\" class=\"dataframe\">\n",
       "  <thead>\n",
       "    <tr style=\"text-align: right;\">\n",
       "      <th></th>\n",
       "      <th>userid</th>\n",
       "      <th>account_type</th>\n",
       "      <th>clean_tweet</th>\n",
       "      <th>bert_clear_expression_conf</th>\n",
       "      <th>lang</th>\n",
       "      <th>vader_sentiment</th>\n",
       "      <th>vader_label</th>\n",
       "      <th>url_flag</th>\n",
       "      <th>len</th>\n",
       "    </tr>\n",
       "  </thead>\n",
       "  <tbody>\n",
       "    <tr>\n",
       "      <th>0</th>\n",
       "      <td>787405734442958848</td>\n",
       "      <td>bot</td>\n",
       "      <td>We can put the \"River\" in \"Screwdrivers\" https...</td>\n",
       "      <td>90</td>\n",
       "      <td>en</td>\n",
       "      <td>0.0000</td>\n",
       "      <td>neutral</td>\n",
       "      <td>True</td>\n",
       "      <td>64</td>\n",
       "    </tr>\n",
       "    <tr>\n",
       "      <th>1</th>\n",
       "      <td>787405734442958848</td>\n",
       "      <td>bot</td>\n",
       "      <td>You can't extract the \"Pong\" from \"Sponged\" ht...</td>\n",
       "      <td>98</td>\n",
       "      <td>en</td>\n",
       "      <td>0.0000</td>\n",
       "      <td>neutral</td>\n",
       "      <td>True</td>\n",
       "      <td>67</td>\n",
       "    </tr>\n",
       "    <tr>\n",
       "      <th>2</th>\n",
       "      <td>787405734442958848</td>\n",
       "      <td>bot</td>\n",
       "      <td>Put the \"Nope\" back in \"Inoperative\" https://t...</td>\n",
       "      <td>97</td>\n",
       "      <td>en</td>\n",
       "      <td>0.0000</td>\n",
       "      <td>neutral</td>\n",
       "      <td>True</td>\n",
       "      <td>60</td>\n",
       "    </tr>\n",
       "    <tr>\n",
       "      <th>3</th>\n",
       "      <td>787405734442958848</td>\n",
       "      <td>bot</td>\n",
       "      <td>We can't spell \"Artworks\" without \"Two\" https:...</td>\n",
       "      <td>85</td>\n",
       "      <td>en</td>\n",
       "      <td>0.0000</td>\n",
       "      <td>neutral</td>\n",
       "      <td>True</td>\n",
       "      <td>63</td>\n",
       "    </tr>\n",
       "    <tr>\n",
       "      <th>4</th>\n",
       "      <td>787405734442958848</td>\n",
       "      <td>bot</td>\n",
       "      <td>You can be the \"She\" in \"Astonished\" https://t...</td>\n",
       "      <td>51</td>\n",
       "      <td>en</td>\n",
       "      <td>0.0000</td>\n",
       "      <td>neutral</td>\n",
       "      <td>True</td>\n",
       "      <td>60</td>\n",
       "    </tr>\n",
       "    <tr>\n",
       "      <th>...</th>\n",
       "      <td>...</td>\n",
       "      <td>...</td>\n",
       "      <td>...</td>\n",
       "      <td>...</td>\n",
       "      <td>...</td>\n",
       "      <td>...</td>\n",
       "      <td>...</td>\n",
       "      <td>...</td>\n",
       "      <td>...</td>\n",
       "    </tr>\n",
       "    <tr>\n",
       "      <th>488632</th>\n",
       "      <td>3077047801</td>\n",
       "      <td>bot</td>\n",
       "      <td>A Tribute – Joan Rivers on Fitness http://t.co...</td>\n",
       "      <td>69</td>\n",
       "      <td>en</td>\n",
       "      <td>0.2732</td>\n",
       "      <td>positive</td>\n",
       "      <td>True</td>\n",
       "      <td>74</td>\n",
       "    </tr>\n",
       "    <tr>\n",
       "      <th>488633</th>\n",
       "      <td>3077047801</td>\n",
       "      <td>bot</td>\n",
       "      <td>Live in Orlando area? Want a personal trainer?...</td>\n",
       "      <td>87</td>\n",
       "      <td>en</td>\n",
       "      <td>0.1680</td>\n",
       "      <td>positive</td>\n",
       "      <td>False</td>\n",
       "      <td>143</td>\n",
       "    </tr>\n",
       "    <tr>\n",
       "      <th>488634</th>\n",
       "      <td>3077047801</td>\n",
       "      <td>bot</td>\n",
       "      <td>If you're trying to get fit  keep working. You...</td>\n",
       "      <td>83</td>\n",
       "      <td>en</td>\n",
       "      <td>0.8608</td>\n",
       "      <td>positive</td>\n",
       "      <td>True</td>\n",
       "      <td>138</td>\n",
       "    </tr>\n",
       "    <tr>\n",
       "      <th>488635</th>\n",
       "      <td>3077047801</td>\n",
       "      <td>bot</td>\n",
       "      <td>Ready for summer? Cheap  cool sunglasses - loo...</td>\n",
       "      <td>96</td>\n",
       "      <td>en</td>\n",
       "      <td>0.7430</td>\n",
       "      <td>positive</td>\n",
       "      <td>True</td>\n",
       "      <td>133</td>\n",
       "    </tr>\n",
       "    <tr>\n",
       "      <th>488636</th>\n",
       "      <td>3077047801</td>\n",
       "      <td>bot</td>\n",
       "      <td>Hey all. Stayn' healthy is important especiall...</td>\n",
       "      <td>83</td>\n",
       "      <td>en</td>\n",
       "      <td>0.5423</td>\n",
       "      <td>positive</td>\n",
       "      <td>True</td>\n",
       "      <td>135</td>\n",
       "    </tr>\n",
       "  </tbody>\n",
       "</table>\n",
       "<p>334679 rows × 9 columns</p>\n",
       "</div>"
      ],
      "text/plain": [
       "                    userid account_type  \\\n",
       "0       787405734442958848          bot   \n",
       "1       787405734442958848          bot   \n",
       "2       787405734442958848          bot   \n",
       "3       787405734442958848          bot   \n",
       "4       787405734442958848          bot   \n",
       "...                    ...          ...   \n",
       "488632          3077047801          bot   \n",
       "488633          3077047801          bot   \n",
       "488634          3077047801          bot   \n",
       "488635          3077047801          bot   \n",
       "488636          3077047801          bot   \n",
       "\n",
       "                                              clean_tweet  \\\n",
       "0       We can put the \"River\" in \"Screwdrivers\" https...   \n",
       "1       You can't extract the \"Pong\" from \"Sponged\" ht...   \n",
       "2       Put the \"Nope\" back in \"Inoperative\" https://t...   \n",
       "3       We can't spell \"Artworks\" without \"Two\" https:...   \n",
       "4       You can be the \"She\" in \"Astonished\" https://t...   \n",
       "...                                                   ...   \n",
       "488632  A Tribute – Joan Rivers on Fitness http://t.co...   \n",
       "488633  Live in Orlando area? Want a personal trainer?...   \n",
       "488634  If you're trying to get fit  keep working. You...   \n",
       "488635  Ready for summer? Cheap  cool sunglasses - loo...   \n",
       "488636  Hey all. Stayn' healthy is important especiall...   \n",
       "\n",
       "        bert_clear_expression_conf lang  vader_sentiment vader_label  \\\n",
       "0                               90   en           0.0000     neutral   \n",
       "1                               98   en           0.0000     neutral   \n",
       "2                               97   en           0.0000     neutral   \n",
       "3                               85   en           0.0000     neutral   \n",
       "4                               51   en           0.0000     neutral   \n",
       "...                            ...  ...              ...         ...   \n",
       "488632                          69   en           0.2732    positive   \n",
       "488633                          87   en           0.1680    positive   \n",
       "488634                          83   en           0.8608    positive   \n",
       "488635                          96   en           0.7430    positive   \n",
       "488636                          83   en           0.5423    positive   \n",
       "\n",
       "        url_flag  len  \n",
       "0           True   64  \n",
       "1           True   67  \n",
       "2           True   60  \n",
       "3           True   63  \n",
       "4           True   60  \n",
       "...          ...  ...  \n",
       "488632      True   74  \n",
       "488633     False  143  \n",
       "488634      True  138  \n",
       "488635      True  133  \n",
       "488636      True  135  \n",
       "\n",
       "[334679 rows x 9 columns]"
      ]
     },
     "execution_count": 64,
     "metadata": {},
     "output_type": "execute_result"
    }
   ],
   "source": [
    "df"
   ]
  },
  {
   "cell_type": "code",
   "execution_count": 8,
   "id": "ee8e4ad0-2a54-4cab-b82c-64992e84ee6c",
   "metadata": {},
   "outputs": [],
   "source": [
    "sbert_model = SentenceTransformer('bert-base-nli-mean-tokens')"
   ]
  },
  {
   "cell_type": "code",
   "execution_count": 10,
   "id": "a8aa58fa-c5f6-4f3a-a28c-7881517d8d91",
   "metadata": {},
   "outputs": [
    {
     "name": "stdout",
     "output_type": "stream",
     "text": [
      "CPU times: user 18h 28s, sys: 9min 51s, total: 18h 10min 19s\n",
      "Wall time: 9h 7min 48s\n"
     ]
    }
   ],
   "source": [
    "%%time\n",
    "nparray = sbert_model.encode(df['clean_tweet'].values)\n",
    "\n",
    "# CPU times: user 18h 28s, sys: 9min 51s, total: 18h 10min 19s\n",
    "# Wall time: 9h 7min 48s"
   ]
  },
  {
   "cell_type": "code",
   "execution_count": 11,
   "id": "8b0f55e3-9f12-418a-9aad-be73cc313cb1",
   "metadata": {},
   "outputs": [],
   "source": [
    "clf = RandomForestClassifier(random_state=0)"
   ]
  },
  {
   "cell_type": "code",
   "execution_count": 13,
   "id": "61326c91-b7b1-4855-8159-d59418ea1fc0",
   "metadata": {},
   "outputs": [],
   "source": [
    "df_embeddings = pd.DataFrame(nparray)"
   ]
  },
  {
   "cell_type": "code",
   "execution_count": 20,
   "id": "7d655d3f-96b7-4996-8833-5dea5c8bc4c4",
   "metadata": {},
   "outputs": [],
   "source": [
    "df_embeddings.to_csv('tweet_embeddings_using_bert_f234_' + str(round(time())) + '.csv', index = False)"
   ]
  },
  {
   "cell_type": "code",
   "execution_count": null,
   "id": "056ec8f2-af26-455a-94bf-595376c928db",
   "metadata": {},
   "outputs": [],
   "source": [
    "%%time\n",
    "temp_df = pd.read_csv('tweet_embeddings_using_bert_f234_1664047300.csv')"
   ]
  },
  {
   "cell_type": "code",
   "execution_count": 21,
   "id": "a98cd5e5-4c19-4b81-9538-008ecae125c4",
   "metadata": {},
   "outputs": [
    {
     "name": "stdout",
     "output_type": "stream",
     "text": [
      "(334679, 768)\n",
      "(334679, 768)\n"
     ]
    }
   ],
   "source": [
    "print(nparray.shape)\n",
    "print(df_embeddings.shape)"
   ]
  },
  {
   "cell_type": "code",
   "execution_count": 73,
   "id": "3b347c37-a3db-46b6-87ce-eed10517e810",
   "metadata": {},
   "outputs": [],
   "source": [
    "X_original_features = df[['vader_sentiment', 'url_flag', 'len', 'bert_clear_expression_conf']]\n",
    "y = df['account_type']"
   ]
  },
  {
   "cell_type": "code",
   "execution_count": 74,
   "id": "06941e50-a6ad-4155-99e7-ade41eb6927a",
   "metadata": {},
   "outputs": [
    {
     "name": "stdout",
     "output_type": "stream",
     "text": [
      "CPU times: user 29.7 s, sys: 4.53 s, total: 34.2 s\n",
      "Wall time: 12 s\n"
     ]
    }
   ],
   "source": [
    "%%time\n",
    "\n",
    "# CPU times: user 28 s, sys: 6.76 s, total: 34.8 s\n",
    "# Wall time: 14.1 s\n",
    "\n",
    "pca = PCA(n_components=8) \n",
    "\n",
    "# Data with n_components=64 takes infinite time (> 3 mins) to train a RandomForestClassifier.\n",
    "# Data with n_components=32 takes infinite time (> 3 mins) to train a RandomForestClassifier.\n",
    "# Data with n_components=16 takes infinite time (> 3 mins) to train a RandomForestClassifier.\n",
    "\n",
    "df_embeddings_pca = pca.fit_transform(df_embeddings)"
   ]
  },
  {
   "cell_type": "code",
   "execution_count": 78,
   "id": "6f4fd6f1-0f96-43b8-a898-8245017cfbe2",
   "metadata": {},
   "outputs": [
    {
     "name": "stdout",
     "output_type": "stream",
     "text": [
      "<class 'pandas.core.frame.DataFrame'>\n",
      "(334679, 8)\n",
      "(334679, 4)\n"
     ]
    }
   ],
   "source": [
    "print(type(df_embeddings_pca))\n",
    "df_embeddings_pca = pd.DataFrame(df_embeddings_pca)\n",
    "print(df_embeddings_pca.shape)\n",
    "print(X_original_features.shape)"
   ]
  },
  {
   "cell_type": "code",
   "execution_count": 81,
   "id": "6d33b8fa-4fe7-4fd2-9d71-9b2444cca2ae",
   "metadata": {},
   "outputs": [],
   "source": [
    "for i in X_original_features.columns:\n",
    "    df_embeddings_pca[i] = X_original_features[i].values"
   ]
  },
  {
   "cell_type": "code",
   "execution_count": 83,
   "id": "360618b9-0888-4aab-a494-3452911330a2",
   "metadata": {},
   "outputs": [
    {
     "name": "stdout",
     "output_type": "stream",
     "text": [
      "(334679, 12)\n"
     ]
    }
   ],
   "source": [
    "print(df_embeddings_pca.shape)"
   ]
  },
  {
   "cell_type": "code",
   "execution_count": 86,
   "id": "8dfff2d4-5409-46c0-9632-27e1bbc73ba2",
   "metadata": {},
   "outputs": [],
   "source": [
    "X_train, X_test, y_train, y_test = train_test_split(df_embeddings_pca, y, test_size=0.33, random_state=42)"
   ]
  },
  {
   "cell_type": "code",
   "execution_count": 87,
   "id": "bbe225cc-a78b-4051-b283-4fab0d1069f5",
   "metadata": {},
   "outputs": [],
   "source": [
    "X_train, X_test, y_train, y_test = train_test_split(X_pca, y, test_size=0.33, random_state=42)"
   ]
  },
  {
   "cell_type": "code",
   "execution_count": 88,
   "id": "019980ff-ea10-4954-bc2f-deee7855e7d6",
   "metadata": {},
   "outputs": [
    {
     "name": "stdout",
     "output_type": "stream",
     "text": [
      "CPU times: user 1min 56s, sys: 81.1 ms, total: 1min 56s\n",
      "Wall time: 1min 56s\n"
     ]
    }
   ],
   "source": [
    "%%time\n",
    "clf = clf.fit(X_train, y_train)"
   ]
  },
  {
   "cell_type": "code",
   "execution_count": 89,
   "id": "b097c389-d98d-4bf1-8344-641aa744b534",
   "metadata": {},
   "outputs": [],
   "source": [
    "pred = clf.predict(X_test)"
   ]
  },
  {
   "cell_type": "code",
   "execution_count": 90,
   "id": "b22c5247-b1a2-4811-89f4-8aa86c7978fd",
   "metadata": {},
   "outputs": [],
   "source": [
    "labels = ['bot', 'human']"
   ]
  },
  {
   "cell_type": "code",
   "execution_count": 91,
   "id": "9cc6f1f8-7bc2-411a-83e6-ca3b3d969c00",
   "metadata": {},
   "outputs": [
    {
     "name": "stdout",
     "output_type": "stream",
     "text": [
      "              precision    recall  f1-score   support\n",
      "\n",
      "         bot       0.85      0.48      0.62     23603\n",
      "       human       0.87      0.98      0.92     86842\n",
      "\n",
      "    accuracy                           0.87    110445\n",
      "   macro avg       0.86      0.73      0.77    110445\n",
      "weighted avg       0.87      0.87      0.86    110445\n",
      "\n"
     ]
    }
   ],
   "source": [
    "print(classification_report(y_test, y_pred = pred, labels = labels))"
   ]
  },
  {
   "cell_type": "code",
   "execution_count": null,
   "id": "7acc7a0a-f175-4405-a00f-fd2d240d692d",
   "metadata": {},
   "outputs": [],
   "source": []
  }
 ],
 "metadata": {
  "kernelspec": {
   "display_name": "stock_market_prediction",
   "language": "python",
   "name": "stock_market_prediction"
  },
  "language_info": {
   "codemirror_mode": {
    "name": "ipython",
    "version": 3
   },
   "file_extension": ".py",
   "mimetype": "text/x-python",
   "name": "python",
   "nbconvert_exporter": "python",
   "pygments_lexer": "ipython3",
   "version": "3.10.6"
  }
 },
 "nbformat": 4,
 "nbformat_minor": 5
}
