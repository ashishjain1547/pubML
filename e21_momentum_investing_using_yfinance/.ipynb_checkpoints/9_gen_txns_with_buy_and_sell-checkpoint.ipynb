{
 "cells": [
  {
   "cell_type": "code",
   "execution_count": 12,
   "id": "4b3953f0-4ffe-4070-aff6-3f50b08f01b6",
   "metadata": {},
   "outputs": [],
   "source": [
    "import pandas as pd\n",
    "from datetime import datetime "
   ]
  },
  {
   "cell_type": "code",
   "execution_count": 4,
   "id": "8b3547fa-59ec-4114-95a9-cdb55c414564",
   "metadata": {},
   "outputs": [],
   "source": [
    "df_stock_txns_with_buys = pd.read_csv('out/stock_txns.csv')"
   ]
  },
  {
   "cell_type": "code",
   "execution_count": 9,
   "id": "fa9d904a-f8a5-4e15-993a-030e70e5afbe",
   "metadata": {},
   "outputs": [
    {
     "data": {
      "text/html": [
       "<div>\n",
       "<style scoped>\n",
       "    .dataframe tbody tr th:only-of-type {\n",
       "        vertical-align: middle;\n",
       "    }\n",
       "\n",
       "    .dataframe tbody tr th {\n",
       "        vertical-align: top;\n",
       "    }\n",
       "\n",
       "    .dataframe thead th {\n",
       "        text-align: right;\n",
       "    }\n",
       "</style>\n",
       "<table border=\"1\" class=\"dataframe\">\n",
       "  <thead>\n",
       "    <tr style=\"text-align: right;\">\n",
       "      <th></th>\n",
       "      <th>past_month</th>\n",
       "      <th>stock</th>\n",
       "      <th>txn_date</th>\n",
       "      <th>close</th>\n",
       "      <th>amt</th>\n",
       "    </tr>\n",
       "  </thead>\n",
       "  <tbody>\n",
       "    <tr>\n",
       "      <th>0</th>\n",
       "      <td>2021-06</td>\n",
       "      <td>MARUTI.NS.csv</td>\n",
       "      <td>2021-07-01</td>\n",
       "      <td>7584.399902</td>\n",
       "      <td>200</td>\n",
       "    </tr>\n",
       "    <tr>\n",
       "      <th>1</th>\n",
       "      <td>2021-06</td>\n",
       "      <td>BAJFINANCE.NS.csv</td>\n",
       "      <td>2021-07-01</td>\n",
       "      <td>5967.149902</td>\n",
       "      <td>200</td>\n",
       "    </tr>\n",
       "    <tr>\n",
       "      <th>2</th>\n",
       "      <td>2021-06</td>\n",
       "      <td>ULTRACEMCO.NS.csv</td>\n",
       "      <td>2021-07-01</td>\n",
       "      <td>6707.250000</td>\n",
       "      <td>200</td>\n",
       "    </tr>\n",
       "    <tr>\n",
       "      <th>3</th>\n",
       "      <td>2021-06</td>\n",
       "      <td>TCS.NS.csv</td>\n",
       "      <td>2021-07-01</td>\n",
       "      <td>3341.500000</td>\n",
       "      <td>200</td>\n",
       "    </tr>\n",
       "    <tr>\n",
       "      <th>4</th>\n",
       "      <td>2021-06</td>\n",
       "      <td>INFY.NS.csv</td>\n",
       "      <td>2021-07-01</td>\n",
       "      <td>1560.400024</td>\n",
       "      <td>200</td>\n",
       "    </tr>\n",
       "  </tbody>\n",
       "</table>\n",
       "</div>"
      ],
      "text/plain": [
       "  past_month              stock    txn_date        close  amt\n",
       "0    2021-06      MARUTI.NS.csv  2021-07-01  7584.399902  200\n",
       "1    2021-06  BAJFINANCE.NS.csv  2021-07-01  5967.149902  200\n",
       "2    2021-06  ULTRACEMCO.NS.csv  2021-07-01  6707.250000  200\n",
       "3    2021-06         TCS.NS.csv  2021-07-01  3341.500000  200\n",
       "4    2021-06        INFY.NS.csv  2021-07-01  1560.400024  200"
      ]
     },
     "execution_count": 9,
     "metadata": {},
     "output_type": "execute_result"
    }
   ],
   "source": [
    "df_stock_txns_with_buys.head()"
   ]
  },
  {
   "cell_type": "code",
   "execution_count": 7,
   "id": "40dc2c77-8c83-418b-9443-e227d0e66451",
   "metadata": {},
   "outputs": [],
   "source": [
    "df_sell_signals = pd.read_csv('out/sell_signals.csv')"
   ]
  },
  {
   "cell_type": "code",
   "execution_count": 10,
   "id": "190f0988-cb64-4d1e-b71e-b787dcadcf1f",
   "metadata": {},
   "outputs": [
    {
     "data": {
      "text/html": [
       "<div>\n",
       "<style scoped>\n",
       "    .dataframe tbody tr th:only-of-type {\n",
       "        vertical-align: middle;\n",
       "    }\n",
       "\n",
       "    .dataframe tbody tr th {\n",
       "        vertical-align: top;\n",
       "    }\n",
       "\n",
       "    .dataframe thead th {\n",
       "        text-align: right;\n",
       "    }\n",
       "</style>\n",
       "<table border=\"1\" class=\"dataframe\">\n",
       "  <thead>\n",
       "    <tr style=\"text-align: right;\">\n",
       "      <th></th>\n",
       "      <th>past_month</th>\n",
       "      <th>stock</th>\n",
       "      <th>txn_date</th>\n",
       "      <th>close</th>\n",
       "    </tr>\n",
       "  </thead>\n",
       "  <tbody>\n",
       "    <tr>\n",
       "      <th>0</th>\n",
       "      <td>2021-06</td>\n",
       "      <td>HDFCBANK.NS.csv</td>\n",
       "      <td>2021-07-01</td>\n",
       "      <td>1486.750000</td>\n",
       "    </tr>\n",
       "    <tr>\n",
       "      <th>1</th>\n",
       "      <td>2021-06</td>\n",
       "      <td>SUNPHARMA.NS.csv</td>\n",
       "      <td>2021-07-01</td>\n",
       "      <td>684.150024</td>\n",
       "    </tr>\n",
       "    <tr>\n",
       "      <th>2</th>\n",
       "      <td>2021-06</td>\n",
       "      <td>BHARTIARTL.NS.csv</td>\n",
       "      <td>2021-07-01</td>\n",
       "      <td>522.650024</td>\n",
       "    </tr>\n",
       "    <tr>\n",
       "      <th>3</th>\n",
       "      <td>2021-06</td>\n",
       "      <td>ITC.NS.csv</td>\n",
       "      <td>2021-07-01</td>\n",
       "      <td>203.000000</td>\n",
       "    </tr>\n",
       "    <tr>\n",
       "      <th>4</th>\n",
       "      <td>2021-06</td>\n",
       "      <td>INDUSINDBK.NS.csv</td>\n",
       "      <td>2021-07-01</td>\n",
       "      <td>1007.700012</td>\n",
       "    </tr>\n",
       "  </tbody>\n",
       "</table>\n",
       "</div>"
      ],
      "text/plain": [
       "  past_month              stock    txn_date        close\n",
       "0    2021-06    HDFCBANK.NS.csv  2021-07-01  1486.750000\n",
       "1    2021-06   SUNPHARMA.NS.csv  2021-07-01   684.150024\n",
       "2    2021-06  BHARTIARTL.NS.csv  2021-07-01   522.650024\n",
       "3    2021-06         ITC.NS.csv  2021-07-01   203.000000\n",
       "4    2021-06  INDUSINDBK.NS.csv  2021-07-01  1007.700012"
      ]
     },
     "execution_count": 10,
     "metadata": {},
     "output_type": "execute_result"
    }
   ],
   "source": [
    "df_sell_signals.head()"
   ]
  },
  {
   "cell_type": "code",
   "execution_count": 20,
   "id": "d26c455d-9104-4fb4-88bb-fd7f6dbafd67",
   "metadata": {},
   "outputs": [
    {
     "data": {
      "text/plain": [
       "(120, 5)"
      ]
     },
     "execution_count": 20,
     "metadata": {},
     "output_type": "execute_result"
    }
   ],
   "source": [
    "df_stock_txns_with_buys.shape"
   ]
  },
  {
   "cell_type": "code",
   "execution_count": 25,
   "id": "2c824142-fd39-4ace-ac22-557ee4e932e0",
   "metadata": {},
   "outputs": [],
   "source": [
    "sell_dates = []\n",
    "sell_nav = []\n",
    "\n",
    "def populate_sell_txns(row):\n",
    "    df = df_sell_signals[\n",
    "        (df_sell_signals['stock'] == row['stock']) \n",
    "        & (df_sell_signals['txn_date'] > row['txn_date'])\n",
    "    ]\n",
    "    \n",
    "    df.sort_values(by='txn_date', inplace = True)\n",
    "    \n",
    "    if(len(df) > 0):\n",
    "        sell_dates.append(df['txn_date'].values[0])\n",
    "        sell_nav.append(df['close'].values[0])\n",
    "    else:\n",
    "        sell_dates.append('Not Applicable')\n",
    "        sell_nav.append('Not Applicable')\n",
    "        \n",
    "_ = df_stock_txns_with_buys.apply(populate_sell_txns, axis = 1)\n",
    "df_stock_txns_with_buys['sell_dates'] = sell_dates\n",
    "df_stock_txns_with_buys['sell_nav'] = sell_nav"
   ]
  },
  {
   "cell_type": "code",
   "execution_count": 26,
   "id": "2502d335-11b7-4f45-935d-b394d7a92658",
   "metadata": {},
   "outputs": [],
   "source": [
    "df_stock_txns_with_buys.to_csv('out/stock_txns_with_buys_and_sells.csv', index = False)"
   ]
  },
  {
   "cell_type": "code",
   "execution_count": null,
   "id": "594ac125-39a1-4582-b3ec-07d3acf8508e",
   "metadata": {},
   "outputs": [],
   "source": []
  }
 ],
 "metadata": {
  "kernelspec": {
   "display_name": "py310",
   "language": "python",
   "name": "py310"
  },
  "language_info": {
   "codemirror_mode": {
    "name": "ipython",
    "version": 3
   },
   "file_extension": ".py",
   "mimetype": "text/x-python",
   "name": "python",
   "nbconvert_exporter": "python",
   "pygments_lexer": "ipython3",
   "version": "3.10.10"
  }
 },
 "nbformat": 4,
 "nbformat_minor": 5
}
