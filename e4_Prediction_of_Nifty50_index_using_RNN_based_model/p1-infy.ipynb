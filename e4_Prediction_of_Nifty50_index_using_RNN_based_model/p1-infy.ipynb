{
 "cells": [
  {
   "cell_type": "markdown",
   "id": "794ee998",
   "metadata": {},
   "source": [
    "This code demonstrates the prediction of stock market price using Recurrent Neural Networks.<br>\n",
    "Dataset: Infosys stock market price from 2000 to 2008 is used to train the RNN model."
   ]
  },
  {
   "cell_type": "code",
   "execution_count": 1,
   "id": "60725c22",
   "metadata": {},
   "outputs": [
    {
     "ename": "ModuleNotFoundError",
     "evalue": "No module named 'tensorflow'",
     "output_type": "error",
     "traceback": [
      "\u001b[1;31m---------------------------------------------------------------------------\u001b[0m",
      "\u001b[1;31mModuleNotFoundError\u001b[0m                       Traceback (most recent call last)",
      "Input \u001b[1;32mIn [1]\u001b[0m, in \u001b[0;36m<cell line: 5>\u001b[1;34m()\u001b[0m\n\u001b[0;32m      3\u001b[0m \u001b[38;5;28;01mimport\u001b[39;00m \u001b[38;5;21;01mmatplotlib\u001b[39;00m\u001b[38;5;21;01m.\u001b[39;00m\u001b[38;5;21;01mpyplot\u001b[39;00m \u001b[38;5;28;01mas\u001b[39;00m \u001b[38;5;21;01mplt\u001b[39;00m\n\u001b[0;32m      4\u001b[0m \u001b[38;5;28;01mimport\u001b[39;00m \u001b[38;5;21;01mseaborn\u001b[39;00m \u001b[38;5;28;01mas\u001b[39;00m \u001b[38;5;21;01msns\u001b[39;00m\n\u001b[1;32m----> 5\u001b[0m \u001b[38;5;28;01mfrom\u001b[39;00m \u001b[38;5;21;01mtensorflow\u001b[39;00m \u001b[38;5;28;01mimport\u001b[39;00m keras\n\u001b[0;32m      6\u001b[0m \u001b[38;5;66;03m#import the Keras layers\u001b[39;00m\n\u001b[0;32m      7\u001b[0m \u001b[38;5;28;01mfrom\u001b[39;00m \u001b[38;5;21;01mtensorflow\u001b[39;00m\u001b[38;5;21;01m.\u001b[39;00m\u001b[38;5;21;01mkeras\u001b[39;00m\u001b[38;5;21;01m.\u001b[39;00m\u001b[38;5;21;01mmodels\u001b[39;00m \u001b[38;5;28;01mimport\u001b[39;00m Sequential\n",
      "\u001b[1;31mModuleNotFoundError\u001b[0m: No module named 'tensorflow'"
     ]
    }
   ],
   "source": [
    "import numpy as np\n",
    "import pandas as pd\n",
    "import matplotlib.pyplot as plt\n",
    "import seaborn as sns\n",
    "from tensorflow import keras\n",
    "#import the Keras layers\n",
    "from tensorflow.keras.models import Sequential\n",
    "from tensorflow.keras.layers import Embedding,Dense, Dropout, LSTM, Dropout,Activation\n",
    "from sklearn.preprocessing import MinMaxScaler\n",
    "from sklearn.metrics import mean_squared_error\n",
    "from sklearn.utils import shuffle"
   ]
  },
  {
   "cell_type": "code",
   "execution_count": 2,
   "id": "c2eb8924",
   "metadata": {},
   "outputs": [
    {
     "name": "stdout",
     "output_type": "stream",
     "text": [
      "<class 'pandas.core.frame.DataFrame'>\n",
      "RangeIndex: 2496 entries, 0 to 2495\n",
      "Data columns (total 16 columns):\n",
      " #   Column                  Non-Null Count  Dtype  \n",
      "---  ------                  --------------  -----  \n",
      " 0   Unnamed: 0              2496 non-null   int64  \n",
      " 1   Symbol                  2496 non-null   object \n",
      " 2   Series                  2496 non-null   object \n",
      " 3   Date                    2496 non-null   object \n",
      " 4   Prev Close              2496 non-null   float64\n",
      " 5   Open Price              2496 non-null   float64\n",
      " 6   High Price              2496 non-null   float64\n",
      " 7   Low Price               2496 non-null   float64\n",
      " 8   Last Price              2496 non-null   float64\n",
      " 9   Close Price             2496 non-null   float64\n",
      " 10  Average Price           2496 non-null   float64\n",
      " 11  Total Traded Quantity   2496 non-null   int64  \n",
      " 12  Turnover                2496 non-null   float64\n",
      " 13  No. of Trades           2496 non-null   object \n",
      " 14  Deliverable Qty         2496 non-null   object \n",
      " 15  % Dly Qt to Traded Qty  2496 non-null   object \n",
      "dtypes: float64(8), int64(2), object(6)\n",
      "memory usage: 312.1+ KB\n"
     ]
    }
   ],
   "source": [
    "# Loading data\n",
    "data = pd.read_csv('Dataset\\INFY20002008.csv')\n",
    "data.info()"
   ]
  },
  {
   "cell_type": "code",
   "execution_count": 3,
   "id": "32823f84",
   "metadata": {},
   "outputs": [
    {
     "data": {
      "text/html": [
       "<div>\n",
       "<style scoped>\n",
       "    .dataframe tbody tr th:only-of-type {\n",
       "        vertical-align: middle;\n",
       "    }\n",
       "\n",
       "    .dataframe tbody tr th {\n",
       "        vertical-align: top;\n",
       "    }\n",
       "\n",
       "    .dataframe thead th {\n",
       "        text-align: right;\n",
       "    }\n",
       "</style>\n",
       "<table border=\"1\" class=\"dataframe\">\n",
       "  <thead>\n",
       "    <tr style=\"text-align: right;\">\n",
       "      <th></th>\n",
       "      <th>Unnamed: 0</th>\n",
       "      <th>Symbol</th>\n",
       "      <th>Series</th>\n",
       "      <th>Date</th>\n",
       "      <th>Prev Close</th>\n",
       "      <th>Open Price</th>\n",
       "      <th>High Price</th>\n",
       "      <th>Low Price</th>\n",
       "      <th>Last Price</th>\n",
       "      <th>Close Price</th>\n",
       "      <th>Average Price</th>\n",
       "      <th>Total Traded Quantity</th>\n",
       "      <th>Turnover</th>\n",
       "      <th>No. of Trades</th>\n",
       "      <th>Deliverable Qty</th>\n",
       "      <th>% Dly Qt to Traded Qty</th>\n",
       "    </tr>\n",
       "  </thead>\n",
       "  <tbody>\n",
       "    <tr>\n",
       "      <th>0</th>\n",
       "      <td>0</td>\n",
       "      <td>INFOSYSTCH</td>\n",
       "      <td>EQ</td>\n",
       "      <td>03-Jan-2000</td>\n",
       "      <td>14467.75</td>\n",
       "      <td>15625.00</td>\n",
       "      <td>15625.20</td>\n",
       "      <td>15625.00</td>\n",
       "      <td>15625.20</td>\n",
       "      <td>15625.20</td>\n",
       "      <td>15625.18</td>\n",
       "      <td>5137</td>\n",
       "      <td>8.026657e+07</td>\n",
       "      <td>-</td>\n",
       "      <td>-</td>\n",
       "      <td>-</td>\n",
       "    </tr>\n",
       "    <tr>\n",
       "      <th>1</th>\n",
       "      <td>1</td>\n",
       "      <td>INFOSYSTCH</td>\n",
       "      <td>EQ</td>\n",
       "      <td>04-Jan-2000</td>\n",
       "      <td>15625.20</td>\n",
       "      <td>16800.00</td>\n",
       "      <td>16875.25</td>\n",
       "      <td>16253.00</td>\n",
       "      <td>16875.25</td>\n",
       "      <td>16855.90</td>\n",
       "      <td>16646.38</td>\n",
       "      <td>56186</td>\n",
       "      <td>9.352937e+08</td>\n",
       "      <td>-</td>\n",
       "      <td>-</td>\n",
       "      <td>-</td>\n",
       "    </tr>\n",
       "    <tr>\n",
       "      <th>2</th>\n",
       "      <td>2</td>\n",
       "      <td>INFOSYSTCH</td>\n",
       "      <td>EQ</td>\n",
       "      <td>05-Jan-2000</td>\n",
       "      <td>16855.90</td>\n",
       "      <td>15701.00</td>\n",
       "      <td>16250.00</td>\n",
       "      <td>15507.45</td>\n",
       "      <td>15507.45</td>\n",
       "      <td>15507.45</td>\n",
       "      <td>15786.38</td>\n",
       "      <td>164605</td>\n",
       "      <td>2.598516e+09</td>\n",
       "      <td>-</td>\n",
       "      <td>-</td>\n",
       "      <td>-</td>\n",
       "    </tr>\n",
       "    <tr>\n",
       "      <th>3</th>\n",
       "      <td>3</td>\n",
       "      <td>INFOSYSTCH</td>\n",
       "      <td>EQ</td>\n",
       "      <td>06-Jan-2000</td>\n",
       "      <td>15507.45</td>\n",
       "      <td>15256.65</td>\n",
       "      <td>15300.00</td>\n",
       "      <td>14266.85</td>\n",
       "      <td>14266.85</td>\n",
       "      <td>14266.85</td>\n",
       "      <td>14462.82</td>\n",
       "      <td>81997</td>\n",
       "      <td>1.185908e+09</td>\n",
       "      <td>-</td>\n",
       "      <td>-</td>\n",
       "      <td>-</td>\n",
       "    </tr>\n",
       "    <tr>\n",
       "      <th>4</th>\n",
       "      <td>4</td>\n",
       "      <td>INFOSYSTCH</td>\n",
       "      <td>EQ</td>\n",
       "      <td>07-Jan-2000</td>\n",
       "      <td>14266.85</td>\n",
       "      <td>13125.50</td>\n",
       "      <td>13125.50</td>\n",
       "      <td>13125.50</td>\n",
       "      <td>13125.50</td>\n",
       "      <td>13125.50</td>\n",
       "      <td>13125.50</td>\n",
       "      <td>7589</td>\n",
       "      <td>9.960942e+07</td>\n",
       "      <td>-</td>\n",
       "      <td>-</td>\n",
       "      <td>-</td>\n",
       "    </tr>\n",
       "  </tbody>\n",
       "</table>\n",
       "</div>"
      ],
      "text/plain": [
       "   Unnamed: 0      Symbol Series         Date  Prev Close  Open Price  \\\n",
       "0           0  INFOSYSTCH     EQ  03-Jan-2000    14467.75    15625.00   \n",
       "1           1  INFOSYSTCH     EQ  04-Jan-2000    15625.20    16800.00   \n",
       "2           2  INFOSYSTCH     EQ  05-Jan-2000    16855.90    15701.00   \n",
       "3           3  INFOSYSTCH     EQ  06-Jan-2000    15507.45    15256.65   \n",
       "4           4  INFOSYSTCH     EQ  07-Jan-2000    14266.85    13125.50   \n",
       "\n",
       "   High Price  Low Price  Last Price  Close Price  Average Price  \\\n",
       "0    15625.20   15625.00    15625.20     15625.20       15625.18   \n",
       "1    16875.25   16253.00    16875.25     16855.90       16646.38   \n",
       "2    16250.00   15507.45    15507.45     15507.45       15786.38   \n",
       "3    15300.00   14266.85    14266.85     14266.85       14462.82   \n",
       "4    13125.50   13125.50    13125.50     13125.50       13125.50   \n",
       "\n",
       "   Total Traded Quantity      Turnover No. of Trades Deliverable Qty  \\\n",
       "0                   5137  8.026657e+07             -               -   \n",
       "1                  56186  9.352937e+08             -               -   \n",
       "2                 164605  2.598516e+09             -               -   \n",
       "3                  81997  1.185908e+09             -               -   \n",
       "4                   7589  9.960942e+07             -               -   \n",
       "\n",
       "  % Dly Qt to Traded Qty  \n",
       "0                      -  \n",
       "1                      -  \n",
       "2                      -  \n",
       "3                      -  \n",
       "4                      -  "
      ]
     },
     "execution_count": 3,
     "metadata": {},
     "output_type": "execute_result"
    }
   ],
   "source": [
    "data.head()"
   ]
  },
  {
   "cell_type": "code",
   "execution_count": 4,
   "id": "06ae905b",
   "metadata": {},
   "outputs": [],
   "source": [
    "# Selecting only Date and Average Price columns\n",
    "data = data[['Open Price', 'Average Price']]"
   ]
  },
  {
   "cell_type": "code",
   "execution_count": 5,
   "id": "dc6f7b26",
   "metadata": {},
   "outputs": [
    {
     "ename": "NameError",
     "evalue": "name 'MinMaxScaler' is not defined",
     "output_type": "error",
     "traceback": [
      "\u001b[1;31m---------------------------------------------------------------------------\u001b[0m",
      "\u001b[1;31mNameError\u001b[0m                                 Traceback (most recent call last)",
      "Input \u001b[1;32mIn [5]\u001b[0m, in \u001b[0;36m<cell line: 2>\u001b[1;34m()\u001b[0m\n\u001b[0;32m      1\u001b[0m \u001b[38;5;66;03m# Scaling the values in the range of 0 to 1\u001b[39;00m\n\u001b[1;32m----> 2\u001b[0m scaler \u001b[38;5;241m=\u001b[39m \u001b[43mMinMaxScaler\u001b[49m(feature_range \u001b[38;5;241m=\u001b[39m (\u001b[38;5;241m0\u001b[39m, \u001b[38;5;241m1\u001b[39m))\n\u001b[0;32m      3\u001b[0m scaled_price \u001b[38;5;241m=\u001b[39m scaler\u001b[38;5;241m.\u001b[39mfit_transform(data\u001b[38;5;241m.\u001b[39mloc[:, \u001b[38;5;124m'\u001b[39m\u001b[38;5;124mAverage Price\u001b[39m\u001b[38;5;124m'\u001b[39m]\u001b[38;5;241m.\u001b[39mvalues\u001b[38;5;241m.\u001b[39mreshape(\u001b[38;5;241m-\u001b[39m\u001b[38;5;241m1\u001b[39m, \u001b[38;5;241m1\u001b[39m))\n",
      "\u001b[1;31mNameError\u001b[0m: name 'MinMaxScaler' is not defined"
     ]
    }
   ],
   "source": [
    "# Scaling the values in the range of 0 to 1\n",
    "scaler = MinMaxScaler(feature_range = (0, 1))\n",
    "scaled_price = scaler.fit_transform(data.loc[:, 'Average Price'].values.reshape(-1, 1))"
   ]
  },
  {
   "cell_type": "code",
   "execution_count": 6,
   "id": "66a7355a",
   "metadata": {},
   "outputs": [
    {
     "ename": "NameError",
     "evalue": "name 'scaled_price' is not defined",
     "output_type": "error",
     "traceback": [
      "\u001b[1;31m---------------------------------------------------------------------------\u001b[0m",
      "\u001b[1;31mNameError\u001b[0m                                 Traceback (most recent call last)",
      "Input \u001b[1;32mIn [6]\u001b[0m, in \u001b[0;36m<cell line: 3>\u001b[1;34m()\u001b[0m\n\u001b[0;32m      1\u001b[0m \u001b[38;5;66;03m# Splitting dataset in the ratio of 75:25 for training and test\u001b[39;00m\n\u001b[0;32m      2\u001b[0m train_size \u001b[38;5;241m=\u001b[39m \u001b[38;5;28mint\u001b[39m(data\u001b[38;5;241m.\u001b[39mshape[\u001b[38;5;241m0\u001b[39m] \u001b[38;5;241m*\u001b[39m \u001b[38;5;241m0.75\u001b[39m)\n\u001b[1;32m----> 3\u001b[0m train, test \u001b[38;5;241m=\u001b[39m \u001b[43mscaled_price\u001b[49m[\u001b[38;5;241m0\u001b[39m:train_size, :], scaled_price[train_size:data\u001b[38;5;241m.\u001b[39mshape[\u001b[38;5;241m0\u001b[39m], :]\n\u001b[0;32m      4\u001b[0m \u001b[38;5;28mprint\u001b[39m(\u001b[38;5;124m\"\u001b[39m\u001b[38;5;124mNumber of entries (training set, test set): \u001b[39m\u001b[38;5;124m\"\u001b[39m \u001b[38;5;241m+\u001b[39m \u001b[38;5;28mstr\u001b[39m((\u001b[38;5;28mlen\u001b[39m(train), \u001b[38;5;28mlen\u001b[39m(test))))\n",
      "\u001b[1;31mNameError\u001b[0m: name 'scaled_price' is not defined"
     ]
    }
   ],
   "source": [
    "# Splitting dataset in the ratio of 75:25 for training and test\n",
    "train_size = int(data.shape[0] * 0.75)\n",
    "train, test = scaled_price[0:train_size, :], scaled_price[train_size:data.shape[0], :]\n",
    "print(\"Number of entries (training set, test set): \" + str((len(train), len(test))))"
   ]
  },
  {
   "cell_type": "code",
   "execution_count": 7,
   "id": "db399604",
   "metadata": {},
   "outputs": [],
   "source": [
    "def create_dataset(scaled_price, window_size=1):\n",
    "    data_X, data_Y = [], []\n",
    "    for i in range(len(scaled_price) - window_size - 1):\n",
    "        a = scaled_price[i:(i + window_size), 0]\n",
    "        data_X.append(a)\n",
    "        data_Y.append(scaled_price[i + window_size, 0])\n",
    "    return(np.array(data_X), np.array(data_Y))"
   ]
  },
  {
   "cell_type": "code",
   "execution_count": 8,
   "id": "eaaa74da",
   "metadata": {},
   "outputs": [
    {
     "ename": "NameError",
     "evalue": "name 'train' is not defined",
     "output_type": "error",
     "traceback": [
      "\u001b[1;31m---------------------------------------------------------------------------\u001b[0m",
      "\u001b[1;31mNameError\u001b[0m                                 Traceback (most recent call last)",
      "Input \u001b[1;32mIn [8]\u001b[0m, in \u001b[0;36m<cell line: 3>\u001b[1;34m()\u001b[0m\n\u001b[0;32m      1\u001b[0m \u001b[38;5;66;03m# Create test and training sets for one-step-ahead regression.\u001b[39;00m\n\u001b[0;32m      2\u001b[0m window_size \u001b[38;5;241m=\u001b[39m \u001b[38;5;241m3\u001b[39m\n\u001b[1;32m----> 3\u001b[0m train_X, train_Y \u001b[38;5;241m=\u001b[39m create_dataset(\u001b[43mtrain\u001b[49m, window_size)\n\u001b[0;32m      4\u001b[0m test_X, test_Y \u001b[38;5;241m=\u001b[39m create_dataset(test, window_size)\n\u001b[0;32m      5\u001b[0m \u001b[38;5;28mprint\u001b[39m(\u001b[38;5;124m\"\u001b[39m\u001b[38;5;124mOriginal training data shape:\u001b[39m\u001b[38;5;124m\"\u001b[39m)\n",
      "\u001b[1;31mNameError\u001b[0m: name 'train' is not defined"
     ]
    }
   ],
   "source": [
    "# Create test and training sets for one-step-ahead regression.\n",
    "window_size = 3\n",
    "train_X, train_Y = create_dataset(train, window_size)\n",
    "test_X, test_Y = create_dataset(test, window_size)\n",
    "print(\"Original training data shape:\")\n",
    "print(train_X.shape)\n",
    "\n",
    "# Reshape the input data into appropriate form for Keras.\n",
    "train_X = np.reshape(train_X, (train_X.shape[0], 1, train_X.shape[1]))\n",
    "test_X = np.reshape(test_X, (test_X.shape[0], 1, test_X.shape[1]))\n",
    "print(\"New training data shape:\")\n",
    "print(train_X.shape)"
   ]
  },
  {
   "cell_type": "markdown",
   "id": "30de5cad",
   "metadata": {},
   "source": [
    "Keras simple RNN is layer is built as the first layer, then  2 dense layers is added."
   ]
  },
  {
   "cell_type": "code",
   "execution_count": 9,
   "id": "517e1d3a",
   "metadata": {},
   "outputs": [],
   "source": [
    "import tensorflow as tf\n",
    "model = tf.keras.Sequential([   \n",
    "    tf.keras.layers.SimpleRNN(32),\n",
    "    tf.keras.layers.Dense(10, activation='relu'),\n",
    "    tf.keras.layers.Dense(1, activation='sigmoid')\n",
    "])"
   ]
  },
  {
   "cell_type": "code",
   "execution_count": null,
   "id": "54d4712f",
   "metadata": {},
   "outputs": [],
   "source": [
    "#SimpleRNN model can also be created using Keras simpleRNN class\n",
    "#Learners can uncomment  the below code to create the simpleRNN using Keras\n",
    "#from tensorflow.keras.models import Model\n",
    "#from tensorflow.keras.layers import SimpleRNN\n",
    "#model = Sequential()\n",
    "#model.add(SimpleRNN(units = 32,\n",
    "                    return_sequences=False, \n",
    "                    unroll=True,\n",
    "                    input_shape=(6, 2)))"
   ]
  },
  {
   "cell_type": "code",
   "execution_count": 10,
   "id": "8902e3b6",
   "metadata": {},
   "outputs": [],
   "source": [
    "# Compiling the model\n",
    "model.compile(loss = \"mean_squared_error\", optimizer = \"adam\")"
   ]
  },
  {
   "cell_type": "code",
   "execution_count": 11,
   "id": "ab975936",
   "metadata": {},
   "outputs": [
    {
     "name": "stdout",
     "output_type": "stream",
     "text": [
      "Epoch 1/10\n",
      "1868/1868 [==============================] - 13s 5ms/step - loss: 0.0067\n",
      "Epoch 2/10\n",
      "1868/1868 [==============================] - 8s 4ms/step - loss: 5.4296e-04\n",
      "Epoch 3/10\n",
      "1868/1868 [==============================] - 8s 4ms/step - loss: 4.2340e-04\n",
      "Epoch 4/10\n",
      "1868/1868 [==============================] - 8s 4ms/step - loss: 3.8586e-04\n",
      "Epoch 5/10\n",
      "1868/1868 [==============================] - 8s 5ms/step - loss: 4.2227e-04\n",
      "Epoch 6/10\n",
      "1868/1868 [==============================] - 8s 4ms/step - loss: 3.3001e-04A: 0s - loss: 3.\n",
      "Epoch 7/10\n",
      "1868/1868 [==============================] - 9s 5ms/step - loss: 3.2702e-04\n",
      "Epoch 8/10\n",
      "1868/1868 [==============================] - 8s 4ms/step - loss: 3.1010e-04\n",
      "Epoch 9/10\n",
      "1868/1868 [==============================] - 9s 5ms/step - loss: 3.2301e-04\n",
      "Epoch 10/10\n",
      "1868/1868 [==============================] - 8s 5ms/step - loss: 3.1386e-04\n"
     ]
    },
    {
     "data": {
      "text/plain": [
       "<tensorflow.python.keras.callbacks.History at 0x11aa742ce80>"
      ]
     },
     "execution_count": 11,
     "metadata": {},
     "output_type": "execute_result"
    }
   ],
   "source": [
    "# Training the model\n",
    "model.fit(train_X, train_Y, epochs=10, batch_size=1)"
   ]
  },
  {
   "cell_type": "code",
   "execution_count": 12,
   "id": "dff1e413",
   "metadata": {},
   "outputs": [],
   "source": [
    "def predict_and_score(model, X, Y):\n",
    "    # Make predictions on the original scale of the data.\n",
    "    predicted = scaler.inverse_transform(model.predict(X))\n",
    "    # Prepare Y data to also be on the original scale for interpretability.\n",
    "    orig_data = scaler.inverse_transform([Y])\n",
    "    # Calculate RMSE.\n",
    "    score = np.sqrt(mean_squared_error(orig_data[0], predicted[:, 0]))\n",
    "    return(score, predicted)\n"
   ]
  },
  {
   "cell_type": "code",
   "execution_count": 13,
   "id": "b6ddd446",
   "metadata": {},
   "outputs": [
    {
     "name": "stdout",
     "output_type": "stream",
     "text": [
      "Training data score: 246.35 RMSE\n",
      "Test data score: 159.92 RMSE\n"
     ]
    }
   ],
   "source": [
    "rmse_train, train_predict = predict_and_score(model, train_X, train_Y)\n",
    "rmse_test, test_predict = predict_and_score(model, test_X, test_Y)\n",
    "\n",
    "print(\"Training data score: %.2f RMSE\" % rmse_train)\n",
    "print(\"Test data score: %.2f RMSE\" % rmse_test)"
   ]
  },
  {
   "cell_type": "code",
   "execution_count": 14,
   "id": "31aef19d",
   "metadata": {},
   "outputs": [
    {
     "data": {
      "image/png": "[encoded data removed]",
      "text/plain": [
       "<Figure size 1080x360 with 1 Axes>"
      ]
     },
     "metadata": {
      "needs_background": "light"
     },
     "output_type": "display_data"
    }
   ],
   "source": [
    "# Create the plot for predicted and the training data.\n",
    "plt.figure(figsize = (15, 5))\n",
    "plt.plot(scaler.inverse_transform(scaled_price), label = \"True value\")\n",
    "plt.plot(train_predict, label = \"Training set prediction\")\n",
    "plt.plot(test_predict, label = \"Test set prediction\")\n",
    "plt.xlabel(\"Days\")\n",
    "plt.ylabel(\"Average Price\")\n",
    "plt.title(\"Comparison true vs. predicted training / test\")\n",
    "plt.legend()\n",
    "plt.show()"
   ]
  },
  {
   "cell_type": "code",
   "execution_count": null,
   "id": "eb1c9ac6",
   "metadata": {},
   "outputs": [],
   "source": []
  }
 ],
 "metadata": {
  "kernelspec": {
   "display_name": "Python 3 (ipykernel)",
   "language": "python",
   "name": "python3"
  },
  "language_info": {
   "codemirror_mode": {
    "name": "ipython",
    "version": 3
   },
   "file_extension": ".py",
   "mimetype": "text/x-python",
   "name": "python",
   "nbconvert_exporter": "python",
   "pygments_lexer": "ipython3",
   "version": "3.10.6"
  }
 },
 "nbformat": 4,
 "nbformat_minor": 5
}
