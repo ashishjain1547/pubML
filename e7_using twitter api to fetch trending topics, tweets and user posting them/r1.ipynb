{
 "cells": [
  {
   "cell_type": "code",
   "execution_count": 1,
   "id": "1de1f7fe-2e5a-4ccf-868d-df0c22fa3426",
   "metadata": {},
   "outputs": [],
   "source": [
    "# Dated: 2022-Sep-20\n",
    "import requests\n",
    "import json"
   ]
  },
  {
   "cell_type": "code",
   "execution_count": 2,
   "id": "f0e1a6eb-9ee8-4470-9636-45d566ff9bde",
   "metadata": {},
   "outputs": [],
   "source": [
    "headers = {'Authorization': 'Bearer A...V'}\n",
    "r = requests.get(\"https://api.twitter.com/1.1/trends/available.json\", headers = headers)\n",
    "\n",
    "with open('trends_available_20220920.json', mode = 'w', encoding = 'utf8') as f:\n",
    "    f.write(json.dumps(r.json()))\n",
    "    \n",
    "trends_available = r.json()"
   ]
  },
  {
   "cell_type": "raw",
   "id": "77f3db4c-6e26-4157-ab96-5daf43e68d7a",
   "metadata": {},
   "source": [
    "WOEID for Delhi is: 20070458"
   ]
  },
  {
   "cell_type": "code",
   "execution_count": 3,
   "id": "40d6d1d3-e6da-4316-8f2c-7e01e1861521",
   "metadata": {},
   "outputs": [],
   "source": [
    "headers = {'Authorization': 'Bearer A...V'}\n",
    "\n",
    "url = 'https://api.twitter.com/1.1/trends/place.json?id={}'.format(20070458)\n",
    "\n",
    "r = requests.get(url, headers = headers)\n",
    "\n",
    "trends = r.json()[0]['trends']"
   ]
  },
  {
   "cell_type": "code",
   "execution_count": 4,
   "id": "cda06db7-b5f5-43a0-95c4-7391bb9ab10a",
   "metadata": {},
   "outputs": [
    {
     "name": "stdout",
     "output_type": "stream",
     "text": [
      "Hi there! We're gonna get you all set up to use exploring_twitter_api_1.\n",
      "Opening: https://api.twitter.com/oauth/authorize?oauth_token=clYlGQAAAAABfNOPAAABg1mCrT0\n",
      "\n",
      "\n",
      "In the web browser window that opens please choose to Allow\n",
      "access. Copy the PIN number that appears on the next page and paste or\n",
      "type it here:\n",
      "    \n"
     ]
    },
    {
     "name": "stdin",
     "output_type": "stream",
     "text": [
      "Please enter the PIN:  2153380\n"
     ]
    },
    {
     "name": "stdout",
     "output_type": "stream",
     "text": [
      "<ipykernel.iostream.OutStream object at 0x7f310c1985e0> OAuth Success. Token file stored to out/twitter.oauth\n",
      "[]\n"
     ]
    }
   ],
   "source": [
    "# -*- coding: utf-8 -*-\n",
    "\n",
    "import sys\n",
    "import json\n",
    "import twitter\n",
    "from recipe__oauth_login import oauth_login\n",
    "\n",
    "def search(t, q=None, max_batches=5, count=100):\n",
    "\n",
    "    # See https://dev.twitter.com/docs/api/1.1/get/search/tweets\n",
    "    search_results = t.search.tweets(q=q, count=count)\n",
    "\n",
    "    statuses = search_results['statuses']\n",
    "\n",
    "    # Iterate through more batches of results by following the cursor\n",
    "    for _ in range(max_batches):\n",
    "        try:\n",
    "            next_results = search_results['search_metadata']['next_results']\n",
    "        except KeyError as e: # No more results when next_results doesn't exist\n",
    "            break\n",
    "            # Create a dictionary from next_results, which has the following form:\n",
    "            # ?max_id=313519052523986943&q=%23MentionSomeoneImportantForYou&include_entities=1\n",
    "            kwargs = dict([ kv.split('=') for kv in next_results[1:].split(\"&\") ])\n",
    "            search_results = twitter_api.search.tweets(**kwargs)\n",
    "            statuses += search_results['statuses']\n",
    "\n",
    "    return statuses\n",
    "\n",
    "\n",
    "if __name__ == '__main__':\n",
    "    Q = ' '.join(sys.argv[1:])\n",
    "\n",
    "    t = oauth_login()\n",
    "    statuses = search(t, q=Q)\n",
    "    print(json.dumps(statuses, indent=1))"
   ]
  },
  {
   "cell_type": "code",
   "execution_count": 6,
   "id": "491178d5-8a71-4aa2-a39f-58d99f4a320e",
   "metadata": {},
   "outputs": [],
   "source": [
    "t = oauth_login()"
   ]
  },
  {
   "cell_type": "code",
   "execution_count": 8,
   "id": "2549ff17-b505-49ef-acef-f16fbdb401cf",
   "metadata": {},
   "outputs": [
    {
     "data": {
      "text/plain": [
       "{'name': '#StockMarketindia',\n",
       " 'url': 'http://twitter.com/search?q=%23StockMarketindia',\n",
       " 'promoted_content': None,\n",
       " 'query': '%23StockMarketindia',\n",
       " 'tweet_volume': None}"
      ]
     },
     "execution_count": 8,
     "metadata": {},
     "output_type": "execute_result"
    }
   ],
   "source": [
    "trends[0]"
   ]
  },
  {
   "cell_type": "code",
   "execution_count": 11,
   "id": "b36dec26-91b1-4271-b6e7-39b73486348c",
   "metadata": {},
   "outputs": [],
   "source": [
    "statuses = search(t, q=trends[0]['query'])"
   ]
  },
  {
   "cell_type": "code",
   "execution_count": 14,
   "id": "b34c77c2-bbee-4ad3-b8ea-03b6b5cecbb0",
   "metadata": {},
   "outputs": [
    {
     "data": {
      "text/plain": [
       "'RT @yadav4priya: #StockMarketindia : #Nifty today may open above 17720 and move towards 17792 which is break out point.  if sustains above…'"
      ]
     },
     "execution_count": 14,
     "metadata": {},
     "output_type": "execute_result"
    }
   ],
   "source": [
    "statuses[0]['text']"
   ]
  },
  {
   "cell_type": "code",
   "execution_count": 15,
   "id": "b53905e0-f063-4923-be6a-51730a460f60",
   "metadata": {},
   "outputs": [
    {
     "data": {
      "text/plain": [
       "1572106127546122241"
      ]
     },
     "execution_count": 15,
     "metadata": {},
     "output_type": "execute_result"
    }
   ],
   "source": [
    "statuses[0]['id']"
   ]
  },
  {
   "cell_type": "code",
   "execution_count": 16,
   "id": "891511d0-3e13-4bec-8f92-4dea6842f73a",
   "metadata": {},
   "outputs": [
    {
     "name": "stdout",
     "output_type": "stream",
     "text": [
      "{'data': {'id': '1572106127546122241', 'text': 'RT @yadav4priya: #StockMarketindia : #Nifty today may open above 17720 and move towards 17792 which is break out point.  if sustains above…'}}\n"
     ]
    }
   ],
   "source": [
    "headers = {'Authorization': 'Bearer A...V'}\n",
    "\n",
    "url = 'https://api.twitter.com/2/tweets/{}'.format(1572106127546122241)\n",
    "\n",
    "r = requests.get(url, headers = headers)\n",
    "\n",
    "print(r.json())"
   ]
  },
  {
   "cell_type": "code",
   "execution_count": 20,
   "id": "63e454fe-ba55-4561-9b76-1f4d456b256c",
   "metadata": {},
   "outputs": [],
   "source": [
    "from recipe__get_user_info import get_info_by_screen_name, get_info_by_id"
   ]
  },
  {
   "cell_type": "code",
   "execution_count": 23,
   "id": "3657a63e-51ae-44ca-a284-0524b828c7ba",
   "metadata": {},
   "outputs": [],
   "source": [
    "info = {}\n",
    "info.update(get_info_by_screen_name(t, ['ptwobrussell', 'socialwebmining']))\n",
    "info.update(get_info_by_id(t, ['2384071'])) # Tim Oreilly"
   ]
  },
  {
   "cell_type": "code",
   "execution_count": 24,
   "id": "9dccf978-0309-4f6f-834b-b2e6f0c7f3ad",
   "metadata": {},
   "outputs": [
    {
     "data": {
      "text/plain": [
       "{'ptwobrussell': {'id': 13085242,\n",
       "  'id_str': '13085242',\n",
       "  'name': 'Matthew Russell',\n",
       "  'screen_name': 'ptwobrussell',\n",
       "  'location': 'Franklin, TN',\n",
       "  'description': 'Maximizing Human Performance @ Strongest AI',\n",
       "  'url': 'https://t.co/aADFSpjQV2',\n",
       "  'entities': {'url': {'urls': [{'url': 'https://t.co/aADFSpjQV2',\n",
       "      'expanded_url': 'https://strongest.com',\n",
       "      'display_url': 'strongest.com',\n",
       "      'indices': [0, 23]}]},\n",
       "   'description': {'urls': []}},\n",
       "  'protected': False,\n",
       "  'followers_count': 1887,\n",
       "  'friends_count': 156,\n",
       "  'listed_count': 158,\n",
       "  'created_at': 'Tue Feb 05 08:16:12 +0000 2008',\n",
       "  'favourites_count': 878,\n",
       "  'utc_offset': None,\n",
       "  'time_zone': None,\n",
       "  'geo_enabled': False,\n",
       "  'verified': False,\n",
       "  'statuses_count': 1495,\n",
       "  'lang': None,\n",
       "  'status': {'created_at': 'Thu Jun 23 14:59:11 +0000 2022',\n",
       "   'id': 1539986432080609281,\n",
       "   'id_str': '1539986432080609281',\n",
       "   'text': 'This #MensHealthMonth I’m committing to helping break down stigma by supporting and talking about men’s mental heal… https://t.co/paXZ52a69F',\n",
       "   'truncated': True,\n",
       "   'entities': {'hashtags': [{'text': 'MensHealthMonth', 'indices': [5, 21]}],\n",
       "    'symbols': [],\n",
       "    'user_mentions': [],\n",
       "    'urls': [{'url': 'https://t.co/paXZ52a69F',\n",
       "      'expanded_url': 'https://twitter.com/i/web/status/1539986432080609281',\n",
       "      'display_url': 'twitter.com/i/web/status/1…',\n",
       "      'indices': [117, 140]}]},\n",
       "   'source': '<a href=\"https://hypefury.com\" rel=\"nofollow\">Hypefury</a>',\n",
       "   'in_reply_to_status_id': 1539986423603990528,\n",
       "   'in_reply_to_status_id_str': '1539986423603990528',\n",
       "   'in_reply_to_user_id': 13085242,\n",
       "   'in_reply_to_user_id_str': '13085242',\n",
       "   'in_reply_to_screen_name': 'ptwobrussell',\n",
       "   'geo': None,\n",
       "   'coordinates': None,\n",
       "   'place': None,\n",
       "   'contributors': None,\n",
       "   'is_quote_status': True,\n",
       "   'quoted_status_id': 1539986423603990528,\n",
       "   'quoted_status_id_str': '1539986423603990528',\n",
       "   'retweet_count': 0,\n",
       "   'favorite_count': 0,\n",
       "   'favorited': False,\n",
       "   'retweeted': False,\n",
       "   'possibly_sensitive': False,\n",
       "   'lang': 'en'},\n",
       "  'contributors_enabled': False,\n",
       "  'is_translator': False,\n",
       "  'is_translation_enabled': False,\n",
       "  'profile_background_color': '888888',\n",
       "  'profile_background_image_url': 'http://abs.twimg.com/images/themes/theme1/bg.png',\n",
       "  'profile_background_image_url_https': 'https://abs.twimg.com/images/themes/theme1/bg.png',\n",
       "  'profile_background_tile': False,\n",
       "  'profile_image_url': 'http://pbs.twimg.com/profile_images/1518238159477387274/iEwIp3Rq_normal.jpg',\n",
       "  'profile_image_url_https': 'https://pbs.twimg.com/profile_images/1518238159477387274/iEwIp3Rq_normal.jpg',\n",
       "  'profile_banner_url': 'https://pbs.twimg.com/profile_banners/13085242/1650811824',\n",
       "  'profile_link_color': 'EE8336',\n",
       "  'profile_sidebar_border_color': '888888',\n",
       "  'profile_sidebar_fill_color': 'F7F7F7',\n",
       "  'profile_text_color': '333333',\n",
       "  'profile_use_background_image': True,\n",
       "  'has_extended_profile': False,\n",
       "  'default_profile': False,\n",
       "  'default_profile_image': False,\n",
       "  'following': False,\n",
       "  'follow_request_sent': False,\n",
       "  'notifications': False,\n",
       "  'translator_type': 'regular',\n",
       "  'withheld_in_countries': []},\n",
       " 'SocialWebMining': {'id': 132373965,\n",
       "  'id_str': '132373965',\n",
       "  'name': 'MiningTheSocialWeb',\n",
       "  'screen_name': 'SocialWebMining',\n",
       "  'location': '',\n",
       "  'description': 'Get the source code at GitHub: http://t.co/U0VmWrXpB9',\n",
       "  'url': 'http://t.co/CJfJDyM6ki',\n",
       "  'entities': {'url': {'urls': [{'url': 'http://t.co/CJfJDyM6ki',\n",
       "      'expanded_url': 'http://miningthesocialweb.com',\n",
       "      'display_url': 'miningthesocialweb.com',\n",
       "      'indices': [0, 22]}]},\n",
       "   'description': {'urls': [{'url': 'http://t.co/U0VmWrXpB9',\n",
       "      'expanded_url': 'http://bit.ly/MiningTheSocialWeb2E',\n",
       "      'display_url': 'bit.ly/MiningTheSocia…',\n",
       "      'indices': [31, 53]}]}},\n",
       "  'protected': False,\n",
       "  'followers_count': 4184,\n",
       "  'friends_count': 0,\n",
       "  'listed_count': 200,\n",
       "  'created_at': 'Tue Apr 13 02:10:40 +0000 2010',\n",
       "  'favourites_count': 33,\n",
       "  'utc_offset': None,\n",
       "  'time_zone': None,\n",
       "  'geo_enabled': False,\n",
       "  'verified': False,\n",
       "  'statuses_count': 778,\n",
       "  'lang': None,\n",
       "  'status': {'created_at': 'Mon Jan 28 14:06:01 +0000 2019',\n",
       "   'id': 1089887323116969985,\n",
       "   'id_str': '1089887323116969985',\n",
       "   'text': 'What did it take to write the new edition? Well, trying to keep up with a changing social media landscape, for one.… https://t.co/vsaR6B4smZ',\n",
       "   'truncated': True,\n",
       "   'entities': {'hashtags': [],\n",
       "    'symbols': [],\n",
       "    'user_mentions': [],\n",
       "    'urls': [{'url': 'https://t.co/vsaR6B4smZ',\n",
       "      'expanded_url': 'https://twitter.com/i/web/status/1089887323116969985',\n",
       "      'display_url': 'twitter.com/i/web/status/1…',\n",
       "      'indices': [117, 140]}]},\n",
       "   'source': '<a href=\"https://buffer.com\" rel=\"nofollow\">Buffer</a>',\n",
       "   'in_reply_to_status_id': None,\n",
       "   'in_reply_to_status_id_str': None,\n",
       "   'in_reply_to_user_id': None,\n",
       "   'in_reply_to_user_id_str': None,\n",
       "   'in_reply_to_screen_name': None,\n",
       "   'geo': None,\n",
       "   'coordinates': None,\n",
       "   'place': None,\n",
       "   'contributors': None,\n",
       "   'is_quote_status': False,\n",
       "   'retweet_count': 5,\n",
       "   'favorite_count': 19,\n",
       "   'favorited': False,\n",
       "   'retweeted': False,\n",
       "   'possibly_sensitive': False,\n",
       "   'lang': 'en'},\n",
       "  'contributors_enabled': False,\n",
       "  'is_translator': False,\n",
       "  'is_translation_enabled': False,\n",
       "  'profile_background_color': '352726',\n",
       "  'profile_background_image_url': 'http://abs.twimg.com/images/themes/theme5/bg.gif',\n",
       "  'profile_background_image_url_https': 'https://abs.twimg.com/images/themes/theme5/bg.gif',\n",
       "  'profile_background_tile': False,\n",
       "  'profile_image_url': 'http://pbs.twimg.com/profile_images/1154493071/Picture_7_normal.png',\n",
       "  'profile_image_url_https': 'https://pbs.twimg.com/profile_images/1154493071/Picture_7_normal.png',\n",
       "  'profile_link_color': 'D02B55',\n",
       "  'profile_sidebar_border_color': '829D5E',\n",
       "  'profile_sidebar_fill_color': '99CC33',\n",
       "  'profile_text_color': '3E4415',\n",
       "  'profile_use_background_image': True,\n",
       "  'has_extended_profile': False,\n",
       "  'default_profile': False,\n",
       "  'default_profile_image': False,\n",
       "  'following': False,\n",
       "  'follow_request_sent': False,\n",
       "  'notifications': False,\n",
       "  'translator_type': 'none',\n",
       "  'withheld_in_countries': []},\n",
       " 2384071: {'id': 2384071,\n",
       "  'id_str': '2384071',\n",
       "  'name': 'timoreilly',\n",
       "  'screen_name': 'timoreilly',\n",
       "  'location': 'Oakland, CA',\n",
       "  'description': \"Founder and CEO, O'Reilly Media. Watching the alpha geeks, sharing their stories, helping the future unfold.\",\n",
       "  'url': 'https://t.co/gkALoGFXiQ',\n",
       "  'entities': {'url': {'urls': [{'url': 'https://t.co/gkALoGFXiQ',\n",
       "      'expanded_url': 'http://tim.oreilly.com',\n",
       "      'display_url': 'tim.oreilly.com',\n",
       "      'indices': [0, 23]}]},\n",
       "   'description': {'urls': []}},\n",
       "  'protected': False,\n",
       "  'followers_count': 1691407,\n",
       "  'friends_count': 2184,\n",
       "  'listed_count': 25717,\n",
       "  'created_at': 'Tue Mar 27 01:14:05 +0000 2007',\n",
       "  'favourites_count': 29491,\n",
       "  'utc_offset': None,\n",
       "  'time_zone': None,\n",
       "  'geo_enabled': True,\n",
       "  'verified': True,\n",
       "  'statuses_count': 48140,\n",
       "  'lang': None,\n",
       "  'status': {'created_at': 'Mon Sep 19 22:57:57 +0000 2022',\n",
       "   'id': 1571997048215605250,\n",
       "   'id_str': '1571997048215605250',\n",
       "   'text': '@Norro21 I do.',\n",
       "   'truncated': False,\n",
       "   'entities': {'hashtags': [],\n",
       "    'symbols': [],\n",
       "    'user_mentions': [{'screen_name': 'Norro21',\n",
       "      'name': 'Ben Norris',\n",
       "      'id': 57363041,\n",
       "      'id_str': '57363041',\n",
       "      'indices': [0, 8]}],\n",
       "    'urls': []},\n",
       "   'source': '<a href=\"http://twitter.com/download/android\" rel=\"nofollow\">Twitter for Android</a>',\n",
       "   'in_reply_to_status_id': 1571994357313437697,\n",
       "   'in_reply_to_status_id_str': '1571994357313437697',\n",
       "   'in_reply_to_user_id': 57363041,\n",
       "   'in_reply_to_user_id_str': '57363041',\n",
       "   'in_reply_to_screen_name': 'Norro21',\n",
       "   'geo': None,\n",
       "   'coordinates': None,\n",
       "   'place': None,\n",
       "   'contributors': None,\n",
       "   'is_quote_status': False,\n",
       "   'retweet_count': 0,\n",
       "   'favorite_count': 0,\n",
       "   'favorited': False,\n",
       "   'retweeted': False,\n",
       "   'lang': 'und'},\n",
       "  'contributors_enabled': False,\n",
       "  'is_translator': False,\n",
       "  'is_translation_enabled': False,\n",
       "  'profile_background_color': '9AE4E8',\n",
       "  'profile_background_image_url': 'http://abs.twimg.com/images/themes/theme1/bg.png',\n",
       "  'profile_background_image_url_https': 'https://abs.twimg.com/images/themes/theme1/bg.png',\n",
       "  'profile_background_tile': False,\n",
       "  'profile_image_url': 'http://pbs.twimg.com/profile_images/1501564491670065152/aG3MNIpH_normal.jpg',\n",
       "  'profile_image_url_https': 'https://pbs.twimg.com/profile_images/1501564491670065152/aG3MNIpH_normal.jpg',\n",
       "  'profile_banner_url': 'https://pbs.twimg.com/profile_banners/2384071/1549416574',\n",
       "  'profile_link_color': '0000FF',\n",
       "  'profile_sidebar_border_color': '87BC44',\n",
       "  'profile_sidebar_fill_color': 'E0FF92',\n",
       "  'profile_text_color': '000000',\n",
       "  'profile_use_background_image': True,\n",
       "  'has_extended_profile': False,\n",
       "  'default_profile': False,\n",
       "  'default_profile_image': False,\n",
       "  'following': False,\n",
       "  'follow_request_sent': False,\n",
       "  'notifications': False,\n",
       "  'translator_type': 'none',\n",
       "  'withheld_in_countries': []}}"
      ]
     },
     "execution_count": 24,
     "metadata": {},
     "output_type": "execute_result"
    }
   ],
   "source": [
    "info"
   ]
  },
  {
   "cell_type": "code",
   "execution_count": null,
   "id": "74fd9455-31d1-4b9c-9bfd-115fa992a87d",
   "metadata": {},
   "outputs": [],
   "source": []
  },
  {
   "cell_type": "code",
   "execution_count": null,
   "id": "0899eb55-490c-4003-b141-adbbd5ff59ad",
   "metadata": {},
   "outputs": [],
   "source": []
  },
  {
   "cell_type": "code",
   "execution_count": null,
   "id": "f3f09a9c-37ec-482c-a362-7143f7f5c04d",
   "metadata": {},
   "outputs": [],
   "source": []
  }
 ],
 "metadata": {
  "kernelspec": {
   "display_name": "rasa_py38",
   "language": "python",
   "name": "rasa_py38"
  },
  "language_info": {
   "codemirror_mode": {
    "name": "ipython",
    "version": 3
   },
   "file_extension": ".py",
   "mimetype": "text/x-python",
   "name": "python",
   "nbconvert_exporter": "python",
   "pygments_lexer": "ipython3",
   "version": "3.8.13"
  }
 },
 "nbformat": 4,
 "nbformat_minor": 5
}
