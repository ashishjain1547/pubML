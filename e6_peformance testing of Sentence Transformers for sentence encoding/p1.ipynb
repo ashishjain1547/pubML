{
 "cells": [
  {
   "cell_type": "code",
   "execution_count": 4,
   "id": "542dccbb-1497-4cef-ab96-1ecf640dc985",
   "metadata": {},
   "outputs": [],
   "source": [
    "import pandas as pd\n",
    "from sentence_transformers import SentenceTransformer"
   ]
  },
  {
   "cell_type": "code",
   "execution_count": 2,
   "id": "fd2c5d03-719f-4e3d-b47f-189c7d4c8279",
   "metadata": {},
   "outputs": [],
   "source": [
    "sbert_model = SentenceTransformer('bert-base-nli-mean-tokens')"
   ]
  },
  {
   "cell_type": "code",
   "execution_count": 5,
   "id": "652824ca-c486-4fbc-a492-5acf8e5e5f10",
   "metadata": {},
   "outputs": [],
   "source": [
    "df = pd.read_csv('nytEditorialSnippets_GroundTruth.txt', sep = '\\t')"
   ]
  },
  {
   "cell_type": "code",
   "execution_count": 19,
   "id": "f4f5ac37-0546-4ab8-8de0-06e0500c5e67",
   "metadata": {},
   "outputs": [],
   "source": [
    "df_10 = df[0:10]\n",
    "df_100 = df[0:100]"
   ]
  },
  {
   "cell_type": "markdown",
   "id": "660074fa-8a2b-4a0d-ad5a-6a90fadf063c",
   "metadata": {},
   "source": [
    "# 1. Using Sentence Encoder in a function on every record"
   ]
  },
  {
   "cell_type": "code",
   "execution_count": 20,
   "id": "f5dcf855-5ffb-4624-90da-43e670af6b5e",
   "metadata": {},
   "outputs": [],
   "source": [
    "def get_embedding(input_sentence):\n",
    "    return sbert_model.encode([input_sentence])[0]"
   ]
  },
  {
   "cell_type": "code",
   "execution_count": 21,
   "id": "493dec60-1bc9-4ec1-a694-5f544aa15655",
   "metadata": {},
   "outputs": [
    {
     "name": "stdout",
     "output_type": "stream",
     "text": [
      "9.15 s ± 317 ms per loop (mean ± std. dev. of 7 runs, 1 loop each)\n"
     ]
    }
   ],
   "source": [
    "%%timeit\n",
    "df_out_1 = df_100['text'].apply(get_embedding)"
   ]
  },
  {
   "cell_type": "code",
   "execution_count": 22,
   "id": "b41a0010-5457-497b-8032-cd2973437276",
   "metadata": {},
   "outputs": [
    {
     "name": "stdout",
     "output_type": "stream",
     "text": [
      "CPU times: user 18.3 s, sys: 112 ms, total: 18.5 s\n",
      "Wall time: 9.25 s\n"
     ]
    }
   ],
   "source": [
    "%%time\n",
    "df_out_1 = df_100['text'].apply(get_embedding)"
   ]
  },
  {
   "cell_type": "code",
   "execution_count": 26,
   "id": "833b772f-7c50-459b-9e77-dd6f70c7b9aa",
   "metadata": {},
   "outputs": [
    {
     "name": "stdout",
     "output_type": "stream",
     "text": [
      "CPU times: user 1.97 s, sys: 7.88 ms, total: 1.98 s\n",
      "Wall time: 997 ms\n"
     ]
    }
   ],
   "source": [
    "%%time\n",
    "df_out_1 = df_10['text'].apply(get_embedding)"
   ]
  },
  {
   "cell_type": "code",
   "execution_count": 23,
   "id": "ee808398-bc70-4ec6-b68a-404e6cea4304",
   "metadata": {},
   "outputs": [
    {
     "data": {
      "text/plain": [
       "0     [-0.7970602, 0.47616163, 0.2621567, 0.38846374...\n",
       "1     [-0.32450542, -0.10945253, 0.6443658, 0.212320...\n",
       "2     [-0.2602994, -0.0036350375, 1.2917686, 0.12602...\n",
       "3     [0.5173101, -0.86385506, 1.5003084, 0.76273316...\n",
       "4     [-0.19630705, 1.611963, 0.8502133, 0.059544455...\n",
       "                            ...                        \n",
       "95    [-0.7843676, 0.70446295, -0.86373883, 0.096476...\n",
       "96    [-0.047543377, -1.0461698, 0.9984542, 0.776394...\n",
       "97    [-0.5863306, 0.38590172, -0.15509816, 0.275745...\n",
       "98    [0.22616625, 0.33843663, 0.030288033, 0.191214...\n",
       "99    [0.40268317, 1.1528935, 0.3597172, 0.16918863,...\n",
       "Name: text, Length: 100, dtype: object"
      ]
     },
     "execution_count": 23,
     "metadata": {},
     "output_type": "execute_result"
    }
   ],
   "source": [
    "df_out_1"
   ]
  },
  {
   "cell_type": "code",
   "execution_count": 24,
   "id": "c42b9e33-eaef-48f2-b1ef-95c163569b2c",
   "metadata": {},
   "outputs": [
    {
     "data": {
      "text/plain": [
       "pandas.core.series.Series"
      ]
     },
     "execution_count": 24,
     "metadata": {},
     "output_type": "execute_result"
    }
   ],
   "source": [
    "type(df_out_1)"
   ]
  },
  {
   "cell_type": "markdown",
   "id": "f97e7e3c-7f2d-44c1-8ecd-276e33bbad3e",
   "metadata": {},
   "source": [
    "# 2. Using Sentence Encoder on entire array of sentences at once"
   ]
  },
  {
   "cell_type": "code",
   "execution_count": 25,
   "id": "ece1b65b-fa08-4836-88e9-d34a1d19ae7b",
   "metadata": {},
   "outputs": [
    {
     "name": "stdout",
     "output_type": "stream",
     "text": [
      "9.25 s ± 275 ms per loop (mean ± std. dev. of 7 runs, 1 loop each)\n"
     ]
    }
   ],
   "source": [
    "%%timeit\n",
    "df_out_2 = sbert_model.encode(df_100['text'].values)"
   ]
  },
  {
   "cell_type": "code",
   "execution_count": 29,
   "id": "5129cba1-7225-4a03-8bf5-3e1ea686d653",
   "metadata": {},
   "outputs": [
    {
     "name": "stdout",
     "output_type": "stream",
     "text": [
      "CPU times: user 17.8 s, sys: 1 s, total: 18.8 s\n",
      "Wall time: 9.41 s\n"
     ]
    }
   ],
   "source": [
    "%%time\n",
    "df_out_2 = sbert_model.encode(df_100['text'].values)"
   ]
  },
  {
   "cell_type": "code",
   "execution_count": 30,
   "id": "fae12c7a-90fe-4928-8ead-e827b4096a61",
   "metadata": {},
   "outputs": [
    {
     "data": {
      "text/plain": [
       "array([[-0.7970604 ,  0.4761617 ,  0.262157  , ..., -0.2437577 ,\n",
       "         1.1380528 ,  0.28697717],\n",
       "       [-0.32450542, -0.10945235,  0.64436567, ...,  0.14436643,\n",
       "        -0.24656864, -0.18447737],\n",
       "       [-0.26029944, -0.00363465,  1.2917686 , ...,  1.1463983 ,\n",
       "        -1.0714562 , -0.09548129],\n",
       "       ...,\n",
       "       [-0.5863306 ,  0.38590172, -0.15509816, ..., -0.2937488 ,\n",
       "        -0.3724223 ,  0.1826524 ],\n",
       "       [ 0.22616649,  0.33843663,  0.03028765, ...,  0.66338176,\n",
       "        -0.6620043 ,  0.09410357],\n",
       "       [ 0.40268335,  1.152894  ,  0.35971704, ..., -0.9203086 ,\n",
       "         0.17893644,  0.71039814]], dtype=float32)"
      ]
     },
     "execution_count": 30,
     "metadata": {},
     "output_type": "execute_result"
    }
   ],
   "source": [
    "df_out_2"
   ]
  },
  {
   "cell_type": "code",
   "execution_count": 31,
   "id": "87a56896-64b0-4e3a-a113-8b643df13136",
   "metadata": {},
   "outputs": [
    {
     "data": {
      "text/plain": [
       "numpy.ndarray"
      ]
     },
     "execution_count": 31,
     "metadata": {},
     "output_type": "execute_result"
    }
   ],
   "source": [
    "type(df_out_2)"
   ]
  },
  {
   "cell_type": "code",
   "execution_count": 33,
   "id": "32c1993e-f986-4e63-b7c8-8ce2b9b2712c",
   "metadata": {},
   "outputs": [
    {
     "data": {
      "text/plain": [
       "(100, 768)"
      ]
     },
     "execution_count": 33,
     "metadata": {},
     "output_type": "execute_result"
    }
   ],
   "source": [
    "df_out_2.shape"
   ]
  },
  {
   "cell_type": "code",
   "execution_count": null,
   "id": "876bbd6c-7998-4f0e-b382-caebc960150d",
   "metadata": {},
   "outputs": [],
   "source": []
  }
 ],
 "metadata": {
  "kernelspec": {
   "display_name": "stock_market_prediction",
   "language": "python",
   "name": "stock_market_prediction"
  },
  "language_info": {
   "codemirror_mode": {
    "name": "ipython",
    "version": 3
   },
   "file_extension": ".py",
   "mimetype": "text/x-python",
   "name": "python",
   "nbconvert_exporter": "python",
   "pygments_lexer": "ipython3",
   "version": "3.10.6"
  }
 },
 "nbformat": 4,
 "nbformat_minor": 5
}
