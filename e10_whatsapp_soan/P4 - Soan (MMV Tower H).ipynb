{
 "cells": [
  {
   "cell_type": "markdown",
   "metadata": {},
   "source": [
    "It is basic data analyses, namely getting means and sums of different statistics such as average number of words per message per user and eventually evolved into analyzing topics that were frequently discussed in the group chat. \n",
    "\n",
    "One interesting analysis is using TF-IDF as a way to extract words that characterize each person in the group chat. It is interesting to see which words are often used by one person, but rarely by all others. "
   ]
  },
  {
   "cell_type": "markdown",
   "metadata": {},
   "source": [
    "## <a name=\"table\">Table of Contents</a> \n",
    "\n",
    "1. [Functions](#functions)\n",
    "\n",
    "2. [General Statistics](#general)  \n",
    "\n",
    "    2.1 [Prepare Data](#gs-data)  \n",
    "        \n",
    "    2.2 [Users in the Group](#users)\n",
    "    \n",
    "    2.3 [Messages over time](#gs-messages)  \n",
    "    \n",
    "    2.4 [Active Moments](#gs-active) \n",
    "    \n",
    "    2.5 [Averages / Summaries](#gs-averages) \n",
    "    \n",
    "    2.6 [Response Time](#gs-response) \n",
    "    \n",
    "3. [TF-IDF](#tfidf)  \n",
    "\n",
    "    3.1 [Count Vector](#tf-count)  \n",
    "\n",
    "    3.2 [Unique Words](#tf-unique)  \n",
    "\n",
    "    3.3 [Plot Image](#tf-image)  \n",
    "\n",
    "4. [Emoji Analysis](#emoji)  \n",
    "\n",
    "    4.1 [Prepare Data](#emoji-prepare)  \n",
    "\n",
    "    4.2 [Unique and Common Emojis](#emoji-stats)  \n",
    "\n",
    "    4.3 [Correlation Matrix](#emoji-corr)  \n",
    "    \n",
    "5. [Topic Modelling](#topic)  \n",
    "\n",
    "    5.1 [Prepare Data](#topic-prepare)  \n",
    "\n",
    "    5.2 [LDA](#topic-lda)  \n",
    "\n",
    "    5.3 [NMF](#topic-nmf)  \n",
    "    \n",
    "6. [Sentiment Analysis](#sentiment)  \n",
    "\n",
    "    6.1 [Prepare Data](#sentiment-prepare)  \n",
    "\n",
    "    6.2 [Average Sentiment](#sentiment-average)  \n",
    "    \n",
    "    6.3 [Plot Sentiment](#sentiment-plot)  \n",
    "    \n",
    "7. [Word Clouds](#cloud)  \n",
    "\n",
    "    7.1 [Prepare Data](#cloud-prepare)  \n",
    "\n",
    "    7.2 [Masked Word Cloud](#cloud-mask)  \n",
    "\n",
    "    7.3 [Sentiment-based Word Cloud](#cloud-sentiment) \n",
    "    \n",
    "8. [Color Analysis](#color)  \n",
    "\n",
    "    8.1 [Extract Frequent Colors (k-Means)](#color-get)  \n",
    "\n",
    "    8.2 [Plot Frequent Colors](#color-plot)  "
   ]
  },
  {
   "cell_type": "markdown",
   "metadata": {},
   "source": [
    "## <a name=\"functions\">1. Functions</a> \n",
    "[Back to Table of Contents](#table)"
   ]
  },
  {
   "cell_type": "raw",
   "metadata": {},
   "source": [
    "# Windows\n",
    "# !cd D:\\workspace\\Jupyter\\exp_45.2_whatsapp\\soan_master\\whatsapp\n",
    "!del /s /q *.pyc"
   ]
  },
  {
   "cell_type": "code",
   "execution_count": 16,
   "metadata": {},
   "outputs": [],
   "source": [
    "# Ubuntu\n",
    "!cd soan_master/whatsapp\n",
    "!find . -name '*.pyc' -delete"
   ]
  },
  {
   "cell_type": "code",
   "execution_count": 17,
   "metadata": {},
   "outputs": [],
   "source": [
    "import json\n",
    "import matplotlib.pyplot as plt\n",
    "import nltk\n",
    "import os\n",
    "\n",
    "from collections import Counter\n",
    "from dateutil.parser import parse\n",
    "from time import time\n",
    "import importlib # The imp module was deprecated in Python 3.4 in favor of the importlib module.\n",
    "\n",
    "%matplotlib inline"
   ]
  },
  {
   "cell_type": "raw",
   "metadata": {},
   "source": [
    "nltk.download('stopwords')\n",
    "nltk.download('punkt')\n",
    "\n",
    "# Path: C:\\Users\\Ashish Jain\\AppData\\Roaming\\nltk_data...\n",
    "# [nltk_data]   Unzipping tokenizers\\punkt.zip.\n",
    "\n",
    "# [nltk_data] Downloading package stopwords to /home/ashish/nltk_data...\n",
    "# [nltk_data]   Package stopwords is already up-to-date!\n",
    "# [nltk_data] Downloading package punkt to /home/ashish/nltk_data..."
   ]
  },
  {
   "cell_type": "code",
   "execution_count": 18,
   "metadata": {},
   "outputs": [],
   "source": [
    "from soan_master.whatsapp.scripts import import_data_script as ids\n",
    "from soan_master.whatsapp.scripts import preprocess_data_script as pds\n",
    "from soan_master.whatsapp.scripts import number_of_words_script as nows"
   ]
  },
  {
   "cell_type": "code",
   "execution_count": 19,
   "metadata": {},
   "outputs": [],
   "source": [
    "from soan_master.whatsapp import helper      # Helper to prepare the data\n",
    "from soan_master.whatsapp import general     # General statistics\n",
    "from soan_master.whatsapp import tf_idf      # To calculate TF-IDF "
   ]
  },
  {
   "cell_type": "code",
   "execution_count": 20,
   "metadata": {},
   "outputs": [],
   "source": [
    "from soan_master.whatsapp import sentiment   # Sentiment Analysis\n",
    "from soan_master.colors import colors        # Frequent Color Visualization\n",
    "from soan_master.whatsapp import soan_emoji  # To analyze emoji use # Dependency: pip install emoji regex seaborn\n",
    "\n",
    "# Error you get while trying to import the emoji.py as is. \n",
    "# ImportError: cannot import name emoji\n",
    "# Solution: You need to rename it to something else like \"soan_emoji.py\""
   ]
  },
  {
   "cell_type": "code",
   "execution_count": 21,
   "metadata": {},
   "outputs": [
    {
     "data": {
      "text/plain": [
       "<module 'soan_master.whatsapp.scripts.number_of_words_script' from '/home/ashish/Desktop/ws/gh/public/pubML/e10_whatsapp_soan/soan_master/whatsapp/scripts/number_of_words_script.py'>"
      ]
     },
     "execution_count": 21,
     "metadata": {},
     "output_type": "execute_result"
    }
   ],
   "source": [
    "importlib.reload(general)\n",
    "importlib.reload(tf_idf)\n",
    "importlib.reload(soan_emoji)\n",
    "importlib.reload(ids)\n",
    "importlib.reload(pds)\n",
    "importlib.reload(nows)"
   ]
  },
  {
   "cell_type": "raw",
   "metadata": {},
   "source": [
    "# Runs in kernel: py_2716\n",
    "# Dependency: pip install pillow (for PIL: Python Image Library)\n",
    "\n",
    "from soan_master.whatsapp import topic       # Topic modelling and summarization # Dependency: pip install sklearn\n",
    "# Dependency: \"pip install pattern\"\n",
    "# \"pattern3\" is not same as \"pattern\" and \"pattern\" does not come for Python-3 (as of 20190717).\n",
    "\n",
    "from soan_master.whatsapp import soan_wordcloud   # Create Word Clouds # Dependency: pip install wordcloud palettable pattern"
   ]
  },
  {
   "cell_type": "markdown",
   "metadata": {},
   "source": [
    "## <a name=\"general\">2. General Statistics</a> "
   ]
  },
  {
   "cell_type": "markdown",
   "metadata": {},
   "source": [
    "Here you can find general data with regards to whatsapp conversations such as the number of messages and words. \n",
    "\n",
    "#### <a name=\"gs-data\">2.1 Prepare Data</a> \n",
    "\n",
    "The data is preprocessed by loading in the raw txt file which is sent through whatsapp to your mail. The following columns are created:\n",
    "* Message_Raw\n",
    "    * The raw message for each user (including date and name of user)\n",
    "* User\n",
    "    * The user who has sent the message, if no users have sent that message\n",
    "    then it is simply removed from the dataframe\n",
    "* Message_Clean\n",
    "    * Only containing the message, but with all possible symbols in there\n",
    "    Thus, no date and no name of the user\n",
    "* Message_Only_Text\n",
    "    * Only text, lowercase\n",
    "* Date\n",
    "    * Date in the format y/m/d"
   ]
  },
  {
   "cell_type": "code",
   "execution_count": 22,
   "metadata": {},
   "outputs": [],
   "source": [
    "#df = helper.import_data('WhatsApp Chat with FSADM Team.txt')\n",
    "#df = helper.import_data('WhatsApp Chat with Cousins (201910-201912).txt')\n",
    "#df = helper.import_data('files_1/WhatsApp Chat with BITS Lounge (20200117).txt')"
   ]
  },
  {
   "cell_type": "raw",
   "metadata": {},
   "source": [
    "file_name_1 = \"WhatsApp Chat with Cousins (201910-201912).txt\"\n",
    "file_name_2 = \"WhatsApp Chat with BITS Lounge (New).txt\"\n",
    "file_name_3 = \"MMV/20221005/WhatsApp Chat with MMV Harmony H-TOWER ❤️❤️❤️ (20221005).txt\"\n",
    "\n",
    "#df = ids.import_data(file_name_2, r'D:\\workspace\\Jupyter\\exp_45.2_whatsapp\\files_1'.replace(\"\\\\\", \"/\"))\n",
    "df = ids.import_data(file_name_2, 'files_1')"
   ]
  },
  {
   "cell_type": "code",
   "execution_count": 40,
   "metadata": {},
   "outputs": [],
   "source": [
    "# input_text_file = os.listdir('files_1/file_output')[-1]\n",
    "input_text_file = \"WhatsApp Chat_1665038089.txt\"\n",
    "directory_path = \"MMV/20221005\"\n",
    "df = ids.import_data(input_text_file, directory_path)"
   ]
  },
  {
   "cell_type": "code",
   "execution_count": 41,
   "metadata": {},
   "outputs": [
    {
     "name": "stdout",
     "output_type": "stream",
     "text": [
      "By default, we have picked the latest file:  WhatsApp Chat_1665038089.txt\n"
     ]
    }
   ],
   "source": [
    "print(\"By default, we have picked the latest file: \", input_text_file)"
   ]
  },
  {
   "cell_type": "code",
   "execution_count": 42,
   "metadata": {},
   "outputs": [],
   "source": [
    "c = Counter(df['User'])\n",
    "mc = c.most_common()"
   ]
  },
  {
   "cell_type": "code",
   "execution_count": 43,
   "metadata": {},
   "outputs": [
    {
     "data": {
      "text/plain": [
       "[('Ankit H2502', 53),\n",
       " ('Ashish Jain', 33),\n",
       " ('Harsh Sharma', 22),\n",
       " ('Manish Garg', 19),\n",
       " ('Sufia TC', 18),\n",
       " ('Veekkas Handa', 13),\n",
       " ('Ananya Srivastav', 10),\n",
       " ('Mimansha Gupta', 8),\n",
       " ('Kalpesh', 6),\n",
       " ('Anshal Sharan', 4),\n",
       " ('Puneet Dhanker', 3),\n",
       " ('Maahee Sood', 3),\n",
       " ('Pooja Dhanker', 3),\n",
       " ('Sagri Khurana', 2),\n",
       " ('Rita Bajaj', 2),\n",
       " ('Anshul Gupta', 2),\n",
       " ('Gobind Deep Singh', 2),\n",
       " ('Shivani Garg', 1),\n",
       " ('Ankit H2502 changed the subject from \"MMV H-TOWER\" to \"MMV Harmony H-TOWER ❤️❤️❤️\"\\n',\n",
       "  1),\n",
       " ('Sahil Wadhwa', 1)]"
      ]
     },
     "execution_count": 43,
     "metadata": {},
     "output_type": "execute_result"
    }
   ],
   "source": [
    "mc[:20]"
   ]
  },
  {
   "cell_type": "code",
   "execution_count": 44,
   "metadata": {},
   "outputs": [],
   "source": [
    "users = []\n",
    "msg_counts = []\n",
    "percentages = []\n",
    "for i in mc:\n",
    "    users.append(i[0])\n",
    "    msg_counts.append(i[1])\n",
    "    percentages.append(round((float(i[1]) / df.shape[0]) * 100, 2))"
   ]
  },
  {
   "cell_type": "code",
   "execution_count": 45,
   "metadata": {},
   "outputs": [],
   "source": [
    "u = users[0:19]\n",
    "m = msg_counts[0:19]\n",
    "p = percentages[0:19]\n",
    "u.append('Others')\n",
    "m.append(df.shape[0] - sum(m))\n",
    "p.append(100 - sum(p))"
   ]
  },
  {
   "cell_type": "code",
   "execution_count": 46,
   "metadata": {},
   "outputs": [],
   "source": [
    "# Generating hexadecimal RGB values for colors codes\n",
    "decimals = [240, 196, 25, 37, 92, 97, 120, 144, 156, 106, 212, 207, 23, 174, 232, 92, 107, 192, 68, 75, 110, 239, 76, 96, 116, 69, 147, 238, 86, 145, 156, 204, 101, 112, 139, 117, 209, 203, 101, 13, 141, 225, 164, 85, 75, 105, 79, 93, 69, 173, 179, 38, 166, 154, 189, 199, 204]\n",
    "\n",
    "for i in range(0, len(decimals), 3):\n",
    "    pass\n",
    "    #print(str(decimals[i]) + \" \" + str(decimals[i+1]) + \" \"+ str(decimals[i+2]))\n",
    "    #print(\"'#\" + hex(decimals[i])[2:] + hex(decimals[i+1])[2:] + hex(decimals[i+2])[2:] + \"', \")"
   ]
  },
  {
   "cell_type": "code",
   "execution_count": 47,
   "metadata": {},
   "outputs": [
    {
     "data": {
      "image/png": "[encoded data removed]",
      "text/plain": [
       "<Figure size 720x560 with 1 Axes>"
      ]
     },
     "metadata": {},
     "output_type": "display_data"
    }
   ],
   "source": [
    "# Data to plot\n",
    "labels = [user.split(' ')[0] for user in u]\n",
    "sizes = m\n",
    "colors = ['#f47961', '#f0c419', '#255c61', '#78909c', '#6ad4cf', '#17aee8', '#5c6bc0', '#444b6e', '#ef4c60', '#744593', '#ee5691', '#9ccc65', '#708b75', '#d1cb65', '#0d8de1', '#a4554b', '#694f5d', '#45adb3', '#26a69a', '#bdc7cc', ]\n",
    "explode = (0.1, 0, 0, 0, 0, 0, 0, 0, 0, 0, 0, 0, 0, 0, 0, 0, 0, 0, 0, 0)  # explode 1st slice\n",
    "\n",
    "# Plot\n",
    "plt.figure(num=None, figsize=(9, 7), dpi=80, facecolor='w', edgecolor='k')\n",
    "plt.pie(sizes, explode=explode, labels=labels, colors=colors, autopct='%1.1f%%', shadow=True, startangle=140)\n",
    "plt.title(\"Top 20 users based on message count\")\n",
    "          \n",
    "plt.axis('equal')\n",
    "\n",
    "plt.show()"
   ]
  },
  {
   "cell_type": "code",
   "execution_count": 48,
   "metadata": {},
   "outputs": [],
   "source": [
    "df = pds.preprocess_data(df = df)"
   ]
  },
  {
   "cell_type": "code",
   "execution_count": 49,
   "metadata": {},
   "outputs": [],
   "source": [
    "number_of_words_for_users = nows.get_number_of_words(df)\n",
    "users_ranked_based_on_word_count = sorted(number_of_words_for_users, key=number_of_words_for_users.get, reverse=True)\n",
    "\n",
    "users = []\n",
    "word_counts = []\n",
    "percentages = []\n",
    "total_words = sum(number_of_words_for_users.values())\n",
    "\n",
    "for i in users_ranked_based_on_word_count:\n",
    "    users.append(i)\n",
    "    word_counts.append(number_of_words_for_users[i])\n",
    "    percentages.append(round((float(number_of_words_for_users[i]) / total_words) * 100, 2))\n",
    "    \n",
    "u = users[0:19]\n",
    "wc = word_counts[0:19]\n",
    "p = percentages[0:19]\n",
    "u.append('Others')\n",
    "wc.append(sum(word_counts) - sum(m))\n",
    "p.append(100 - sum(p))"
   ]
  },
  {
   "cell_type": "raw",
   "metadata": {},
   "source": [
    "# https://stackoverflow.com/questions/21572870/matplotlib-percent-label-position-in-pie-chart\n",
    "\n",
    "You can control the distance of the percents and labels from the center of the pie using pctdistance= and labeldistance=, try this on your code:\n",
    "\n",
    "plt.pie(sizes, labels=labels, autopct='%1.0f%%', pctdistance=1.1, labeldistance=1.2)\n",
    "You can also set a radius of the pie using radius= (by default is 1)\n",
    "\n",
    "Other Useful References:\n",
    "1# https://matplotlib.org/3.1.1/gallery/pie_and_polar_charts/pie_and_donut_labels.html"
   ]
  },
  {
   "cell_type": "code",
   "execution_count": 50,
   "metadata": {},
   "outputs": [
    {
     "ename": "ValueError",
     "evalue": "'explode' must be of length 'x'",
     "output_type": "error",
     "traceback": [
      "\u001b[0;31m---------------------------------------------------------------------------\u001b[0m",
      "\u001b[0;31mValueError\u001b[0m                                Traceback (most recent call last)",
      "Cell \u001b[0;32mIn [50], line 10\u001b[0m\n\u001b[1;32m      7\u001b[0m \u001b[38;5;66;03m# Plot\u001b[39;00m\n\u001b[1;32m      8\u001b[0m plt\u001b[38;5;241m.\u001b[39mfigure(num\u001b[38;5;241m=\u001b[39m\u001b[38;5;28;01mNone\u001b[39;00m, figsize\u001b[38;5;241m=\u001b[39m(\u001b[38;5;241m7\u001b[39m, \u001b[38;5;241m7\u001b[39m), dpi\u001b[38;5;241m=\u001b[39m\u001b[38;5;241m80\u001b[39m, facecolor\u001b[38;5;241m=\u001b[39m\u001b[38;5;124m'\u001b[39m\u001b[38;5;124mw\u001b[39m\u001b[38;5;124m'\u001b[39m, edgecolor\u001b[38;5;241m=\u001b[39m\u001b[38;5;124m'\u001b[39m\u001b[38;5;124mk\u001b[39m\u001b[38;5;124m'\u001b[39m)\n\u001b[0;32m---> 10\u001b[0m w,l,p \u001b[38;5;241m=\u001b[39m plt\u001b[38;5;241m.\u001b[39mpie(sizes, explode\u001b[38;5;241m=\u001b[39mexplode, labels\u001b[38;5;241m=\u001b[39mlabels, colors\u001b[38;5;241m=\u001b[39mcolors, autopct\u001b[38;5;241m=\u001b[39m\u001b[38;5;124m'\u001b[39m\u001b[38;5;132;01m%1.1f\u001b[39;00m\u001b[38;5;132;01m%%\u001b[39;00m\u001b[38;5;124m'\u001b[39m, shadow\u001b[38;5;241m=\u001b[39m\u001b[38;5;28;01mTrue\u001b[39;00m, startangle\u001b[38;5;241m=\u001b[39m\u001b[38;5;241m140\u001b[39m, \n\u001b[1;32m     11\u001b[0m         rotatelabels\u001b[38;5;241m=\u001b[39m\u001b[38;5;28;01mTrue\u001b[39;00m, pctdistance\u001b[38;5;241m=\u001b[39m\u001b[38;5;241m1.2\u001b[39m, labeldistance\u001b[38;5;241m=\u001b[39m\u001b[38;5;241m1.3\u001b[39m)\n\u001b[1;32m     12\u001b[0m [t\u001b[38;5;241m.\u001b[39mset_rotation(\u001b[38;5;241m320\u001b[39m) \u001b[38;5;28;01mfor\u001b[39;00m t \u001b[38;5;129;01min\u001b[39;00m p] \u001b[38;5;66;03m# For rotation of percentages texts\u001b[39;00m\n\u001b[1;32m     14\u001b[0m plt\u001b[38;5;241m.\u001b[39mtitle(\u001b[38;5;124m\"\u001b[39m\u001b[38;5;124mTop 20 users based on word count\u001b[39m\u001b[38;5;124m\"\u001b[39m, y\u001b[38;5;241m=\u001b[39m\u001b[38;5;241m1\u001b[39m)\n",
      "File \u001b[0;32m~/anaconda3/envs/soan/lib/python3.10/site-packages/matplotlib/pyplot.py:2715\u001b[0m, in \u001b[0;36mpie\u001b[0;34m(x, explode, labels, colors, autopct, pctdistance, shadow, labeldistance, startangle, radius, counterclock, wedgeprops, textprops, center, frame, rotatelabels, normalize, data)\u001b[0m\n\u001b[1;32m   2708\u001b[0m \u001b[38;5;129m@_copy_docstring_and_deprecators\u001b[39m(Axes\u001b[38;5;241m.\u001b[39mpie)\n\u001b[1;32m   2709\u001b[0m \u001b[38;5;28;01mdef\u001b[39;00m \u001b[38;5;21mpie\u001b[39m(\n\u001b[1;32m   2710\u001b[0m         x, explode\u001b[38;5;241m=\u001b[39m\u001b[38;5;28;01mNone\u001b[39;00m, labels\u001b[38;5;241m=\u001b[39m\u001b[38;5;28;01mNone\u001b[39;00m, colors\u001b[38;5;241m=\u001b[39m\u001b[38;5;28;01mNone\u001b[39;00m, autopct\u001b[38;5;241m=\u001b[39m\u001b[38;5;28;01mNone\u001b[39;00m,\n\u001b[0;32m   (...)\u001b[0m\n\u001b[1;32m   2713\u001b[0m         textprops\u001b[38;5;241m=\u001b[39m\u001b[38;5;28;01mNone\u001b[39;00m, center\u001b[38;5;241m=\u001b[39m(\u001b[38;5;241m0\u001b[39m, \u001b[38;5;241m0\u001b[39m), frame\u001b[38;5;241m=\u001b[39m\u001b[38;5;28;01mFalse\u001b[39;00m,\n\u001b[1;32m   2714\u001b[0m         rotatelabels\u001b[38;5;241m=\u001b[39m\u001b[38;5;28;01mFalse\u001b[39;00m, \u001b[38;5;241m*\u001b[39m, normalize\u001b[38;5;241m=\u001b[39m\u001b[38;5;28;01mTrue\u001b[39;00m, data\u001b[38;5;241m=\u001b[39m\u001b[38;5;28;01mNone\u001b[39;00m):\n\u001b[0;32m-> 2715\u001b[0m     \u001b[38;5;28;01mreturn\u001b[39;00m \u001b[43mgca\u001b[49m\u001b[43m(\u001b[49m\u001b[43m)\u001b[49m\u001b[38;5;241;43m.\u001b[39;49m\u001b[43mpie\u001b[49m\u001b[43m(\u001b[49m\n\u001b[1;32m   2716\u001b[0m \u001b[43m        \u001b[49m\u001b[43mx\u001b[49m\u001b[43m,\u001b[49m\u001b[43m \u001b[49m\u001b[43mexplode\u001b[49m\u001b[38;5;241;43m=\u001b[39;49m\u001b[43mexplode\u001b[49m\u001b[43m,\u001b[49m\u001b[43m \u001b[49m\u001b[43mlabels\u001b[49m\u001b[38;5;241;43m=\u001b[39;49m\u001b[43mlabels\u001b[49m\u001b[43m,\u001b[49m\u001b[43m \u001b[49m\u001b[43mcolors\u001b[49m\u001b[38;5;241;43m=\u001b[39;49m\u001b[43mcolors\u001b[49m\u001b[43m,\u001b[49m\n\u001b[1;32m   2717\u001b[0m \u001b[43m        \u001b[49m\u001b[43mautopct\u001b[49m\u001b[38;5;241;43m=\u001b[39;49m\u001b[43mautopct\u001b[49m\u001b[43m,\u001b[49m\u001b[43m \u001b[49m\u001b[43mpctdistance\u001b[49m\u001b[38;5;241;43m=\u001b[39;49m\u001b[43mpctdistance\u001b[49m\u001b[43m,\u001b[49m\u001b[43m \u001b[49m\u001b[43mshadow\u001b[49m\u001b[38;5;241;43m=\u001b[39;49m\u001b[43mshadow\u001b[49m\u001b[43m,\u001b[49m\n\u001b[1;32m   2718\u001b[0m \u001b[43m        \u001b[49m\u001b[43mlabeldistance\u001b[49m\u001b[38;5;241;43m=\u001b[39;49m\u001b[43mlabeldistance\u001b[49m\u001b[43m,\u001b[49m\u001b[43m \u001b[49m\u001b[43mstartangle\u001b[49m\u001b[38;5;241;43m=\u001b[39;49m\u001b[43mstartangle\u001b[49m\u001b[43m,\u001b[49m\n\u001b[1;32m   2719\u001b[0m \u001b[43m        \u001b[49m\u001b[43mradius\u001b[49m\u001b[38;5;241;43m=\u001b[39;49m\u001b[43mradius\u001b[49m\u001b[43m,\u001b[49m\u001b[43m \u001b[49m\u001b[43mcounterclock\u001b[49m\u001b[38;5;241;43m=\u001b[39;49m\u001b[43mcounterclock\u001b[49m\u001b[43m,\u001b[49m\n\u001b[1;32m   2720\u001b[0m \u001b[43m        \u001b[49m\u001b[43mwedgeprops\u001b[49m\u001b[38;5;241;43m=\u001b[39;49m\u001b[43mwedgeprops\u001b[49m\u001b[43m,\u001b[49m\u001b[43m \u001b[49m\u001b[43mtextprops\u001b[49m\u001b[38;5;241;43m=\u001b[39;49m\u001b[43mtextprops\u001b[49m\u001b[43m,\u001b[49m\u001b[43m \u001b[49m\u001b[43mcenter\u001b[49m\u001b[38;5;241;43m=\u001b[39;49m\u001b[43mcenter\u001b[49m\u001b[43m,\u001b[49m\n\u001b[1;32m   2721\u001b[0m \u001b[43m        \u001b[49m\u001b[43mframe\u001b[49m\u001b[38;5;241;43m=\u001b[39;49m\u001b[43mframe\u001b[49m\u001b[43m,\u001b[49m\u001b[43m \u001b[49m\u001b[43mrotatelabels\u001b[49m\u001b[38;5;241;43m=\u001b[39;49m\u001b[43mrotatelabels\u001b[49m\u001b[43m,\u001b[49m\u001b[43m \u001b[49m\u001b[43mnormalize\u001b[49m\u001b[38;5;241;43m=\u001b[39;49m\u001b[43mnormalize\u001b[49m\u001b[43m,\u001b[49m\n\u001b[1;32m   2722\u001b[0m \u001b[43m        \u001b[49m\u001b[38;5;241;43m*\u001b[39;49m\u001b[38;5;241;43m*\u001b[39;49m\u001b[43m(\u001b[49m\u001b[43m{\u001b[49m\u001b[38;5;124;43m\"\u001b[39;49m\u001b[38;5;124;43mdata\u001b[39;49m\u001b[38;5;124;43m\"\u001b[39;49m\u001b[43m:\u001b[49m\u001b[43m \u001b[49m\u001b[43mdata\u001b[49m\u001b[43m}\u001b[49m\u001b[43m \u001b[49m\u001b[38;5;28;43;01mif\u001b[39;49;00m\u001b[43m \u001b[49m\u001b[43mdata\u001b[49m\u001b[43m \u001b[49m\u001b[38;5;129;43;01mis\u001b[39;49;00m\u001b[43m \u001b[49m\u001b[38;5;129;43;01mnot\u001b[39;49;00m\u001b[43m \u001b[49m\u001b[38;5;28;43;01mNone\u001b[39;49;00m\u001b[43m \u001b[49m\u001b[38;5;28;43;01melse\u001b[39;49;00m\u001b[43m \u001b[49m\u001b[43m{\u001b[49m\u001b[43m}\u001b[49m\u001b[43m)\u001b[49m\u001b[43m)\u001b[49m\n",
      "File \u001b[0;32m~/anaconda3/envs/soan/lib/python3.10/site-packages/matplotlib/__init__.py:1423\u001b[0m, in \u001b[0;36m_preprocess_data.<locals>.inner\u001b[0;34m(ax, data, *args, **kwargs)\u001b[0m\n\u001b[1;32m   1420\u001b[0m \u001b[38;5;129m@functools\u001b[39m\u001b[38;5;241m.\u001b[39mwraps(func)\n\u001b[1;32m   1421\u001b[0m \u001b[38;5;28;01mdef\u001b[39;00m \u001b[38;5;21minner\u001b[39m(ax, \u001b[38;5;241m*\u001b[39margs, data\u001b[38;5;241m=\u001b[39m\u001b[38;5;28;01mNone\u001b[39;00m, \u001b[38;5;241m*\u001b[39m\u001b[38;5;241m*\u001b[39mkwargs):\n\u001b[1;32m   1422\u001b[0m     \u001b[38;5;28;01mif\u001b[39;00m data \u001b[38;5;129;01mis\u001b[39;00m \u001b[38;5;28;01mNone\u001b[39;00m:\n\u001b[0;32m-> 1423\u001b[0m         \u001b[38;5;28;01mreturn\u001b[39;00m \u001b[43mfunc\u001b[49m\u001b[43m(\u001b[49m\u001b[43max\u001b[49m\u001b[43m,\u001b[49m\u001b[43m \u001b[49m\u001b[38;5;241;43m*\u001b[39;49m\u001b[38;5;28;43mmap\u001b[39;49m\u001b[43m(\u001b[49m\u001b[43msanitize_sequence\u001b[49m\u001b[43m,\u001b[49m\u001b[43m \u001b[49m\u001b[43margs\u001b[49m\u001b[43m)\u001b[49m\u001b[43m,\u001b[49m\u001b[43m \u001b[49m\u001b[38;5;241;43m*\u001b[39;49m\u001b[38;5;241;43m*\u001b[39;49m\u001b[43mkwargs\u001b[49m\u001b[43m)\u001b[49m\n\u001b[1;32m   1425\u001b[0m     bound \u001b[38;5;241m=\u001b[39m new_sig\u001b[38;5;241m.\u001b[39mbind(ax, \u001b[38;5;241m*\u001b[39margs, \u001b[38;5;241m*\u001b[39m\u001b[38;5;241m*\u001b[39mkwargs)\n\u001b[1;32m   1426\u001b[0m     auto_label \u001b[38;5;241m=\u001b[39m (bound\u001b[38;5;241m.\u001b[39marguments\u001b[38;5;241m.\u001b[39mget(label_namer)\n\u001b[1;32m   1427\u001b[0m                   \u001b[38;5;129;01mor\u001b[39;00m bound\u001b[38;5;241m.\u001b[39mkwargs\u001b[38;5;241m.\u001b[39mget(label_namer))\n",
      "File \u001b[0;32m~/anaconda3/envs/soan/lib/python3.10/site-packages/matplotlib/axes/_axes.py:3164\u001b[0m, in \u001b[0;36mAxes.pie\u001b[0;34m(self, x, explode, labels, colors, autopct, pctdistance, shadow, labeldistance, startangle, radius, counterclock, wedgeprops, textprops, center, frame, rotatelabels, normalize)\u001b[0m\n\u001b[1;32m   3162\u001b[0m     \u001b[38;5;28;01mraise\u001b[39;00m \u001b[38;5;167;01mValueError\u001b[39;00m(\u001b[38;5;124m\"\u001b[39m\u001b[38;5;124m'\u001b[39m\u001b[38;5;124mlabel\u001b[39m\u001b[38;5;124m'\u001b[39m\u001b[38;5;124m must be of length \u001b[39m\u001b[38;5;124m'\u001b[39m\u001b[38;5;124mx\u001b[39m\u001b[38;5;124m'\u001b[39m\u001b[38;5;124m\"\u001b[39m)\n\u001b[1;32m   3163\u001b[0m \u001b[38;5;28;01mif\u001b[39;00m \u001b[38;5;28mlen\u001b[39m(x) \u001b[38;5;241m!=\u001b[39m \u001b[38;5;28mlen\u001b[39m(explode):\n\u001b[0;32m-> 3164\u001b[0m     \u001b[38;5;28;01mraise\u001b[39;00m \u001b[38;5;167;01mValueError\u001b[39;00m(\u001b[38;5;124m\"\u001b[39m\u001b[38;5;124m'\u001b[39m\u001b[38;5;124mexplode\u001b[39m\u001b[38;5;124m'\u001b[39m\u001b[38;5;124m must be of length \u001b[39m\u001b[38;5;124m'\u001b[39m\u001b[38;5;124mx\u001b[39m\u001b[38;5;124m'\u001b[39m\u001b[38;5;124m\"\u001b[39m)\n\u001b[1;32m   3165\u001b[0m \u001b[38;5;28;01mif\u001b[39;00m colors \u001b[38;5;129;01mis\u001b[39;00m \u001b[38;5;28;01mNone\u001b[39;00m:\n\u001b[1;32m   3166\u001b[0m     get_next_color \u001b[38;5;241m=\u001b[39m \u001b[38;5;28mself\u001b[39m\u001b[38;5;241m.\u001b[39m_get_patches_for_fill\u001b[38;5;241m.\u001b[39mget_next_color\n",
      "\u001b[0;31mValueError\u001b[0m: 'explode' must be of length 'x'"
     ]
    },
    {
     "data": {
      "image/png": "[encoded data removed]",
      "text/plain": [
       "<Figure size 560x560 with 1 Axes>"
      ]
     },
     "metadata": {},
     "output_type": "display_data"
    }
   ],
   "source": [
    "# Data to plot\n",
    "labels = [user.split(' ')[0] for user in u]\n",
    "sizes = wc\n",
    "colors = ['#f47961', '#f0c419', '#255c61', '#78909c', '#6ad4cf', '#17aee8', '#5c6bc0', '#444b6e', '#ef4c60', '#744593', '#ee5691', '#9ccc65', '#708b75', '#d1cb65', '#0d8de1', '#a4554b', '#694f5d', '#45adb3', '#26a69a', '#bdc7cc', ]\n",
    "explode = (0.1, 0, 0, 0, 0, 0, 0, 0, 0, 0, 0, 0, 0, 0, 0, 0, 0, 0, 0, 0)  # explode 1st slice\n",
    "\n",
    "# Plot\n",
    "plt.figure(num=None, figsize=(7, 7), dpi=80, facecolor='w', edgecolor='k')\n",
    "\n",
    "w,l,p = plt.pie(sizes, explode=explode, labels=labels, colors=colors, autopct='%1.1f%%', shadow=True, startangle=140, \n",
    "        rotatelabels=True, pctdistance=1.2, labeldistance=1.3)\n",
    "[t.set_rotation(320) for t in p] # For rotation of percentages texts\n",
    "\n",
    "plt.title(\"Top 20 users based on word count\", y=1)\n",
    "          \n",
    "plt.axis('equal')\n",
    "\n",
    "plt.show()"
   ]
  },
  {
   "cell_type": "raw",
   "metadata": {},
   "source": [
    "for l, s in zip(labels, sizes):\n",
    "    print(l, s)"
   ]
  },
  {
   "cell_type": "code",
   "execution_count": null,
   "metadata": {},
   "outputs": [],
   "source": [
    "df['User'] = df.apply(lambda row: ''.join([i if ord(i) < 128 else '' for i in row.User]), axis = 1)\n",
    "# Removing emoticons from name\n",
    "# This LOC is not working from Python file and is hence commented there.\n",
    "# File 'D:\\workspace\\Jupyter\\exp_45.2_whatsapp\\soan_master\\whatsapp\\helper.py'"
   ]
  },
  {
   "cell_type": "code",
   "execution_count": null,
   "metadata": {},
   "outputs": [],
   "source": [
    "# Change labels for anonymization \n",
    "#user_labels = {old: new for old, new in zip(sorted(df.User.unique()), ['Her', 'Me'])}\n",
    "#df.User = df.User.map(user_labels)"
   ]
  },
  {
   "cell_type": "code",
   "execution_count": null,
   "metadata": {},
   "outputs": [],
   "source": [
    "df['Only_Date'] = df['Timestamp'].apply(lambda x: parse(x, dayfirst = True).isoformat().split('T')[0])"
   ]
  },
  {
   "cell_type": "code",
   "execution_count": null,
   "metadata": {},
   "outputs": [],
   "source": [
    "month_map ={\n",
    "    1: \"Jan\", 2: \"Feb\", 3: \"Mar\", 4: \"Apr\", 5: \"May\", 6: \"Jun\",\n",
    "    7: \"Jul\", 8: \"Aug\", 9: \"Sep\", 10: \"Oct\", 11: \"Nov\", 12: \"Dec\"\n",
    "}"
   ]
  },
  {
   "cell_type": "code",
   "execution_count": null,
   "metadata": {},
   "outputs": [],
   "source": [
    "df['Week_num'] = df['Timestamp'].apply(lambda x: parse(x, dayfirst = True).isocalendar()[1])\n",
    "df['Year'] = df['Timestamp'].apply(lambda x: parse(x, dayfirst = True).isocalendar()[0])\n",
    "\n",
    "df['week_num_and_year_num'] = df['Timestamp'].apply(lambda x: int(str(parse(x, dayfirst = True).isocalendar()[0]) + str(parse(x, dayfirst = True).isocalendar()[1])))"
   ]
  },
  {
   "cell_type": "raw",
   "metadata": {},
   "source": [
    "df['week_num_and_year_str'] = df['Timestamp'].apply(lambda x: str(parse(x, dayfirst = True).isocalendar()[0]) \n",
    "                                                    + '-' + str(parse(x, dayfirst = True).isocalendar()[1])\n",
    "                                                   + ' ' + month_map[parse(x, dayfirst = True).month])"
   ]
  },
  {
   "cell_type": "code",
   "execution_count": null,
   "metadata": {},
   "outputs": [],
   "source": [
    "df['week_num_and_year_str'] = df['Timestamp'].apply(lambda x: str(parse(x, dayfirst = True).isocalendar()[0]) \n",
    "                                                    + '-' + str(parse(x, dayfirst = True).isocalendar()[1]))"
   ]
  },
  {
   "cell_type": "code",
   "execution_count": null,
   "metadata": {},
   "outputs": [],
   "source": [
    "temp_dict = dict(Counter(df.week_num_and_year_str.values))"
   ]
  },
  {
   "cell_type": "code",
   "execution_count": null,
   "metadata": {},
   "outputs": [],
   "source": [
    "fig = plt.figure(figsize = (10, 8))\n",
    "ax = fig.add_axes([0,0,1,1])\n",
    "\n",
    "ax.bar(temp_dict.keys(), temp_dict.values())\n",
    "plt.xticks(rotation=70)\n",
    "plt.title('Weekly Message Traffic')\n",
    "plt.xlabel('Week of the year')\n",
    "plt.ylabel('Number of messages')"
   ]
  },
  {
   "cell_type": "code",
   "execution_count": null,
   "metadata": {},
   "outputs": [],
   "source": [
    "l = []\n",
    "for i in temp_dict.values():\n",
    "    if len(l) == 0:\n",
    "        l.append(i)\n",
    "    else:\n",
    "        l.append(l[-1] + i)"
   ]
  },
  {
   "cell_type": "code",
   "execution_count": null,
   "metadata": {},
   "outputs": [],
   "source": [
    "plt.figure(num=None, figsize=(8, 5), dpi=80, facecolor='w', edgecolor='k')\n",
    "plt.xticks(rotation=70)\n",
    "plt.title('Cumulative Growth in the Number of Messages Every Week')\n",
    "plt.xlabel('Week of the year')\n",
    "plt.ylabel('Total Number of messages')\n",
    "plt.plot(temp_dict.keys(), l)"
   ]
  },
  {
   "cell_type": "code",
   "execution_count": null,
   "metadata": {},
   "outputs": [],
   "source": [
    "#df.groupby('week_num_and_year').size().reset_index()"
   ]
  },
  {
   "cell_type": "markdown",
   "metadata": {},
   "source": [
    "#### <a name=\"users\">2.2 Users in the group</a> "
   ]
  },
  {
   "cell_type": "code",
   "execution_count": null,
   "metadata": {},
   "outputs": [],
   "source": [
    "sorted(list(set(df.User)))[:5]"
   ]
  },
  {
   "cell_type": "markdown",
   "metadata": {},
   "source": [
    "#### <a name=\"gs-messages\">2.3 Messages over time</a> "
   ]
  },
  {
   "cell_type": "code",
   "execution_count": null,
   "metadata": {},
   "outputs": [],
   "source": [
    "from dateutil.parser import parse\n",
    "general.plot_messages(df[df.User.isin(u) & (df.Date > parse('1-Dec-2019'))], colors=None, trendline=False, savefig=False, dpi=100)"
   ]
  },
  {
   "cell_type": "code",
   "execution_count": 33,
   "metadata": {},
   "outputs": [
    {
     "ename": "ConversionError",
     "evalue": "Failed to convert value(s) to axis units: ['Oct \\n2022']",
     "output_type": "error",
     "traceback": [
      "\u001b[0;31m---------------------------------------------------------------------------\u001b[0m",
      "\u001b[0;31mValueError\u001b[0m                                Traceback (most recent call last)",
      "File \u001b[0;32m~/anaconda3/lib/python3.9/site-packages/matplotlib/axis.py:1506\u001b[0m, in \u001b[0;36mAxis.convert_units\u001b[0;34m(self, x)\u001b[0m\n\u001b[1;32m   1505\u001b[0m \u001b[38;5;28;01mtry\u001b[39;00m:\n\u001b[0;32m-> 1506\u001b[0m     ret \u001b[38;5;241m=\u001b[39m \u001b[38;5;28;43mself\u001b[39;49m\u001b[38;5;241;43m.\u001b[39;49m\u001b[43mconverter\u001b[49m\u001b[38;5;241;43m.\u001b[39;49m\u001b[43mconvert\u001b[49m\u001b[43m(\u001b[49m\u001b[43mx\u001b[49m\u001b[43m,\u001b[49m\u001b[43m \u001b[49m\u001b[38;5;28;43mself\u001b[39;49m\u001b[38;5;241;43m.\u001b[39;49m\u001b[43munits\u001b[49m\u001b[43m,\u001b[49m\u001b[43m \u001b[49m\u001b[38;5;28;43mself\u001b[39;49m\u001b[43m)\u001b[49m\n\u001b[1;32m   1507\u001b[0m \u001b[38;5;28;01mexcept\u001b[39;00m \u001b[38;5;167;01mException\u001b[39;00m \u001b[38;5;28;01mas\u001b[39;00m e:\n",
      "File \u001b[0;32m~/anaconda3/lib/python3.9/site-packages/matplotlib/dates.py:1920\u001b[0m, in \u001b[0;36m_SwitchableDateConverter.convert\u001b[0;34m(self, *args, **kwargs)\u001b[0m\n\u001b[1;32m   1919\u001b[0m \u001b[38;5;28;01mdef\u001b[39;00m \u001b[38;5;21mconvert\u001b[39m(\u001b[38;5;28mself\u001b[39m, \u001b[38;5;241m*\u001b[39margs, \u001b[38;5;241m*\u001b[39m\u001b[38;5;241m*\u001b[39mkwargs):\n\u001b[0;32m-> 1920\u001b[0m     \u001b[38;5;28;01mreturn\u001b[39;00m \u001b[38;5;28;43mself\u001b[39;49m\u001b[38;5;241;43m.\u001b[39;49m\u001b[43m_get_converter\u001b[49m\u001b[43m(\u001b[49m\u001b[43m)\u001b[49m\u001b[38;5;241;43m.\u001b[39;49m\u001b[43mconvert\u001b[49m\u001b[43m(\u001b[49m\u001b[38;5;241;43m*\u001b[39;49m\u001b[43margs\u001b[49m\u001b[43m,\u001b[49m\u001b[43m \u001b[49m\u001b[38;5;241;43m*\u001b[39;49m\u001b[38;5;241;43m*\u001b[39;49m\u001b[43mkwargs\u001b[49m\u001b[43m)\u001b[49m\n",
      "File \u001b[0;32m~/anaconda3/lib/python3.9/site-packages/matplotlib/dates.py:1849\u001b[0m, in \u001b[0;36mDateConverter.convert\u001b[0;34m(value, unit, axis)\u001b[0m\n\u001b[1;32m   1843\u001b[0m \u001b[38;5;124;03m\"\"\"\u001b[39;00m\n\u001b[1;32m   1844\u001b[0m \u001b[38;5;124;03mIf *value* is not already a number or sequence of numbers, convert it\u001b[39;00m\n\u001b[1;32m   1845\u001b[0m \u001b[38;5;124;03mwith `date2num`.\u001b[39;00m\n\u001b[1;32m   1846\u001b[0m \n\u001b[1;32m   1847\u001b[0m \u001b[38;5;124;03mThe *unit* and *axis* arguments are not used.\u001b[39;00m\n\u001b[1;32m   1848\u001b[0m \u001b[38;5;124;03m\"\"\"\u001b[39;00m\n\u001b[0;32m-> 1849\u001b[0m \u001b[38;5;28;01mreturn\u001b[39;00m \u001b[43mdate2num\u001b[49m\u001b[43m(\u001b[49m\u001b[43mvalue\u001b[49m\u001b[43m)\u001b[49m\n",
      "File \u001b[0;32m~/anaconda3/lib/python3.9/site-packages/matplotlib/dates.py:447\u001b[0m, in \u001b[0;36mdate2num\u001b[0;34m(d)\u001b[0m\n\u001b[1;32m    446\u001b[0m         d \u001b[38;5;241m=\u001b[39m np\u001b[38;5;241m.\u001b[39masarray(d)\n\u001b[0;32m--> 447\u001b[0m     d \u001b[38;5;241m=\u001b[39m \u001b[43md\u001b[49m\u001b[38;5;241;43m.\u001b[39;49m\u001b[43mastype\u001b[49m\u001b[43m(\u001b[49m\u001b[38;5;124;43m'\u001b[39;49m\u001b[38;5;124;43mdatetime64[us]\u001b[39;49m\u001b[38;5;124;43m'\u001b[39;49m\u001b[43m)\u001b[49m\n\u001b[1;32m    449\u001b[0m d \u001b[38;5;241m=\u001b[39m _dt64_to_ordinalf(d)\n",
      "\u001b[0;31mValueError\u001b[0m: Error parsing datetime string \"Oct \n2022\" at position 0",
      "\nThe above exception was the direct cause of the following exception:\n",
      "\u001b[0;31mConversionError\u001b[0m                           Traceback (most recent call last)",
      "Input \u001b[0;32mIn [33]\u001b[0m, in \u001b[0;36m<cell line: 1>\u001b[0;34m()\u001b[0m\n\u001b[0;32m----> 1\u001b[0m \u001b[43mgeneral\u001b[49m\u001b[38;5;241;43m.\u001b[39;49m\u001b[43mplot_messages\u001b[49m\u001b[43m(\u001b[49m\u001b[43mdf\u001b[49m\u001b[43m[\u001b[49m\u001b[43mdf\u001b[49m\u001b[38;5;241;43m.\u001b[39;49m\u001b[43mDate\u001b[49m\u001b[43m \u001b[49m\u001b[38;5;241;43m>\u001b[39;49m\u001b[43m \u001b[49m\u001b[43mparse\u001b[49m\u001b[43m(\u001b[49m\u001b[38;5;124;43m'\u001b[39;49m\u001b[38;5;124;43m1-Dec-2019\u001b[39;49m\u001b[38;5;124;43m'\u001b[39;49m\u001b[43m)\u001b[49m\u001b[43m]\u001b[49m\u001b[43m,\u001b[49m\u001b[43m \u001b[49m\u001b[43mcolors\u001b[49m\u001b[38;5;241;43m=\u001b[39;49m\u001b[38;5;28;43;01mNone\u001b[39;49;00m\u001b[43m,\u001b[49m\u001b[43m \u001b[49m\u001b[43mtrendline\u001b[49m\u001b[38;5;241;43m=\u001b[39;49m\u001b[38;5;28;43;01mFalse\u001b[39;49;00m\u001b[43m,\u001b[49m\u001b[43m \u001b[49m\u001b[43msavefig\u001b[49m\u001b[38;5;241;43m=\u001b[39;49m\u001b[38;5;28;43;01mFalse\u001b[39;49;00m\u001b[43m,\u001b[49m\u001b[43m \u001b[49m\u001b[43mdpi\u001b[49m\u001b[38;5;241;43m=\u001b[39;49m\u001b[38;5;241;43m100\u001b[39;49m\u001b[43m)\u001b[49m\n",
      "File \u001b[0;32m~/Desktop/ws/gh/public/pubML/e10_whatsapp_soan/soan_master/whatsapp/general.py:325\u001b[0m, in \u001b[0;36mplot_messages\u001b[0;34m(df, colors, trendline, savefig, dpi)\u001b[0m\n\u001b[1;32m    322\u001b[0m dates \u001b[38;5;241m=\u001b[39m \u001b[38;5;28mlist\u001b[39m(pd\u001b[38;5;241m.\u001b[39mto_datetime(users[user]\u001b[38;5;241m.\u001b[39mDate, \n\u001b[1;32m    323\u001b[0m                            \u001b[38;5;28mformat\u001b[39m\u001b[38;5;241m=\u001b[39m\u001b[38;5;124m'\u001b[39m\u001b[38;5;124m%\u001b[39m\u001b[38;5;124mY00\u001b[39m\u001b[38;5;124m%\u001b[39m\u001b[38;5;124mm\u001b[39m\u001b[38;5;124m'\u001b[39m)\u001b[38;5;241m.\u001b[39mapply(\u001b[38;5;28;01mlambda\u001b[39;00m x: x\u001b[38;5;241m.\u001b[39mstrftime(\u001b[38;5;124m'\u001b[39m\u001b[38;5;124m%\u001b[39m\u001b[38;5;124mb-\u001b[39m\u001b[38;5;124m%\u001b[39m\u001b[38;5;124mY\u001b[39m\u001b[38;5;124m'\u001b[39m)))\n\u001b[1;32m    324\u001b[0m dates \u001b[38;5;241m=\u001b[39m \u001b[38;5;28mlist\u001b[39m(\u001b[38;5;28mset\u001b[39m([date\u001b[38;5;241m.\u001b[39mreplace(\u001b[38;5;124m'\u001b[39m\u001b[38;5;124m-\u001b[39m\u001b[38;5;124m'\u001b[39m, \u001b[38;5;124m'\u001b[39m\u001b[38;5;124m \u001b[39m\u001b[38;5;130;01m\\n\u001b[39;00m\u001b[38;5;124m'\u001b[39m) \u001b[38;5;28;01mfor\u001b[39;00m date \u001b[38;5;129;01min\u001b[39;00m dates]))\n\u001b[0;32m--> 325\u001b[0m \u001b[43max\u001b[49m\u001b[38;5;241;43m.\u001b[39;49m\u001b[43mset_xticks\u001b[49m\u001b[43m(\u001b[49m\u001b[43mdates\u001b[49m\u001b[43m)\u001b[49m\n\u001b[1;32m    326\u001b[0m ax\u001b[38;5;241m.\u001b[39mset_xticklabels(dates)\n\u001b[1;32m    328\u001b[0m \u001b[38;5;66;03m# Create horizontal grid\u001b[39;00m\n",
      "File \u001b[0;32m~/anaconda3/lib/python3.9/site-packages/matplotlib/axes/_base.py:75\u001b[0m, in \u001b[0;36m_axis_method_wrapper.__set_name__.<locals>.wrapper\u001b[0;34m(self, *args, **kwargs)\u001b[0m\n\u001b[1;32m     74\u001b[0m \u001b[38;5;28;01mdef\u001b[39;00m \u001b[38;5;21mwrapper\u001b[39m(\u001b[38;5;28mself\u001b[39m, \u001b[38;5;241m*\u001b[39margs, \u001b[38;5;241m*\u001b[39m\u001b[38;5;241m*\u001b[39mkwargs):\n\u001b[0;32m---> 75\u001b[0m     \u001b[38;5;28;01mreturn\u001b[39;00m \u001b[43mget_method\u001b[49m\u001b[43m(\u001b[49m\u001b[38;5;28;43mself\u001b[39;49m\u001b[43m)\u001b[49m\u001b[43m(\u001b[49m\u001b[38;5;241;43m*\u001b[39;49m\u001b[43margs\u001b[49m\u001b[43m,\u001b[49m\u001b[43m \u001b[49m\u001b[38;5;241;43m*\u001b[39;49m\u001b[38;5;241;43m*\u001b[39;49m\u001b[43mkwargs\u001b[49m\u001b[43m)\u001b[49m\n",
      "File \u001b[0;32m~/anaconda3/lib/python3.9/site-packages/matplotlib/axis.py:1855\u001b[0m, in \u001b[0;36mAxis.set_ticks\u001b[0;34m(self, ticks, labels, minor, **kwargs)\u001b[0m\n\u001b[1;32m   1829\u001b[0m \u001b[38;5;28;01mdef\u001b[39;00m \u001b[38;5;21mset_ticks\u001b[39m(\u001b[38;5;28mself\u001b[39m, ticks, labels\u001b[38;5;241m=\u001b[39m\u001b[38;5;28;01mNone\u001b[39;00m, \u001b[38;5;241m*\u001b[39m, minor\u001b[38;5;241m=\u001b[39m\u001b[38;5;28;01mFalse\u001b[39;00m, \u001b[38;5;241m*\u001b[39m\u001b[38;5;241m*\u001b[39mkwargs):\n\u001b[1;32m   1830\u001b[0m     \u001b[38;5;124;03m\"\"\"\u001b[39;00m\n\u001b[1;32m   1831\u001b[0m \u001b[38;5;124;03m    Set this Axis' tick locations and optionally labels.\u001b[39;00m\n\u001b[1;32m   1832\u001b[0m \n\u001b[0;32m   (...)\u001b[0m\n\u001b[1;32m   1853\u001b[0m \u001b[38;5;124;03m    ticks.\u001b[39;00m\n\u001b[1;32m   1854\u001b[0m \u001b[38;5;124;03m    \"\"\"\u001b[39;00m\n\u001b[0;32m-> 1855\u001b[0m     result \u001b[38;5;241m=\u001b[39m \u001b[38;5;28;43mself\u001b[39;49m\u001b[38;5;241;43m.\u001b[39;49m\u001b[43m_set_tick_locations\u001b[49m\u001b[43m(\u001b[49m\u001b[43mticks\u001b[49m\u001b[43m,\u001b[49m\u001b[43m \u001b[49m\u001b[43mminor\u001b[49m\u001b[38;5;241;43m=\u001b[39;49m\u001b[43mminor\u001b[49m\u001b[43m)\u001b[49m\n\u001b[1;32m   1856\u001b[0m     \u001b[38;5;28;01mif\u001b[39;00m labels \u001b[38;5;129;01mis\u001b[39;00m \u001b[38;5;129;01mnot\u001b[39;00m \u001b[38;5;28;01mNone\u001b[39;00m:\n\u001b[1;32m   1857\u001b[0m         \u001b[38;5;28mself\u001b[39m\u001b[38;5;241m.\u001b[39mset_ticklabels(labels, minor\u001b[38;5;241m=\u001b[39mminor, \u001b[38;5;241m*\u001b[39m\u001b[38;5;241m*\u001b[39mkwargs)\n",
      "File \u001b[0;32m~/anaconda3/lib/python3.9/site-packages/matplotlib/axis.py:1804\u001b[0m, in \u001b[0;36mAxis._set_tick_locations\u001b[0;34m(self, ticks, minor)\u001b[0m\n\u001b[1;32m   1800\u001b[0m \u001b[38;5;28;01mdef\u001b[39;00m \u001b[38;5;21m_set_tick_locations\u001b[39m(\u001b[38;5;28mself\u001b[39m, ticks, \u001b[38;5;241m*\u001b[39m, minor\u001b[38;5;241m=\u001b[39m\u001b[38;5;28;01mFalse\u001b[39;00m):\n\u001b[1;32m   1801\u001b[0m     \u001b[38;5;66;03m# see docstring of set_ticks\u001b[39;00m\n\u001b[1;32m   1802\u001b[0m \n\u001b[1;32m   1803\u001b[0m     \u001b[38;5;66;03m# XXX if the user changes units, the information will be lost here\u001b[39;00m\n\u001b[0;32m-> 1804\u001b[0m     ticks \u001b[38;5;241m=\u001b[39m \u001b[38;5;28;43mself\u001b[39;49m\u001b[38;5;241;43m.\u001b[39;49m\u001b[43mconvert_units\u001b[49m\u001b[43m(\u001b[49m\u001b[43mticks\u001b[49m\u001b[43m)\u001b[49m\n\u001b[1;32m   1805\u001b[0m     \u001b[38;5;28;01mfor\u001b[39;00m name, axis \u001b[38;5;129;01min\u001b[39;00m \u001b[38;5;28mself\u001b[39m\u001b[38;5;241m.\u001b[39maxes\u001b[38;5;241m.\u001b[39m_get_axis_map()\u001b[38;5;241m.\u001b[39mitems():\n\u001b[1;32m   1806\u001b[0m         \u001b[38;5;28;01mif\u001b[39;00m \u001b[38;5;28mself\u001b[39m \u001b[38;5;129;01mis\u001b[39;00m axis:\n",
      "File \u001b[0;32m~/anaconda3/lib/python3.9/site-packages/matplotlib/axis.py:1508\u001b[0m, in \u001b[0;36mAxis.convert_units\u001b[0;34m(self, x)\u001b[0m\n\u001b[1;32m   1506\u001b[0m     ret \u001b[38;5;241m=\u001b[39m \u001b[38;5;28mself\u001b[39m\u001b[38;5;241m.\u001b[39mconverter\u001b[38;5;241m.\u001b[39mconvert(x, \u001b[38;5;28mself\u001b[39m\u001b[38;5;241m.\u001b[39munits, \u001b[38;5;28mself\u001b[39m)\n\u001b[1;32m   1507\u001b[0m \u001b[38;5;28;01mexcept\u001b[39;00m \u001b[38;5;167;01mException\u001b[39;00m \u001b[38;5;28;01mas\u001b[39;00m e:\n\u001b[0;32m-> 1508\u001b[0m     \u001b[38;5;28;01mraise\u001b[39;00m munits\u001b[38;5;241m.\u001b[39mConversionError(\u001b[38;5;124m'\u001b[39m\u001b[38;5;124mFailed to convert value(s) to axis \u001b[39m\u001b[38;5;124m'\u001b[39m\n\u001b[1;32m   1509\u001b[0m                                  \u001b[38;5;124mf\u001b[39m\u001b[38;5;124m'\u001b[39m\u001b[38;5;124munits: \u001b[39m\u001b[38;5;132;01m{\u001b[39;00mx\u001b[38;5;132;01m!r}\u001b[39;00m\u001b[38;5;124m'\u001b[39m) \u001b[38;5;28;01mfrom\u001b[39;00m \u001b[38;5;21;01me\u001b[39;00m\n\u001b[1;32m   1510\u001b[0m \u001b[38;5;28;01mreturn\u001b[39;00m ret\n",
      "\u001b[0;31mConversionError\u001b[0m: Failed to convert value(s) to axis units: ['Oct \\n2022']"
     ]
    },
    {
     "name": "stderr",
     "output_type": "stream",
     "text": [
      "findfont: Font family ['Comic Sans MS'] not found. Falling back to DejaVu Sans.\n"
     ]
    },
    {
     "data": {
      "image/png": "[encoded data removed]",
      "text/plain": [
       "<Figure size 1440x720 with 1 Axes>"
      ]
     },
     "metadata": {
      "needs_background": "light"
     },
     "output_type": "display_data"
    }
   ],
   "source": [
    "general.plot_messages(df[df.Date > parse('1-Dec-2019')], colors=None, trendline=False, savefig=False, dpi=100)"
   ]
  },
  {
   "cell_type": "code",
   "execution_count": null,
   "metadata": {},
   "outputs": [],
   "source": [
    "general.plot_messages(df[df.User.isin(u[0:5]) & (df.Date > parse('1-Nov-2019'))], colors=None, trendline=False, savefig=False, dpi=100)"
   ]
  },
  {
   "cell_type": "code",
   "execution_count": null,
   "metadata": {},
   "outputs": [],
   "source": [
    "for i in ['Shital Karhade', 'Shambhavi Choudhary']:\n",
    "    general.plot_messages(df[df['User'] == i], colors=None, trendline=False, savefig=False, dpi=100)"
   ]
  },
  {
   "cell_type": "markdown",
   "metadata": {},
   "source": [
    "#### <a name=\"gs-active\">2.4 Active Moments</a> \n",
    "[Back to Table of Contents](#table)"
   ]
  },
  {
   "cell_type": "markdown",
   "metadata": {},
   "source": [
    "**Daily Activity**  \n",
    "This shows the daily activity per person in a spider plot and in total in a histogram. \n",
    "NOTE: This is unstandardized data, which means that it also shows the amount of messages. "
   ]
  },
  {
   "cell_type": "code",
   "execution_count": null,
   "metadata": {},
   "outputs": [],
   "source": [
    "general.plot_day_spider(df, colors=None, savefig=False, dpi=100)\n",
    "\n",
    "# The spider plot is not giving the expected results."
   ]
  },
  {
   "cell_type": "code",
   "execution_count": null,
   "metadata": {},
   "outputs": [],
   "source": [
    "for i in ['Shital Karhade', 'Shambhavi Choudhary']:\n",
    "    general.plot_day_spider(df[df['User'] == i], colors=None, savefig=False, dpi=100)"
   ]
  },
  {
   "cell_type": "code",
   "execution_count": null,
   "metadata": {},
   "outputs": [],
   "source": [
    "Day_of_Week = ['Monday', 'Tuesday', 'Wednesday', 'Thursday', 'Friday', 'Saturday', 'Sunday']\n",
    "for i in set(df.User.tolist()):\n",
    "    temp = df[df.User == i].groupby('Day_of_Week').count()['index'].to_frame().reset_index()\n",
    "    temp.columns = ['Day_of_Week', 'msgs_sent']\n",
    "    print(i + \": \" + Day_of_Week[temp[temp.msgs_sent == temp.msgs_sent.max()].iloc[0]['Day_of_Week']]\n",
    "          + \": \" + str(temp[temp.msgs_sent == temp.msgs_sent.max()].iloc[0]['msgs_sent']))\n",
    "    "
   ]
  },
  {
   "cell_type": "code",
   "execution_count": null,
   "metadata": {},
   "outputs": [],
   "source": [
    "Day_of_Week = ['Monday', 'Tuesday', 'Wednesday', 'Thursday', 'Friday', 'Saturday', 'Sunday']"
   ]
  },
  {
   "cell_type": "code",
   "execution_count": null,
   "metadata": {},
   "outputs": [],
   "source": [
    "for i in ['Shital Karhade', 'Shambhavi Choudhary']:\n",
    "    print(i, \":\")\n",
    "    print(df[df.User == i].groupby('Day_of_Week').count()['index'].to_frame().reset_index())"
   ]
  },
  {
   "cell_type": "code",
   "execution_count": null,
   "metadata": {},
   "outputs": [],
   "source": [
    "Counter(df[df.User == \"Shambhavi Choudhary\"]['Day_of_Week'])"
   ]
  },
  {
   "cell_type": "code",
   "execution_count": null,
   "metadata": {},
   "outputs": [],
   "source": [
    "general.plot_active_days(df, savefig=False, dpi=100)"
   ]
  },
  {
   "cell_type": "code",
   "execution_count": null,
   "metadata": {},
   "outputs": [],
   "source": [
    "for i in ['Shital Karhade', 'Shambhavi Choudhary']:\n",
    "    general.plot_active_days(df, savefig=False, dpi=100, user = i)"
   ]
  },
  {
   "cell_type": "markdown",
   "metadata": {},
   "source": [
    "**Hourly Activity**  \n",
    "It shows which days are most active based on the period in which most messages are send. "
   ]
  },
  {
   "cell_type": "code",
   "execution_count": null,
   "metadata": {},
   "outputs": [],
   "source": [
    "general.plot_active_hours(df, color='#121212', savefig=False, dpi=100, user='All')"
   ]
  },
  {
   "cell_type": "code",
   "execution_count": null,
   "metadata": {},
   "outputs": [],
   "source": [
    "for i in ['Shital Karhade', 'Shambhavi Choudhary']:\n",
    "    general.plot_active_hours(df, color='#121212', savefig=False, dpi=100, user = i)"
   ]
  },
  {
   "cell_type": "markdown",
   "metadata": {},
   "source": [
    "**Calendar Map**  \n",
    "Here you can choose for which year you want to see the activity"
   ]
  },
  {
   "cell_type": "code",
   "execution_count": null,
   "metadata": {},
   "outputs": [],
   "source": [
    "# Need to set the index and provide a single column\n",
    "general.calendar_plot(df, year=2019, how='count', column='index')"
   ]
  },
  {
   "cell_type": "code",
   "execution_count": null,
   "metadata": {},
   "outputs": [],
   "source": [
    "general.calendar_plot(df, year=2020, how='count', column='index')"
   ]
  },
  {
   "cell_type": "markdown",
   "metadata": {},
   "source": [
    "#### <a name=\"gs-averages\">2.5 Averages / Summaries</a> "
   ]
  },
  {
   "cell_type": "markdown",
   "metadata": {},
   "source": [
    "Here you can find general averages and summaries. For those that are interested how often a person said \"I love you\", you can also find that. "
   ]
  },
  {
   "cell_type": "code",
   "execution_count": null,
   "metadata": {},
   "outputs": [],
   "source": [
    "#general.print_stats(df, love=True)\n",
    "# NR / Nr / nr: implies \"number\""
   ]
  },
  {
   "cell_type": "code",
   "execution_count": null,
   "metadata": {},
   "outputs": [],
   "source": [
    "for i in ['Shital Karhade', 'Shambhavi Choudhary']:\n",
    "    general.print_stats(df[df['User'] == i], love=True)\n",
    "# NR / Nr / nr: implies \"number\""
   ]
  },
  {
   "cell_type": "markdown",
   "metadata": {},
   "source": [
    "#### <a name=\"gs-response\">2.6 Response Time</a> "
   ]
  },
  {
   "cell_type": "markdown",
   "metadata": {},
   "source": [
    "**keep_order = True** maintains the order of messages in the dataframe which is neccesary in order to calculate the response time between messages. However, it is more time-consuming which is why I created a separate function for this. "
   ]
  },
  {
   "cell_type": "code",
   "execution_count": null,
   "metadata": {},
   "outputs": [],
   "source": [
    "# df.sort_values('Date', inplace=True)\n",
    "general.print_timing(df)"
   ]
  },
  {
   "cell_type": "markdown",
   "metadata": {},
   "source": [
    "## <a name=\"tfidf\">3. TF-IDF</a> "
   ]
  },
  {
   "cell_type": "markdown",
   "metadata": {},
   "source": [
    "#### <a name=\"tf-count\">3.1 Create Count Vector</a> "
   ]
  },
  {
   "cell_type": "markdown",
   "metadata": {},
   "source": [
    "It creates the dataframe \"counts\" which is a dataframe that contains each word that is said in all conversations and counts how often each user has said that word. "
   ]
  },
  {
   "cell_type": "code",
   "execution_count": 34,
   "metadata": {},
   "outputs": [
    {
     "ename": "FileNotFoundError",
     "evalue": "[Errno 2] No such file or directory: 'E:/Workspace/Jupyter/e2_whatsapp_soan/soan_master/whatsapp/stop_words.json'",
     "output_type": "error",
     "traceback": [
      "\u001b[0;31m---------------------------------------------------------------------------\u001b[0m",
      "\u001b[0;31mFileNotFoundError\u001b[0m                         Traceback (most recent call last)",
      "Input \u001b[0;32mIn [34]\u001b[0m, in \u001b[0;36m<cell line: 3>\u001b[0;34m()\u001b[0m\n\u001b[1;32m      1\u001b[0m \u001b[38;5;66;03m# Shambhavi Choudhary\u001b[39;00m\n\u001b[1;32m      2\u001b[0m counts \u001b[38;5;241m=\u001b[39m tf_idf\u001b[38;5;241m.\u001b[39mcount_words_per_user(df[df[\u001b[38;5;124m\"\u001b[39m\u001b[38;5;124mUser\u001b[39m\u001b[38;5;124m\"\u001b[39m] \u001b[38;5;241m==\u001b[39m \u001b[38;5;124m\"\u001b[39m\u001b[38;5;124mShital Karhade\u001b[39m\u001b[38;5;124m\"\u001b[39m], sentence_column\u001b[38;5;241m=\u001b[39m\u001b[38;5;124m\"\u001b[39m\u001b[38;5;124mMessage_Only_Text\u001b[39m\u001b[38;5;124m\"\u001b[39m, user_column\u001b[38;5;241m=\u001b[39m\u001b[38;5;124m\"\u001b[39m\u001b[38;5;124mUser\u001b[39m\u001b[38;5;124m\"\u001b[39m)\n\u001b[0;32m----> 3\u001b[0m counts \u001b[38;5;241m=\u001b[39m \u001b[43mtf_idf\u001b[49m\u001b[38;5;241;43m.\u001b[39;49m\u001b[43mremove_stopwords\u001b[49m\u001b[43m(\u001b[49m\u001b[43mcounts\u001b[49m\u001b[43m,\u001b[49m\u001b[43m \u001b[49m\u001b[43mcolumn\u001b[49m\u001b[38;5;241;43m=\u001b[39;49m\u001b[38;5;124;43m\"\u001b[39;49m\u001b[38;5;124;43mWord\u001b[39;49m\u001b[38;5;124;43m\"\u001b[39;49m\u001b[43m)\u001b[49m\n",
      "File \u001b[0;32m~/Desktop/ws/gh/public/pubML/e10_whatsapp_soan/soan_master/whatsapp/tf_idf.py:81\u001b[0m, in \u001b[0;36mremove_stopwords\u001b[0;34m(df, column, path_to_stop_words)\u001b[0m\n\u001b[1;32m     59\u001b[0m \u001b[38;5;124;03m\"\"\" Remove stopwords from a dataframe choosing a specific column in which to remove those words\u001b[39;00m\n\u001b[1;32m     60\u001b[0m \u001b[38;5;124;03m\u001b[39;00m\n\u001b[1;32m     61\u001b[0m \u001b[38;5;124;03mParameters:\u001b[39;00m\n\u001b[0;32m   (...)\u001b[0m\n\u001b[1;32m     76\u001b[0m \u001b[38;5;124;03m    \u001b[39;00m\n\u001b[1;32m     77\u001b[0m \u001b[38;5;124;03m\"\"\"\u001b[39;00m\n\u001b[1;32m     79\u001b[0m swl \u001b[38;5;241m=\u001b[39m \u001b[38;5;28mlist\u001b[39m(\u001b[38;5;28mset\u001b[39m(stopwords\u001b[38;5;241m.\u001b[39mwords(\u001b[38;5;124m'\u001b[39m\u001b[38;5;124menglish\u001b[39m\u001b[38;5;124m'\u001b[39m)))\n\u001b[0;32m---> 81\u001b[0m \u001b[38;5;28;01mwith\u001b[39;00m \u001b[38;5;28;43mopen\u001b[39;49m\u001b[43m(\u001b[49m\u001b[43mos\u001b[49m\u001b[38;5;241;43m.\u001b[39;49m\u001b[43mpath\u001b[49m\u001b[38;5;241;43m.\u001b[39;49m\u001b[43mjoin\u001b[49m\u001b[43m(\u001b[49m\u001b[43mpath_to_stop_words\u001b[49m\u001b[43m,\u001b[49m\u001b[43m \u001b[49m\u001b[38;5;124;43m'\u001b[39;49m\u001b[38;5;124;43mstop_words.json\u001b[39;49m\u001b[38;5;124;43m'\u001b[39;49m\u001b[43m)\u001b[49m\u001b[43m,\u001b[49m\u001b[43m \u001b[49m\u001b[43mencoding\u001b[49m\u001b[38;5;241;43m=\u001b[39;49m\u001b[38;5;124;43m'\u001b[39;49m\u001b[38;5;124;43mutf-8\u001b[39;49m\u001b[38;5;124;43m'\u001b[39;49m\u001b[43m)\u001b[49m \u001b[38;5;28;01mas\u001b[39;00m json_file:\n\u001b[1;32m     82\u001b[0m     stop_words \u001b[38;5;241m=\u001b[39m json\u001b[38;5;241m.\u001b[39mload(json_file)\n\u001b[1;32m     84\u001b[0m \u001b[38;5;28;01mfor\u001b[39;00m lang \u001b[38;5;129;01min\u001b[39;00m stop_words\u001b[38;5;241m.\u001b[39mkeys():\n",
      "\u001b[0;31mFileNotFoundError\u001b[0m: [Errno 2] No such file or directory: 'E:/Workspace/Jupyter/e2_whatsapp_soan/soan_master/whatsapp/stop_words.json'"
     ]
    }
   ],
   "source": [
    "# Shambhavi Choudhary\n",
    "counts = tf_idf.count_words_per_user(df[df[\"User\"] == \"Shital Karhade\"], sentence_column=\"Message_Only_Text\", user_column=\"User\")\n",
    "counts = tf_idf.remove_stopwords(counts, column=\"Word\")"
   ]
  },
  {
   "cell_type": "markdown",
   "metadata": {},
   "source": [
    "#### <a name=\"tf-unique\">3.2 Unique Words</a> "
   ]
  },
  {
   "cell_type": "markdown",
   "metadata": {},
   "source": [
    "Below you can see three version of TF-IDF that I created. After much experimentation it turns out that they are all quite similar and that Version C gives me a nice distribution of values needed for the plotting. Content-wise they all have a very similar meaning. \n",
    "\n",
    "**Version A - Messages**  \n",
    "  \n",
    "$TFIDF_i = \\frac{{t_{ij}+1}^2}{\\sum_{i=1}^{n} t_j} \\times \\frac{\\sum_{i=1}^{n} m_i}{m_i} $  \n",
    "  \n",
    "$t_{ij} = $ Number of times word $j$ said by $i$   \n",
    "$m_i = $ Number of messages texted by $i$  \n",
    "  \n",
    "\n",
    "**Version B - Words**\n",
    "\n",
    "$TFIDF_i = \\frac{{t_{ij}+1}^2}{\\sum_{i=1}^{n} t_j} \\times \\frac{\\sum_{i=1}^{n} w_i}{w_i}$\n",
    "\n",
    "$t_{ij} = $ Number of times a specific word $j$ was said by $i$  \n",
    "$w_i = $ Number of words texted by $i$\n",
    "\n",
    "\n",
    "**Version C - Adjusted TF-IDF**\n",
    "\n",
    "$ TFIDF_i = \\frac{{t_{ij} + 1}}{w_i + 1} \\times \\log{\\frac{m}{\\sum_{i=1}^{n} t_j}} $  \n",
    "$w_i = $ Number of words texted by $i$  \n",
    "$t_{ij} = $ Number of times a specific word $j$ was said by $i$  \n",
    "$m = $ Number of all messages   \n",
    "\n",
    "** Unique Words **  \n",
    "  \n",
    "$ Unique_i = \\frac{TFIDF_i}{\\sum\\limits_{j, j \\neq i}^n TFIDF_i} $\n"
   ]
  },
  {
   "cell_type": "code",
   "execution_count": 35,
   "metadata": {},
   "outputs": [],
   "source": [
    "# Shambhavi Choudhary\n",
    "unique_words = tf_idf.get_unique_words(counts, df[df[\"User\"] == \"Shital Karhade\"], version = 'C')"
   ]
  },
  {
   "cell_type": "markdown",
   "metadata": {},
   "source": [
    "#### <a name=\"tf-image\">3.3 Plot Image</a> "
   ]
  },
  {
   "cell_type": "markdown",
   "metadata": {},
   "source": [
    "This is where things got a bit tricky...\n",
    "\n",
    "I created a horizontal bar chart with two bars stacked on top of each other both plotted on a background image. I started with a background image and plotted the actual values on the left and made it fully transparent with a white border to separate the bars. Then, on top of that I plotted which bars so that the right part of the image would get removed. "
   ]
  },
  {
   "cell_type": "code",
   "execution_count": 36,
   "metadata": {},
   "outputs": [],
   "source": [
    "# tf_idf.print_users(df)"
   ]
  },
  {
   "cell_type": "markdown",
   "metadata": {},
   "source": [
    "**Instructions**  \n",
    "Make sure to change \"user\" in the function below to one of the users as seen above. It needs to be the exact same naming otherwise it will not work. Furthermore, a valid picture needs to be selected. You can choose the sizing yourself which might need some experimenting with before finding the right size. It also works with a link to the image online. "
   ]
  },
  {
   "cell_type": "code",
   "execution_count": 37,
   "metadata": {},
   "outputs": [
    {
     "ename": "FileNotFoundError",
     "evalue": "[Errno 2] No such file or directory: 'E:/Workspace/Jupyter/e2_whatsapp_soan/soan_master/whatsapp/stop_words.json'",
     "output_type": "error",
     "traceback": [
      "\u001b[0;31m---------------------------------------------------------------------------\u001b[0m",
      "\u001b[0;31mFileNotFoundError\u001b[0m                         Traceback (most recent call last)",
      "File \u001b[0;32m<timed exec>:11\u001b[0m, in \u001b[0;36m<module>\u001b[0;34m\u001b[0m\n",
      "File \u001b[0;32m~/Desktop/ws/gh/public/pubML/e10_whatsapp_soan/soan_master/whatsapp/tf_idf.py:81\u001b[0m, in \u001b[0;36mremove_stopwords\u001b[0;34m(df, column, path_to_stop_words)\u001b[0m\n\u001b[1;32m     59\u001b[0m \u001b[38;5;124;03m\"\"\" Remove stopwords from a dataframe choosing a specific column in which to remove those words\u001b[39;00m\n\u001b[1;32m     60\u001b[0m \u001b[38;5;124;03m\u001b[39;00m\n\u001b[1;32m     61\u001b[0m \u001b[38;5;124;03mParameters:\u001b[39;00m\n\u001b[0;32m   (...)\u001b[0m\n\u001b[1;32m     76\u001b[0m \u001b[38;5;124;03m    \u001b[39;00m\n\u001b[1;32m     77\u001b[0m \u001b[38;5;124;03m\"\"\"\u001b[39;00m\n\u001b[1;32m     79\u001b[0m swl \u001b[38;5;241m=\u001b[39m \u001b[38;5;28mlist\u001b[39m(\u001b[38;5;28mset\u001b[39m(stopwords\u001b[38;5;241m.\u001b[39mwords(\u001b[38;5;124m'\u001b[39m\u001b[38;5;124menglish\u001b[39m\u001b[38;5;124m'\u001b[39m)))\n\u001b[0;32m---> 81\u001b[0m \u001b[38;5;28;01mwith\u001b[39;00m \u001b[38;5;28;43mopen\u001b[39;49m\u001b[43m(\u001b[49m\u001b[43mos\u001b[49m\u001b[38;5;241;43m.\u001b[39;49m\u001b[43mpath\u001b[49m\u001b[38;5;241;43m.\u001b[39;49m\u001b[43mjoin\u001b[49m\u001b[43m(\u001b[49m\u001b[43mpath_to_stop_words\u001b[49m\u001b[43m,\u001b[49m\u001b[43m \u001b[49m\u001b[38;5;124;43m'\u001b[39;49m\u001b[38;5;124;43mstop_words.json\u001b[39;49m\u001b[38;5;124;43m'\u001b[39;49m\u001b[43m)\u001b[49m\u001b[43m,\u001b[49m\u001b[43m \u001b[49m\u001b[43mencoding\u001b[49m\u001b[38;5;241;43m=\u001b[39;49m\u001b[38;5;124;43m'\u001b[39;49m\u001b[38;5;124;43mutf-8\u001b[39;49m\u001b[38;5;124;43m'\u001b[39;49m\u001b[43m)\u001b[49m \u001b[38;5;28;01mas\u001b[39;00m json_file:\n\u001b[1;32m     82\u001b[0m     stop_words \u001b[38;5;241m=\u001b[39m json\u001b[38;5;241m.\u001b[39mload(json_file)\n\u001b[1;32m     84\u001b[0m \u001b[38;5;28;01mfor\u001b[39;00m lang \u001b[38;5;129;01min\u001b[39;00m stop_words\u001b[38;5;241m.\u001b[39mkeys():\n",
      "\u001b[0;31mFileNotFoundError\u001b[0m: [Errno 2] No such file or directory: 'E:/Workspace/Jupyter/e2_whatsapp_soan/soan_master/whatsapp/stop_words.json'"
     ]
    }
   ],
   "source": [
    "%%time\n",
    "importlib.reload(tf_idf)\n",
    "ul0 = ['Ashish Jain']\n",
    "ul1 = ['Shital Karhade', 'Shambhavi Choudhary']\n",
    "ul2 = ['Ashish Jain', 'Shital Karhade', 'Shambhavi Choudhary'] # 2min 20s\n",
    "ul3 = set(df.User.values) # Takes infinite time to run\n",
    "ul4 = ['Salil Bansal', 'Divjot Singh'] # 3min 54s\n",
    "ul = ul4\n",
    "\n",
    "for username in ul:\n",
    "    counts = tf_idf.count_words_per_user(df[df[\"User\"].isin(ul)], sentence_column=\"Message_Only_Text\", user_column=\"User\")\n",
    "    counts = tf_idf.remove_stopwords(counts, column=\"Word\", path_to_stop_words = \"E:/Workspace/Jupyter/e2_whatsapp_soan/soan_master/whatsapp\")\n",
    "    \n",
    "    unique_words = tf_idf.get_unique_words(counts, df[df[\"User\"].isin(ul)], version = 'C')\n",
    "    tf_idf.plot_unique_words(unique_words, user = username, image_path='histogram.jpg', image_url=None, \n",
    "                             title = username, title_color=\"white\", \n",
    "                             title_background='#AAAAAA', width=400, height=500)"
   ]
  },
  {
   "cell_type": "markdown",
   "metadata": {},
   "source": [
    "## <a name=\"emoji\">4. Emoji Analysis</a> "
   ]
  },
  {
   "cell_type": "markdown",
   "metadata": {},
   "source": [
    "These analysis are based on the Emojis used in each message. Below you can find the following:\n",
    "* Unique Emoji per user\n",
    "* Commonly used Emoji per user\n",
    "* Highly correlated Emoji per user"
   ]
  },
  {
   "cell_type": "markdown",
   "metadata": {},
   "source": [
    "#### <a name=\"emoji-prepare\">4.1 Prepare Data</a> \n",
    "[Back to Table of Contents](#table)\n",
    "\n",
    "The data needs to be prepared as follows:\n",
    "* Three new columns are created:\n",
    "    * *Emoji* contains all emojis in a message\n",
    "    * *Emoji_Counts* counts the number of emojis in a message\n",
    "    * *Different_Emojis* extracts them in a list for handling purposes\n",
    "* *counts* is a dictionary of dictionaries containing the count of each emoji per user\n",
    "* *unique_emoji* is a dict of dicts containing a uniqueness score of each emoji per user compared to other users"
   ]
  },
  {
   "cell_type": "code",
   "execution_count": 38,
   "metadata": {},
   "outputs": [
    {
     "ename": "AttributeError",
     "evalue": "module 'emoji' has no attribute 'UNICODE_EMOJI'",
     "output_type": "error",
     "traceback": [
      "\u001b[0;31m---------------------------------------------------------------------------\u001b[0m",
      "\u001b[0;31mAttributeError\u001b[0m                            Traceback (most recent call last)",
      "Input \u001b[0;32mIn [38]\u001b[0m, in \u001b[0;36m<cell line: 16>\u001b[0;34m()\u001b[0m\n\u001b[1;32m     13\u001b[0m     unique_emoji \u001b[38;5;241m=\u001b[39m soan_emoji\u001b[38;5;241m.\u001b[39mget_unique_emojis(temp, counts, list_of_words)\n\u001b[1;32m     14\u001b[0m     \u001b[38;5;28;01mreturn\u001b[39;00m counts, list_of_words, unique_emoji\n\u001b[0;32m---> 16\u001b[0m counts, list_of_words, unique_emoji \u001b[38;5;241m=\u001b[39m \u001b[43minit_emojis_data\u001b[49m\u001b[43m(\u001b[49m\u001b[43musers\u001b[49m\u001b[43m \u001b[49m\u001b[38;5;241;43m=\u001b[39;49m\u001b[43m \u001b[49m\u001b[43m[\u001b[49m\u001b[38;5;124;43m'\u001b[39;49m\u001b[38;5;124;43mAshish Jain\u001b[39;49m\u001b[38;5;124;43m'\u001b[39;49m\u001b[43m,\u001b[49m\u001b[43m \u001b[49m\u001b[38;5;124;43m'\u001b[39;49m\u001b[38;5;124;43mShital Karhade\u001b[39;49m\u001b[38;5;124;43m'\u001b[39;49m\u001b[43m]\u001b[49m\u001b[43m)\u001b[49m\n",
      "Input \u001b[0;32mIn [38]\u001b[0m, in \u001b[0;36minit_emojis_data\u001b[0;34m(users)\u001b[0m\n\u001b[1;32m      4\u001b[0m     \u001b[38;5;28;01mreturn\u001b[39;00m \u001b[38;5;241m0\u001b[39m, \u001b[38;5;241m0\u001b[39m\n\u001b[1;32m      5\u001b[0m temp \u001b[38;5;241m=\u001b[39m df[df\u001b[38;5;241m.\u001b[39mUser\u001b[38;5;241m.\u001b[39misin(users)][[\u001b[38;5;124m'\u001b[39m\u001b[38;5;124mindex\u001b[39m\u001b[38;5;124m'\u001b[39m, \u001b[38;5;124m'\u001b[39m\u001b[38;5;124mMessage_Raw\u001b[39m\u001b[38;5;124m'\u001b[39m, \u001b[38;5;124m'\u001b[39m\u001b[38;5;124mUser\u001b[39m\u001b[38;5;124m'\u001b[39m, \u001b[38;5;124m'\u001b[39m\u001b[38;5;124mMessage_Clean\u001b[39m\u001b[38;5;124m'\u001b[39m, \u001b[38;5;124m'\u001b[39m\u001b[38;5;124mMessage_Only_Text\u001b[39m\u001b[38;5;124m'\u001b[39m]]\u001b[38;5;241m.\u001b[39mcopy()\n\u001b[0;32m----> 6\u001b[0m temp \u001b[38;5;241m=\u001b[39m \u001b[43msoan_emoji\u001b[49m\u001b[38;5;241;43m.\u001b[39;49m\u001b[43mprepare_data\u001b[49m\u001b[43m(\u001b[49m\u001b[43mtemp\u001b[49m\u001b[43m)\u001b[49m\n\u001b[1;32m      8\u001b[0m \u001b[38;5;66;03m# Count all emojis\u001b[39;00m\n\u001b[1;32m      9\u001b[0m counts \u001b[38;5;241m=\u001b[39m soan_emoji\u001b[38;5;241m.\u001b[39mcount_emojis(temp, non_unicode\u001b[38;5;241m=\u001b[39m\u001b[38;5;28;01mTrue\u001b[39;00m)\n",
      "File \u001b[0;32m~/Desktop/ws/gh/public/pubML/e10_whatsapp_soan/soan_master/whatsapp/soan_emoji.py:167\u001b[0m, in \u001b[0;36mprepare_data\u001b[0;34m(df)\u001b[0m\n\u001b[1;32m    146\u001b[0m \u001b[38;5;124;03m\"\"\" Prepares the data by extracting and \u001b[39;00m\n\u001b[1;32m    147\u001b[0m \u001b[38;5;124;03mcounting emojis per row (per message).\u001b[39;00m\n\u001b[1;32m    148\u001b[0m \u001b[38;5;124;03m\u001b[39;00m\n\u001b[0;32m   (...)\u001b[0m\n\u001b[1;32m    163\u001b[0m \u001b[38;5;124;03m\u001b[39;00m\n\u001b[1;32m    164\u001b[0m \u001b[38;5;124;03m\"\"\"\u001b[39;00m\n\u001b[1;32m    166\u001b[0m \u001b[38;5;66;03m# Extract unicode emojis per message and count them\u001b[39;00m\n\u001b[0;32m--> 167\u001b[0m df[\u001b[38;5;124m'\u001b[39m\u001b[38;5;124mEmoji\u001b[39m\u001b[38;5;124m'\u001b[39m] \u001b[38;5;241m=\u001b[39m \u001b[43mdf\u001b[49m\u001b[38;5;241;43m.\u001b[39;49m\u001b[43mapply\u001b[49m\u001b[43m(\u001b[49m\u001b[38;5;28;43;01mlambda\u001b[39;49;00m\u001b[43m \u001b[49m\u001b[43mrow\u001b[49m\u001b[43m:\u001b[49m\u001b[43m \u001b[49m\u001b[43mextract_emojis\u001b[49m\u001b[43m(\u001b[49m\u001b[38;5;28;43mstr\u001b[39;49m\u001b[43m(\u001b[49m\u001b[43mrow\u001b[49m\u001b[38;5;241;43m.\u001b[39;49m\u001b[43mMessage_Clean\u001b[49m\u001b[38;5;241;43m.\u001b[39;49m\u001b[43mencode\u001b[49m\u001b[43m(\u001b[49m\u001b[38;5;124;43m'\u001b[39;49m\u001b[38;5;124;43mutf-8\u001b[39;49m\u001b[38;5;124;43m'\u001b[39;49m\u001b[43m)\u001b[49m\u001b[43m)\u001b[49m\u001b[43m)\u001b[49m\u001b[43m,\u001b[49m\u001b[43m \u001b[49m\u001b[43maxis\u001b[49m\u001b[43m \u001b[49m\u001b[38;5;241;43m=\u001b[39;49m\u001b[43m \u001b[49m\u001b[38;5;241;43m1\u001b[39;49m\u001b[43m)\u001b[49m\n\u001b[1;32m    168\u001b[0m df[\u001b[38;5;124m'\u001b[39m\u001b[38;5;124mEmoji_Count\u001b[39m\u001b[38;5;124m'\u001b[39m] \u001b[38;5;241m=\u001b[39m df\u001b[38;5;241m.\u001b[39mapply(\u001b[38;5;28;01mlambda\u001b[39;00m row: \u001b[38;5;28mlen\u001b[39m(regex\u001b[38;5;241m.\u001b[39mfindall(\u001b[38;5;124mr\u001b[39m\u001b[38;5;124m'\u001b[39m\u001b[38;5;124m\\\u001b[39m\u001b[38;5;124mp\u001b[39m\u001b[38;5;132;01m{So}\u001b[39;00m\u001b[38;5;124m\\\u001b[39m\u001b[38;5;124mp\u001b[39m\u001b[38;5;132;01m{Sk}\u001b[39;00m\u001b[38;5;124m*\u001b[39m\u001b[38;5;124m'\u001b[39m, row\u001b[38;5;241m.\u001b[39mEmoji)), axis \u001b[38;5;241m=\u001b[39m \u001b[38;5;241m1\u001b[39m)\n\u001b[1;32m    170\u001b[0m \u001b[38;5;66;03m# Find non-unicode smileys\u001b[39;00m\n",
      "File \u001b[0;32m~/anaconda3/lib/python3.9/site-packages/pandas/core/frame.py:8839\u001b[0m, in \u001b[0;36mDataFrame.apply\u001b[0;34m(self, func, axis, raw, result_type, args, **kwargs)\u001b[0m\n\u001b[1;32m   8828\u001b[0m \u001b[38;5;28;01mfrom\u001b[39;00m \u001b[38;5;21;01mpandas\u001b[39;00m\u001b[38;5;21;01m.\u001b[39;00m\u001b[38;5;21;01mcore\u001b[39;00m\u001b[38;5;21;01m.\u001b[39;00m\u001b[38;5;21;01mapply\u001b[39;00m \u001b[38;5;28;01mimport\u001b[39;00m frame_apply\n\u001b[1;32m   8830\u001b[0m op \u001b[38;5;241m=\u001b[39m frame_apply(\n\u001b[1;32m   8831\u001b[0m     \u001b[38;5;28mself\u001b[39m,\n\u001b[1;32m   8832\u001b[0m     func\u001b[38;5;241m=\u001b[39mfunc,\n\u001b[0;32m   (...)\u001b[0m\n\u001b[1;32m   8837\u001b[0m     kwargs\u001b[38;5;241m=\u001b[39mkwargs,\n\u001b[1;32m   8838\u001b[0m )\n\u001b[0;32m-> 8839\u001b[0m \u001b[38;5;28;01mreturn\u001b[39;00m \u001b[43mop\u001b[49m\u001b[38;5;241;43m.\u001b[39;49m\u001b[43mapply\u001b[49m\u001b[43m(\u001b[49m\u001b[43m)\u001b[49m\u001b[38;5;241m.\u001b[39m__finalize__(\u001b[38;5;28mself\u001b[39m, method\u001b[38;5;241m=\u001b[39m\u001b[38;5;124m\"\u001b[39m\u001b[38;5;124mapply\u001b[39m\u001b[38;5;124m\"\u001b[39m)\n",
      "File \u001b[0;32m~/anaconda3/lib/python3.9/site-packages/pandas/core/apply.py:727\u001b[0m, in \u001b[0;36mFrameApply.apply\u001b[0;34m(self)\u001b[0m\n\u001b[1;32m    724\u001b[0m \u001b[38;5;28;01melif\u001b[39;00m \u001b[38;5;28mself\u001b[39m\u001b[38;5;241m.\u001b[39mraw:\n\u001b[1;32m    725\u001b[0m     \u001b[38;5;28;01mreturn\u001b[39;00m \u001b[38;5;28mself\u001b[39m\u001b[38;5;241m.\u001b[39mapply_raw()\n\u001b[0;32m--> 727\u001b[0m \u001b[38;5;28;01mreturn\u001b[39;00m \u001b[38;5;28;43mself\u001b[39;49m\u001b[38;5;241;43m.\u001b[39;49m\u001b[43mapply_standard\u001b[49m\u001b[43m(\u001b[49m\u001b[43m)\u001b[49m\n",
      "File \u001b[0;32m~/anaconda3/lib/python3.9/site-packages/pandas/core/apply.py:851\u001b[0m, in \u001b[0;36mFrameApply.apply_standard\u001b[0;34m(self)\u001b[0m\n\u001b[1;32m    850\u001b[0m \u001b[38;5;28;01mdef\u001b[39;00m \u001b[38;5;21mapply_standard\u001b[39m(\u001b[38;5;28mself\u001b[39m):\n\u001b[0;32m--> 851\u001b[0m     results, res_index \u001b[38;5;241m=\u001b[39m \u001b[38;5;28;43mself\u001b[39;49m\u001b[38;5;241;43m.\u001b[39;49m\u001b[43mapply_series_generator\u001b[49m\u001b[43m(\u001b[49m\u001b[43m)\u001b[49m\n\u001b[1;32m    853\u001b[0m     \u001b[38;5;66;03m# wrap results\u001b[39;00m\n\u001b[1;32m    854\u001b[0m     \u001b[38;5;28;01mreturn\u001b[39;00m \u001b[38;5;28mself\u001b[39m\u001b[38;5;241m.\u001b[39mwrap_results(results, res_index)\n",
      "File \u001b[0;32m~/anaconda3/lib/python3.9/site-packages/pandas/core/apply.py:867\u001b[0m, in \u001b[0;36mFrameApply.apply_series_generator\u001b[0;34m(self)\u001b[0m\n\u001b[1;32m    864\u001b[0m \u001b[38;5;28;01mwith\u001b[39;00m option_context(\u001b[38;5;124m\"\u001b[39m\u001b[38;5;124mmode.chained_assignment\u001b[39m\u001b[38;5;124m\"\u001b[39m, \u001b[38;5;28;01mNone\u001b[39;00m):\n\u001b[1;32m    865\u001b[0m     \u001b[38;5;28;01mfor\u001b[39;00m i, v \u001b[38;5;129;01min\u001b[39;00m \u001b[38;5;28menumerate\u001b[39m(series_gen):\n\u001b[1;32m    866\u001b[0m         \u001b[38;5;66;03m# ignore SettingWithCopy here in case the user mutates\u001b[39;00m\n\u001b[0;32m--> 867\u001b[0m         results[i] \u001b[38;5;241m=\u001b[39m \u001b[38;5;28;43mself\u001b[39;49m\u001b[38;5;241;43m.\u001b[39;49m\u001b[43mf\u001b[49m\u001b[43m(\u001b[49m\u001b[43mv\u001b[49m\u001b[43m)\u001b[49m\n\u001b[1;32m    868\u001b[0m         \u001b[38;5;28;01mif\u001b[39;00m \u001b[38;5;28misinstance\u001b[39m(results[i], ABCSeries):\n\u001b[1;32m    869\u001b[0m             \u001b[38;5;66;03m# If we have a view on v, we need to make a copy because\u001b[39;00m\n\u001b[1;32m    870\u001b[0m             \u001b[38;5;66;03m#  series_generator will swap out the underlying data\u001b[39;00m\n\u001b[1;32m    871\u001b[0m             results[i] \u001b[38;5;241m=\u001b[39m results[i]\u001b[38;5;241m.\u001b[39mcopy(deep\u001b[38;5;241m=\u001b[39m\u001b[38;5;28;01mFalse\u001b[39;00m)\n",
      "File \u001b[0;32m~/Desktop/ws/gh/public/pubML/e10_whatsapp_soan/soan_master/whatsapp/soan_emoji.py:167\u001b[0m, in \u001b[0;36mprepare_data.<locals>.<lambda>\u001b[0;34m(row)\u001b[0m\n\u001b[1;32m    146\u001b[0m \u001b[38;5;124;03m\"\"\" Prepares the data by extracting and \u001b[39;00m\n\u001b[1;32m    147\u001b[0m \u001b[38;5;124;03mcounting emojis per row (per message).\u001b[39;00m\n\u001b[1;32m    148\u001b[0m \u001b[38;5;124;03m\u001b[39;00m\n\u001b[0;32m   (...)\u001b[0m\n\u001b[1;32m    163\u001b[0m \u001b[38;5;124;03m\u001b[39;00m\n\u001b[1;32m    164\u001b[0m \u001b[38;5;124;03m\"\"\"\u001b[39;00m\n\u001b[1;32m    166\u001b[0m \u001b[38;5;66;03m# Extract unicode emojis per message and count them\u001b[39;00m\n\u001b[0;32m--> 167\u001b[0m df[\u001b[38;5;124m'\u001b[39m\u001b[38;5;124mEmoji\u001b[39m\u001b[38;5;124m'\u001b[39m] \u001b[38;5;241m=\u001b[39m df\u001b[38;5;241m.\u001b[39mapply(\u001b[38;5;28;01mlambda\u001b[39;00m row: \u001b[43mextract_emojis\u001b[49m\u001b[43m(\u001b[49m\u001b[38;5;28;43mstr\u001b[39;49m\u001b[43m(\u001b[49m\u001b[43mrow\u001b[49m\u001b[38;5;241;43m.\u001b[39;49m\u001b[43mMessage_Clean\u001b[49m\u001b[38;5;241;43m.\u001b[39;49m\u001b[43mencode\u001b[49m\u001b[43m(\u001b[49m\u001b[38;5;124;43m'\u001b[39;49m\u001b[38;5;124;43mutf-8\u001b[39;49m\u001b[38;5;124;43m'\u001b[39;49m\u001b[43m)\u001b[49m\u001b[43m)\u001b[49m\u001b[43m)\u001b[49m, axis \u001b[38;5;241m=\u001b[39m \u001b[38;5;241m1\u001b[39m)\n\u001b[1;32m    168\u001b[0m df[\u001b[38;5;124m'\u001b[39m\u001b[38;5;124mEmoji_Count\u001b[39m\u001b[38;5;124m'\u001b[39m] \u001b[38;5;241m=\u001b[39m df\u001b[38;5;241m.\u001b[39mapply(\u001b[38;5;28;01mlambda\u001b[39;00m row: \u001b[38;5;28mlen\u001b[39m(regex\u001b[38;5;241m.\u001b[39mfindall(\u001b[38;5;124mr\u001b[39m\u001b[38;5;124m'\u001b[39m\u001b[38;5;124m\\\u001b[39m\u001b[38;5;124mp\u001b[39m\u001b[38;5;132;01m{So}\u001b[39;00m\u001b[38;5;124m\\\u001b[39m\u001b[38;5;124mp\u001b[39m\u001b[38;5;132;01m{Sk}\u001b[39;00m\u001b[38;5;124m*\u001b[39m\u001b[38;5;124m'\u001b[39m, row\u001b[38;5;241m.\u001b[39mEmoji)), axis \u001b[38;5;241m=\u001b[39m \u001b[38;5;241m1\u001b[39m)\n\u001b[1;32m    170\u001b[0m \u001b[38;5;66;03m# Find non-unicode smileys\u001b[39;00m\n",
      "File \u001b[0;32m~/Desktop/ws/gh/public/pubML/e10_whatsapp_soan/soan_master/whatsapp/soan_emoji.py:143\u001b[0m, in \u001b[0;36mextract_emojis\u001b[0;34m(str)\u001b[0m\n\u001b[1;32m    140\u001b[0m \u001b[38;5;28;01mdef\u001b[39;00m \u001b[38;5;21mextract_emojis\u001b[39m(\u001b[38;5;28mstr\u001b[39m):\n\u001b[1;32m    141\u001b[0m     \u001b[38;5;124;03m\"\"\" Used to extract emojis from a string using the emoji package\u001b[39;00m\n\u001b[1;32m    142\u001b[0m \u001b[38;5;124;03m    \"\"\"\u001b[39;00m\n\u001b[0;32m--> 143\u001b[0m     \u001b[38;5;28;01mreturn\u001b[39;00m \u001b[38;5;124;43m'\u001b[39;49m\u001b[38;5;124;43m'\u001b[39;49m\u001b[38;5;241;43m.\u001b[39;49m\u001b[43mjoin\u001b[49m\u001b[43m(\u001b[49m\u001b[43mc\u001b[49m\u001b[43m \u001b[49m\u001b[38;5;28;43;01mfor\u001b[39;49;00m\u001b[43m \u001b[49m\u001b[43mc\u001b[49m\u001b[43m \u001b[49m\u001b[38;5;129;43;01min\u001b[39;49;00m\u001b[43m \u001b[49m\u001b[38;5;28;43mstr\u001b[39;49m\u001b[43m \u001b[49m\u001b[38;5;28;43;01mif\u001b[39;49;00m\u001b[43m \u001b[49m\u001b[43mc\u001b[49m\u001b[43m \u001b[49m\u001b[38;5;129;43;01min\u001b[39;49;00m\u001b[43m \u001b[49m\u001b[43memoji_package\u001b[49m\u001b[38;5;241;43m.\u001b[39;49m\u001b[43mUNICODE_EMOJI\u001b[49m\u001b[43m)\u001b[49m\n",
      "File \u001b[0;32m~/Desktop/ws/gh/public/pubML/e10_whatsapp_soan/soan_master/whatsapp/soan_emoji.py:143\u001b[0m, in \u001b[0;36m<genexpr>\u001b[0;34m(.0)\u001b[0m\n\u001b[1;32m    140\u001b[0m \u001b[38;5;28;01mdef\u001b[39;00m \u001b[38;5;21mextract_emojis\u001b[39m(\u001b[38;5;28mstr\u001b[39m):\n\u001b[1;32m    141\u001b[0m     \u001b[38;5;124;03m\"\"\" Used to extract emojis from a string using the emoji package\u001b[39;00m\n\u001b[1;32m    142\u001b[0m \u001b[38;5;124;03m    \"\"\"\u001b[39;00m\n\u001b[0;32m--> 143\u001b[0m     \u001b[38;5;28;01mreturn\u001b[39;00m \u001b[38;5;124m'\u001b[39m\u001b[38;5;124m'\u001b[39m\u001b[38;5;241m.\u001b[39mjoin(c \u001b[38;5;28;01mfor\u001b[39;00m c \u001b[38;5;129;01min\u001b[39;00m \u001b[38;5;28mstr\u001b[39m \u001b[38;5;28;01mif\u001b[39;00m c \u001b[38;5;129;01min\u001b[39;00m \u001b[43memoji_package\u001b[49m\u001b[38;5;241;43m.\u001b[39;49m\u001b[43mUNICODE_EMOJI\u001b[49m)\n",
      "\u001b[0;31mAttributeError\u001b[0m: module 'emoji' has no attribute 'UNICODE_EMOJI'"
     ]
    }
   ],
   "source": [
    "def init_emojis_data(users):\n",
    "    if len(users) > 20:\n",
    "        print(\"Number of users passed as input should be less than or equal to 20.\")\n",
    "        return 0, 0\n",
    "    temp = df[df.User.isin(users)][['index', 'Message_Raw', 'User', 'Message_Clean', 'Message_Only_Text']].copy()\n",
    "    temp = soan_emoji.prepare_data(temp)\n",
    "\n",
    "    # Count all emojis\n",
    "    counts = soan_emoji.count_emojis(temp, non_unicode=True)\n",
    "\n",
    "    # Get unique emojis\n",
    "    list_of_words = [word for user in counts for word in counts[user]]\n",
    "    unique_emoji = soan_emoji.get_unique_emojis(temp, counts, list_of_words)\n",
    "    return counts, list_of_words, unique_emoji\n",
    "\n",
    "counts, list_of_words, unique_emoji = init_emojis_data(users = ['Ashish Jain', 'Shital Karhade'])"
   ]
  },
  {
   "cell_type": "markdown",
   "metadata": {},
   "source": [
    "#### <a name=\"emoji-stats\">4.2 Unique and Common Emoji</a> \n",
    "[Back to Table of Contents](#table)\n",
    "\n",
    "Below you can find the most unique emojis according to the TF-IDF and Unique formulas that were used previously: \n",
    "\n",
    "** TF-IDF **\n",
    "\n",
    "$ TFIDF_i = \\frac{{t_{ij} + 1}}{w_i + 1} \\times \\log{\\frac{m}{\\sum_{i=1}^{n} t_j}} $  \n",
    "$w_i = $ Number of words texted by $i$  \n",
    "$t_{ij} = $ Number of times a specific emoji $j$ was said by $i$  \n",
    "$m = $ Number of all messages  \n",
    "\n",
    "** Unique Emoji **  \n",
    "  \n",
    "$ Unique_i = \\frac{TFIDF_i}{\\sum\\limits_{j, j \\neq i}^n TFIDF_i} $\n",
    "\n",
    "I purposefully based it on the number of words and messages in total and only changed *t* to the number of times emoji was said"
   ]
  },
  {
   "cell_type": "code",
   "execution_count": null,
   "metadata": {},
   "outputs": [],
   "source": [
    "soan_emoji.print_stats(unique_emoji, counts)"
   ]
  },
  {
   "cell_type": "code",
   "execution_count": null,
   "metadata": {},
   "outputs": [],
   "source": [
    "ul = set(df.User.values)\n",
    "ul = ['Ashish Jain', 'Shital Karhade']\n",
    "for username in ul:\n",
    "    soan_emoji.plot_counts(counts, user = username)"
   ]
  },
  {
   "cell_type": "markdown",
   "metadata": {},
   "source": [
    "#### <a name=\"emoji-corr\">4.3 Correlation Matrix</a> "
   ]
  },
  {
   "cell_type": "markdown",
   "metadata": {},
   "source": [
    "Below you find a correlation matrix of the 15 most often used emoji by a single user. The reasoning for only taking 15 emojis is that otherwise the matrix simply becomes too big. "
   ]
  },
  {
   "cell_type": "code",
   "execution_count": null,
   "metadata": {},
   "outputs": [],
   "source": [
    "importlib.reload(soan_emoji)\n",
    "ul = set(df.User.values)\n",
    "ul = ['Ashish Jain', 'Shital Karhade']\n",
    "for username in ul:\n",
    "    print(username)\n",
    "    try:\n",
    "        counts, list_of_words, unique_emoji = init_emojis_data(users = [username])\n",
    "        corr = soan_emoji.plot_corr_matrix(df, username, list_of_words, counts)\n",
    "    except:\n",
    "        print(\"In 'except'.\")"
   ]
  },
  {
   "cell_type": "code",
   "execution_count": null,
   "metadata": {},
   "outputs": [],
   "source": [
    "counts, list_of_words, unique_emoji = init_emojis_data(users = ['Ashish Jain'])"
   ]
  },
  {
   "cell_type": "code",
   "execution_count": null,
   "metadata": {},
   "outputs": [],
   "source": [
    "list_of_words"
   ]
  },
  {
   "cell_type": "code",
   "execution_count": null,
   "metadata": {},
   "outputs": [],
   "source": [
    "counts"
   ]
  },
  {
   "cell_type": "code",
   "execution_count": null,
   "metadata": {},
   "outputs": [],
   "source": [
    "importlib.reload(soan_emoji)\n",
    "corr = soan_emoji.plot_corr_matrix(df, 'Ashish Jain', list_of_words, counts)"
   ]
  },
  {
   "cell_type": "markdown",
   "metadata": {},
   "source": [
    "## <a name=\"topic\">5. Topic Modelling</a> \n",
    "[Back to Table of Contents](#table)"
   ]
  },
  {
   "cell_type": "markdown",
   "metadata": {},
   "source": [
    "#### <a name=\"topic-prepare\">5.1 Prepare Data</a> \n",
    "[Back to Table of Contents](#table)\n",
    "\n",
    "The data is prepared as follows:\n",
    "The *pattern* is used as that is one of the few (sort of) working Dutch NLP-processors for python. There is generally little available with regards to Dutch processors. Since I want to extract topics translating text did not seem like the right way to go. So, using *pattern* I used the following functions where necessary:\n",
    "* Lemmatization\n",
    "* Singularize\n",
    "* Predicative\n",
    "\n",
    "Unfortunately, stemming was not an option since the Snowball stemmer from NLTK makes too many mistakes to be used. \n",
    "\n",
    "*NOTE*: These analyses are for the purpose of getting insights into whatsapp data. I did not spend much time optimizing algorithms for the simple reason that they already give good results out-of-the-box. Moreover, optimizing my results is likely not generalizable to your data as you are quick to overfit with such limited data.\n",
    "\n",
    "*NOTE2*: # Make sure to download the version for python 3+:\n",
    "* https://github.com/clips/pattern/tree/development\n",
    "* git clone -b development https://github.com/clips/pattern\n",
    "* cd pattern\n",
    "* python setup.py install"
   ]
  },
  {
   "cell_type": "code",
   "execution_count": null,
   "metadata": {},
   "outputs": [],
   "source": [
    "df['Message_Prepared'] = df.apply(lambda row: topic.prepare_text_nl(row), 1)"
   ]
  },
  {
   "cell_type": "markdown",
   "metadata": {},
   "source": [
    "#### <a name=\"topic-lda\">5.2 LDA </a> \n",
    "[Back to Table of Contents](#table)\n",
    "\n",
    "There is an abundance of methods with regards to topic modelling. Two, however, seem to be the most used: LDA and NMF. Sklearn has an implementation of both LDA and NMF which is why I used that. It should be noted that Gensim is also an extremely good package when it comes to NLP. I will be using Gensim later below for a different application. "
   ]
  },
  {
   "cell_type": "code",
   "execution_count": null,
   "metadata": {},
   "outputs": [],
   "source": [
    "topic.topics(df, model='lda', stopwords='stopwords_dutch.txt')"
   ]
  },
  {
   "cell_type": "markdown",
   "metadata": {},
   "source": [
    "#### <a name=\"topic-nmf\">5.3 NMF </a> \n",
    "[Back to Table of Contents](#table)\n",
    "\n",
    "An application of the NMF model used for topic modelling. "
   ]
  },
  {
   "cell_type": "code",
   "execution_count": 39,
   "metadata": {},
   "outputs": [
    {
     "ename": "NameError",
     "evalue": "name 'topic' is not defined",
     "output_type": "error",
     "traceback": [
      "\u001b[0;31m---------------------------------------------------------------------------\u001b[0m",
      "\u001b[0;31mNameError\u001b[0m                                 Traceback (most recent call last)",
      "Input \u001b[0;32mIn [39]\u001b[0m, in \u001b[0;36m<cell line: 1>\u001b[0;34m()\u001b[0m\n\u001b[0;32m----> 1\u001b[0m \u001b[43mtopic\u001b[49m\u001b[38;5;241m.\u001b[39mtopics(df, model\u001b[38;5;241m=\u001b[39m\u001b[38;5;124m'\u001b[39m\u001b[38;5;124mnmf\u001b[39m\u001b[38;5;124m'\u001b[39m, stopwords\u001b[38;5;241m=\u001b[39m\u001b[38;5;124m'\u001b[39m\u001b[38;5;124mstopwords_dutch.txt\u001b[39m\u001b[38;5;124m'\u001b[39m)\n",
      "\u001b[0;31mNameError\u001b[0m: name 'topic' is not defined"
     ]
    }
   ],
   "source": [
    "topic.topics(df, model='nmf', stopwords='stopwords_dutch.txt')"
   ]
  },
  {
   "cell_type": "markdown",
   "metadata": {},
   "source": [
    "## <a name=\"sentiment\">6. Sentiment</a> \n",
    "[Back to Table of Contents](#table)"
   ]
  },
  {
   "cell_type": "markdown",
   "metadata": {},
   "source": [
    "#### <a name=\"sentiment-prepare\">6.1 Prepare Data</a> \n",
    "[Back to Table of Contents](#table)\n",
    "\n",
    "Fortunately, in order to extract sentiment from a Dutch message you can extract the score (-1 being negative and 1 being positive) easily using the pattern package. Below I extract the sentiment as a new column which is needed for further analysis. "
   ]
  },
  {
   "cell_type": "code",
   "execution_count": 40,
   "metadata": {},
   "outputs": [],
   "source": [
    "from pattern.nl import sentiment  as sentiment_nl\n",
    "df['Sentiment'] = df.apply(lambda row: sentiment_nl(row.Message_Clean)[0], 1)"
   ]
  },
  {
   "cell_type": "markdown",
   "metadata": {},
   "source": [
    "#### <a name=\"sentiment-average\">6.2 Average Sentiment Per User</a> \n",
    "[Back to Table of Contents](#table)\n",
    "\n",
    "Prints the average sentiment per user to get an indication of positivity of that user. \n",
    "\n",
    "*NOTE*: THIS ONLY WORKS FOR DUTCH!"
   ]
  },
  {
   "cell_type": "code",
   "execution_count": 41,
   "metadata": {},
   "outputs": [
    {
     "name": "stdout",
     "output_type": "stream",
     "text": [
      "\t\t\t#######################\n",
      "\t\t\t## Average Sentiment ##\n",
      "\t\t\t#######################\n",
      "Ankit Malik H2502 Mountville GGM:\t\t0.152\n",
      "+91 96506 49949:              \t\t0.042\n",
      "+91 98188 95111:              \t\t0.03\n",
      "+91 99587 88882:              \t\t0.036\n",
      "+91 83840 67456:              \t\t0.0\n",
      "+91 98217 35903:              \t\t0.1\n",
      "Ashish Jain:                  \t\t0.079\n",
      "\n",
      "\n",
      "\n"
     ]
    }
   ],
   "source": [
    "sentiment.print_avg_sentiment(df)"
   ]
  },
  {
   "cell_type": "markdown",
   "metadata": {},
   "source": [
    "#### <a name=\"sentiment-plot\">6.3 Plot Sentiment</a> \n",
    "[Back to Table of Contents](#table)\n",
    "\n",
    "Below you can see a plot of how positive the messages are over time. The y-axis works as follows, a happy smiley indicates a score of 1 (max value) meaning a positive message and a sad smiley indicates a score of -1 (min value) meaning a negative message. "
   ]
  },
  {
   "cell_type": "code",
   "execution_count": 42,
   "metadata": {},
   "outputs": [
    {
     "name": "stderr",
     "output_type": "stream",
     "text": [
      "findfont: Font family ['Comic Sans MS'] not found. Falling back to DejaVu Sans.\n"
     ]
    },
    {
     "data": {
      "image/png": "[encoded data removed]",
      "text/plain": [
       "<Figure size 936x360 with 1 Axes>"
      ]
     },
     "metadata": {
      "needs_background": "light"
     },
     "output_type": "display_data"
    }
   ],
   "source": [
    "colors_list_2  = ['#EAAA69','#5361A5']\n",
    "colors_list_8  = ['#EAAA69','#5361A5', '#000000', '#ff0000', '#00ff00', '#0000ff', '#ffff00', '#00ffff']\n",
    "\n",
    "num_of_colors = len(set(df.User.values))\n",
    "colors_list = []\n",
    "for i in range(100000, num_of_colors):\n",
    "    colors_list += ['#' + str(hex(i))[2:]]\n",
    "    \n",
    "sentiment.plot_sentiment(df, colors=colors_list, savefig=False)"
   ]
  },
  {
   "cell_type": "markdown",
   "metadata": {},
   "source": [
    "## <a name=\"cloud\">7. Word Clouds</a> \n",
    "[Back to Table of Contents](#table)"
   ]
  },
  {
   "cell_type": "markdown",
   "metadata": {},
   "source": [
    "#### <a name=\"cloud-prepare\">7.1 Prepare Data</a> \n",
    "[Back to Table of Contents](#table)"
   ]
  },
  {
   "cell_type": "code",
   "execution_count": 43,
   "metadata": {},
   "outputs": [
    {
     "ename": "FileNotFoundError",
     "evalue": "[Errno 2] No such file or directory: 'E:/Workspace/Jupyter/e2_whatsapp_soan/soan_master/whatsapp/stop_words.json'",
     "output_type": "error",
     "traceback": [
      "\u001b[0;31m---------------------------------------------------------------------------\u001b[0m",
      "\u001b[0;31mFileNotFoundError\u001b[0m                         Traceback (most recent call last)",
      "Input \u001b[0;32mIn [43]\u001b[0m, in \u001b[0;36m<cell line: 3>\u001b[0;34m()\u001b[0m\n\u001b[1;32m      1\u001b[0m \u001b[38;5;66;03m# Counts words and create dictionary of words with counts\u001b[39;00m\n\u001b[1;32m      2\u001b[0m counts \u001b[38;5;241m=\u001b[39m tf_idf\u001b[38;5;241m.\u001b[39mcount_words_per_user(df,sentence_column\u001b[38;5;241m=\u001b[39m\u001b[38;5;124m\"\u001b[39m\u001b[38;5;124mMessage_Only_Text\u001b[39m\u001b[38;5;124m\"\u001b[39m,user_column\u001b[38;5;241m=\u001b[39m\u001b[38;5;124m\"\u001b[39m\u001b[38;5;124mUser\u001b[39m\u001b[38;5;124m\"\u001b[39m)\n\u001b[0;32m----> 3\u001b[0m counts \u001b[38;5;241m=\u001b[39m \u001b[43mtf_idf\u001b[49m\u001b[38;5;241;43m.\u001b[39;49m\u001b[43mremove_stopwords\u001b[49m\u001b[43m(\u001b[49m\u001b[43mcounts\u001b[49m\u001b[43m,\u001b[49m\u001b[43m \u001b[49m\u001b[43mcolumn\u001b[49m\u001b[38;5;241;43m=\u001b[39;49m\u001b[38;5;124;43m\"\u001b[39;49m\u001b[38;5;124;43mWord\u001b[39;49m\u001b[38;5;124;43m\"\u001b[39;49m\u001b[43m)\u001b[49m\n",
      "File \u001b[0;32m~/Desktop/ws/gh/public/pubML/e10_whatsapp_soan/soan_master/whatsapp/tf_idf.py:81\u001b[0m, in \u001b[0;36mremove_stopwords\u001b[0;34m(df, column, path_to_stop_words)\u001b[0m\n\u001b[1;32m     59\u001b[0m \u001b[38;5;124;03m\"\"\" Remove stopwords from a dataframe choosing a specific column in which to remove those words\u001b[39;00m\n\u001b[1;32m     60\u001b[0m \u001b[38;5;124;03m\u001b[39;00m\n\u001b[1;32m     61\u001b[0m \u001b[38;5;124;03mParameters:\u001b[39;00m\n\u001b[0;32m   (...)\u001b[0m\n\u001b[1;32m     76\u001b[0m \u001b[38;5;124;03m    \u001b[39;00m\n\u001b[1;32m     77\u001b[0m \u001b[38;5;124;03m\"\"\"\u001b[39;00m\n\u001b[1;32m     79\u001b[0m swl \u001b[38;5;241m=\u001b[39m \u001b[38;5;28mlist\u001b[39m(\u001b[38;5;28mset\u001b[39m(stopwords\u001b[38;5;241m.\u001b[39mwords(\u001b[38;5;124m'\u001b[39m\u001b[38;5;124menglish\u001b[39m\u001b[38;5;124m'\u001b[39m)))\n\u001b[0;32m---> 81\u001b[0m \u001b[38;5;28;01mwith\u001b[39;00m \u001b[38;5;28;43mopen\u001b[39;49m\u001b[43m(\u001b[49m\u001b[43mos\u001b[49m\u001b[38;5;241;43m.\u001b[39;49m\u001b[43mpath\u001b[49m\u001b[38;5;241;43m.\u001b[39;49m\u001b[43mjoin\u001b[49m\u001b[43m(\u001b[49m\u001b[43mpath_to_stop_words\u001b[49m\u001b[43m,\u001b[49m\u001b[43m \u001b[49m\u001b[38;5;124;43m'\u001b[39;49m\u001b[38;5;124;43mstop_words.json\u001b[39;49m\u001b[38;5;124;43m'\u001b[39;49m\u001b[43m)\u001b[49m\u001b[43m,\u001b[49m\u001b[43m \u001b[49m\u001b[43mencoding\u001b[49m\u001b[38;5;241;43m=\u001b[39;49m\u001b[38;5;124;43m'\u001b[39;49m\u001b[38;5;124;43mutf-8\u001b[39;49m\u001b[38;5;124;43m'\u001b[39;49m\u001b[43m)\u001b[49m \u001b[38;5;28;01mas\u001b[39;00m json_file:\n\u001b[1;32m     82\u001b[0m     stop_words \u001b[38;5;241m=\u001b[39m json\u001b[38;5;241m.\u001b[39mload(json_file)\n\u001b[1;32m     84\u001b[0m \u001b[38;5;28;01mfor\u001b[39;00m lang \u001b[38;5;129;01min\u001b[39;00m stop_words\u001b[38;5;241m.\u001b[39mkeys():\n",
      "\u001b[0;31mFileNotFoundError\u001b[0m: [Errno 2] No such file or directory: 'E:/Workspace/Jupyter/e2_whatsapp_soan/soan_master/whatsapp/stop_words.json'"
     ]
    }
   ],
   "source": [
    "# Counts words and create dictionary of words with counts\n",
    "counts = tf_idf.count_words_per_user(df,sentence_column=\"Message_Only_Text\",user_column=\"User\")\n",
    "counts = tf_idf.remove_stopwords(counts, column=\"Word\")"
   ]
  },
  {
   "cell_type": "markdown",
   "metadata": {},
   "source": [
    "#### <a name=\"cloud-mask\">7.2 Masked Word Cloud</a> \n",
    "[Back to Table of Contents](#table)"
   ]
  },
  {
   "cell_type": "code",
   "execution_count": null,
   "metadata": {},
   "outputs": [],
   "source": [
    "soan_wordcloud.create_wordcloud(df.Message_Only_Text, # mask = 'mask.jpg', \n",
    "                           stopwords='stopwords_dutch.txt', random_state=42, \n",
    "                           max_words=1000, max_font_size=50, scale=2, \n",
    "                           normalize_plurals=False, relative_scaling = 0.5)"
   ]
  },
  {
   "cell_type": "markdown",
   "metadata": {},
   "source": [
    "#### <a name=\"cloud-sentiment\">7.3 Sentiment-based Word Cloud</a> \n",
    "[Back to Table of Contents](#table)\n",
    "\n",
    "*NOTE*: ONLY WORKS FOR DUTCH"
   ]
  },
  {
   "cell_type": "code",
   "execution_count": null,
   "metadata": {},
   "outputs": [],
   "source": [
    "# Choose which user you want to see the word cloud for\n",
    "\n",
    "for username in set(df.User.values):\n",
    "    positive, negative = soan_wordcloud.extract_sentiment_count(counts, user = username)"
   ]
  },
  {
   "cell_type": "markdown",
   "metadata": {},
   "source": [
    "##### Positive Words"
   ]
  },
  {
   "cell_type": "code",
   "execution_count": null,
   "metadata": {},
   "outputs": [],
   "source": [
    "soan_wordcloud.create_wordcloud(data=positive, cmap='Greens', # mask='mask.jpg', \n",
    "                    stopwords='stopwords_dutch.txt', random_state=42, max_words=1000, \n",
    "                    max_font_size=50, scale=1.5, normalize_plurals=False, relative_scaling=0.5)"
   ]
  },
  {
   "cell_type": "markdown",
   "metadata": {},
   "source": [
    "##### Negative Words"
   ]
  },
  {
   "cell_type": "code",
   "execution_count": null,
   "metadata": {},
   "outputs": [],
   "source": [
    "soan_wordcloud.create_wordcloud(data=negative, cmap='Reds', #mask='mask.jpg', \n",
    "                    stopwords='stopwords_dutch.txt', random_state=42, max_words=1000, \n",
    "                    max_font_size=50, scale=1.5, normalize_plurals=False, relative_scaling=0.5)"
   ]
  },
  {
   "cell_type": "markdown",
   "metadata": {},
   "source": [
    "## <a name=\"color\">8. Picture Analysis</a> \n",
    "[Back to Table of Contents](#table)\n",
    "\n",
    "NOTE: This is not part of the whatsapp data. For this chapter to work, you'll need to put at least 1 image in the folder 'Images/' or create a path of your own. It is set to not run automatically since this is merely an extra feature. Set run_colors to True if you want to run the script. "
   ]
  },
  {
   "cell_type": "markdown",
   "metadata": {},
   "source": [
    "#### <a name=\"color-get\">8.1 Extract Frequent Colors (k-Means)</a> \n",
    "[Back to Table of Contents](#table)"
   ]
  },
  {
   "cell_type": "code",
   "execution_count": 44,
   "metadata": {},
   "outputs": [],
   "source": [
    "import os\n",
    "import pickle"
   ]
  },
  {
   "cell_type": "markdown",
   "metadata": {},
   "source": [
    "Below is the code to retrieve and dump the top 5 most frequent colors in an image using k-Means. \n",
    "It works as follows, each pixel in an image has its own color. That color of each pixel in an image is then extracted in an rgb format. This allows each pixel to have an x (r), y (g) and z (b) coordinate. After extracting all colors of each pixel, k-Means (with k=5) is then used to cluster the points into 5 colors. For each cluster the mediod is calculated and used as a representative of that cluster. Thus, you get top 5 colors for each image. "
   ]
  },
  {
   "cell_type": "code",
   "execution_count": 45,
   "metadata": {},
   "outputs": [],
   "source": [
    "extract_colors = False\n",
    "\n",
    "if extract_colors:\n",
    "    # Get Top 5 Frequent Colors\n",
    "    path = 'Images/'\n",
    "    all_colors = [colors.get_common_colors(path + i) for i in os.listdir(path)]\n",
    "\n",
    "    # Save colors\n",
    "    with open('colors.pkl', 'wb') as f:\n",
    "        pickle.dump(all_colors, f)"
   ]
  },
  {
   "cell_type": "markdown",
   "metadata": {},
   "source": [
    "#### <a name=\"color-plot\">8.2 Plot Frequent Colors</a> \n",
    "[Back to Table of Contents](#table)\n",
    "\n",
    "After getting the top 5 colors for each picture, they are counted and then displayed below in a histogram. The histogram is in a circular shape where larger/bigger/higher bars indicate colors that are more frequent in the set of pictures. There is a version of the histogram that only shows bars and one that shows a smoothened histogram to be more visually pleasing. "
   ]
  },
  {
   "cell_type": "code",
   "execution_count": 46,
   "metadata": {},
   "outputs": [
    {
     "ename": "AttributeError",
     "evalue": "'list' object has no attribute 'plot_color'",
     "output_type": "error",
     "traceback": [
      "\u001b[0;31m---------------------------------------------------------------------------\u001b[0m",
      "\u001b[0;31mAttributeError\u001b[0m                            Traceback (most recent call last)",
      "Input \u001b[0;32mIn [46]\u001b[0m, in \u001b[0;36m<cell line: 1>\u001b[0;34m()\u001b[0m\n\u001b[0;32m----> 1\u001b[0m \u001b[43mcolors\u001b[49m\u001b[38;5;241;43m.\u001b[39;49m\u001b[43mplot_color\u001b[49m(\u001b[38;5;124m'\u001b[39m\u001b[38;5;124mcolors.pkl\u001b[39m\u001b[38;5;124m'\u001b[39m, smoothen\u001b[38;5;241m=\u001b[39m\u001b[38;5;28;01mFalse\u001b[39;00m, savefig\u001b[38;5;241m=\u001b[39m\u001b[38;5;28;01mFalse\u001b[39;00m)\n",
      "\u001b[0;31mAttributeError\u001b[0m: 'list' object has no attribute 'plot_color'"
     ]
    }
   ],
   "source": [
    "colors.plot_color('colors.pkl', smoothen=False, savefig=False)"
   ]
  },
  {
   "cell_type": "code",
   "execution_count": 47,
   "metadata": {},
   "outputs": [
    {
     "ename": "AttributeError",
     "evalue": "'list' object has no attribute 'plot_color'",
     "output_type": "error",
     "traceback": [
      "\u001b[0;31m---------------------------------------------------------------------------\u001b[0m",
      "\u001b[0;31mAttributeError\u001b[0m                            Traceback (most recent call last)",
      "Input \u001b[0;32mIn [47]\u001b[0m, in \u001b[0;36m<cell line: 1>\u001b[0;34m()\u001b[0m\n\u001b[0;32m----> 1\u001b[0m \u001b[43mcolors\u001b[49m\u001b[38;5;241;43m.\u001b[39;49m\u001b[43mplot_color\u001b[49m(\u001b[38;5;124m'\u001b[39m\u001b[38;5;124mcolors.pkl\u001b[39m\u001b[38;5;124m'\u001b[39m, smoothen\u001b[38;5;241m=\u001b[39m\u001b[38;5;28;01mTrue\u001b[39;00m, savefig\u001b[38;5;241m=\u001b[39m\u001b[38;5;28;01mFalse\u001b[39;00m)\n",
      "\u001b[0;31mAttributeError\u001b[0m: 'list' object has no attribute 'plot_color'"
     ]
    }
   ],
   "source": [
    "colors.plot_color('colors.pkl', smoothen=True, savefig=False)"
   ]
  },
  {
   "cell_type": "code",
   "execution_count": null,
   "metadata": {},
   "outputs": [],
   "source": []
  },
  {
   "cell_type": "code",
   "execution_count": null,
   "metadata": {},
   "outputs": [],
   "source": []
  },
  {
   "cell_type": "code",
   "execution_count": null,
   "metadata": {},
   "outputs": [],
   "source": []
  },
  {
   "cell_type": "code",
   "execution_count": null,
   "metadata": {},
   "outputs": [],
   "source": []
  },
  {
   "cell_type": "code",
   "execution_count": null,
   "metadata": {},
   "outputs": [],
   "source": []
  },
  {
   "cell_type": "code",
   "execution_count": null,
   "metadata": {},
   "outputs": [],
   "source": []
  },
  {
   "cell_type": "code",
   "execution_count": null,
   "metadata": {},
   "outputs": [],
   "source": []
  },
  {
   "cell_type": "code",
   "execution_count": null,
   "metadata": {},
   "outputs": [],
   "source": []
  },
  {
   "cell_type": "code",
   "execution_count": null,
   "metadata": {},
   "outputs": [],
   "source": []
  }
 ],
 "metadata": {
  "kernelspec": {
   "display_name": "soan",
   "language": "python",
   "name": "soan"
  },
  "language_info": {
   "codemirror_mode": {
    "name": "ipython",
    "version": 3
   },
   "file_extension": ".py",
   "mimetype": "text/x-python",
   "name": "python",
   "nbconvert_exporter": "python",
   "pygments_lexer": "ipython3",
   "version": "3.10.6"
  },
  "latex_envs": {
   "LaTeX_envs_menu_present": true,
   "bibliofile": "biblio.bib",
   "cite_by": "apalike",
   "current_citInitial": 1,
   "eqLabelWithNumbers": true,
   "eqNumInitial": 1,
   "labels_anchors": false,
   "latex_user_defs": false,
   "report_style_numbering": false,
   "user_envs_cfg": false
  }
 },
 "nbformat": 4,
 "nbformat_minor": 4
}
