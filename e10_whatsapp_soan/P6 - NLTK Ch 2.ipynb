{
 "cells": [
  {
   "cell_type": "raw",
   "metadata": {},
   "source": [
    "# https://pypi.org/project/book/\n",
    "from book import *\n",
    "\n",
    "Simple module to obtain info (online) on books by their ISBN number.\n",
    "Simple set of classes for obtaining book details from an ISBN number. >>> import book >>> b = book.getBook(‘0201342782’) >>> vars(b) {‘title’: ‘Constructing the User Interface with Statecharts’, ‘isbn’: ‘0201342782’, ‘author’: ‘Horrocks, Ian’}"
   ]
  },
  {
   "cell_type": "raw",
   "metadata": {},
   "source": [
    "Annotated Text Corpora\n",
    "\n",
    "Corpus Compiler Contents\n",
    "\n",
    "Indian POS Tagged Corpus Kumaran et al. 60k words, tagged (Bangla, Hindi, Marathi, Telugu)\n",
    "Movie Reviews Pang, Lee 2k movie reviews with sentiment polarity classification\n",
    "TIMIT Corpus (selections) NIST/LDC Audio files and transcripts for 16 speakers"
   ]
  },
  {
   "cell_type": "code",
   "execution_count": null,
   "metadata": {},
   "outputs": [],
   "source": []
  }
 ],
 "metadata": {
  "kernelspec": {
   "display_name": "Python 3 (ipykernel)",
   "language": "python",
   "name": "python3"
  },
  "language_info": {
   "codemirror_mode": {
    "name": "ipython",
    "version": 3
   },
   "file_extension": ".py",
   "mimetype": "text/x-python",
   "name": "python",
   "nbconvert_exporter": "python",
   "pygments_lexer": "ipython3",
   "version": "3.9.12"
  }
 },
 "nbformat": 4,
 "nbformat_minor": 4
}
