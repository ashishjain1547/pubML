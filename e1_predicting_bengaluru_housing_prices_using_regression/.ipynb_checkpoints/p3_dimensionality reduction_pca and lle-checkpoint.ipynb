{
 "cells": [
  {
   "cell_type": "code",
   "execution_count": 53,
   "id": "19ecf347-b307-497f-bb4d-33009e34b7db",
   "metadata": {},
   "outputs": [],
   "source": [
    "import pandas as pd\n",
    "from copy import deepcopy\n",
    "from collections import Counter\n",
    "import random\n",
    "\n",
    "import numpy as np\n",
    "import statsmodels.api as sm\n",
    "\n",
    "from sklearn.decomposition import PCA\n",
    "import seaborn as sns\n",
    "import matplotlib.pyplot as plt"
   ]
  },
  {
   "cell_type": "markdown",
   "id": "6412ed38-9ae3-47b3-ae3f-563c3ec84acc",
   "metadata": {},
   "source": [
    "# EDA: Exploratory Data Analysis"
   ]
  },
  {
   "cell_type": "code",
   "execution_count": 54,
   "id": "2047dacc-1200-4871-b555-0009b358247a",
   "metadata": {},
   "outputs": [],
   "source": [
    "df = pd.read_csv('Bengaluru_House_Data.csv')"
   ]
  },
  {
   "cell_type": "code",
   "execution_count": 55,
   "id": "351ae6c2-6cc3-4ddb-b13a-0a7402d16cbe",
   "metadata": {},
   "outputs": [],
   "source": [
    "df.dropna(subset=['size'], inplace = True)"
   ]
  },
  {
   "cell_type": "code",
   "execution_count": 56,
   "id": "ae31b3cf-7fc9-438e-ad3a-84f48dd7fb64",
   "metadata": {},
   "outputs": [],
   "source": [
    "df['size_num'] = [float(i.split()[0]) for i in list(df['size'].values)]"
   ]
  },
  {
   "cell_type": "code",
   "execution_count": 57,
   "id": "fa47d3e8-87b3-4e6e-b8bb-4ba745455d55",
   "metadata": {},
   "outputs": [],
   "source": [
    "df['availability_num'] = [1 if x == 'Ready To Move' else 0 for x in list(df['availability'].values)]"
   ]
  },
  {
   "cell_type": "code",
   "execution_count": 58,
   "id": "f6b946c0-27b5-4f60-988e-71b9e36db40f",
   "metadata": {},
   "outputs": [],
   "source": [
    "df['society_num'] = [1 if str(x) != 'nan' else 0 for x in list(df['society'].values)]"
   ]
  },
  {
   "cell_type": "code",
   "execution_count": 59,
   "id": "15a2d135-f76d-4c18-b8db-51f0668d6ed0",
   "metadata": {},
   "outputs": [],
   "source": [
    "req_cols = ['total_sqft', 'bath', 'balcony', 'price', 'size_num', 'availability_num', 'society_num']"
   ]
  },
  {
   "cell_type": "code",
   "execution_count": 60,
   "id": "10f86505-533e-4400-a1c2-417152de40f0",
   "metadata": {},
   "outputs": [
    {
     "name": "stdout",
     "output_type": "stream",
     "text": [
      "(12978, 12)\n"
     ]
    }
   ],
   "source": [
    "df = df.loc[df['total_sqft'].str.isnumeric()]\n",
    "print(df.shape)"
   ]
  },
  {
   "cell_type": "markdown",
   "id": "4cc05e1f-2210-4700-9b6a-09bf750d0e78",
   "metadata": {},
   "source": [
    "# Data Cleaning for \"total_sqft\""
   ]
  },
  {
   "cell_type": "code",
   "execution_count": 61,
   "id": "3a996ce4-ad03-491e-aa74-b4fc58231521",
   "metadata": {},
   "outputs": [],
   "source": [
    "df['total_sqft'] = [x.split(\" \")[0] for x in list(df['total_sqft'].values)]\n",
    "df['total_sqft'] = [x.split(\".\")[0] for x in list(df['total_sqft'].values)]\n",
    "df['total_sqft'] = [x.split(\"P\")[0] for x in list(df['total_sqft'].values)]\n",
    "df['total_sqft'] = [x.split(\"S\")[0] for x in list(df['total_sqft'].values)]\n",
    "df['total_sqft'] = [x.split(\"A\")[0] for x in list(df['total_sqft'].values)]\n",
    "df['total_sqft'] = [x.split(\"C\")[0] for x in list(df['total_sqft'].values)]\n",
    "df['total_sqft'] = [x.split(\"G\")[0] for x in list(df['total_sqft'].values)]\n",
    "df['total_sqft'] = [float(x) for x in list(df['total_sqft'].values)]"
   ]
  },
  {
   "cell_type": "code",
   "execution_count": 62,
   "id": "9625153c-d4b6-4e51-86cc-19b7734e87cb",
   "metadata": {},
   "outputs": [],
   "source": [
    "df_2 = df[req_cols]"
   ]
  },
  {
   "cell_type": "code",
   "execution_count": 63,
   "id": "cf59d57c-00e4-431d-86a8-9057db114628",
   "metadata": {},
   "outputs": [
    {
     "name": "stdout",
     "output_type": "stream",
     "text": [
      "Before dropping nulls: 12978\n",
      "After dropping nulls: 12439\n"
     ]
    },
    {
     "name": "stderr",
     "output_type": "stream",
     "text": [
      "/tmp/ipykernel_26721/1041523848.py:2: SettingWithCopyWarning: \n",
      "A value is trying to be set on a copy of a slice from a DataFrame\n",
      "\n",
      "See the caveats in the documentation: https://pandas.pydata.org/pandas-docs/stable/user_guide/indexing.html#returning-a-view-versus-a-copy\n",
      "  df_2.dropna(inplace = True)\n"
     ]
    }
   ],
   "source": [
    "print(\"Before dropping nulls:\", df_2.shape[0])\n",
    "df_2.dropna(inplace = True)\n",
    "print(\"After dropping nulls:\", df_2.shape[0])"
   ]
  },
  {
   "cell_type": "code",
   "execution_count": 64,
   "id": "69e47688-6bb4-47a0-bf69-6dff2ecefe09",
   "metadata": {},
   "outputs": [],
   "source": [
    "train_cols = ['total_sqft', 'bath', 'balcony', 'size_num', 'availability_num', 'society_num']"
   ]
  },
  {
   "cell_type": "code",
   "execution_count": 65,
   "id": "19889a2e-650e-4ce2-a202-15cad72c86ac",
   "metadata": {},
   "outputs": [
    {
     "data": {
      "text/html": [
       "<div>\n",
       "<style scoped>\n",
       "    .dataframe tbody tr th:only-of-type {\n",
       "        vertical-align: middle;\n",
       "    }\n",
       "\n",
       "    .dataframe tbody tr th {\n",
       "        vertical-align: top;\n",
       "    }\n",
       "\n",
       "    .dataframe thead th {\n",
       "        text-align: right;\n",
       "    }\n",
       "</style>\n",
       "<table border=\"1\" class=\"dataframe\">\n",
       "  <thead>\n",
       "    <tr style=\"text-align: right;\">\n",
       "      <th></th>\n",
       "      <th>total_sqft</th>\n",
       "      <th>bath</th>\n",
       "      <th>balcony</th>\n",
       "      <th>price</th>\n",
       "      <th>size_num</th>\n",
       "      <th>availability_num</th>\n",
       "      <th>society_num</th>\n",
       "    </tr>\n",
       "  </thead>\n",
       "  <tbody>\n",
       "    <tr>\n",
       "      <th>0</th>\n",
       "      <td>1056.0</td>\n",
       "      <td>2.0</td>\n",
       "      <td>1.0</td>\n",
       "      <td>39.07</td>\n",
       "      <td>2.0</td>\n",
       "      <td>0</td>\n",
       "      <td>1</td>\n",
       "    </tr>\n",
       "    <tr>\n",
       "      <th>1</th>\n",
       "      <td>2600.0</td>\n",
       "      <td>5.0</td>\n",
       "      <td>3.0</td>\n",
       "      <td>120.00</td>\n",
       "      <td>4.0</td>\n",
       "      <td>1</td>\n",
       "      <td>1</td>\n",
       "    </tr>\n",
       "    <tr>\n",
       "      <th>2</th>\n",
       "      <td>1440.0</td>\n",
       "      <td>2.0</td>\n",
       "      <td>3.0</td>\n",
       "      <td>62.00</td>\n",
       "      <td>3.0</td>\n",
       "      <td>1</td>\n",
       "      <td>0</td>\n",
       "    </tr>\n",
       "    <tr>\n",
       "      <th>3</th>\n",
       "      <td>1521.0</td>\n",
       "      <td>3.0</td>\n",
       "      <td>1.0</td>\n",
       "      <td>95.00</td>\n",
       "      <td>3.0</td>\n",
       "      <td>1</td>\n",
       "      <td>1</td>\n",
       "    </tr>\n",
       "    <tr>\n",
       "      <th>4</th>\n",
       "      <td>1200.0</td>\n",
       "      <td>2.0</td>\n",
       "      <td>1.0</td>\n",
       "      <td>51.00</td>\n",
       "      <td>2.0</td>\n",
       "      <td>1</td>\n",
       "      <td>0</td>\n",
       "    </tr>\n",
       "    <tr>\n",
       "      <th>...</th>\n",
       "      <td>...</td>\n",
       "      <td>...</td>\n",
       "      <td>...</td>\n",
       "      <td>...</td>\n",
       "      <td>...</td>\n",
       "      <td>...</td>\n",
       "      <td>...</td>\n",
       "    </tr>\n",
       "    <tr>\n",
       "      <th>13314</th>\n",
       "      <td>1715.0</td>\n",
       "      <td>3.0</td>\n",
       "      <td>3.0</td>\n",
       "      <td>112.00</td>\n",
       "      <td>3.0</td>\n",
       "      <td>1</td>\n",
       "      <td>1</td>\n",
       "    </tr>\n",
       "    <tr>\n",
       "      <th>13315</th>\n",
       "      <td>3453.0</td>\n",
       "      <td>4.0</td>\n",
       "      <td>0.0</td>\n",
       "      <td>231.00</td>\n",
       "      <td>5.0</td>\n",
       "      <td>1</td>\n",
       "      <td>1</td>\n",
       "    </tr>\n",
       "    <tr>\n",
       "      <th>13317</th>\n",
       "      <td>1141.0</td>\n",
       "      <td>2.0</td>\n",
       "      <td>1.0</td>\n",
       "      <td>60.00</td>\n",
       "      <td>2.0</td>\n",
       "      <td>1</td>\n",
       "      <td>1</td>\n",
       "    </tr>\n",
       "    <tr>\n",
       "      <th>13318</th>\n",
       "      <td>4689.0</td>\n",
       "      <td>4.0</td>\n",
       "      <td>1.0</td>\n",
       "      <td>488.00</td>\n",
       "      <td>4.0</td>\n",
       "      <td>0</td>\n",
       "      <td>1</td>\n",
       "    </tr>\n",
       "    <tr>\n",
       "      <th>13319</th>\n",
       "      <td>550.0</td>\n",
       "      <td>1.0</td>\n",
       "      <td>1.0</td>\n",
       "      <td>17.00</td>\n",
       "      <td>1.0</td>\n",
       "      <td>1</td>\n",
       "      <td>0</td>\n",
       "    </tr>\n",
       "  </tbody>\n",
       "</table>\n",
       "<p>12439 rows × 7 columns</p>\n",
       "</div>"
      ],
      "text/plain": [
       "       total_sqft  bath  balcony   price  size_num  availability_num  \\\n",
       "0          1056.0   2.0      1.0   39.07       2.0                 0   \n",
       "1          2600.0   5.0      3.0  120.00       4.0                 1   \n",
       "2          1440.0   2.0      3.0   62.00       3.0                 1   \n",
       "3          1521.0   3.0      1.0   95.00       3.0                 1   \n",
       "4          1200.0   2.0      1.0   51.00       2.0                 1   \n",
       "...           ...   ...      ...     ...       ...               ...   \n",
       "13314      1715.0   3.0      3.0  112.00       3.0                 1   \n",
       "13315      3453.0   4.0      0.0  231.00       5.0                 1   \n",
       "13317      1141.0   2.0      1.0   60.00       2.0                 1   \n",
       "13318      4689.0   4.0      1.0  488.00       4.0                 0   \n",
       "13319       550.0   1.0      1.0   17.00       1.0                 1   \n",
       "\n",
       "       society_num  \n",
       "0                1  \n",
       "1                1  \n",
       "2                0  \n",
       "3                1  \n",
       "4                0  \n",
       "...            ...  \n",
       "13314            1  \n",
       "13315            1  \n",
       "13317            1  \n",
       "13318            1  \n",
       "13319            0  \n",
       "\n",
       "[12439 rows x 7 columns]"
      ]
     },
     "execution_count": 65,
     "metadata": {},
     "output_type": "execute_result"
    }
   ],
   "source": [
    "df_2"
   ]
  },
  {
   "cell_type": "code",
   "execution_count": 66,
   "id": "cc997b9e-f371-4b62-948c-53f949b9dbce",
   "metadata": {},
   "outputs": [],
   "source": [
    "corr = df_2.corr()"
   ]
  },
  {
   "cell_type": "code",
   "execution_count": 67,
   "id": "de442054-e778-483c-a058-695034b3fe0c",
   "metadata": {},
   "outputs": [
    {
     "data": {
      "text/html": [
       "<div>\n",
       "<style scoped>\n",
       "    .dataframe tbody tr th:only-of-type {\n",
       "        vertical-align: middle;\n",
       "    }\n",
       "\n",
       "    .dataframe tbody tr th {\n",
       "        vertical-align: top;\n",
       "    }\n",
       "\n",
       "    .dataframe thead th {\n",
       "        text-align: right;\n",
       "    }\n",
       "</style>\n",
       "<table border=\"1\" class=\"dataframe\">\n",
       "  <thead>\n",
       "    <tr style=\"text-align: right;\">\n",
       "      <th></th>\n",
       "      <th>total_sqft</th>\n",
       "      <th>bath</th>\n",
       "      <th>balcony</th>\n",
       "      <th>price</th>\n",
       "      <th>size_num</th>\n",
       "      <th>availability_num</th>\n",
       "      <th>society_num</th>\n",
       "    </tr>\n",
       "  </thead>\n",
       "  <tbody>\n",
       "    <tr>\n",
       "      <th>total_sqft</th>\n",
       "      <td>1.000000</td>\n",
       "      <td>0.386473</td>\n",
       "      <td>0.154523</td>\n",
       "      <td>0.555846</td>\n",
       "      <td>0.342889</td>\n",
       "      <td>0.023722</td>\n",
       "      <td>-0.006167</td>\n",
       "    </tr>\n",
       "    <tr>\n",
       "      <th>bath</th>\n",
       "      <td>0.386473</td>\n",
       "      <td>1.000000</td>\n",
       "      <td>0.209942</td>\n",
       "      <td>0.456181</td>\n",
       "      <td>0.888085</td>\n",
       "      <td>0.068547</td>\n",
       "      <td>-0.159609</td>\n",
       "    </tr>\n",
       "    <tr>\n",
       "      <th>balcony</th>\n",
       "      <td>0.154523</td>\n",
       "      <td>0.209942</td>\n",
       "      <td>1.000000</td>\n",
       "      <td>0.120286</td>\n",
       "      <td>0.185660</td>\n",
       "      <td>0.092032</td>\n",
       "      <td>0.086444</td>\n",
       "    </tr>\n",
       "    <tr>\n",
       "      <th>price</th>\n",
       "      <td>0.555846</td>\n",
       "      <td>0.456181</td>\n",
       "      <td>0.120286</td>\n",
       "      <td>1.000000</td>\n",
       "      <td>0.404038</td>\n",
       "      <td>0.032468</td>\n",
       "      <td>-0.084512</td>\n",
       "    </tr>\n",
       "    <tr>\n",
       "      <th>size_num</th>\n",
       "      <td>0.342889</td>\n",
       "      <td>0.888085</td>\n",
       "      <td>0.185660</td>\n",
       "      <td>0.404038</td>\n",
       "      <td>1.000000</td>\n",
       "      <td>0.096252</td>\n",
       "      <td>-0.207239</td>\n",
       "    </tr>\n",
       "  </tbody>\n",
       "</table>\n",
       "</div>"
      ],
      "text/plain": [
       "            total_sqft      bath   balcony     price  size_num  \\\n",
       "total_sqft    1.000000  0.386473  0.154523  0.555846  0.342889   \n",
       "bath          0.386473  1.000000  0.209942  0.456181  0.888085   \n",
       "balcony       0.154523  0.209942  1.000000  0.120286  0.185660   \n",
       "price         0.555846  0.456181  0.120286  1.000000  0.404038   \n",
       "size_num      0.342889  0.888085  0.185660  0.404038  1.000000   \n",
       "\n",
       "            availability_num  society_num  \n",
       "total_sqft          0.023722    -0.006167  \n",
       "bath                0.068547    -0.159609  \n",
       "balcony             0.092032     0.086444  \n",
       "price               0.032468    -0.084512  \n",
       "size_num            0.096252    -0.207239  "
      ]
     },
     "execution_count": 67,
     "metadata": {},
     "output_type": "execute_result"
    }
   ],
   "source": [
    "corr.head()"
   ]
  },
  {
   "cell_type": "code",
   "execution_count": 68,
   "id": "035bc80c-7793-45f4-8521-2bb8f17c83e0",
   "metadata": {},
   "outputs": [
    {
     "data": {
      "text/plain": [
       "<AxesSubplot:>"
      ]
     },
     "execution_count": 68,
     "metadata": {},
     "output_type": "execute_result"
    },
    {
     "data": {
      "image/png": "[encoded data removed]",
      "text/plain": [
       "<Figure size 640x480 with 2 Axes>"
      ]
     },
     "metadata": {},
     "output_type": "display_data"
    }
   ],
   "source": [
    "sns.heatmap(corr, xticklabels=corr.columns, yticklabels=corr.columns, cmap=sns.diverging_palette(0, 255, sep=1, n=256), vmin=-1, vmax=1)"
   ]
  },
  {
   "cell_type": "markdown",
   "id": "47f0f777-f125-4b94-a010-83b65fcaee0d",
   "metadata": {},
   "source": [
    "# PCA"
   ]
  },
  {
   "cell_type": "code",
   "execution_count": 69,
   "id": "0aba4be8-7dff-4522-8a97-84aa734243d0",
   "metadata": {},
   "outputs": [],
   "source": [
    "pca = PCA(n_components=1)"
   ]
  },
  {
   "cell_type": "code",
   "execution_count": 70,
   "id": "2fc55ca8-3f96-4ec4-9ce2-d639a3a804f4",
   "metadata": {},
   "outputs": [
    {
     "name": "stderr",
     "output_type": "stream",
     "text": [
      "/tmp/ipykernel_26721/1430666378.py:4: SettingWithCopyWarning: \n",
      "A value is trying to be set on a copy of a slice from a DataFrame.\n",
      "Try using .loc[row_indexer,col_indexer] = value instead\n",
      "\n",
      "See the caveats in the documentation: https://pandas.pydata.org/pandas-docs/stable/user_guide/indexing.html#returning-a-view-versus-a-copy\n",
      "  df_2['pca'] = xpca['pca']\n"
     ]
    }
   ],
   "source": [
    "xpca = pca.fit_transform(df_2[train_cols])\n",
    "xpca = pd.DataFrame(xpca)\n",
    "xpca.columns = ['pca']\n",
    "df_2['pca'] = xpca['pca']"
   ]
  },
  {
   "cell_type": "code",
   "execution_count": 71,
   "id": "4f2fb60a-960c-43b1-b647-663bb99aa8e9",
   "metadata": {},
   "outputs": [
    {
     "data": {
      "text/plain": [
       "<AxesSubplot:xlabel='pca', ylabel='price'>"
      ]
     },
     "execution_count": 71,
     "metadata": {},
     "output_type": "execute_result"
    },
    {
     "data": {
      "image/png": "[encoded data removed]",
      "text/plain": [
       "<Figure size 640x480 with 1 Axes>"
      ]
     },
     "metadata": {},
     "output_type": "display_data"
    }
   ],
   "source": [
    "sns.scatterplot(data = df_2, x = \"pca\", y = \"price\", alpha=0.5)"
   ]
  },
  {
   "cell_type": "code",
   "execution_count": 72,
   "id": "224f17ad-b927-4e6a-9b26-8ba6391562d0",
   "metadata": {},
   "outputs": [],
   "source": [
    "from sklearn.manifold import LocallyLinearEmbedding"
   ]
  },
  {
   "cell_type": "code",
   "execution_count": 73,
   "id": "077cbfb0-ff27-4f20-89b3-33079ced35b1",
   "metadata": {},
   "outputs": [],
   "source": [
    "lle = LocallyLinearEmbedding(n_components=1, eigen_solver='dense')"
   ]
  },
  {
   "cell_type": "code",
   "execution_count": null,
   "id": "ef1ab92a-9796-4e42-b2e1-8b4c7509c71a",
   "metadata": {},
   "outputs": [],
   "source": [
    "xlle = lle.fit_transform(df_2[train_cols])\n",
    "xlle = pd.DataFrame(xlle)\n",
    "xlle.columns = ['lle']"
   ]
  },
  {
   "cell_type": "code",
   "execution_count": null,
   "id": "e0f021c4-a4c5-4600-817b-0f6800427f6e",
   "metadata": {},
   "outputs": [],
   "source": [
    "df_2['lle'] = xlle['lle']"
   ]
  },
  {
   "cell_type": "code",
   "execution_count": null,
   "id": "27ab7b36-0d54-49a8-af62-d4695b8cc94f",
   "metadata": {},
   "outputs": [],
   "source": [
    "sns.scatterplot(data = df_2, x = \"lle\", y = \"price\", alpha=0.5)"
   ]
  },
  {
   "cell_type": "code",
   "execution_count": null,
   "id": "2188df25-cd3c-4968-9a89-03dd5b0a9f42",
   "metadata": {},
   "outputs": [],
   "source": []
  },
  {
   "cell_type": "code",
   "execution_count": null,
   "id": "be6475d9-c5e0-43cc-acde-8a3490c88268",
   "metadata": {},
   "outputs": [],
   "source": []
  },
  {
   "cell_type": "code",
   "execution_count": null,
   "id": "2be8edef-55b0-415b-ba7a-99554c9f1bfe",
   "metadata": {},
   "outputs": [],
   "source": []
  },
  {
   "cell_type": "code",
   "execution_count": null,
   "id": "8f248201-2838-4a31-80e8-21040c186776",
   "metadata": {},
   "outputs": [],
   "source": []
  }
 ],
 "metadata": {
  "kernelspec": {
   "display_name": "Python 3 (ipykernel)",
   "language": "python",
   "name": "python3"
  },
  "language_info": {
   "codemirror_mode": {
    "name": "ipython",
    "version": 3
   },
   "file_extension": ".py",
   "mimetype": "text/x-python",
   "name": "python",
   "nbconvert_exporter": "python",
   "pygments_lexer": "ipython3",
   "version": "3.9.13"
  }
 },
 "nbformat": 4,
 "nbformat_minor": 5
}
