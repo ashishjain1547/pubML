{
 "cells": [
  {
   "cell_type": "code",
   "execution_count": 21,
   "id": "19ecf347-b307-497f-bb4d-33009e34b7db",
   "metadata": {},
   "outputs": [],
   "source": [
    "import pandas as pd\n",
    "from copy import deepcopy\n",
    "from collections import Counter\n",
    "import random\n",
    "\n",
    "import numpy as np\n",
    "import statsmodels.api as sm"
   ]
  },
  {
   "cell_type": "markdown",
   "id": "6412ed38-9ae3-47b3-ae3f-563c3ec84acc",
   "metadata": {},
   "source": [
    "# EDA: Exploratory Data Analysis"
   ]
  },
  {
   "cell_type": "code",
   "execution_count": 22,
   "id": "2047dacc-1200-4871-b555-0009b358247a",
   "metadata": {},
   "outputs": [],
   "source": [
    "df = pd.read_csv('Bengaluru_House_Data.csv')"
   ]
  },
  {
   "cell_type": "code",
   "execution_count": 23,
   "id": "eb583388-700d-487a-8205-2f1ab10a5199",
   "metadata": {},
   "outputs": [
    {
     "data": {
      "text/html": [
       "<div>\n",
       "<style scoped>\n",
       "    .dataframe tbody tr th:only-of-type {\n",
       "        vertical-align: middle;\n",
       "    }\n",
       "\n",
       "    .dataframe tbody tr th {\n",
       "        vertical-align: top;\n",
       "    }\n",
       "\n",
       "    .dataframe thead th {\n",
       "        text-align: right;\n",
       "    }\n",
       "</style>\n",
       "<table border=\"1\" class=\"dataframe\">\n",
       "  <thead>\n",
       "    <tr style=\"text-align: right;\">\n",
       "      <th></th>\n",
       "      <th>area_type</th>\n",
       "      <th>availability</th>\n",
       "      <th>location</th>\n",
       "      <th>size</th>\n",
       "      <th>society</th>\n",
       "      <th>total_sqft</th>\n",
       "      <th>bath</th>\n",
       "      <th>balcony</th>\n",
       "      <th>price</th>\n",
       "    </tr>\n",
       "  </thead>\n",
       "  <tbody>\n",
       "    <tr>\n",
       "      <th>0</th>\n",
       "      <td>Super built-up  Area</td>\n",
       "      <td>19-Dec</td>\n",
       "      <td>Electronic City Phase II</td>\n",
       "      <td>2 BHK</td>\n",
       "      <td>Coomee</td>\n",
       "      <td>1056</td>\n",
       "      <td>2.0</td>\n",
       "      <td>1.0</td>\n",
       "      <td>39.07</td>\n",
       "    </tr>\n",
       "    <tr>\n",
       "      <th>1</th>\n",
       "      <td>Plot  Area</td>\n",
       "      <td>Ready To Move</td>\n",
       "      <td>Chikka Tirupathi</td>\n",
       "      <td>4 Bedroom</td>\n",
       "      <td>Theanmp</td>\n",
       "      <td>2600</td>\n",
       "      <td>5.0</td>\n",
       "      <td>3.0</td>\n",
       "      <td>120.00</td>\n",
       "    </tr>\n",
       "    <tr>\n",
       "      <th>2</th>\n",
       "      <td>Built-up  Area</td>\n",
       "      <td>Ready To Move</td>\n",
       "      <td>Uttarahalli</td>\n",
       "      <td>3 BHK</td>\n",
       "      <td>NaN</td>\n",
       "      <td>1440</td>\n",
       "      <td>2.0</td>\n",
       "      <td>3.0</td>\n",
       "      <td>62.00</td>\n",
       "    </tr>\n",
       "    <tr>\n",
       "      <th>3</th>\n",
       "      <td>Super built-up  Area</td>\n",
       "      <td>Ready To Move</td>\n",
       "      <td>Lingadheeranahalli</td>\n",
       "      <td>3 BHK</td>\n",
       "      <td>Soiewre</td>\n",
       "      <td>1521</td>\n",
       "      <td>3.0</td>\n",
       "      <td>1.0</td>\n",
       "      <td>95.00</td>\n",
       "    </tr>\n",
       "    <tr>\n",
       "      <th>4</th>\n",
       "      <td>Super built-up  Area</td>\n",
       "      <td>Ready To Move</td>\n",
       "      <td>Kothanur</td>\n",
       "      <td>2 BHK</td>\n",
       "      <td>NaN</td>\n",
       "      <td>1200</td>\n",
       "      <td>2.0</td>\n",
       "      <td>1.0</td>\n",
       "      <td>51.00</td>\n",
       "    </tr>\n",
       "  </tbody>\n",
       "</table>\n",
       "</div>"
      ],
      "text/plain": [
       "              area_type   availability                  location       size  \\\n",
       "0  Super built-up  Area         19-Dec  Electronic City Phase II      2 BHK   \n",
       "1            Plot  Area  Ready To Move          Chikka Tirupathi  4 Bedroom   \n",
       "2        Built-up  Area  Ready To Move               Uttarahalli      3 BHK   \n",
       "3  Super built-up  Area  Ready To Move        Lingadheeranahalli      3 BHK   \n",
       "4  Super built-up  Area  Ready To Move                  Kothanur      2 BHK   \n",
       "\n",
       "   society total_sqft  bath  balcony   price  \n",
       "0  Coomee        1056   2.0      1.0   39.07  \n",
       "1  Theanmp       2600   5.0      3.0  120.00  \n",
       "2      NaN       1440   2.0      3.0   62.00  \n",
       "3  Soiewre       1521   3.0      1.0   95.00  \n",
       "4      NaN       1200   2.0      1.0   51.00  "
      ]
     },
     "execution_count": 23,
     "metadata": {},
     "output_type": "execute_result"
    }
   ],
   "source": [
    "df.head()"
   ]
  },
  {
   "cell_type": "code",
   "execution_count": 24,
   "id": "351ae6c2-6cc3-4ddb-b13a-0a7402d16cbe",
   "metadata": {},
   "outputs": [],
   "source": [
    "df.dropna(subset=['size'], inplace = True)"
   ]
  },
  {
   "cell_type": "code",
   "execution_count": 25,
   "id": "ae31b3cf-7fc9-438e-ad3a-84f48dd7fb64",
   "metadata": {},
   "outputs": [],
   "source": [
    "df['size_num'] = [float(i.split()[0]) for i in list(df['size'].values)]"
   ]
  },
  {
   "cell_type": "code",
   "execution_count": 26,
   "id": "444c4bc3-5f49-4b47-9977-b50788b28b8d",
   "metadata": {},
   "outputs": [
    {
     "data": {
      "text/plain": [
       "array(['19-Dec', 'Ready To Move', '18-May', '18-Feb', '18-Nov', '20-Dec',\n",
       "       '17-Oct', '21-Dec', '19-Sep', '20-Sep', '18-Mar', '20-Feb',\n",
       "       '18-Apr', '20-Aug', '18-Oct', '19-Mar', '17-Sep', '18-Dec',\n",
       "       '17-Aug', '19-Apr', '18-Jun', '22-Dec', '22-Jan', '18-Aug',\n",
       "       '19-Jan', '17-Jul', '18-Jul', '21-Jun', '20-May', '19-Aug',\n",
       "       '18-Sep', '17-May', '17-Jun', '21-May', '18-Jan', '20-Mar',\n",
       "       '17-Dec', '16-Mar', '19-Jun', '22-Jun', '19-Jul', '21-Feb',\n",
       "       '19-May', '17-Nov', '20-Oct', '20-Jun', '19-Feb', '21-Oct',\n",
       "       '21-Jan', '17-Mar', '17-Apr', '22-May', '19-Oct', '21-Jul',\n",
       "       '21-Nov', '21-Mar', '16-Dec', '22-Mar', '20-Jan', '21-Sep',\n",
       "       '21-Aug', '14-Nov', '19-Nov', '15-Nov', '16-Jul', '15-Jun',\n",
       "       '17-Feb', '20-Nov', '20-Jul', '16-Sep', '15-Oct', '15-Dec',\n",
       "       '16-Oct', '22-Nov', '15-Aug', '17-Jan', '16-Nov', '20-Apr',\n",
       "       '16-Jan', '14-Jul'], dtype=object)"
      ]
     },
     "execution_count": 26,
     "metadata": {},
     "output_type": "execute_result"
    }
   ],
   "source": [
    "df['availability'].unique()"
   ]
  },
  {
   "cell_type": "code",
   "execution_count": 27,
   "id": "fa47d3e8-87b3-4e6e-b8bb-4ba745455d55",
   "metadata": {},
   "outputs": [],
   "source": [
    "df['availability_num'] = [1 if x == 'Ready To Move' else 0 for x in list(df['availability'].values)]"
   ]
  },
  {
   "cell_type": "code",
   "execution_count": 28,
   "id": "f6b946c0-27b5-4f60-988e-71b9e36db40f",
   "metadata": {},
   "outputs": [],
   "source": [
    "df['society_num'] = [1 if str(x) != 'nan' else 0 for x in list(df['society'].values)]"
   ]
  },
  {
   "cell_type": "code",
   "execution_count": 29,
   "id": "95b650e7-a2d2-4f74-bd03-476693740327",
   "metadata": {},
   "outputs": [
    {
     "data": {
      "text/plain": [
       "Counter({1: 7805, 0: 5499})"
      ]
     },
     "execution_count": 29,
     "metadata": {},
     "output_type": "execute_result"
    }
   ],
   "source": [
    "Counter(df['society_num'].values)"
   ]
  },
  {
   "cell_type": "code",
   "execution_count": 30,
   "id": "eca6cb46-c37d-4eb7-acec-8f40a63feac2",
   "metadata": {},
   "outputs": [
    {
     "data": {
      "text/html": [
       "<div>\n",
       "<style scoped>\n",
       "    .dataframe tbody tr th:only-of-type {\n",
       "        vertical-align: middle;\n",
       "    }\n",
       "\n",
       "    .dataframe tbody tr th {\n",
       "        vertical-align: top;\n",
       "    }\n",
       "\n",
       "    .dataframe thead th {\n",
       "        text-align: right;\n",
       "    }\n",
       "</style>\n",
       "<table border=\"1\" class=\"dataframe\">\n",
       "  <thead>\n",
       "    <tr style=\"text-align: right;\">\n",
       "      <th></th>\n",
       "      <th>area_type</th>\n",
       "      <th>availability</th>\n",
       "      <th>location</th>\n",
       "      <th>size</th>\n",
       "      <th>society</th>\n",
       "      <th>total_sqft</th>\n",
       "      <th>bath</th>\n",
       "      <th>balcony</th>\n",
       "      <th>price</th>\n",
       "      <th>size_num</th>\n",
       "      <th>availability_num</th>\n",
       "      <th>society_num</th>\n",
       "    </tr>\n",
       "  </thead>\n",
       "  <tbody>\n",
       "    <tr>\n",
       "      <th>0</th>\n",
       "      <td>Super built-up  Area</td>\n",
       "      <td>19-Dec</td>\n",
       "      <td>Electronic City Phase II</td>\n",
       "      <td>2 BHK</td>\n",
       "      <td>Coomee</td>\n",
       "      <td>1056</td>\n",
       "      <td>2.0</td>\n",
       "      <td>1.0</td>\n",
       "      <td>39.07</td>\n",
       "      <td>2.0</td>\n",
       "      <td>0</td>\n",
       "      <td>1</td>\n",
       "    </tr>\n",
       "    <tr>\n",
       "      <th>1</th>\n",
       "      <td>Plot  Area</td>\n",
       "      <td>Ready To Move</td>\n",
       "      <td>Chikka Tirupathi</td>\n",
       "      <td>4 Bedroom</td>\n",
       "      <td>Theanmp</td>\n",
       "      <td>2600</td>\n",
       "      <td>5.0</td>\n",
       "      <td>3.0</td>\n",
       "      <td>120.00</td>\n",
       "      <td>4.0</td>\n",
       "      <td>1</td>\n",
       "      <td>1</td>\n",
       "    </tr>\n",
       "    <tr>\n",
       "      <th>2</th>\n",
       "      <td>Built-up  Area</td>\n",
       "      <td>Ready To Move</td>\n",
       "      <td>Uttarahalli</td>\n",
       "      <td>3 BHK</td>\n",
       "      <td>NaN</td>\n",
       "      <td>1440</td>\n",
       "      <td>2.0</td>\n",
       "      <td>3.0</td>\n",
       "      <td>62.00</td>\n",
       "      <td>3.0</td>\n",
       "      <td>1</td>\n",
       "      <td>0</td>\n",
       "    </tr>\n",
       "    <tr>\n",
       "      <th>3</th>\n",
       "      <td>Super built-up  Area</td>\n",
       "      <td>Ready To Move</td>\n",
       "      <td>Lingadheeranahalli</td>\n",
       "      <td>3 BHK</td>\n",
       "      <td>Soiewre</td>\n",
       "      <td>1521</td>\n",
       "      <td>3.0</td>\n",
       "      <td>1.0</td>\n",
       "      <td>95.00</td>\n",
       "      <td>3.0</td>\n",
       "      <td>1</td>\n",
       "      <td>1</td>\n",
       "    </tr>\n",
       "    <tr>\n",
       "      <th>4</th>\n",
       "      <td>Super built-up  Area</td>\n",
       "      <td>Ready To Move</td>\n",
       "      <td>Kothanur</td>\n",
       "      <td>2 BHK</td>\n",
       "      <td>NaN</td>\n",
       "      <td>1200</td>\n",
       "      <td>2.0</td>\n",
       "      <td>1.0</td>\n",
       "      <td>51.00</td>\n",
       "      <td>2.0</td>\n",
       "      <td>1</td>\n",
       "      <td>0</td>\n",
       "    </tr>\n",
       "  </tbody>\n",
       "</table>\n",
       "</div>"
      ],
      "text/plain": [
       "              area_type   availability                  location       size  \\\n",
       "0  Super built-up  Area         19-Dec  Electronic City Phase II      2 BHK   \n",
       "1            Plot  Area  Ready To Move          Chikka Tirupathi  4 Bedroom   \n",
       "2        Built-up  Area  Ready To Move               Uttarahalli      3 BHK   \n",
       "3  Super built-up  Area  Ready To Move        Lingadheeranahalli      3 BHK   \n",
       "4  Super built-up  Area  Ready To Move                  Kothanur      2 BHK   \n",
       "\n",
       "   society total_sqft  bath  balcony   price  size_num  availability_num  \\\n",
       "0  Coomee        1056   2.0      1.0   39.07       2.0                 0   \n",
       "1  Theanmp       2600   5.0      3.0  120.00       4.0                 1   \n",
       "2      NaN       1440   2.0      3.0   62.00       3.0                 1   \n",
       "3  Soiewre       1521   3.0      1.0   95.00       3.0                 1   \n",
       "4      NaN       1200   2.0      1.0   51.00       2.0                 1   \n",
       "\n",
       "   society_num  \n",
       "0            1  \n",
       "1            1  \n",
       "2            0  \n",
       "3            1  \n",
       "4            0  "
      ]
     },
     "execution_count": 30,
     "metadata": {},
     "output_type": "execute_result"
    }
   ],
   "source": [
    "df.head()"
   ]
  },
  {
   "cell_type": "code",
   "execution_count": 31,
   "id": "15a2d135-f76d-4c18-b8db-51f0668d6ed0",
   "metadata": {},
   "outputs": [],
   "source": [
    "req_cols = ['total_sqft', 'bath', 'balcony', 'price', 'size_num', 'availability_num', 'society_num']"
   ]
  },
  {
   "cell_type": "code",
   "execution_count": 32,
   "id": "10f86505-533e-4400-a1c2-417152de40f0",
   "metadata": {},
   "outputs": [
    {
     "name": "stdout",
     "output_type": "stream",
     "text": [
      "(12978, 12)\n"
     ]
    }
   ],
   "source": [
    "df = df.loc[df['total_sqft'].str.isnumeric()]\n",
    "print(df.shape)"
   ]
  },
  {
   "cell_type": "markdown",
   "id": "4cc05e1f-2210-4700-9b6a-09bf750d0e78",
   "metadata": {},
   "source": [
    "# Data Cleaning for \"total_sqft\""
   ]
  },
  {
   "cell_type": "code",
   "execution_count": 13,
   "id": "3a996ce4-ad03-491e-aa74-b4fc58231521",
   "metadata": {},
   "outputs": [],
   "source": [
    "df['total_sqft'] = [x.split(\" \")[0] for x in list(df['total_sqft'].values)]\n",
    "df['total_sqft'] = [x.split(\".\")[0] for x in list(df['total_sqft'].values)]\n",
    "df['total_sqft'] = [x.split(\"P\")[0] for x in list(df['total_sqft'].values)]\n",
    "df['total_sqft'] = [x.split(\"S\")[0] for x in list(df['total_sqft'].values)]\n",
    "df['total_sqft'] = [x.split(\"A\")[0] for x in list(df['total_sqft'].values)]\n",
    "df['total_sqft'] = [x.split(\"C\")[0] for x in list(df['total_sqft'].values)]\n",
    "df['total_sqft'] = [x.split(\"G\")[0] for x in list(df['total_sqft'].values)]\n",
    "df['total_sqft'] = [float(x) for x in list(df['total_sqft'].values)]"
   ]
  },
  {
   "cell_type": "code",
   "execution_count": 14,
   "id": "9625153c-d4b6-4e51-86cc-19b7734e87cb",
   "metadata": {},
   "outputs": [],
   "source": [
    "df_2 = df[req_cols]"
   ]
  },
  {
   "cell_type": "code",
   "execution_count": 15,
   "id": "cf59d57c-00e4-431d-86a8-9057db114628",
   "metadata": {},
   "outputs": [
    {
     "name": "stdout",
     "output_type": "stream",
     "text": [
      "Before dropping nulls: 12978\n",
      "After dropping nulls: 12439\n"
     ]
    },
    {
     "name": "stderr",
     "output_type": "stream",
     "text": [
      "/tmp/ipykernel_18113/1041523848.py:2: SettingWithCopyWarning: \n",
      "A value is trying to be set on a copy of a slice from a DataFrame\n",
      "\n",
      "See the caveats in the documentation: https://pandas.pydata.org/pandas-docs/stable/user_guide/indexing.html#returning-a-view-versus-a-copy\n",
      "  df_2.dropna(inplace = True)\n"
     ]
    }
   ],
   "source": [
    "print(\"Before dropping nulls:\", df_2.shape[0])\n",
    "df_2.dropna(inplace = True)\n",
    "print(\"After dropping nulls:\", df_2.shape[0])"
   ]
  },
  {
   "cell_type": "code",
   "execution_count": 16,
   "id": "4700a320-9e43-485a-be64-571c932a6244",
   "metadata": {},
   "outputs": [],
   "source": [
    "inx = list(range(df_2.shape[0]))"
   ]
  },
  {
   "cell_type": "code",
   "execution_count": 17,
   "id": "c1dac9a6-5be8-4a7f-b0d9-c3f67d03c441",
   "metadata": {},
   "outputs": [],
   "source": [
    "random.shuffle(inx)"
   ]
  },
  {
   "cell_type": "code",
   "execution_count": 18,
   "id": "d5b1a9bf-8965-46e3-b0cf-172d934550be",
   "metadata": {},
   "outputs": [],
   "source": [
    "df_train = df_2.iloc[inx[:round(len(inx) * 0.8)]]"
   ]
  },
  {
   "cell_type": "code",
   "execution_count": 123,
   "id": "b90c5974-1783-425d-b818-84e8876de7ca",
   "metadata": {},
   "outputs": [],
   "source": [
    "df_test = df_2.iloc[inx[round(len(inx) * 0.8):]]"
   ]
  },
  {
   "cell_type": "code",
   "execution_count": 124,
   "id": "59d1a100-a79d-4056-94d9-bba1804ccc9d",
   "metadata": {},
   "outputs": [
    {
     "name": "stdout",
     "output_type": "stream",
     "text": [
      "(9951, 7)\n",
      "(2488, 7)\n"
     ]
    }
   ],
   "source": [
    "print(df_train.shape)\n",
    "print(df_test.shape)"
   ]
  },
  {
   "cell_type": "code",
   "execution_count": 125,
   "id": "69e47688-6bb4-47a0-bf69-6dff2ecefe09",
   "metadata": {},
   "outputs": [],
   "source": [
    "train_cols = ['total_sqft', 'bath', 'balcony', 'size_num', 'availability_num', 'society_num']"
   ]
  },
  {
   "cell_type": "code",
   "execution_count": null,
   "id": "39db7a16-53c7-416c-811d-4769cea83068",
   "metadata": {},
   "outputs": [],
   "source": []
  },
  {
   "cell_type": "markdown",
   "id": "b2e292e0-3017-4e4e-9386-080517c34aed",
   "metadata": {},
   "source": [
    "# LinearRegression from sklearn.linear_model "
   ]
  },
  {
   "cell_type": "code",
   "execution_count": 126,
   "id": "19ea9e90-d44f-46a7-b62b-42cb5e674414",
   "metadata": {},
   "outputs": [
    {
     "name": "stdout",
     "output_type": "stream",
     "text": [
      "0.39669894089032764\n",
      "[  0.0556212   30.04993502  -0.70047741  -2.77368246   0.1812153\n",
      " -10.52677754]\n",
      "-42.39508432022454\n"
     ]
    }
   ],
   "source": [
    "from sklearn.linear_model import LinearRegression\n",
    "\n",
    "reg = LinearRegression().fit(df_train[train_cols], df_train['price'])\n",
    "print(reg.score(df_train[train_cols], df_train['price']))\n",
    "print(reg.coef_)\n",
    "print(reg.intercept_)"
   ]
  },
  {
   "cell_type": "code",
   "execution_count": 127,
   "id": "714ccb19-bbdd-44b5-ac2e-34f85ec25be0",
   "metadata": {},
   "outputs": [
    {
     "data": {
      "text/plain": [
       "array([276.15026388, 212.72760966, 108.98275056, ...,  86.33045425,\n",
       "        53.95151987,  71.19409146])"
      ]
     },
     "execution_count": 127,
     "metadata": {},
     "output_type": "execute_result"
    }
   ],
   "source": [
    "reg.predict(df_test[train_cols])"
   ]
  },
  {
   "cell_type": "markdown",
   "id": "db76a639-f40e-4d64-9f2b-22229876a5c9",
   "metadata": {},
   "source": [
    "# SGDRegressor from sklearn.linear_model"
   ]
  },
  {
   "cell_type": "code",
   "execution_count": 129,
   "id": "dbe18c29-59e7-4563-bc90-c8080079b2cd",
   "metadata": {},
   "outputs": [
    {
     "name": "stdout",
     "output_type": "stream",
     "text": [
      "[5.13437301e+12] [5.73756797e+12 8.93653775e+12 6.69762700e+12 1.00933118e+13\n",
      " 4.48916723e+12 3.99501913e+12]\n"
     ]
    }
   ],
   "source": [
    "from sklearn.linear_model import SGDRegressor\n",
    "sgd_reg = SGDRegressor(penalty=None, eta0=0.1)\n",
    "sgd_reg.fit(df_train[train_cols], df_train['price'])\n",
    "\n",
    "print(sgd_reg.intercept_, sgd_reg.coef_)"
   ]
  },
  {
   "cell_type": "code",
   "execution_count": 130,
   "id": "22293855-2aa7-451a-80f3-b9e9d58cbd0d",
   "metadata": {},
   "outputs": [
    {
     "data": {
      "text/plain": [
       "array([2.19085941e+16, 1.84571168e+16, 8.39114173e+15, ...,\n",
       "       8.06962990e+15, 5.50906546e+15, 7.28771153e+15])"
      ]
     },
     "execution_count": 130,
     "metadata": {},
     "output_type": "execute_result"
    }
   ],
   "source": [
    "sgd_reg.predict(df_test[train_cols])"
   ]
  },
  {
   "cell_type": "markdown",
   "id": "bd635bf9-cc76-4bd6-be8b-06787d42c070",
   "metadata": {},
   "source": [
    "# SVR (Support Vector Regression) from sklearn.svm"
   ]
  },
  {
   "cell_type": "code",
   "execution_count": 132,
   "id": "0174bf14-b12f-485d-a1b1-2ba31c3cd8a2",
   "metadata": {},
   "outputs": [
    {
     "name": "stdout",
     "output_type": "stream",
     "text": [
      "CPU times: user 5 µs, sys: 0 ns, total: 5 µs\n",
      "Wall time: 8.82 µs\n"
     ]
    },
    {
     "data": {
      "text/plain": [
       "Pipeline(steps=[('standardscaler', StandardScaler()),\n",
       "                ('svr', SVR(epsilon=0.2))])"
      ]
     },
     "execution_count": 132,
     "metadata": {},
     "output_type": "execute_result"
    }
   ],
   "source": [
    "%time\n",
    "from sklearn.svm import SVR\n",
    "from sklearn.pipeline import make_pipeline\n",
    "from sklearn.preprocessing import StandardScaler\n",
    "\n",
    "regr = make_pipeline(StandardScaler(), SVR(C=1.0, epsilon=0.2))\n",
    "regr.fit(df_train[train_cols], df_train['price'])"
   ]
  },
  {
   "cell_type": "code",
   "execution_count": 133,
   "id": "3d8fd15f-063d-4656-917d-18060712709d",
   "metadata": {},
   "outputs": [
    {
     "data": {
      "text/plain": [
       "array([220.92429802, 184.23748477,  91.07650626, ...,  59.08687972,\n",
       "        43.38189998,  59.85174899])"
      ]
     },
     "execution_count": 133,
     "metadata": {},
     "output_type": "execute_result"
    }
   ],
   "source": [
    "regr.predict(df_test[train_cols])"
   ]
  },
  {
   "cell_type": "markdown",
   "id": "ddeee288-f09b-44a6-8036-389498249b45",
   "metadata": {},
   "source": [
    "# DecisionTreeRegressor from sklearn.tree"
   ]
  },
  {
   "cell_type": "code",
   "execution_count": 136,
   "id": "13d66c85-40c8-432a-9e8b-da24553466ef",
   "metadata": {},
   "outputs": [],
   "source": [
    "from sklearn.tree import DecisionTreeRegressor\n",
    "\n",
    "regressor = DecisionTreeRegressor(random_state=0).fit(df_train[train_cols], df_train['price'])"
   ]
  },
  {
   "cell_type": "code",
   "execution_count": 137,
   "id": "ed736f98-5ee1-40a4-9d84-570378ff7304",
   "metadata": {},
   "outputs": [
    {
     "data": {
      "text/plain": [
       "array([240.        , 165.        , 100.        , ...,  62.78      ,\n",
       "        48.65071429,  73.458     ])"
      ]
     },
     "execution_count": 137,
     "metadata": {},
     "output_type": "execute_result"
    }
   ],
   "source": [
    "regressor.predict(df_test[train_cols])"
   ]
  },
  {
   "cell_type": "raw",
   "id": "222f8816-9185-4dd9-b5e0-fd94bcaf1f5c",
   "metadata": {},
   "source": [
    "Linear Regression: array([276.15, 212.72, 108.98, ...,  86.33, 53.95151987,  71.1])\n",
    "Minimize error function through derivatives and computation.\n",
    "\n",
    "SGD: array([219, 184, 83, ...,80, 55, 72])\n",
    "we were trying minimize errors geometrically.\n",
    "\n",
    "SVM: array([220.92, 184.2,  91.07, ...,  59.08, 43.38,  59.85174899])\n",
    "Fit a line that goes from on top of most points\n",
    "\n",
    "Tree: array([240., 165., 100., ...,  62.78, 48.65,  73.458     ])\n",
    "Splitting and averaging\n",
    "\n",
    "\n",
    "Ranges: (219, 276), (165, 212), (83, 108.9), ..., (59.08, 86.33) "
   ]
  }
 ],
 "metadata": {
  "kernelspec": {
   "display_name": "Python 3 (ipykernel)",
   "language": "python",
   "name": "python3"
  },
  "language_info": {
   "codemirror_mode": {
    "name": "ipython",
    "version": 3
   },
   "file_extension": ".py",
   "mimetype": "text/x-python",
   "name": "python",
   "nbconvert_exporter": "python",
   "pygments_lexer": "ipython3",
   "version": "3.9.13"
  }
 },
 "nbformat": 4,
 "nbformat_minor": 5
}
