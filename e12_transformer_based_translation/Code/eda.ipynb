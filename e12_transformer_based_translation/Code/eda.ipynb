{
 "cells": [
  {
   "cell_type": "code",
   "execution_count": 2,
   "id": "5104940b-1c56-4071-9578-1bd47f37890a",
   "metadata": {},
   "outputs": [],
   "source": [
    "import numpy as np\n",
    "import pandas as pd"
   ]
  },
  {
   "cell_type": "code",
   "execution_count": 4,
   "id": "b5bce73f-100e-485f-9023-3b40e0ff08f0",
   "metadata": {},
   "outputs": [],
   "source": [
    "with open('../Dataset/English_Hindi_Hinglish.txt', mode = 'r') as f:\n",
    "    data = f.readlines()\n",
    "\n",
    "data = data[195:] # 195 Because we have that many labeled data points for Hinglish to English translation.\n",
    "\n",
    "english_sents = [i.split('\t')[0] for i in data]\n",
    "hindi_sents = [i.split('\t')[1] for i in data]"
   ]
  },
  {
   "cell_type": "code",
   "execution_count": 5,
   "id": "7dceee22-0f5f-4a38-9adc-daedb74a5efb",
   "metadata": {},
   "outputs": [],
   "source": [
    "df = pd.DataFrame({\n",
    "    'English': english_sents,\n",
    "    'Hindi': hindi_sents\n",
    "})"
   ]
  },
  {
   "cell_type": "code",
   "execution_count": 6,
   "id": "47b1f8e9-8b85-46a2-8f10-84e2e4958c7d",
   "metadata": {},
   "outputs": [],
   "source": [
    "df.to_csv('Moni.csv', index = False)"
   ]
  },
  {
   "cell_type": "code",
   "execution_count": null,
   "id": "414dfbd1-b68a-4511-9621-c1b8cb46ddeb",
   "metadata": {},
   "outputs": [],
   "source": []
  }
 ],
 "metadata": {
  "kernelspec": {
   "display_name": "Python 3 (ipykernel)",
   "language": "python",
   "name": "python3"
  },
  "language_info": {
   "codemirror_mode": {
    "name": "ipython",
    "version": 3
   },
   "file_extension": ".py",
   "mimetype": "text/x-python",
   "name": "python",
   "nbconvert_exporter": "python",
   "pygments_lexer": "ipython3",
   "version": "3.9.13"
  }
 },
 "nbformat": 4,
 "nbformat_minor": 5
}
