{
 "cells": [
  {
   "cell_type": "code",
   "execution_count": 258,
   "id": "6ef5d3e4-734f-4420-909c-594ec8136b9d",
   "metadata": {},
   "outputs": [],
   "source": [
    "import pandas as pd\n",
    "import numpy as np \n",
    "from numpy import random\n",
    "import nltk, re\n",
    "\n",
    "from sklearn.model_selection import train_test_split\n",
    "from sklearn.metrics import classification_report\n",
    "import seaborn as sns\n",
    "from nltk.corpus import stopwords\n",
    "from sklearn.preprocessing import OneHotEncoder\n",
    "\n",
    "from tensorflow import keras\n",
    "from tensorflow.keras.models import Sequential\n",
    "from tensorflow.keras.layers import Embedding, Dense, Dropout, LSTM, Dropout, Bidirectional\n",
    "\n",
    "from sentence_transformers import SentenceTransformer"
   ]
  },
  {
   "cell_type": "code",
   "execution_count": 259,
   "id": "7880a70b-8666-44b2-b1b1-59ac49b0a406",
   "metadata": {},
   "outputs": [],
   "source": [
    "df = pd.read_csv('stock_data.csv')"
   ]
  },
  {
   "cell_type": "code",
   "execution_count": 260,
   "id": "5d2a5914-085b-4cf9-b841-7f9470bf3c03",
   "metadata": {},
   "outputs": [
    {
     "data": {
      "text/html": [
       "<div>\n",
       "<style scoped>\n",
       "    .dataframe tbody tr th:only-of-type {\n",
       "        vertical-align: middle;\n",
       "    }\n",
       "\n",
       "    .dataframe tbody tr th {\n",
       "        vertical-align: top;\n",
       "    }\n",
       "\n",
       "    .dataframe thead th {\n",
       "        text-align: right;\n",
       "    }\n",
       "</style>\n",
       "<table border=\"1\" class=\"dataframe\">\n",
       "  <thead>\n",
       "    <tr style=\"text-align: right;\">\n",
       "      <th></th>\n",
       "      <th>Text</th>\n",
       "      <th>Sentiment</th>\n",
       "    </tr>\n",
       "  </thead>\n",
       "  <tbody>\n",
       "    <tr>\n",
       "      <th>0</th>\n",
       "      <td>Kickers on my watchlist XIDE TIT SOQ PNK CPW B...</td>\n",
       "      <td>1</td>\n",
       "    </tr>\n",
       "    <tr>\n",
       "      <th>1</th>\n",
       "      <td>user: AAP MOVIE. 55% return for the FEA/GEED i...</td>\n",
       "      <td>1</td>\n",
       "    </tr>\n",
       "    <tr>\n",
       "      <th>2</th>\n",
       "      <td>user I'd be afraid to short AMZN - they are lo...</td>\n",
       "      <td>1</td>\n",
       "    </tr>\n",
       "    <tr>\n",
       "      <th>3</th>\n",
       "      <td>MNTA Over 12.00</td>\n",
       "      <td>1</td>\n",
       "    </tr>\n",
       "    <tr>\n",
       "      <th>4</th>\n",
       "      <td>OI  Over 21.37</td>\n",
       "      <td>1</td>\n",
       "    </tr>\n",
       "  </tbody>\n",
       "</table>\n",
       "</div>"
      ],
      "text/plain": [
       "                                                Text  Sentiment\n",
       "0  Kickers on my watchlist XIDE TIT SOQ PNK CPW B...          1\n",
       "1  user: AAP MOVIE. 55% return for the FEA/GEED i...          1\n",
       "2  user I'd be afraid to short AMZN - they are lo...          1\n",
       "3                                  MNTA Over 12.00            1\n",
       "4                                   OI  Over 21.37            1"
      ]
     },
     "execution_count": 260,
     "metadata": {},
     "output_type": "execute_result"
    }
   ],
   "source": [
    "df.head()"
   ]
  },
  {
   "cell_type": "code",
   "execution_count": 261,
   "id": "18461001-1907-437a-ac05-1c0577f12aeb",
   "metadata": {},
   "outputs": [
    {
     "data": {
      "text/plain": [
       "<AxesSubplot:xlabel='Sentiment', ylabel='count'>"
      ]
     },
     "execution_count": 261,
     "metadata": {},
     "output_type": "execute_result"
    },
    {
     "data": {
      "image/png": "[encoded data removed]",
      "text/plain": [
       "<Figure size 640x480 with 1 Axes>"
      ]
     },
     "metadata": {},
     "output_type": "display_data"
    }
   ],
   "source": [
    "sns.countplot(x ='Sentiment', data = df)"
   ]
  },
  {
   "cell_type": "code",
   "execution_count": 262,
   "id": "08112b86-d2d7-4dcc-8169-a192884cded1",
   "metadata": {},
   "outputs": [],
   "source": [
    "ix = list(range(df.shape[0]))\n",
    "ix = random.permutation(ix)"
   ]
  },
  {
   "cell_type": "code",
   "execution_count": 263,
   "id": "a5a15aff-955f-43f7-8d9c-184a75e43856",
   "metadata": {},
   "outputs": [
    {
     "name": "stdout",
     "output_type": "stream",
     "text": [
      "CPU times: user 6.81 ms, sys: 108 µs, total: 6.92 ms\n",
      "Wall time: 6.14 ms\n"
     ]
    }
   ],
   "source": [
    "%%time\n",
    "div = int(df.shape[0] * 0.7)\n",
    "train_df = df.iloc[ix[0:div]]\n",
    "corpus_train = train_df[['Text']]\n",
    "\n",
    "test_df = df.iloc[ix[div:]]\n",
    "corpus_test = test_df[['Text']]"
   ]
  },
  {
   "cell_type": "code",
   "execution_count": 264,
   "id": "f2808fa0-711f-4c1c-8689-84ec6bde043a",
   "metadata": {},
   "outputs": [
    {
     "name": "stdout",
     "output_type": "stream",
     "text": [
      "(4053, 2)\n",
      "(4053, 1)\n"
     ]
    }
   ],
   "source": [
    "print(train_df.shape)\n",
    "print(corpus_train.shape)"
   ]
  },
  {
   "cell_type": "code",
   "execution_count": 265,
   "id": "a1c09913-fa22-463f-a65f-c3ad956f063a",
   "metadata": {},
   "outputs": [],
   "source": [
    "def get_wordlist(corpus1):\n",
    "    words = []\n",
    "    for phrase in corpus1:\n",
    "        for word in phrase.split():\n",
    "            words.append(word)       \n",
    "             \n",
    "    words.sort()\n",
    "    return set(words)"
   ]
  },
  {
   "cell_type": "code",
   "execution_count": 268,
   "id": "2608ddae-d269-4ff8-a5a0-7d267aca69f8",
   "metadata": {},
   "outputs": [],
   "source": [
    "word_set_train = get_wordlist(corpus_train['Text'].values)\n",
    "word_set_test = get_wordlist(corpus_test['Text'].values)"
   ]
  },
  {
   "cell_type": "code",
   "execution_count": 270,
   "id": "e3e6c1b8-244c-41e4-bdd3-a5064b50d328",
   "metadata": {},
   "outputs": [],
   "source": [
    "def get_dicts(word_set):\n",
    "    word_to_index = {}\n",
    "    for i, word in enumerate(word_set):\n",
    "        word_to_index[word] = i  \n",
    "        \n",
    "    index_to_word = {index:word for (word, index) in word_to_index.items()}\n",
    "    \n",
    "    return word_to_index, index_to_word"
   ]
  },
  {
   "cell_type": "code",
   "execution_count": 271,
   "id": "dba3dde5-0d54-4be6-968e-2b7a3a14f2e8",
   "metadata": {},
   "outputs": [],
   "source": [
    "word_to_index_train, index_to_word_train = get_dicts(word_set_train)\n",
    "word_to_index_test, index_to_word_test = get_dicts(word_set_test)"
   ]
  },
  {
   "cell_type": "code",
   "execution_count": 272,
   "id": "36e66dd0-286c-4808-8248-455be8ed727e",
   "metadata": {},
   "outputs": [],
   "source": [
    "def token(corpus, word_to_index):\n",
    "    tokenized_list = []\n",
    "    \n",
    "    for phrase in corpus:\n",
    "        tokenized_format = []\n",
    "        for word in phrase.split():\n",
    "            index = word_to_index[word]\n",
    "            tokenized_format.append(index)\n",
    "            \n",
    "        tokenized_list.append(tokenized_format)\n",
    "        \n",
    "    return np.array(tokenized_list, dtype='object')"
   ]
  },
  {
   "cell_type": "code",
   "execution_count": 277,
   "id": "62b3822d-d52d-4ad9-bb28-debfcfe8314e",
   "metadata": {},
   "outputs": [],
   "source": [
    "X_train = token(corpus_train['Text'].values, word_to_index_train)\n",
    "X_test = token(corpus_test['Text'].values, word_to_index_test)"
   ]
  },
  {
   "cell_type": "code",
   "execution_count": 278,
   "id": "08477f32-4183-4143-b12e-72a801c90054",
   "metadata": {},
   "outputs": [],
   "source": [
    "maxlen = 30\n",
    "X_train_padded = keras.preprocessing.sequence.pad_sequences(X_train, maxlen=maxlen, padding='post')\n",
    "X_test_padded = keras.preprocessing.sequence.pad_sequences(X_test, maxlen=maxlen, padding='post')"
   ]
  },
  {
   "cell_type": "code",
   "execution_count": 279,
   "id": "978878f0-61cc-4673-a02f-f31e8175df91",
   "metadata": {},
   "outputs": [],
   "source": [
    "y_train = train_df.iloc[:,-1].values"
   ]
  },
  {
   "cell_type": "code",
   "execution_count": 280,
   "id": "e6dd5e93-066b-4d27-ad96-79f54da8c36d",
   "metadata": {},
   "outputs": [],
   "source": [
    "encoder = OneHotEncoder(sparse=False)\n",
    "y_train_encoded = encoder.fit_transform(y_train.reshape(-1, 1))"
   ]
  },
  {
   "cell_type": "code",
   "execution_count": 281,
   "id": "2a81d21d-3820-46a2-86d7-705fadf53129",
   "metadata": {},
   "outputs": [],
   "source": [
    "vocabulary_size = len(word_to_index_train) + 1\n",
    "embedding_size=30"
   ]
  },
  {
   "cell_type": "code",
   "execution_count": 282,
   "id": "45a40ae4-6e81-4c4f-8e2b-52e744622db7",
   "metadata": {},
   "outputs": [
    {
     "name": "stdout",
     "output_type": "stream",
     "text": [
      "Model: \"sequential_49\"\n",
      "_________________________________________________________________\n",
      " Layer (type)                Output Shape              Param #   \n",
      "=================================================================\n",
      " embedding_23 (Embedding)    (None, None, 30)          419610    \n",
      "                                                                 \n",
      " bidirectional_52 (Bidirecti  (None, 128)              48640     \n",
      " onal)                                                           \n",
      "                                                                 \n",
      " dropout_39 (Dropout)        (None, 128)               0         \n",
      "                                                                 \n",
      " dense_46 (Dense)            (None, 2)                 258       \n",
      "                                                                 \n",
      "=================================================================\n",
      "Total params: 468,508\n",
      "Trainable params: 468,508\n",
      "Non-trainable params: 0\n",
      "_________________________________________________________________\n"
     ]
    }
   ],
   "source": [
    "vocabulary_size = len(word_to_index_train) + 1\n",
    "embedding_size=30\n",
    "\n",
    "model = Sequential()\n",
    "model.add(Embedding(vocabulary_size, embedding_size, trainable=True))\n",
    "model.add(Bidirectional(LSTM(64)))\n",
    "model.add(Dropout(0.5))\n",
    "model.add(Dense(2, activation='softmax'))\n",
    "model.summary()"
   ]
  },
  {
   "cell_type": "code",
   "execution_count": 283,
   "id": "58c4f726-ce0b-45e6-8dde-336a5e207fd4",
   "metadata": {},
   "outputs": [],
   "source": [
    "model.compile(optimizer='adam',loss='categorical_crossentropy',metrics=['accuracy'])"
   ]
  },
  {
   "cell_type": "code",
   "execution_count": 284,
   "id": "56df4fac-e99e-4d82-9030-b6da09700198",
   "metadata": {},
   "outputs": [
    {
     "name": "stdout",
     "output_type": "stream",
     "text": [
      "(4053,)\n",
      "(4053, 30)\n"
     ]
    }
   ],
   "source": [
    "print(X_train.shape)\n",
    "print(X_train_padded.shape)"
   ]
  },
  {
   "cell_type": "code",
   "execution_count": 285,
   "id": "f45c129e-ee64-4e76-a4a2-bc92677d9d6c",
   "metadata": {},
   "outputs": [
    {
     "name": "stdout",
     "output_type": "stream",
     "text": [
      "Epoch 1/5\n",
      "16/16 [==============================] - 7s 110ms/step - loss: 0.6660 - accuracy: 0.6373\n",
      "Epoch 2/5\n",
      "16/16 [==============================] - 2s 104ms/step - loss: 0.6482 - accuracy: 0.6373\n",
      "Epoch 3/5\n",
      "16/16 [==============================] - 2s 103ms/step - loss: 0.6113 - accuracy: 0.6388\n",
      "Epoch 4/5\n",
      "16/16 [==============================] - 2s 105ms/step - loss: 0.4399 - accuracy: 0.8058\n",
      "Epoch 5/5\n",
      "16/16 [==============================] - 2s 105ms/step - loss: 0.2506 - accuracy: 0.9154\n"
     ]
    },
    {
     "data": {
      "text/plain": [
       "<keras.callbacks.History at 0x7f80b49e5510>"
      ]
     },
     "execution_count": 285,
     "metadata": {},
     "output_type": "execute_result"
    }
   ],
   "source": [
    "model.fit(X_train_padded, y_train_encoded, batch_size=256, epochs=5 )"
   ]
  },
  {
   "cell_type": "code",
   "execution_count": 286,
   "id": "70d619e2-2c85-40fe-961c-8947cf9f6352",
   "metadata": {},
   "outputs": [
    {
     "name": "stdout",
     "output_type": "stream",
     "text": [
      "55/55 [==============================] - 2s 11ms/step\n"
     ]
    }
   ],
   "source": [
    "pred = model.predict(X_test_padded)"
   ]
  },
  {
   "cell_type": "code",
   "execution_count": 304,
   "id": "5a613837-7e8b-48dc-b16e-344743723df5",
   "metadata": {},
   "outputs": [
    {
     "data": {
      "text/plain": [
       "array([[0.0519728 , 0.9480272 ],\n",
       "       [0.5092736 , 0.49072647],\n",
       "       [0.00115109, 0.9988489 ],\n",
       "       ...,\n",
       "       [0.39447793, 0.6055221 ],\n",
       "       [0.83075225, 0.16924773],\n",
       "       [0.01043145, 0.98956853]], dtype=float32)"
      ]
     },
     "execution_count": 304,
     "metadata": {},
     "output_type": "execute_result"
    }
   ],
   "source": [
    "pred"
   ]
  },
  {
   "cell_type": "code",
   "execution_count": 306,
   "id": "3bee3627-6e2f-4549-809e-8a61971100b1",
   "metadata": {},
   "outputs": [],
   "source": [
    "labels = [-1, 1]\n",
    "LABELS=[labels[i] for i in pred.argmax(axis=-1)]"
   ]
  },
  {
   "cell_type": "code",
   "execution_count": 307,
   "id": "3b1c26b7-53d2-4821-8077-abf9e9a5bbe9",
   "metadata": {},
   "outputs": [],
   "source": [
    "#predicted = pd.DataFrame({'Phrase': test_df.iloc[:,0].values, 'Sentiment': LABELS})\n",
    "predicted = pd.DataFrame({'text': test_df['Text'].values, 'Sentiment': LABELS})"
   ]
  },
  {
   "cell_type": "code",
   "execution_count": 308,
   "id": "a2dde8c5-eece-4b18-8113-5f6bdf60eb82",
   "metadata": {},
   "outputs": [
    {
     "data": {
      "text/html": [
       "<div>\n",
       "<style scoped>\n",
       "    .dataframe tbody tr th:only-of-type {\n",
       "        vertical-align: middle;\n",
       "    }\n",
       "\n",
       "    .dataframe tbody tr th {\n",
       "        vertical-align: top;\n",
       "    }\n",
       "\n",
       "    .dataframe thead th {\n",
       "        text-align: right;\n",
       "    }\n",
       "</style>\n",
       "<table border=\"1\" class=\"dataframe\">\n",
       "  <thead>\n",
       "    <tr style=\"text-align: right;\">\n",
       "      <th></th>\n",
       "      <th>text</th>\n",
       "      <th>Sentiment</th>\n",
       "    </tr>\n",
       "  </thead>\n",
       "  <tbody>\n",
       "    <tr>\n",
       "      <th>0</th>\n",
       "      <td>AAP Gap bottom 437.72, gap top 441.34 and now ...</td>\n",
       "      <td>1</td>\n",
       "    </tr>\n",
       "    <tr>\n",
       "      <th>1</th>\n",
       "      <td>WPI - whoopie - that's the stocks nickname</td>\n",
       "      <td>-1</td>\n",
       "    </tr>\n",
       "    <tr>\n",
       "      <th>2</th>\n",
       "      <td>AAP  Probabilities rising for a test of the 20...</td>\n",
       "      <td>1</td>\n",
       "    </tr>\n",
       "    <tr>\n",
       "      <th>3</th>\n",
       "      <td>chear up AAP holics allot of bulls just got bu...</td>\n",
       "      <td>1</td>\n",
       "    </tr>\n",
       "    <tr>\n",
       "      <th>4</th>\n",
       "      <td>ed Monthly Triangle on CSN,.......pdating</td>\n",
       "      <td>1</td>\n",
       "    </tr>\n",
       "    <tr>\n",
       "      <th>...</th>\n",
       "      <td>...</td>\n",
       "      <td>...</td>\n",
       "    </tr>\n",
       "    <tr>\n",
       "      <th>1733</th>\n",
       "      <td>NS should start to slide here just like HF, th...</td>\n",
       "      <td>1</td>\n",
       "    </tr>\n",
       "    <tr>\n",
       "      <th>1734</th>\n",
       "      <td>Market Wrap Video + Additions to Watch ist  in...</td>\n",
       "      <td>1</td>\n",
       "    </tr>\n",
       "    <tr>\n",
       "      <th>1735</th>\n",
       "      <td>COVEED FDX  96.50 from 96.85.</td>\n",
       "      <td>1</td>\n",
       "    </tr>\n",
       "    <tr>\n",
       "      <th>1736</th>\n",
       "      <td>YHOO 5 min - looking for a nice smooth 20/50MA...</td>\n",
       "      <td>-1</td>\n",
       "    </tr>\n",
       "    <tr>\n",
       "      <th>1737</th>\n",
       "      <td>Saudi Crown Prince Mohammed bin Salmanâ€™s Pub...</td>\n",
       "      <td>1</td>\n",
       "    </tr>\n",
       "  </tbody>\n",
       "</table>\n",
       "<p>1738 rows × 2 columns</p>\n",
       "</div>"
      ],
      "text/plain": [
       "                                                   text  Sentiment\n",
       "0     AAP Gap bottom 437.72, gap top 441.34 and now ...          1\n",
       "1            WPI - whoopie - that's the stocks nickname         -1\n",
       "2     AAP  Probabilities rising for a test of the 20...          1\n",
       "3     chear up AAP holics allot of bulls just got bu...          1\n",
       "4           ed Monthly Triangle on CSN,.......pdating            1\n",
       "...                                                 ...        ...\n",
       "1733  NS should start to slide here just like HF, th...          1\n",
       "1734  Market Wrap Video + Additions to Watch ist  in...          1\n",
       "1735                      COVEED FDX  96.50 from 96.85.          1\n",
       "1736  YHOO 5 min - looking for a nice smooth 20/50MA...         -1\n",
       "1737  Saudi Crown Prince Mohammed bin Salmanâ€™s Pub...          1\n",
       "\n",
       "[1738 rows x 2 columns]"
      ]
     },
     "execution_count": 308,
     "metadata": {},
     "output_type": "execute_result"
    }
   ],
   "source": [
    "predicted"
   ]
  },
  {
   "cell_type": "code",
   "execution_count": 309,
   "id": "64a37330-fceb-448f-a7dc-476eed979af8",
   "metadata": {},
   "outputs": [
    {
     "name": "stdout",
     "output_type": "stream",
     "text": [
      "              precision    recall  f1-score   support\n",
      "\n",
      "          -1       0.34      0.38      0.36       636\n",
      "           1       0.62      0.58      0.60      1102\n",
      "\n",
      "    accuracy                           0.51      1738\n",
      "   macro avg       0.48      0.48      0.48      1738\n",
      "weighted avg       0.52      0.51      0.51      1738\n",
      "\n"
     ]
    }
   ],
   "source": [
    "print(classification_report(test_df['Sentiment'], y_pred = predicted['Sentiment'], labels = labels))"
   ]
  },
  {
   "cell_type": "code",
   "execution_count": 310,
   "id": "6f93cec7-f12e-407f-8c4a-079ca3a0c0fb",
   "metadata": {},
   "outputs": [
    {
     "data": {
      "text/plain": [
       "4396    AAP Gap bottom 437.72, gap top 441.34 and now ...\n",
       "610            WPI - whoopie - that's the stocks nickname\n",
       "799     AAP  Probabilities rising for a test of the 20...\n",
       "3134    chear up AAP holics allot of bulls just got bu...\n",
       "2422          ed Monthly Triangle on CSN,.......pdating  \n",
       "4592                       BAC aising My Stop a little...\n",
       "1642    user: AAP Ok... this action makes no sense. >>...\n",
       "3857    AAP I can't remember another time I was so hap...\n",
       "251                                      CVA Over 19.00  \n",
       "189     GDOT nice bounce from its 50SMA. ooks ready to...\n",
       "Name: Text, dtype: object"
      ]
     },
     "execution_count": 310,
     "metadata": {},
     "output_type": "execute_result"
    }
   ],
   "source": [
    "test_df['Text'][0:10]"
   ]
  },
  {
   "cell_type": "code",
   "execution_count": null,
   "id": "5025223e-029d-4cae-b825-60999c84fa0a",
   "metadata": {},
   "outputs": [],
   "source": []
  },
  {
   "cell_type": "code",
   "execution_count": null,
   "id": "09561042-0740-403a-862f-300e20c15c7d",
   "metadata": {},
   "outputs": [],
   "source": []
  }
 ],
 "metadata": {
  "kernelspec": {
   "display_name": "stock_market_prediction",
   "language": "python",
   "name": "stock_market_prediction"
  },
  "language_info": {
   "codemirror_mode": {
    "name": "ipython",
    "version": 3
   },
   "file_extension": ".py",
   "mimetype": "text/x-python",
   "name": "python",
   "nbconvert_exporter": "python",
   "pygments_lexer": "ipython3",
   "version": "3.10.6"
  }
 },
 "nbformat": 4,
 "nbformat_minor": 5
}
