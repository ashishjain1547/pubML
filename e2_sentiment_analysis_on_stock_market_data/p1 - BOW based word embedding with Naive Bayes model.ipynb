{
 "cells": [
  {
   "cell_type": "code",
   "execution_count": 1,
   "id": "da98bdf7-971e-4275-9011-6089302016b8",
   "metadata": {},
   "outputs": [],
   "source": [
    "import pandas as pd"
   ]
  },
  {
   "cell_type": "code",
   "execution_count": 2,
   "id": "6ab4e06f-2c54-41cb-9eb0-19e0111ca283",
   "metadata": {},
   "outputs": [],
   "source": [
    "df = pd.read_csv('stock_data.csv')\n",
    "# https://www.kaggle.com/yash612/stockmarket-sentiment-dataset/version/1"
   ]
  },
  {
   "cell_type": "code",
   "execution_count": 3,
   "id": "c3249851-0995-41e4-96d9-e0f6a8ae856f",
   "metadata": {},
   "outputs": [
    {
     "data": {
      "text/html": [
       "<div>\n",
       "<style scoped>\n",
       "    .dataframe tbody tr th:only-of-type {\n",
       "        vertical-align: middle;\n",
       "    }\n",
       "\n",
       "    .dataframe tbody tr th {\n",
       "        vertical-align: top;\n",
       "    }\n",
       "\n",
       "    .dataframe thead th {\n",
       "        text-align: right;\n",
       "    }\n",
       "</style>\n",
       "<table border=\"1\" class=\"dataframe\">\n",
       "  <thead>\n",
       "    <tr style=\"text-align: right;\">\n",
       "      <th></th>\n",
       "      <th>Text</th>\n",
       "      <th>Sentiment</th>\n",
       "    </tr>\n",
       "  </thead>\n",
       "  <tbody>\n",
       "    <tr>\n",
       "      <th>0</th>\n",
       "      <td>Kickers on my watchlist XIDE TIT SOQ PNK CPW B...</td>\n",
       "      <td>1</td>\n",
       "    </tr>\n",
       "    <tr>\n",
       "      <th>1</th>\n",
       "      <td>user: AAP MOVIE. 55% return for the FEA/GEED i...</td>\n",
       "      <td>1</td>\n",
       "    </tr>\n",
       "    <tr>\n",
       "      <th>2</th>\n",
       "      <td>user I'd be afraid to short AMZN - they are lo...</td>\n",
       "      <td>1</td>\n",
       "    </tr>\n",
       "    <tr>\n",
       "      <th>3</th>\n",
       "      <td>MNTA Over 12.00</td>\n",
       "      <td>1</td>\n",
       "    </tr>\n",
       "    <tr>\n",
       "      <th>4</th>\n",
       "      <td>OI  Over 21.37</td>\n",
       "      <td>1</td>\n",
       "    </tr>\n",
       "  </tbody>\n",
       "</table>\n",
       "</div>"
      ],
      "text/plain": [
       "                                                Text  Sentiment\n",
       "0  Kickers on my watchlist XIDE TIT SOQ PNK CPW B...          1\n",
       "1  user: AAP MOVIE. 55% return for the FEA/GEED i...          1\n",
       "2  user I'd be afraid to short AMZN - they are lo...          1\n",
       "3                                  MNTA Over 12.00            1\n",
       "4                                   OI  Over 21.37            1"
      ]
     },
     "execution_count": 3,
     "metadata": {},
     "output_type": "execute_result"
    }
   ],
   "source": [
    "df.head()"
   ]
  },
  {
   "cell_type": "code",
   "execution_count": 4,
   "id": "01873fd7-1007-498a-b394-dff03dbc9e90",
   "metadata": {},
   "outputs": [],
   "source": [
    "pd.set_option('display.width', 75)"
   ]
  },
  {
   "cell_type": "code",
   "execution_count": 5,
   "id": "527b3639-9729-46fe-884e-d0e6325de405",
   "metadata": {},
   "outputs": [
    {
     "data": {
      "text/html": [
       "<div>\n",
       "<style scoped>\n",
       "    .dataframe tbody tr th:only-of-type {\n",
       "        vertical-align: middle;\n",
       "    }\n",
       "\n",
       "    .dataframe tbody tr th {\n",
       "        vertical-align: top;\n",
       "    }\n",
       "\n",
       "    .dataframe thead th {\n",
       "        text-align: right;\n",
       "    }\n",
       "</style>\n",
       "<table border=\"1\" class=\"dataframe\">\n",
       "  <thead>\n",
       "    <tr style=\"text-align: right;\">\n",
       "      <th></th>\n",
       "      <th>Text</th>\n",
       "      <th>Sentiment</th>\n",
       "    </tr>\n",
       "  </thead>\n",
       "  <tbody>\n",
       "    <tr>\n",
       "      <th>0</th>\n",
       "      <td>Kickers on my watchlist XIDE TIT SOQ PNK CPW B...</td>\n",
       "      <td>1</td>\n",
       "    </tr>\n",
       "    <tr>\n",
       "      <th>1</th>\n",
       "      <td>user: AAP MOVIE. 55% return for the FEA/GEED i...</td>\n",
       "      <td>1</td>\n",
       "    </tr>\n",
       "    <tr>\n",
       "      <th>2</th>\n",
       "      <td>user I'd be afraid to short AMZN - they are lo...</td>\n",
       "      <td>1</td>\n",
       "    </tr>\n",
       "    <tr>\n",
       "      <th>3</th>\n",
       "      <td>MNTA Over 12.00</td>\n",
       "      <td>1</td>\n",
       "    </tr>\n",
       "    <tr>\n",
       "      <th>4</th>\n",
       "      <td>OI  Over 21.37</td>\n",
       "      <td>1</td>\n",
       "    </tr>\n",
       "  </tbody>\n",
       "</table>\n",
       "</div>"
      ],
      "text/plain": [
       "                                                Text  Sentiment\n",
       "0  Kickers on my watchlist XIDE TIT SOQ PNK CPW B...          1\n",
       "1  user: AAP MOVIE. 55% return for the FEA/GEED i...          1\n",
       "2  user I'd be afraid to short AMZN - they are lo...          1\n",
       "3                                  MNTA Over 12.00            1\n",
       "4                                   OI  Over 21.37            1"
      ]
     },
     "execution_count": 5,
     "metadata": {},
     "output_type": "execute_result"
    }
   ],
   "source": [
    "df.head()"
   ]
  },
  {
   "cell_type": "code",
   "execution_count": 6,
   "id": "db87d3c0-d238-486a-b31a-e17a3b962cf2",
   "metadata": {},
   "outputs": [],
   "source": [
    "from nltk.tokenize import casual_tokenize"
   ]
  },
  {
   "cell_type": "code",
   "execution_count": 7,
   "id": "eb790a45-1b39-4bd0-9b7c-7bdd344da854",
   "metadata": {},
   "outputs": [],
   "source": [
    "from collections import Counter"
   ]
  },
  {
   "cell_type": "code",
   "execution_count": 8,
   "id": "148fb838-366c-4b57-87c8-85cc0cd31271",
   "metadata": {},
   "outputs": [],
   "source": [
    "bags_of_words = []"
   ]
  },
  {
   "cell_type": "code",
   "execution_count": 9,
   "id": "08517ab2-7b2a-4c9b-b71e-87236dbe9a04",
   "metadata": {},
   "outputs": [],
   "source": [
    "for text in df.Text:\n",
    "    bags_of_words.append(Counter(casual_tokenize(text)))"
   ]
  },
  {
   "cell_type": "code",
   "execution_count": 10,
   "id": "534b0dc7-98e2-4c20-ad35-61e22dea1d60",
   "metadata": {},
   "outputs": [],
   "source": [
    "df_bows = pd.DataFrame.from_records(bags_of_words)"
   ]
  },
  {
   "cell_type": "code",
   "execution_count": 11,
   "id": "956eed04-782c-4b60-b4e5-c327485e5c00",
   "metadata": {},
   "outputs": [],
   "source": [
    "df_bows = df_bows.fillna(0).astype(int)"
   ]
  },
  {
   "cell_type": "code",
   "execution_count": 12,
   "id": "f670d5d2-36d8-47a0-94e8-0e2b05ad755b",
   "metadata": {},
   "outputs": [
    {
     "data": {
      "text/plain": [
       "(5791, 13797)"
      ]
     },
     "execution_count": 12,
     "metadata": {},
     "output_type": "execute_result"
    }
   ],
   "source": [
    "df_bows.shape"
   ]
  },
  {
   "cell_type": "code",
   "execution_count": 13,
   "id": "69f90b5d-e025-491e-ad2c-97029857cffc",
   "metadata": {},
   "outputs": [
    {
     "data": {
      "text/html": [
       "<div>\n",
       "<style scoped>\n",
       "    .dataframe tbody tr th:only-of-type {\n",
       "        vertical-align: middle;\n",
       "    }\n",
       "\n",
       "    .dataframe tbody tr th {\n",
       "        vertical-align: top;\n",
       "    }\n",
       "\n",
       "    .dataframe thead th {\n",
       "        text-align: right;\n",
       "    }\n",
       "</style>\n",
       "<table border=\"1\" class=\"dataframe\">\n",
       "  <thead>\n",
       "    <tr style=\"text-align: right;\">\n",
       "      <th></th>\n",
       "      <th>Kickers</th>\n",
       "      <th>on</th>\n",
       "      <th>my</th>\n",
       "      <th>watchlist</th>\n",
       "      <th>XIDE</th>\n",
       "      <th>TIT</th>\n",
       "      <th>SOQ</th>\n",
       "      <th>PNK</th>\n",
       "      <th>CPW</th>\n",
       "      <th>BPZ</th>\n",
       "      <th>...</th>\n",
       "      <th>#recession</th>\n",
       "      <th>https://t.co/fSylAJrUqv</th>\n",
       "      <th>wage</th>\n",
       "      <th>https://t.co/RgvrKPliNd</th>\n",
       "      <th>#Sharemarket</th>\n",
       "      <th>LIVE</th>\n",
       "      <th>https://t.co/3xgtLroKUI</th>\n",
       "      <th>factors</th>\n",
       "      <th>D-Street</th>\n",
       "      <th>https://t.co/jVQcousFp6</th>\n",
       "    </tr>\n",
       "  </thead>\n",
       "  <tbody>\n",
       "    <tr>\n",
       "      <th>0</th>\n",
       "      <td>1</td>\n",
       "      <td>1</td>\n",
       "      <td>1</td>\n",
       "      <td>1</td>\n",
       "      <td>1</td>\n",
       "      <td>1</td>\n",
       "      <td>1</td>\n",
       "      <td>1</td>\n",
       "      <td>1</td>\n",
       "      <td>1</td>\n",
       "      <td>...</td>\n",
       "      <td>0</td>\n",
       "      <td>0</td>\n",
       "      <td>0</td>\n",
       "      <td>0</td>\n",
       "      <td>0</td>\n",
       "      <td>0</td>\n",
       "      <td>0</td>\n",
       "      <td>0</td>\n",
       "      <td>0</td>\n",
       "      <td>0</td>\n",
       "    </tr>\n",
       "    <tr>\n",
       "      <th>1</th>\n",
       "      <td>0</td>\n",
       "      <td>0</td>\n",
       "      <td>0</td>\n",
       "      <td>0</td>\n",
       "      <td>0</td>\n",
       "      <td>0</td>\n",
       "      <td>0</td>\n",
       "      <td>0</td>\n",
       "      <td>0</td>\n",
       "      <td>0</td>\n",
       "      <td>...</td>\n",
       "      <td>0</td>\n",
       "      <td>0</td>\n",
       "      <td>0</td>\n",
       "      <td>0</td>\n",
       "      <td>0</td>\n",
       "      <td>0</td>\n",
       "      <td>0</td>\n",
       "      <td>0</td>\n",
       "      <td>0</td>\n",
       "      <td>0</td>\n",
       "    </tr>\n",
       "    <tr>\n",
       "      <th>2</th>\n",
       "      <td>0</td>\n",
       "      <td>0</td>\n",
       "      <td>0</td>\n",
       "      <td>0</td>\n",
       "      <td>0</td>\n",
       "      <td>0</td>\n",
       "      <td>0</td>\n",
       "      <td>0</td>\n",
       "      <td>0</td>\n",
       "      <td>0</td>\n",
       "      <td>...</td>\n",
       "      <td>0</td>\n",
       "      <td>0</td>\n",
       "      <td>0</td>\n",
       "      <td>0</td>\n",
       "      <td>0</td>\n",
       "      <td>0</td>\n",
       "      <td>0</td>\n",
       "      <td>0</td>\n",
       "      <td>0</td>\n",
       "      <td>0</td>\n",
       "    </tr>\n",
       "    <tr>\n",
       "      <th>3</th>\n",
       "      <td>0</td>\n",
       "      <td>0</td>\n",
       "      <td>0</td>\n",
       "      <td>0</td>\n",
       "      <td>0</td>\n",
       "      <td>0</td>\n",
       "      <td>0</td>\n",
       "      <td>0</td>\n",
       "      <td>0</td>\n",
       "      <td>0</td>\n",
       "      <td>...</td>\n",
       "      <td>0</td>\n",
       "      <td>0</td>\n",
       "      <td>0</td>\n",
       "      <td>0</td>\n",
       "      <td>0</td>\n",
       "      <td>0</td>\n",
       "      <td>0</td>\n",
       "      <td>0</td>\n",
       "      <td>0</td>\n",
       "      <td>0</td>\n",
       "    </tr>\n",
       "    <tr>\n",
       "      <th>4</th>\n",
       "      <td>0</td>\n",
       "      <td>0</td>\n",
       "      <td>0</td>\n",
       "      <td>0</td>\n",
       "      <td>0</td>\n",
       "      <td>0</td>\n",
       "      <td>0</td>\n",
       "      <td>0</td>\n",
       "      <td>0</td>\n",
       "      <td>0</td>\n",
       "      <td>...</td>\n",
       "      <td>0</td>\n",
       "      <td>0</td>\n",
       "      <td>0</td>\n",
       "      <td>0</td>\n",
       "      <td>0</td>\n",
       "      <td>0</td>\n",
       "      <td>0</td>\n",
       "      <td>0</td>\n",
       "      <td>0</td>\n",
       "      <td>0</td>\n",
       "    </tr>\n",
       "  </tbody>\n",
       "</table>\n",
       "<p>5 rows × 13797 columns</p>\n",
       "</div>"
      ],
      "text/plain": [
       "   Kickers  on  my  watchlist  XIDE  TIT  SOQ  PNK  CPW  BPZ  ...  \\\n",
       "0        1   1   1          1     1    1    1    1    1    1  ...   \n",
       "1        0   0   0          0     0    0    0    0    0    0  ...   \n",
       "2        0   0   0          0     0    0    0    0    0    0  ...   \n",
       "3        0   0   0          0     0    0    0    0    0    0  ...   \n",
       "4        0   0   0          0     0    0    0    0    0    0  ...   \n",
       "\n",
       "   #recession  https://t.co/fSylAJrUqv  wage  https://t.co/RgvrKPliNd  \\\n",
       "0           0                        0     0                        0   \n",
       "1           0                        0     0                        0   \n",
       "2           0                        0     0                        0   \n",
       "3           0                        0     0                        0   \n",
       "4           0                        0     0                        0   \n",
       "\n",
       "   #Sharemarket  LIVE  https://t.co/3xgtLroKUI  factors  D-Street  \\\n",
       "0             0     0                        0        0         0   \n",
       "1             0     0                        0        0         0   \n",
       "2             0     0                        0        0         0   \n",
       "3             0     0                        0        0         0   \n",
       "4             0     0                        0        0         0   \n",
       "\n",
       "   https://t.co/jVQcousFp6  \n",
       "0                        0  \n",
       "1                        0  \n",
       "2                        0  \n",
       "3                        0  \n",
       "4                        0  \n",
       "\n",
       "[5 rows x 13797 columns]"
      ]
     },
     "execution_count": 13,
     "metadata": {},
     "output_type": "execute_result"
    }
   ],
   "source": [
    "df_bows.head()"
   ]
  },
  {
   "cell_type": "code",
   "execution_count": 14,
   "id": "2f8627a0-b984-4286-9457-983fff6f59e7",
   "metadata": {},
   "outputs": [],
   "source": [
    "from sklearn.naive_bayes import MultinomialNB"
   ]
  },
  {
   "cell_type": "code",
   "execution_count": 15,
   "id": "873c483c-a227-4f50-bcc8-fe7fab3003ae",
   "metadata": {},
   "outputs": [],
   "source": [
    "nb = MultinomialNB()"
   ]
  },
  {
   "cell_type": "code",
   "execution_count": 16,
   "id": "1a3d5fef-b238-477e-a154-8def53959ade",
   "metadata": {},
   "outputs": [],
   "source": [
    "# Naive Bayes models are classifiers, so you need to convert your output variable (sentiment float) to a discrete label (integer, string, or bool).\n",
    "# nb = nb.fit(df_bows, movies.sentiment > 0)\n",
    "\n",
    "nb = nb.fit(df_bows, df.Sentiment > 0)"
   ]
  },
  {
   "cell_type": "code",
   "execution_count": 17,
   "id": "80d1045c-2fae-4aa1-a0dc-a851f7a8f5c9",
   "metadata": {},
   "outputs": [],
   "source": [
    "# df['predicted_sentiment'] = nb.predict_proba(df_bows) * 8 - 4\n",
    "# KeyError: 'predicted_sentiment'"
   ]
  },
  {
   "cell_type": "code",
   "execution_count": 18,
   "id": "e0cbc292-a9a7-4e59-a070-8eebad85118d",
   "metadata": {},
   "outputs": [
    {
     "data": {
      "text/plain": [
       "array([[-3.9998908 ,  3.9998908 ],\n",
       "       [-3.99052287,  3.99052287],\n",
       "       [-3.0682941 ,  3.0682941 ],\n",
       "       ...,\n",
       "       [-3.86034537,  3.86034537],\n",
       "       [-3.97747485,  3.97747485],\n",
       "       [-3.99969011,  3.99969011]])"
      ]
     },
     "execution_count": 18,
     "metadata": {},
     "output_type": "execute_result"
    }
   ],
   "source": [
    "nb.predict_proba(df_bows) * 8 - 4"
   ]
  },
  {
   "cell_type": "code",
   "execution_count": 19,
   "id": "a2df13fb-f989-464a-8358-4418141dc802",
   "metadata": {},
   "outputs": [
    {
     "data": {
      "text/plain": [
       "array([[1.36498649e-05, 9.99986350e-01],\n",
       "       [1.18464092e-03, 9.98815359e-01],\n",
       "       [1.16463237e-01, 8.83536763e-01],\n",
       "       ...,\n",
       "       [1.74568289e-02, 9.82543171e-01],\n",
       "       [2.81564390e-03, 9.97184356e-01],\n",
       "       [3.87362802e-05, 9.99961264e-01]])"
      ]
     },
     "execution_count": 19,
     "metadata": {},
     "output_type": "execute_result"
    }
   ],
   "source": [
    "nb.predict_proba(df_bows)"
   ]
  },
  {
   "cell_type": "code",
   "execution_count": 20,
   "id": "86aae247-6242-430f-83cc-25c4af3528ca",
   "metadata": {},
   "outputs": [
    {
     "data": {
      "text/plain": [
       "array([ True,  True,  True, ...,  True,  True,  True])"
      ]
     },
     "execution_count": 20,
     "metadata": {},
     "output_type": "execute_result"
    }
   ],
   "source": [
    "nb.predict(df_bows)"
   ]
  },
  {
   "cell_type": "code",
   "execution_count": 21,
   "id": "b51e6653-9e04-4549-8bdc-f841eb0123b9",
   "metadata": {},
   "outputs": [],
   "source": [
    "from sklearn.metrics import classification_report"
   ]
  },
  {
   "cell_type": "code",
   "execution_count": 22,
   "id": "a8e488b6-b4b3-4841-912b-5deadb97f29b",
   "metadata": {},
   "outputs": [],
   "source": [
    "target_names = ['+ve', '-ve']"
   ]
  },
  {
   "cell_type": "code",
   "execution_count": 23,
   "id": "222e92fb-14ae-4696-a1d6-94413da51bed",
   "metadata": {},
   "outputs": [
    {
     "name": "stdout",
     "output_type": "stream",
     "text": [
      "              precision    recall  f1-score   support\n",
      "\n",
      "         +ve       0.91      0.82      0.86      2106\n",
      "         -ve       0.90      0.95      0.93      3685\n",
      "\n",
      "    accuracy                           0.90      5791\n",
      "   macro avg       0.90      0.88      0.89      5791\n",
      "weighted avg       0.90      0.90      0.90      5791\n",
      "\n"
     ]
    }
   ],
   "source": [
    "print(classification_report(y_true = (df.Sentiment > 0), y_pred = nb.predict(df_bows), target_names=target_names))"
   ]
  },
  {
   "cell_type": "code",
   "execution_count": null,
   "id": "26d624c1-088d-46e2-ab18-50ecf346f16a",
   "metadata": {},
   "outputs": [],
   "source": []
  },
  {
   "cell_type": "code",
   "execution_count": null,
   "id": "24269199-38c6-4ac9-bf73-faaf8a5888b6",
   "metadata": {},
   "outputs": [],
   "source": []
  },
  {
   "cell_type": "code",
   "execution_count": null,
   "id": "64bb6ddd-651e-43b6-b0aa-b3fb5fc3b80d",
   "metadata": {},
   "outputs": [],
   "source": []
  },
  {
   "cell_type": "code",
   "execution_count": null,
   "id": "708dc34b-6c9e-4c55-9e00-a906209a3da7",
   "metadata": {},
   "outputs": [],
   "source": []
  },
  {
   "cell_type": "code",
   "execution_count": null,
   "id": "168ce0ce-45bf-44e3-bdaf-9f43a843066c",
   "metadata": {},
   "outputs": [],
   "source": []
  }
 ],
 "metadata": {
  "kernelspec": {
   "display_name": "Python 3 (ipykernel)",
   "language": "python",
   "name": "python3"
  },
  "language_info": {
   "codemirror_mode": {
    "name": "ipython",
    "version": 3
   },
   "file_extension": ".py",
   "mimetype": "text/x-python",
   "name": "python",
   "nbconvert_exporter": "python",
   "pygments_lexer": "ipython3",
   "version": "3.10.6"
  }
 },
 "nbformat": 4,
 "nbformat_minor": 5
}
