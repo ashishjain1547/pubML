{
 "cells": [
  {
   "cell_type": "code",
   "execution_count": 34,
   "id": "a9ffb4ac-38e6-442f-af47-e8e1cce549d1",
   "metadata": {},
   "outputs": [],
   "source": [
    "import pandas as pd\n",
    "import dateutil\n",
    "from datetime import datetime\n",
    "import statistics as st\n",
    "from pandas.tseries.offsets import Day, MonthEnd"
   ]
  },
  {
   "cell_type": "code",
   "execution_count": 2,
   "id": "0365cdc6-1c96-4e94-95b6-e5db87e5d0d5",
   "metadata": {},
   "outputs": [],
   "source": [
    "df = pd.read_csv('data/S&P BSE Sensex-01-06-2022-to-01-06-2023.csv', index_col=False)"
   ]
  },
  {
   "cell_type": "code",
   "execution_count": 16,
   "id": "8e5c54ef-7aff-4032-b494-a69208ff41e2",
   "metadata": {},
   "outputs": [],
   "source": [
    "df['Date'] = df['Date'].apply(lambda x: dateutil.parser.parse(x).strftime(\"%d-%b-%Y\"))"
   ]
  },
  {
   "cell_type": "code",
   "execution_count": 17,
   "id": "f6929808-18dc-45e7-9af9-f29182a3a264",
   "metadata": {},
   "outputs": [],
   "source": [
    "start_date = dateutil.parser.parse('1-July-2022')\n",
    "end_date = dateutil.parser.parse('1-June-2023')"
   ]
  },
  {
   "cell_type": "code",
   "execution_count": 24,
   "id": "d0978eda-62e0-4458-8402-010b89a9f39b",
   "metadata": {},
   "outputs": [],
   "source": [
    "# MS: month begin\n",
    "# BMS: BusinessMonthBegin\n",
    "dr = pd.date_range(start_date, end_date, freq=\"BMS\")"
   ]
  },
  {
   "cell_type": "code",
   "execution_count": 44,
   "id": "549bca81-cfd4-46a1-bd4d-ce12fa225fc2",
   "metadata": {},
   "outputs": [],
   "source": [
    "stock = 'data/S&P BSE Sensex-01-06-2022-to-01-06-2023.csv'\n",
    "amount = 1000"
   ]
  },
  {
   "cell_type": "code",
   "execution_count": 46,
   "id": "264cb7a8-9598-4f21-847a-9d183c8ee158",
   "metadata": {},
   "outputs": [],
   "source": [
    "stock_l = []\n",
    "amt_l = []\n",
    "close_l = []\n",
    "date_l = []\n",
    "\n",
    "for i in dr:\n",
    "    j = i\n",
    "    close = df[df['Date'] == j.strftime(\"%d-%b-%Y\")]['Close']\n",
    "    while len(close) == 0:\n",
    "        j = i + Day()\n",
    "        close = df[df['Date'] == j.strftime(\"%d-%b-%Y\")]['Close']\n",
    "        \n",
    "    \n",
    "    stock_l.append(stock)\n",
    "    amt_l.append(amount)\n",
    "    close_l.append(list(close.values)[0])\n",
    "    date_l.append(i)"
   ]
  },
  {
   "cell_type": "code",
   "execution_count": 47,
   "id": "cd524848-55bf-4e87-b26c-dc705a283289",
   "metadata": {},
   "outputs": [],
   "source": [
    "df_rep = pd.DataFrame({\n",
    "    'stock': stock_l,\n",
    "    'amt': amt_l,\n",
    "    'close': close_l,\n",
    "    'date': date_l\n",
    "})"
   ]
  },
  {
   "cell_type": "code",
   "execution_count": 48,
   "id": "c8aaa4dd-d1f3-4f8c-b5ed-3ea4c47b2073",
   "metadata": {},
   "outputs": [
    {
     "data": {
      "text/html": [
       "<div>\n",
       "<style scoped>\n",
       "    .dataframe tbody tr th:only-of-type {\n",
       "        vertical-align: middle;\n",
       "    }\n",
       "\n",
       "    .dataframe tbody tr th {\n",
       "        vertical-align: top;\n",
       "    }\n",
       "\n",
       "    .dataframe thead th {\n",
       "        text-align: right;\n",
       "    }\n",
       "</style>\n",
       "<table border=\"1\" class=\"dataframe\">\n",
       "  <thead>\n",
       "    <tr style=\"text-align: right;\">\n",
       "      <th></th>\n",
       "      <th>stock</th>\n",
       "      <th>amt</th>\n",
       "      <th>close</th>\n",
       "      <th>date</th>\n",
       "    </tr>\n",
       "  </thead>\n",
       "  <tbody>\n",
       "    <tr>\n",
       "      <th>0</th>\n",
       "      <td>data/S&amp;P BSE Sensex-01-06-2022-to-01-06-2023.csv</td>\n",
       "      <td>1000</td>\n",
       "      <td>52907.93</td>\n",
       "      <td>2022-07-01</td>\n",
       "    </tr>\n",
       "    <tr>\n",
       "      <th>1</th>\n",
       "      <td>data/S&amp;P BSE Sensex-01-06-2022-to-01-06-2023.csv</td>\n",
       "      <td>1000</td>\n",
       "      <td>58115.50</td>\n",
       "      <td>2022-08-01</td>\n",
       "    </tr>\n",
       "    <tr>\n",
       "      <th>2</th>\n",
       "      <td>data/S&amp;P BSE Sensex-01-06-2022-to-01-06-2023.csv</td>\n",
       "      <td>1000</td>\n",
       "      <td>58766.59</td>\n",
       "      <td>2022-09-01</td>\n",
       "    </tr>\n",
       "    <tr>\n",
       "      <th>3</th>\n",
       "      <td>data/S&amp;P BSE Sensex-01-06-2022-to-01-06-2023.csv</td>\n",
       "      <td>1000</td>\n",
       "      <td>56788.81</td>\n",
       "      <td>2022-10-03</td>\n",
       "    </tr>\n",
       "    <tr>\n",
       "      <th>4</th>\n",
       "      <td>data/S&amp;P BSE Sensex-01-06-2022-to-01-06-2023.csv</td>\n",
       "      <td>1000</td>\n",
       "      <td>61121.35</td>\n",
       "      <td>2022-11-01</td>\n",
       "    </tr>\n",
       "    <tr>\n",
       "      <th>5</th>\n",
       "      <td>data/S&amp;P BSE Sensex-01-06-2022-to-01-06-2023.csv</td>\n",
       "      <td>1000</td>\n",
       "      <td>63284.19</td>\n",
       "      <td>2022-12-01</td>\n",
       "    </tr>\n",
       "    <tr>\n",
       "      <th>6</th>\n",
       "      <td>data/S&amp;P BSE Sensex-01-06-2022-to-01-06-2023.csv</td>\n",
       "      <td>1000</td>\n",
       "      <td>61167.79</td>\n",
       "      <td>2023-01-02</td>\n",
       "    </tr>\n",
       "    <tr>\n",
       "      <th>7</th>\n",
       "      <td>data/S&amp;P BSE Sensex-01-06-2022-to-01-06-2023.csv</td>\n",
       "      <td>1000</td>\n",
       "      <td>59708.08</td>\n",
       "      <td>2023-02-01</td>\n",
       "    </tr>\n",
       "    <tr>\n",
       "      <th>8</th>\n",
       "      <td>data/S&amp;P BSE Sensex-01-06-2022-to-01-06-2023.csv</td>\n",
       "      <td>1000</td>\n",
       "      <td>59411.08</td>\n",
       "      <td>2023-03-01</td>\n",
       "    </tr>\n",
       "    <tr>\n",
       "      <th>9</th>\n",
       "      <td>data/S&amp;P BSE Sensex-01-06-2022-to-01-06-2023.csv</td>\n",
       "      <td>1000</td>\n",
       "      <td>59106.44</td>\n",
       "      <td>2023-04-03</td>\n",
       "    </tr>\n",
       "    <tr>\n",
       "      <th>10</th>\n",
       "      <td>data/S&amp;P BSE Sensex-01-06-2022-to-01-06-2023.csv</td>\n",
       "      <td>1000</td>\n",
       "      <td>61354.71</td>\n",
       "      <td>2023-05-01</td>\n",
       "    </tr>\n",
       "    <tr>\n",
       "      <th>11</th>\n",
       "      <td>data/S&amp;P BSE Sensex-01-06-2022-to-01-06-2023.csv</td>\n",
       "      <td>1000</td>\n",
       "      <td>62428.54</td>\n",
       "      <td>2023-06-01</td>\n",
       "    </tr>\n",
       "  </tbody>\n",
       "</table>\n",
       "</div>"
      ],
      "text/plain": [
       "                                               stock   amt     close  \\\n",
       "0   data/S&P BSE Sensex-01-06-2022-to-01-06-2023.csv  1000  52907.93   \n",
       "1   data/S&P BSE Sensex-01-06-2022-to-01-06-2023.csv  1000  58115.50   \n",
       "2   data/S&P BSE Sensex-01-06-2022-to-01-06-2023.csv  1000  58766.59   \n",
       "3   data/S&P BSE Sensex-01-06-2022-to-01-06-2023.csv  1000  56788.81   \n",
       "4   data/S&P BSE Sensex-01-06-2022-to-01-06-2023.csv  1000  61121.35   \n",
       "5   data/S&P BSE Sensex-01-06-2022-to-01-06-2023.csv  1000  63284.19   \n",
       "6   data/S&P BSE Sensex-01-06-2022-to-01-06-2023.csv  1000  61167.79   \n",
       "7   data/S&P BSE Sensex-01-06-2022-to-01-06-2023.csv  1000  59708.08   \n",
       "8   data/S&P BSE Sensex-01-06-2022-to-01-06-2023.csv  1000  59411.08   \n",
       "9   data/S&P BSE Sensex-01-06-2022-to-01-06-2023.csv  1000  59106.44   \n",
       "10  data/S&P BSE Sensex-01-06-2022-to-01-06-2023.csv  1000  61354.71   \n",
       "11  data/S&P BSE Sensex-01-06-2022-to-01-06-2023.csv  1000  62428.54   \n",
       "\n",
       "         date  \n",
       "0  2022-07-01  \n",
       "1  2022-08-01  \n",
       "2  2022-09-01  \n",
       "3  2022-10-03  \n",
       "4  2022-11-01  \n",
       "5  2022-12-01  \n",
       "6  2023-01-02  \n",
       "7  2023-02-01  \n",
       "8  2023-03-01  \n",
       "9  2023-04-03  \n",
       "10 2023-05-01  \n",
       "11 2023-06-01  "
      ]
     },
     "execution_count": 48,
     "metadata": {},
     "output_type": "execute_result"
    }
   ],
   "source": [
    "df_rep"
   ]
  },
  {
   "cell_type": "code",
   "execution_count": 49,
   "id": "191997d1-fefa-4d95-a396-c32739e3337b",
   "metadata": {},
   "outputs": [],
   "source": [
    "df_rep.to_csv('out/sensex_txns.csv', index = False)"
   ]
  },
  {
   "cell_type": "code",
   "execution_count": null,
   "id": "55b09291-2098-4fdb-93a3-7c6f0477cbfb",
   "metadata": {},
   "outputs": [],
   "source": []
  }
 ],
 "metadata": {
  "kernelspec": {
   "display_name": "py310",
   "language": "python",
   "name": "py310"
  },
  "language_info": {
   "codemirror_mode": {
    "name": "ipython",
    "version": 3
   },
   "file_extension": ".py",
   "mimetype": "text/x-python",
   "name": "python",
   "nbconvert_exporter": "python",
   "pygments_lexer": "ipython3",
   "version": "3.10.10"
  }
 },
 "nbformat": 4,
 "nbformat_minor": 5
}
