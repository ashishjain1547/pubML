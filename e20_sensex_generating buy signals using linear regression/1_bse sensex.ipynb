{
 "cells": [
  {
   "cell_type": "code",
   "execution_count": 1,
   "id": "6e59d1e0-6819-4f77-9a0b-bf3b7ce7d4e6",
   "metadata": {},
   "outputs": [],
   "source": [
    "import pandas as pd\n",
    "import dateutil\n",
    "from datetime import datetime\n",
    "import statistics as st"
   ]
  },
  {
   "cell_type": "code",
   "execution_count": 2,
   "id": "c5b9b0a2-1056-4cbe-98ff-ab5b331aa245",
   "metadata": {},
   "outputs": [],
   "source": [
    "df = pd.read_csv('data/S&P BSE Sensex-01-06-2022-to-01-06-2023.csv', index_col=False)"
   ]
  },
  {
   "cell_type": "code",
   "execution_count": 3,
   "id": "d3c74c09-d875-4f6f-af88-6b722bcfb968",
   "metadata": {},
   "outputs": [
    {
     "data": {
      "text/html": [
       "<div>\n",
       "<style scoped>\n",
       "    .dataframe tbody tr th:only-of-type {\n",
       "        vertical-align: middle;\n",
       "    }\n",
       "\n",
       "    .dataframe tbody tr th {\n",
       "        vertical-align: top;\n",
       "    }\n",
       "\n",
       "    .dataframe thead th {\n",
       "        text-align: right;\n",
       "    }\n",
       "</style>\n",
       "<table border=\"1\" class=\"dataframe\">\n",
       "  <thead>\n",
       "    <tr style=\"text-align: right;\">\n",
       "      <th></th>\n",
       "      <th>Date</th>\n",
       "      <th>Open</th>\n",
       "      <th>High</th>\n",
       "      <th>Low</th>\n",
       "      <th>Close</th>\n",
       "    </tr>\n",
       "  </thead>\n",
       "  <tbody>\n",
       "    <tr>\n",
       "      <th>0</th>\n",
       "      <td>1-June-2022</td>\n",
       "      <td>55588.27</td>\n",
       "      <td>55791.49</td>\n",
       "      <td>55091.43</td>\n",
       "      <td>55381.17</td>\n",
       "    </tr>\n",
       "    <tr>\n",
       "      <th>1</th>\n",
       "      <td>2-June-2022</td>\n",
       "      <td>55382.44</td>\n",
       "      <td>55891.92</td>\n",
       "      <td>55135.11</td>\n",
       "      <td>55818.11</td>\n",
       "    </tr>\n",
       "    <tr>\n",
       "      <th>2</th>\n",
       "      <td>3-June-2022</td>\n",
       "      <td>56245.60</td>\n",
       "      <td>56432.65</td>\n",
       "      <td>55719.36</td>\n",
       "      <td>55769.23</td>\n",
       "    </tr>\n",
       "    <tr>\n",
       "      <th>3</th>\n",
       "      <td>6-June-2022</td>\n",
       "      <td>55610.64</td>\n",
       "      <td>55832.28</td>\n",
       "      <td>55295.74</td>\n",
       "      <td>55675.32</td>\n",
       "    </tr>\n",
       "    <tr>\n",
       "      <th>4</th>\n",
       "      <td>7-June-2022</td>\n",
       "      <td>55373.18</td>\n",
       "      <td>55387.77</td>\n",
       "      <td>54882.41</td>\n",
       "      <td>55107.34</td>\n",
       "    </tr>\n",
       "    <tr>\n",
       "      <th>...</th>\n",
       "      <td>...</td>\n",
       "      <td>...</td>\n",
       "      <td>...</td>\n",
       "      <td>...</td>\n",
       "      <td>...</td>\n",
       "    </tr>\n",
       "    <tr>\n",
       "      <th>244</th>\n",
       "      <td>26-May-2023</td>\n",
       "      <td>61985.36</td>\n",
       "      <td>62529.83</td>\n",
       "      <td>61911.61</td>\n",
       "      <td>62501.69</td>\n",
       "    </tr>\n",
       "    <tr>\n",
       "      <th>245</th>\n",
       "      <td>29-May-2023</td>\n",
       "      <td>62801.54</td>\n",
       "      <td>63026.00</td>\n",
       "      <td>62801.54</td>\n",
       "      <td>62846.38</td>\n",
       "    </tr>\n",
       "    <tr>\n",
       "      <th>246</th>\n",
       "      <td>30-May-2023</td>\n",
       "      <td>62839.85</td>\n",
       "      <td>63036.12</td>\n",
       "      <td>62737.40</td>\n",
       "      <td>62969.13</td>\n",
       "    </tr>\n",
       "    <tr>\n",
       "      <th>247</th>\n",
       "      <td>31-May-2023</td>\n",
       "      <td>62839.97</td>\n",
       "      <td>62876.77</td>\n",
       "      <td>62401.02</td>\n",
       "      <td>62622.24</td>\n",
       "    </tr>\n",
       "    <tr>\n",
       "      <th>248</th>\n",
       "      <td>1-June-2023</td>\n",
       "      <td>62736.47</td>\n",
       "      <td>62762.41</td>\n",
       "      <td>62359.14</td>\n",
       "      <td>62428.54</td>\n",
       "    </tr>\n",
       "  </tbody>\n",
       "</table>\n",
       "<p>249 rows × 5 columns</p>\n",
       "</div>"
      ],
      "text/plain": [
       "            Date      Open      High       Low     Close\n",
       "0    1-June-2022  55588.27  55791.49  55091.43  55381.17\n",
       "1    2-June-2022  55382.44  55891.92  55135.11  55818.11\n",
       "2    3-June-2022  56245.60  56432.65  55719.36  55769.23\n",
       "3    6-June-2022  55610.64  55832.28  55295.74  55675.32\n",
       "4    7-June-2022  55373.18  55387.77  54882.41  55107.34\n",
       "..           ...       ...       ...       ...       ...\n",
       "244  26-May-2023  61985.36  62529.83  61911.61  62501.69\n",
       "245  29-May-2023  62801.54  63026.00  62801.54  62846.38\n",
       "246  30-May-2023  62839.85  63036.12  62737.40  62969.13\n",
       "247  31-May-2023  62839.97  62876.77  62401.02  62622.24\n",
       "248  1-June-2023  62736.47  62762.41  62359.14  62428.54\n",
       "\n",
       "[249 rows x 5 columns]"
      ]
     },
     "execution_count": 3,
     "metadata": {},
     "output_type": "execute_result"
    }
   ],
   "source": [
    "df"
   ]
  },
  {
   "cell_type": "code",
   "execution_count": 4,
   "id": "39e3953b-fe48-4447-826d-73f78f5a3e96",
   "metadata": {},
   "outputs": [],
   "source": [
    "df['month'] = df['Date'].apply(lambda x: str(dateutil.parser.parse(x).year) + \"-\" + str(dateutil.parser.parse(x).month))"
   ]
  },
  {
   "cell_type": "code",
   "execution_count": 5,
   "id": "70c25f46-f716-4a0f-8662-b7379e25868b",
   "metadata": {},
   "outputs": [],
   "source": [
    "month = df['month'].unique()"
   ]
  },
  {
   "cell_type": "code",
   "execution_count": 10,
   "id": "53645ec7-e824-47a2-bf1c-1daedc475f49",
   "metadata": {},
   "outputs": [
    {
     "name": "stdout",
     "output_type": "stream",
     "text": [
      "-169.0593958215697\n",
      "184.51801298701307\n",
      "38.44155639097753\n",
      "-119.46171089779794\n",
      "170.16078947368416\n",
      "89.15827272727272\n",
      "-126.08474308300404\n",
      "-38.541415584415496\n",
      "-44.86599999999989\n",
      "-102.47562337662345\n",
      "54.98845588235289\n",
      "55.59032185206093\n",
      "linear regression requires at least two data points\n"
     ]
    }
   ],
   "source": [
    "for i in month:\n",
    "    x = list(df[df['month'] == i].index)\n",
    "    y = list(df[df['month'] == i].Close)\n",
    "    \n",
    "    try:\n",
    "        slope, intercept = st.linear_regression(x, y)\n",
    "        print(slope)\n",
    "    except st.StatisticsError as e:\n",
    "        print(e)"
   ]
  },
  {
   "cell_type": "code",
   "execution_count": null,
   "id": "a17de37c-b699-415c-b9ac-92bd0fd23a5c",
   "metadata": {},
   "outputs": [],
   "source": []
  },
  {
   "cell_type": "code",
   "execution_count": null,
   "id": "62632ba1-1daf-4dad-b530-a965630fe735",
   "metadata": {},
   "outputs": [],
   "source": []
  },
  {
   "cell_type": "code",
   "execution_count": null,
   "id": "55fa537b-b2ba-4081-875e-4af125c4e30c",
   "metadata": {},
   "outputs": [],
   "source": []
  }
 ],
 "metadata": {
  "kernelspec": {
   "display_name": "py310",
   "language": "python",
   "name": "py310"
  },
  "language_info": {
   "codemirror_mode": {
    "name": "ipython",
    "version": 3
   },
   "file_extension": ".py",
   "mimetype": "text/x-python",
   "name": "python",
   "nbconvert_exporter": "python",
   "pygments_lexer": "ipython3",
   "version": "3.10.10"
  }
 },
 "nbformat": 4,
 "nbformat_minor": 5
}
