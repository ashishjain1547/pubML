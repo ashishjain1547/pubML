{
 "cells": [
  {
   "cell_type": "code",
   "execution_count": 1,
   "id": "a7134c26-efd4-4c2d-b731-8c460bf4499e",
   "metadata": {},
   "outputs": [],
   "source": [
    "import pandas as pd"
   ]
  },
  {
   "cell_type": "markdown",
   "id": "790b6500-1e49-45ed-81cd-dcf50a47f8b8",
   "metadata": {},
   "source": [
    "# Calculate Gain From SIP in Sensex"
   ]
  },
  {
   "cell_type": "code",
   "execution_count": 6,
   "id": "ca33f997-5454-4b8b-9f40-2edb7225c362",
   "metadata": {},
   "outputs": [],
   "source": [
    "df_sensex = pd.read_csv('data/S&P BSE Sensex-01-06-2022-to-01-06-2023.csv', index_col = False)"
   ]
  },
  {
   "cell_type": "code",
   "execution_count": 10,
   "id": "db6c67f7-9fd7-4339-ae58-1267f1979646",
   "metadata": {},
   "outputs": [],
   "source": [
    "current_close = df_sensex[df_sensex['Date'] == '1-June-2023']['Close'].values[0]"
   ]
  },
  {
   "cell_type": "code",
   "execution_count": 11,
   "id": "b6d92e4d-0977-4463-9255-440b35dbaf6f",
   "metadata": {},
   "outputs": [
    {
     "data": {
      "text/plain": [
       "62428.54"
      ]
     },
     "execution_count": 11,
     "metadata": {},
     "output_type": "execute_result"
    }
   ],
   "source": [
    "current_close"
   ]
  },
  {
   "cell_type": "code",
   "execution_count": 12,
   "id": "61036f83-33c9-4b1a-8d3e-8eeff86f4e00",
   "metadata": {},
   "outputs": [],
   "source": [
    "df_txns_sensex = pd.read_csv('out/sensex_txns.csv')"
   ]
  },
  {
   "cell_type": "code",
   "execution_count": 26,
   "id": "ac7ff32b-85be-413e-80d5-e4a2965e73b0",
   "metadata": {},
   "outputs": [],
   "source": [
    "df_txns_sensex = df_txns_sensex[df_txns_sensex['date'] != '2023-06-01']"
   ]
  },
  {
   "cell_type": "code",
   "execution_count": 30,
   "id": "72909b6d-968a-400c-b0f5-5c940b112611",
   "metadata": {},
   "outputs": [],
   "source": [
    "def get_current_value(row):\n",
    "    curr_value = row['amt'] * (current_close / row['close'])\n",
    "    return curr_value"
   ]
  },
  {
   "cell_type": "code",
   "execution_count": 31,
   "id": "5904e901-389e-416c-97e5-52b262802d86",
   "metadata": {},
   "outputs": [
    {
     "name": "stderr",
     "output_type": "stream",
     "text": [
      "/tmp/ipykernel_7727/2848172455.py:1: SettingWithCopyWarning: \n",
      "A value is trying to be set on a copy of a slice from a DataFrame.\n",
      "Try using .loc[row_indexer,col_indexer] = value instead\n",
      "\n",
      "See the caveats in the documentation: https://pandas.pydata.org/pandas-docs/stable/user_guide/indexing.html#returning-a-view-versus-a-copy\n",
      "  df_txns_sensex['curr_value'] = df_txns_sensex.apply(get_current_value, axis = 1)\n"
     ]
    }
   ],
   "source": [
    "df_txns_sensex['curr_value'] = df_txns_sensex.apply(get_current_value, axis = 1)"
   ]
  },
  {
   "cell_type": "code",
   "execution_count": 32,
   "id": "acac5fc4-82aa-4524-87cc-5e8e39806364",
   "metadata": {},
   "outputs": [
    {
     "data": {
      "text/html": [
       "<div>\n",
       "<style scoped>\n",
       "    .dataframe tbody tr th:only-of-type {\n",
       "        vertical-align: middle;\n",
       "    }\n",
       "\n",
       "    .dataframe tbody tr th {\n",
       "        vertical-align: top;\n",
       "    }\n",
       "\n",
       "    .dataframe thead th {\n",
       "        text-align: right;\n",
       "    }\n",
       "</style>\n",
       "<table border=\"1\" class=\"dataframe\">\n",
       "  <thead>\n",
       "    <tr style=\"text-align: right;\">\n",
       "      <th></th>\n",
       "      <th>stock</th>\n",
       "      <th>amt</th>\n",
       "      <th>close</th>\n",
       "      <th>date</th>\n",
       "      <th>curr_value</th>\n",
       "    </tr>\n",
       "  </thead>\n",
       "  <tbody>\n",
       "    <tr>\n",
       "      <th>0</th>\n",
       "      <td>data/S&amp;P BSE Sensex-01-06-2022-to-01-06-2023.csv</td>\n",
       "      <td>1000</td>\n",
       "      <td>52907.93</td>\n",
       "      <td>2022-07-01</td>\n",
       "      <td>1179.946749</td>\n",
       "    </tr>\n",
       "    <tr>\n",
       "      <th>1</th>\n",
       "      <td>data/S&amp;P BSE Sensex-01-06-2022-to-01-06-2023.csv</td>\n",
       "      <td>1000</td>\n",
       "      <td>58115.50</td>\n",
       "      <td>2022-08-01</td>\n",
       "      <td>1074.214968</td>\n",
       "    </tr>\n",
       "    <tr>\n",
       "      <th>2</th>\n",
       "      <td>data/S&amp;P BSE Sensex-01-06-2022-to-01-06-2023.csv</td>\n",
       "      <td>1000</td>\n",
       "      <td>58766.59</td>\n",
       "      <td>2022-09-01</td>\n",
       "      <td>1062.313468</td>\n",
       "    </tr>\n",
       "    <tr>\n",
       "      <th>3</th>\n",
       "      <td>data/S&amp;P BSE Sensex-01-06-2022-to-01-06-2023.csv</td>\n",
       "      <td>1000</td>\n",
       "      <td>56788.81</td>\n",
       "      <td>2022-10-03</td>\n",
       "      <td>1099.310586</td>\n",
       "    </tr>\n",
       "    <tr>\n",
       "      <th>4</th>\n",
       "      <td>data/S&amp;P BSE Sensex-01-06-2022-to-01-06-2023.csv</td>\n",
       "      <td>1000</td>\n",
       "      <td>61121.35</td>\n",
       "      <td>2022-11-01</td>\n",
       "      <td>1021.386799</td>\n",
       "    </tr>\n",
       "    <tr>\n",
       "      <th>5</th>\n",
       "      <td>data/S&amp;P BSE Sensex-01-06-2022-to-01-06-2023.csv</td>\n",
       "      <td>1000</td>\n",
       "      <td>63284.19</td>\n",
       "      <td>2022-12-01</td>\n",
       "      <td>986.479245</td>\n",
       "    </tr>\n",
       "    <tr>\n",
       "      <th>6</th>\n",
       "      <td>data/S&amp;P BSE Sensex-01-06-2022-to-01-06-2023.csv</td>\n",
       "      <td>1000</td>\n",
       "      <td>61167.79</td>\n",
       "      <td>2023-01-02</td>\n",
       "      <td>1020.611338</td>\n",
       "    </tr>\n",
       "    <tr>\n",
       "      <th>7</th>\n",
       "      <td>data/S&amp;P BSE Sensex-01-06-2022-to-01-06-2023.csv</td>\n",
       "      <td>1000</td>\n",
       "      <td>59708.08</td>\n",
       "      <td>2023-02-01</td>\n",
       "      <td>1045.562678</td>\n",
       "    </tr>\n",
       "    <tr>\n",
       "      <th>8</th>\n",
       "      <td>data/S&amp;P BSE Sensex-01-06-2022-to-01-06-2023.csv</td>\n",
       "      <td>1000</td>\n",
       "      <td>59411.08</td>\n",
       "      <td>2023-03-01</td>\n",
       "      <td>1050.789516</td>\n",
       "    </tr>\n",
       "    <tr>\n",
       "      <th>9</th>\n",
       "      <td>data/S&amp;P BSE Sensex-01-06-2022-to-01-06-2023.csv</td>\n",
       "      <td>1000</td>\n",
       "      <td>59106.44</td>\n",
       "      <td>2023-04-03</td>\n",
       "      <td>1056.205381</td>\n",
       "    </tr>\n",
       "    <tr>\n",
       "      <th>10</th>\n",
       "      <td>data/S&amp;P BSE Sensex-01-06-2022-to-01-06-2023.csv</td>\n",
       "      <td>1000</td>\n",
       "      <td>61354.71</td>\n",
       "      <td>2023-05-01</td>\n",
       "      <td>1017.501998</td>\n",
       "    </tr>\n",
       "  </tbody>\n",
       "</table>\n",
       "</div>"
      ],
      "text/plain": [
       "                                               stock   amt     close  \\\n",
       "0   data/S&P BSE Sensex-01-06-2022-to-01-06-2023.csv  1000  52907.93   \n",
       "1   data/S&P BSE Sensex-01-06-2022-to-01-06-2023.csv  1000  58115.50   \n",
       "2   data/S&P BSE Sensex-01-06-2022-to-01-06-2023.csv  1000  58766.59   \n",
       "3   data/S&P BSE Sensex-01-06-2022-to-01-06-2023.csv  1000  56788.81   \n",
       "4   data/S&P BSE Sensex-01-06-2022-to-01-06-2023.csv  1000  61121.35   \n",
       "5   data/S&P BSE Sensex-01-06-2022-to-01-06-2023.csv  1000  63284.19   \n",
       "6   data/S&P BSE Sensex-01-06-2022-to-01-06-2023.csv  1000  61167.79   \n",
       "7   data/S&P BSE Sensex-01-06-2022-to-01-06-2023.csv  1000  59708.08   \n",
       "8   data/S&P BSE Sensex-01-06-2022-to-01-06-2023.csv  1000  59411.08   \n",
       "9   data/S&P BSE Sensex-01-06-2022-to-01-06-2023.csv  1000  59106.44   \n",
       "10  data/S&P BSE Sensex-01-06-2022-to-01-06-2023.csv  1000  61354.71   \n",
       "\n",
       "          date   curr_value  \n",
       "0   2022-07-01  1179.946749  \n",
       "1   2022-08-01  1074.214968  \n",
       "2   2022-09-01  1062.313468  \n",
       "3   2022-10-03  1099.310586  \n",
       "4   2022-11-01  1021.386799  \n",
       "5   2022-12-01   986.479245  \n",
       "6   2023-01-02  1020.611338  \n",
       "7   2023-02-01  1045.562678  \n",
       "8   2023-03-01  1050.789516  \n",
       "9   2023-04-03  1056.205381  \n",
       "10  2023-05-01  1017.501998  "
      ]
     },
     "execution_count": 32,
     "metadata": {},
     "output_type": "execute_result"
    }
   ],
   "source": [
    "df_txns_sensex"
   ]
  },
  {
   "cell_type": "code",
   "execution_count": 33,
   "id": "a31b0c4a-3057-4e70-b12c-4343efe5e4e3",
   "metadata": {},
   "outputs": [],
   "source": [
    "total_invested = sum(df_txns_sensex['amt'].values)\n",
    "current_value = sum(df_txns_sensex['curr_value'].values)"
   ]
  },
  {
   "cell_type": "code",
   "execution_count": 35,
   "id": "18ed3ad4-945c-4389-9b0b-e3a97193d06a",
   "metadata": {},
   "outputs": [
    {
     "name": "stdout",
     "output_type": "stream",
     "text": [
      "Amount invested: 11000\n",
      "current_value: 11614.32\n",
      "Percentage gain: 5.58\n"
     ]
    }
   ],
   "source": [
    "print(\"Amount invested:\", total_invested)\n",
    "print(\"current_value:\", round(current_value, 2))\n",
    "print(\"Percentage gain:\", round((current_value - total_invested)/total_invested * 100, 2))"
   ]
  },
  {
   "cell_type": "code",
   "execution_count": null,
   "id": "3b05fcf5-4262-48d9-9d92-c2d32185cc01",
   "metadata": {},
   "outputs": [],
   "source": []
  }
 ],
 "metadata": {
  "kernelspec": {
   "display_name": "py310",
   "language": "python",
   "name": "py310"
  },
  "language_info": {
   "codemirror_mode": {
    "name": "ipython",
    "version": 3
   },
   "file_extension": ".py",
   "mimetype": "text/x-python",
   "name": "python",
   "nbconvert_exporter": "python",
   "pygments_lexer": "ipython3",
   "version": "3.10.10"
  }
 },
 "nbformat": 4,
 "nbformat_minor": 5
}
